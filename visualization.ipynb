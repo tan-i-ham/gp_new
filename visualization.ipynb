{
 "cells": [
  {
   "cell_type": "code",
   "execution_count": 1,
   "metadata": {},
   "outputs": [],
   "source": [
    "from gensim.models import word2vec\n",
    "from IPython.display import display\n",
    "model = word2vec.Word2Vec.load(\"../data/corpusModel.bin\")\n"
   ]
  },
  {
   "cell_type": "code",
   "execution_count": 2,
   "metadata": {},
   "outputs": [
    {
     "data": {
      "text/plain": [
       "0.68551210435664522"
      ]
     },
     "execution_count": 2,
     "metadata": {},
     "output_type": "execute_result"
    }
   ],
   "source": [
    "model.wv['computer']\n",
    "model.wv.most_similar(positive=['學生', '女'], negative=['男'])\n",
    "model.wv.similarity('女生', '學生')\n",
    "# model.wv.most_similar('女生')"
   ]
  },
  {
   "cell_type": "code",
   "execution_count": 3,
   "metadata": {},
   "outputs": [],
   "source": [
    "vocab = list(model.wv.vocab)\n",
    "X = model[vocab]"
   ]
  },
  {
   "cell_type": "code",
   "execution_count": 182,
   "metadata": {},
   "outputs": [],
   "source": [
    "# vocab"
   ]
  },
  {
   "cell_type": "code",
   "execution_count": null,
   "metadata": {},
   "outputs": [],
   "source": [
    "# from sklearn.manifold import TSNE\n",
    "# tsne = TSNE(n_components=2)\n",
    "# X_tsne = tsne.fit_transform(X)"
   ]
  },
  {
   "cell_type": "code",
   "execution_count": 96,
   "metadata": {},
   "outputs": [
    {
     "data": {
      "text/plain": [
       "array([ 3.75138998, -1.77936506,  1.30189145, -0.23343737,  2.17801023,\n",
       "        0.89525419, -0.909015  , -5.17160463, -1.27585566, -0.70277172], dtype=float32)"
      ]
     },
     "execution_count": 96,
     "metadata": {},
     "output_type": "execute_result"
    }
   ],
   "source": [
    "model['我']"
   ]
  },
  {
   "cell_type": "code",
   "execution_count": 12,
   "metadata": {},
   "outputs": [],
   "source": [
    "from sklearn.preprocessing import StandardScaler\n",
    "X_std = StandardScaler().fit_transform(X)"
   ]
  },
  {
   "cell_type": "code",
   "execution_count": 13,
   "metadata": {},
   "outputs": [],
   "source": [
    "from sklearn.decomposition import PCA\n",
    "X_PCA = PCA(n_components=2,random_state=66).fit_transform(X_std)"
   ]
  },
  {
   "cell_type": "code",
   "execution_count": 14,
   "metadata": {},
   "outputs": [],
   "source": [
    "import pandas as pd\n",
    "df = pd.DataFrame(X_PCA, index=vocab, columns=['x', 'y'])"
   ]
  },
  {
   "cell_type": "code",
   "execution_count": 15,
   "metadata": {},
   "outputs": [
    {
     "data": {
      "text/html": [
       "<div>\n",
       "<style scoped>\n",
       "    .dataframe tbody tr th:only-of-type {\n",
       "        vertical-align: middle;\n",
       "    }\n",
       "\n",
       "    .dataframe tbody tr th {\n",
       "        vertical-align: top;\n",
       "    }\n",
       "\n",
       "    .dataframe thead th {\n",
       "        text-align: right;\n",
       "    }\n",
       "</style>\n",
       "<table border=\"1\" class=\"dataframe\">\n",
       "  <thead>\n",
       "    <tr style=\"text-align: right;\">\n",
       "      <th></th>\n",
       "      <th>x</th>\n",
       "      <th>y</th>\n",
       "    </tr>\n",
       "  </thead>\n",
       "  <tbody>\n",
       "    <tr>\n",
       "      <th>嘴炮</th>\n",
       "      <td>1.994004</td>\n",
       "      <td>5.147973</td>\n",
       "    </tr>\n",
       "    <tr>\n",
       "      <th>雷豪</th>\n",
       "      <td>0.170783</td>\n",
       "      <td>-0.032357</td>\n",
       "    </tr>\n",
       "    <tr>\n",
       "      <th>收取</th>\n",
       "      <td>-0.205261</td>\n",
       "      <td>-0.381053</td>\n",
       "    </tr>\n",
       "    <tr>\n",
       "      <th>大馬</th>\n",
       "      <td>1.130840</td>\n",
       "      <td>-0.341714</td>\n",
       "    </tr>\n",
       "    <tr>\n",
       "      <th>seems</th>\n",
       "      <td>-1.121531</td>\n",
       "      <td>-0.894616</td>\n",
       "    </tr>\n",
       "  </tbody>\n",
       "</table>\n",
       "</div>"
      ],
      "text/plain": [
       "              x         y\n",
       "嘴炮     1.994004  5.147973\n",
       "雷豪     0.170783 -0.032357\n",
       "收取    -0.205261 -0.381053\n",
       "大馬     1.130840 -0.341714\n",
       "seems -1.121531 -0.894616"
      ]
     },
     "metadata": {},
     "output_type": "display_data"
    },
    {
     "data": {
      "text/html": [
       "<div>\n",
       "<style scoped>\n",
       "    .dataframe tbody tr th:only-of-type {\n",
       "        vertical-align: middle;\n",
       "    }\n",
       "\n",
       "    .dataframe tbody tr th {\n",
       "        vertical-align: top;\n",
       "    }\n",
       "\n",
       "    .dataframe thead th {\n",
       "        text-align: right;\n",
       "    }\n",
       "</style>\n",
       "<table border=\"1\" class=\"dataframe\">\n",
       "  <thead>\n",
       "    <tr style=\"text-align: right;\">\n",
       "      <th></th>\n",
       "      <th>x</th>\n",
       "      <th>y</th>\n",
       "    </tr>\n",
       "  </thead>\n",
       "  <tbody>\n",
       "    <tr>\n",
       "      <th>count</th>\n",
       "      <td>1.409430e+05</td>\n",
       "      <td>1.409430e+05</td>\n",
       "    </tr>\n",
       "    <tr>\n",
       "      <th>mean</th>\n",
       "      <td>-9.202281e-10</td>\n",
       "      <td>-1.055556e-09</td>\n",
       "    </tr>\n",
       "    <tr>\n",
       "      <th>std</th>\n",
       "      <td>1.360490e+00</td>\n",
       "      <td>1.157008e+00</td>\n",
       "    </tr>\n",
       "    <tr>\n",
       "      <th>min</th>\n",
       "      <td>-1.775890e+01</td>\n",
       "      <td>-1.764714e+01</td>\n",
       "    </tr>\n",
       "    <tr>\n",
       "      <th>25%</th>\n",
       "      <td>-3.031111e-01</td>\n",
       "      <td>-2.069462e-01</td>\n",
       "    </tr>\n",
       "    <tr>\n",
       "      <th>50%</th>\n",
       "      <td>3.569010e-03</td>\n",
       "      <td>1.754311e-04</td>\n",
       "    </tr>\n",
       "    <tr>\n",
       "      <th>75%</th>\n",
       "      <td>2.289689e-01</td>\n",
       "      <td>1.449835e-01</td>\n",
       "    </tr>\n",
       "    <tr>\n",
       "      <th>max</th>\n",
       "      <td>2.132458e+01</td>\n",
       "      <td>1.912893e+01</td>\n",
       "    </tr>\n",
       "  </tbody>\n",
       "</table>\n",
       "</div>"
      ],
      "text/plain": [
       "                  x             y\n",
       "count  1.409430e+05  1.409430e+05\n",
       "mean  -9.202281e-10 -1.055556e-09\n",
       "std    1.360490e+00  1.157008e+00\n",
       "min   -1.775890e+01 -1.764714e+01\n",
       "25%   -3.031111e-01 -2.069462e-01\n",
       "50%    3.569010e-03  1.754311e-04\n",
       "75%    2.289689e-01  1.449835e-01\n",
       "max    2.132458e+01  1.912893e+01"
      ]
     },
     "metadata": {},
     "output_type": "display_data"
    }
   ],
   "source": [
    "display(\n",
    "    df.head(),\n",
    "    df.describe()\n",
    ")"
   ]
  },
  {
   "cell_type": "code",
   "execution_count": 130,
   "metadata": {},
   "outputs": [],
   "source": [
    "index1 = model.wv.most_similar(u'上班')\n",
    "index2 = model.wv.most_similar(u'學生')\n",
    "index3 = model.wv.most_similar(u'大學')\n",
    "index4 = model.wv.most_similar(u'女生')\n",
    "index5 = model.wv.most_similar(u'社會')\n",
    "index6 = model.wv.most_similar(u'嘴炮')"
   ]
  },
  {
   "cell_type": "code",
   "execution_count": 188,
   "metadata": {},
   "outputs": [
    {
     "data": {
      "text/plain": [
       "[('看妹', 0.9257118701934814),\n",
       " ('看劇', 0.923856258392334),\n",
       " ('幹麻', 0.9167904853820801),\n",
       " ('看電視', 0.9127871990203857),\n",
       " ('幹嘛', 0.908679187297821),\n",
       " ('唱歌', 0.9076588153839111),\n",
       " ('追劇', 0.8980386853218079),\n",
       " ('打遊戲', 0.8668056726455688),\n",
       " ('幹嗎', 0.8626375198364258),\n",
       " ('😶', 0.8546589016914368)]"
      ]
     },
     "execution_count": 188,
     "metadata": {},
     "output_type": "execute_result"
    }
   ],
   "source": [
    "model.wv.most_similar(u'聽歌')"
   ]
  },
  {
   "cell_type": "code",
   "execution_count": 178,
   "metadata": {},
   "outputs": [],
   "source": [
    "import matplotlib\n",
    "import matplotlib.pyplot as plt\n",
    "\n",
    "zhfont = matplotlib.font_manager.FontProperties(fname='../data/wqy-microhei.ttc',size= 16)\n",
    "\n",
    "fig = plt.figure(figsize = (13,11))\n",
    "ax = fig.add_subplot(1,1,1)\n",
    "for i in index1:\n",
    "    word = i[0]\n",
    "    ax.text(df.loc[word][0],df.loc[word][1], word, fontproperties=zhfont,color='C3') \n",
    "for i in index2:\n",
    "    word = i[0]\n",
    "    ax.text(df.loc[word][0],df.loc[word][1], word,fontproperties=zhfont,color='C7') \n",
    "    \n",
    "for i in index3:\n",
    "    word = i[0]\n",
    "    ax.text(df.loc[word][0],df.loc[word][1], word, fontproperties=zhfont,color='C0')\n",
    "    \n",
    "for i in index4:\n",
    "    word = i[0]\n",
    "    ax.text(df.loc[word][0],df.loc[word][1], word, fontproperties=zhfont,color='C1')\n",
    "for i in index5:\n",
    "    word = i[0]\n",
    "    ax.text(df.loc[word][0],df.loc[word][1], word, fontproperties=zhfont,color='C2')\n",
    "\n",
    "for i in index6:\n",
    "    word = i[0]\n",
    "    ax.text(df.loc[word][0],df.loc[word][1], word, fontproperties=zhfont,color='C4')"
   ]
  },
  {
   "cell_type": "code",
   "execution_count": 179,
   "metadata": {},
   "outputs": [
    {
     "data": {
      "text/plain": [
       "(-12, 17)"
      ]
     },
     "execution_count": 179,
     "metadata": {},
     "output_type": "execute_result"
    }
   ],
   "source": [
    "axes = plt.gca()\n",
    "axes.set_xlim([0,15])\n",
    "axes.set_ylim([-12,17])\n"
   ]
  },
  {
   "cell_type": "code",
   "execution_count": 180,
   "metadata": {},
   "outputs": [
    {
     "name": "stderr",
     "output_type": "stream",
     "text": [
      "/usr/local/lib/python3.5/dist-packages/matplotlib/font_manager.py:1316: UserWarning: findfont: Font family ['sans-serif'] not found. Falling back to DejaVu Sans\n",
      "  (prop.get_family(), self.defaultFamily[fontext]))\n"
     ]
    },
    {
     "data": {
      "image/png": "[encoded data removed]",
      "text/plain": [
       "<matplotlib.figure.Figure at 0x7f63e0da5588>"
      ]
     },
     "metadata": {},
     "output_type": "display_data"
    }
   ],
   "source": [
    "plt.show()"
   ]
  },
  {
   "cell_type": "code",
   "execution_count": 181,
   "metadata": {},
   "outputs": [
    {
     "name": "stderr",
     "output_type": "stream",
     "text": [
      "/usr/local/lib/python3.5/dist-packages/matplotlib/font_manager.py:1316: UserWarning: findfont: Font family ['sans-serif'] not found. Falling back to DejaVu Sans\n",
      "  (prop.get_family(), self.defaultFamily[fontext]))\n"
     ]
    }
   ],
   "source": [
    "fig.savefig('test.png',dpi =200)"
   ]
  },
  {
   "cell_type": "code",
   "execution_count": null,
   "metadata": {},
   "outputs": [],
   "source": []
  }
 ],
 "metadata": {
  "kernelspec": {
   "display_name": "Python 3",
   "language": "python",
   "name": "python3"
  },
  "language_info": {
   "codemirror_mode": {
    "name": "ipython",
    "version": 3
   },
   "file_extension": ".py",
   "mimetype": "text/x-python",
   "name": "python",
   "nbconvert_exporter": "python",
   "pygments_lexer": "ipython3",
   "version": "3.5.2"
  }
 },
 "nbformat": 4,
 "nbformat_minor": 2
}
