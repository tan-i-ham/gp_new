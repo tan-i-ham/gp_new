{
 "cells": [
  {
   "cell_type": "code",
   "execution_count": 1,
   "metadata": {},
   "outputs": [],
   "source": [
    "from gensim.models import word2vec\n",
    "from IPython.display import display\n",
    "model = word2vec.Word2Vec.load(\"../data/corpusModel.bin\")"
   ]
  },
  {
   "cell_type": "code",
   "execution_count": 2,
   "metadata": {},
   "outputs": [
    {
     "data": {
      "text/plain": [
       "array([-0.39854506,  0.27349705, -1.1958071 ,  0.04857221, -0.42791849,\n",
       "       -0.57830095,  0.16093102,  0.63353533,  0.75707734, -0.12012506], dtype=float32)"
      ]
     },
     "metadata": {},
     "output_type": "display_data"
    },
    {
     "data": {
      "text/plain": [
       "[('上班族', 0.9276987314224243),\n",
       " ('研究生', 0.9134217500686646),\n",
       " ('科系', 0.902678370475769),\n",
       " ('無緣', 0.9006829857826233),\n",
       " ('大學生', 0.8934738636016846),\n",
       " ('好考', 0.8925334811210632),\n",
       " ('家教', 0.8720948100090027),\n",
       " ('同歲', 0.8614434003829956),\n",
       " ('行業', 0.861222505569458),\n",
       " ('高職', 0.8580377101898193)]"
      ]
     },
     "metadata": {},
     "output_type": "display_data"
    },
    {
     "data": {
      "text/plain": [
       "0.68551210435664522"
      ]
     },
     "metadata": {},
     "output_type": "display_data"
    },
    {
     "data": {
      "text/plain": [
       "[('男生', 0.9987649917602539),\n",
       " ('依樣', 0.969683051109314),\n",
       " ('重點', 0.9512280225753784),\n",
       " ('人', 0.9394802451133728),\n",
       " ('怪人', 0.9198102355003357),\n",
       " ('奧客', 0.9194976687431335),\n",
       " ('正常人', 0.913880467414856),\n",
       " ('相反', 0.912940263748169),\n",
       " ('熟人', 0.9069545269012451),\n",
       " ('一樣', 0.9055942296981812)]"
      ]
     },
     "metadata": {},
     "output_type": "display_data"
    }
   ],
   "source": [
    "display(\n",
    "    model.wv['computer'],\n",
    "    model.wv.most_similar(positive=['學生', '女'], negative=['男']),\n",
    "    model.wv.similarity('女生', '學生'),\n",
    "    model.wv.most_similar('女生')\n",
    ")"
   ]
  },
  {
   "cell_type": "markdown",
   "metadata": {},
   "source": [
    "## 將所有單詞形成一個list : vocab\n",
    "## 及所有單詞的向量指定給 : X"
   ]
  },
  {
   "cell_type": "code",
   "execution_count": 3,
   "metadata": {},
   "outputs": [],
   "source": [
    "vocab = list(model.wv.vocab)\n",
    "X = model[vocab]"
   ]
  },
  {
   "cell_type": "code",
   "execution_count": 4,
   "metadata": {},
   "outputs": [
    {
     "data": {
      "text/plain": [
       "140943"
      ]
     },
     "execution_count": 4,
     "metadata": {},
     "output_type": "execute_result"
    }
   ],
   "source": [
    "len(X)"
   ]
  },
  {
   "cell_type": "code",
   "execution_count": 5,
   "metadata": {},
   "outputs": [
    {
     "data": {
      "text/plain": [
       "['堆起來', '了領', '太笨', '不合身', '鼻水']"
      ]
     },
     "metadata": {},
     "output_type": "display_data"
    },
    {
     "data": {
      "text/plain": [
       "array([[ -1.90909225e-02,  -1.16564289e-01,  -2.50804365e-01,\n",
       "          2.73201346e-01,   8.08341429e-02,  -5.00541449e-01,\n",
       "          4.82697822e-02,   1.00515388e-01,   2.82053322e-01,\n",
       "          2.19411045e-01],\n",
       "       [  1.58881545e-01,   4.63337600e-02,  -4.58098292e-01,\n",
       "          1.21848673e-01,  -1.17417062e-02,  -6.54969811e-01,\n",
       "         -1.57588184e-01,   1.51572511e-01,   4.27432060e-01,\n",
       "          1.11672983e-01],\n",
       "       [  7.70575166e-01,  -2.94332910e+00,   2.34562230e+00,\n",
       "         -8.48010004e-01,  -6.18569970e-01,   7.12170005e-02,\n",
       "          1.14171243e+00,   3.24300639e-02,  -2.14159989e+00,\n",
       "         -5.66751182e-01],\n",
       "       [ -8.40076581e-02,  -2.38206282e-01,  -3.34823281e-01,\n",
       "          2.83430338e-01,   1.08525038e-01,  -5.20833790e-01,\n",
       "         -4.00204724e-03,   1.05140861e-02,   3.86406869e-01,\n",
       "          8.79921541e-02],\n",
       "       [  3.70144296e+00,  -6.38294756e-01,   2.01666427e+00,\n",
       "          4.84394073e+00,  -9.00273383e-01,  -1.87863350e+00,\n",
       "         -3.03484130e+00,   1.83926308e+00,   3.25664878e+00,\n",
       "         -6.05865121e-01]], dtype=float32)"
      ]
     },
     "metadata": {},
     "output_type": "display_data"
    }
   ],
   "source": [
    "display(\n",
    "    vocab[:5],\n",
    "    X[:5]\n",
    ")"
   ]
  },
  {
   "cell_type": "markdown",
   "metadata": {},
   "source": [
    "## 將 X 標準化"
   ]
  },
  {
   "cell_type": "code",
   "execution_count": 6,
   "metadata": {},
   "outputs": [],
   "source": [
    "from sklearn.preprocessing import StandardScaler\n",
    "X_std = StandardScaler().fit_transform(X)"
   ]
  },
  {
   "cell_type": "markdown",
   "metadata": {},
   "source": [
    "## 使用 PCA 降減維度: 10維轉2維"
   ]
  },
  {
   "cell_type": "code",
   "execution_count": 7,
   "metadata": {},
   "outputs": [],
   "source": [
    "from sklearn.decomposition import PCA\n",
    "X_PCA = PCA(n_components=2,random_state=66).fit_transform(X_std)"
   ]
  },
  {
   "cell_type": "markdown",
   "metadata": {},
   "source": [
    "## 將單詞作為 index，PCA 的二維結果當作 x, y"
   ]
  },
  {
   "cell_type": "code",
   "execution_count": 8,
   "metadata": {},
   "outputs": [],
   "source": [
    "import pandas as pd\n",
    "df = pd.DataFrame(X_PCA, index=vocab, columns=['x', 'y'])"
   ]
  },
  {
   "cell_type": "code",
   "execution_count": 9,
   "metadata": {},
   "outputs": [
    {
     "data": {
      "text/html": [
       "<div>\n",
       "<style scoped>\n",
       "    .dataframe tbody tr th:only-of-type {\n",
       "        vertical-align: middle;\n",
       "    }\n",
       "\n",
       "    .dataframe tbody tr th {\n",
       "        vertical-align: top;\n",
       "    }\n",
       "\n",
       "    .dataframe thead th {\n",
       "        text-align: right;\n",
       "    }\n",
       "</style>\n",
       "<table border=\"1\" class=\"dataframe\">\n",
       "  <thead>\n",
       "    <tr style=\"text-align: right;\">\n",
       "      <th></th>\n",
       "      <th>x</th>\n",
       "      <th>y</th>\n",
       "    </tr>\n",
       "  </thead>\n",
       "  <tbody>\n",
       "    <tr>\n",
       "      <th>堆起來</th>\n",
       "      <td>-0.057204</td>\n",
       "      <td>0.034871</td>\n",
       "    </tr>\n",
       "    <tr>\n",
       "      <th>了領</th>\n",
       "      <td>-0.475029</td>\n",
       "      <td>-0.041375</td>\n",
       "    </tr>\n",
       "    <tr>\n",
       "      <th>太笨</th>\n",
       "      <td>2.796458</td>\n",
       "      <td>4.157174</td>\n",
       "    </tr>\n",
       "    <tr>\n",
       "      <th>不合身</th>\n",
       "      <td>-0.086851</td>\n",
       "      <td>-0.121656</td>\n",
       "    </tr>\n",
       "    <tr>\n",
       "      <th>鼻水</th>\n",
       "      <td>-5.309669</td>\n",
       "      <td>-0.308499</td>\n",
       "    </tr>\n",
       "    <tr>\n",
       "      <th>北湖</th>\n",
       "      <td>0.142325</td>\n",
       "      <td>-0.093981</td>\n",
       "    </tr>\n",
       "    <tr>\n",
       "      <th>調到</th>\n",
       "      <td>-0.848927</td>\n",
       "      <td>0.437481</td>\n",
       "    </tr>\n",
       "    <tr>\n",
       "      <th>改姓</th>\n",
       "      <td>-0.534707</td>\n",
       "      <td>0.288174</td>\n",
       "    </tr>\n",
       "    <tr>\n",
       "      <th>萌系</th>\n",
       "      <td>-0.162967</td>\n",
       "      <td>-0.130860</td>\n",
       "    </tr>\n",
       "    <tr>\n",
       "      <th>rockandrollcar</th>\n",
       "      <td>-2.773951</td>\n",
       "      <td>-0.783797</td>\n",
       "    </tr>\n",
       "  </tbody>\n",
       "</table>\n",
       "</div>"
      ],
      "text/plain": [
       "                       x         y\n",
       "堆起來            -0.057204  0.034871\n",
       "了領             -0.475029 -0.041375\n",
       "太笨              2.796458  4.157174\n",
       "不合身            -0.086851 -0.121656\n",
       "鼻水             -5.309669 -0.308499\n",
       "北湖              0.142325 -0.093981\n",
       "調到             -0.848927  0.437481\n",
       "改姓             -0.534707  0.288174\n",
       "萌系             -0.162967 -0.130860\n",
       "rockandrollcar -2.773951 -0.783797"
      ]
     },
     "metadata": {},
     "output_type": "display_data"
    }
   ],
   "source": [
    "display(\n",
    "    df.head(10),\n",
    ")"
   ]
  },
  {
   "cell_type": "code",
   "execution_count": 10,
   "metadata": {},
   "outputs": [
    {
     "data": {
      "text/plain": [
       "[('偶像', 0.9790297150611877),\n",
       " ('新歌', 0.9355137944221497),\n",
       " ('劉德華', 0.9330449104309082),\n",
       " ('西洋', 0.919973611831665),\n",
       " ('動作片', 0.9047282338142395),\n",
       " ('背景', 0.9002335071563721),\n",
       " ('饒舌', 0.8953877687454224),\n",
       " ('刺青', 0.893237292766571),\n",
       " ('歌手', 0.8921151161193848),\n",
       " ('字面上', 0.8852897882461548)]"
      ]
     },
     "execution_count": 10,
     "metadata": {},
     "output_type": "execute_result"
    }
   ],
   "source": [
    "model.wv.most_similar(u'歌')"
   ]
  },
  {
   "cell_type": "markdown",
   "metadata": {},
   "source": [
    "## 視覺化"
   ]
  },
  {
   "cell_type": "code",
   "execution_count": 11,
   "metadata": {},
   "outputs": [],
   "source": [
    "index1 = model.wv.most_similar(u'上班')\n",
    "index2 = model.wv.most_similar(u'學生')\n",
    "index3 = model.wv.most_similar(u'大學')\n",
    "index4 = model.wv.most_similar(u'藝人')\n",
    "index5 = model.wv.most_similar(u'社會')"
   ]
  },
  {
   "cell_type": "code",
   "execution_count": 12,
   "metadata": {},
   "outputs": [
    {
     "data": {
      "text/plain": [
       "[('補習', 0.9913592338562012),\n",
       " ('上課', 0.9894794225692749),\n",
       " ('放假', 0.9765018224716187),\n",
       " ('上學', 0.9612704515457153),\n",
       " ('練球', 0.9608432054519653),\n",
       " ('補課', 0.9584331512451172),\n",
       " ('午休', 0.9503344893455505),\n",
       " ('休假', 0.9502924680709839),\n",
       " ('考駕照', 0.9466897249221802),\n",
       " ('搭車', 0.9458507895469666)]"
      ]
     },
     "metadata": {},
     "output_type": "display_data"
    },
    {
     "data": {
      "text/plain": [
       "[('研究生', 0.9264779090881348),\n",
       " ('上班族', 0.9196401834487915),\n",
       " ('無緣', 0.9088371396064758),\n",
       " ('大學生', 0.8966708183288574),\n",
       " ('科系', 0.8918470144271851),\n",
       " ('家教', 0.8803498148918152),\n",
       " ('行業', 0.8783746957778931),\n",
       " ('好考', 0.8766859173774719),\n",
       " ('同歲', 0.8762869834899902),\n",
       " ('同年', 0.875794529914856)]"
      ]
     },
     "metadata": {},
     "output_type": "display_data"
    },
    {
     "data": {
      "text/plain": [
       "[('高中', 0.9677556753158569),\n",
       " ('五專', 0.9593092799186707),\n",
       " ('高職', 0.9567443132400513),\n",
       " ('警專', 0.9452903270721436),\n",
       " ('夜校', 0.944815456867218),\n",
       " ('離家近', 0.9330586791038513),\n",
       " ('軍校', 0.9288730025291443),\n",
       " ('公立', 0.9285369515419006),\n",
       " ('這科', 0.9193710684776306),\n",
       " ('國立', 0.9186281561851501)]"
      ]
     },
     "metadata": {},
     "output_type": "display_data"
    },
    {
     "data": {
      "text/plain": [
       "[('對岸', 0.9702004194259644),\n",
       " ('名人', 0.9622317552566528),\n",
       " ('節目', 0.9598391652107239),\n",
       " ('歌手', 0.9574708938598633),\n",
       " ('youtuber', 0.950090229511261),\n",
       " ('校花', 0.9490015506744385),\n",
       " ('作家', 0.9438995718955994),\n",
       " ('主題', 0.9433693885803223),\n",
       " ('DJ', 0.9381915330886841),\n",
       " ('帥哥美女', 0.9360600113868713)]"
      ]
     },
     "metadata": {},
     "output_type": "display_data"
    },
    {
     "data": {
      "text/plain": [
       "[('聽力', 0.9489922523498535),\n",
       " ('社會工作', 0.910966694355011),\n",
       " ('字數', 0.9035892486572266),\n",
       " ('還難', 0.898602306842804),\n",
       " ('人群', 0.893538236618042),\n",
       " ('廢人', 0.8856125473976135),\n",
       " ('短暫', 0.8847340941429138),\n",
       " ('照理', 0.8818114399909973),\n",
       " ('長期', 0.8737865090370178),\n",
       " ('範圍', 0.868355393409729)]"
      ]
     },
     "metadata": {},
     "output_type": "display_data"
    }
   ],
   "source": [
    "display(\n",
    "    index1,\n",
    "    index2,\n",
    "    index3,\n",
    "    index4,\n",
    "    index5\n",
    ")"
   ]
  },
  {
   "cell_type": "code",
   "execution_count": 13,
   "metadata": {},
   "outputs": [],
   "source": [
    "import matplotlib\n",
    "import matplotlib.pyplot as plt\n",
    "\n",
    "zhfont = matplotlib.font_manager.FontProperties(fname='../data/wqy-microhei.ttc',size= 16)\n",
    "\n",
    "fig = plt.figure(figsize = (13,11))\n",
    "ax = fig.add_subplot(1,1,1)\n",
    "for i in index1:\n",
    "    word = i[0]\n",
    "    ax.text(df.loc[word][0],df.loc[word][1], word, fontproperties=zhfont,color='C3') \n",
    "for i in index2:\n",
    "    word = i[0]\n",
    "    ax.text(df.loc[word][0],df.loc[word][1], word,fontproperties=zhfont,color='C7') \n",
    "    \n",
    "for i in index3:\n",
    "    word = i[0]\n",
    "    ax.text(df.loc[word][0],df.loc[word][1], word, fontproperties=zhfont,color='C0')\n",
    "    \n",
    "for i in index4:\n",
    "    word = i[0]\n",
    "    ax.text(df.loc[word][0],df.loc[word][1], word, fontproperties=zhfont,color='C1')\n",
    "for i in index5:\n",
    "    word = i[0]\n",
    "    ax.text(df.loc[word][0],df.loc[word][1], word, fontproperties=zhfont,color='C2')"
   ]
  },
  {
   "cell_type": "code",
   "execution_count": 14,
   "metadata": {},
   "outputs": [
    {
     "data": {
      "text/plain": [
       "(-12, 17)"
      ]
     },
     "execution_count": 14,
     "metadata": {},
     "output_type": "execute_result"
    }
   ],
   "source": [
    "axes = plt.gca()\n",
    "axes.set_xlim([0,15])\n",
    "axes.set_ylim([-12,17])\n"
   ]
  },
  {
   "cell_type": "code",
   "execution_count": 15,
   "metadata": {},
   "outputs": [
    {
     "data": {
      "image/png": "[encoded data removed]",
      "text/plain": [
       "<matplotlib.figure.Figure at 0x7f5ecc702588>"
      ]
     },
     "metadata": {},
     "output_type": "display_data"
    }
   ],
   "source": [
    "plt.show()"
   ]
  },
  {
   "cell_type": "markdown",
   "metadata": {},
   "source": [
    "## 儲存圖片"
   ]
  },
  {
   "cell_type": "code",
   "execution_count": 181,
   "metadata": {},
   "outputs": [
    {
     "name": "stderr",
     "output_type": "stream",
     "text": [
      "/usr/local/lib/python3.5/dist-packages/matplotlib/font_manager.py:1316: UserWarning: findfont: Font family ['sans-serif'] not found. Falling back to DejaVu Sans\n",
      "  (prop.get_family(), self.defaultFamily[fontext]))\n"
     ]
    }
   ],
   "source": [
    "fig.savefig('test.png',dpi =200)"
   ]
  }
 ],
 "metadata": {
  "kernelspec": {
   "display_name": "Python 3",
   "language": "python",
   "name": "python3"
  },
  "language_info": {
   "codemirror_mode": {
    "name": "ipython",
    "version": 3
   },
   "file_extension": ".py",
   "mimetype": "text/x-python",
   "name": "python",
   "nbconvert_exporter": "python",
   "pygments_lexer": "ipython3",
   "version": "3.5.2"
  }
 },
 "nbformat": 4,
 "nbformat_minor": 2
}
