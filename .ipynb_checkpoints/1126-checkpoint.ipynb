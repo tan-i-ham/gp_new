{
 "cells": [
  {
   "cell_type": "code",
   "execution_count": 33,
   "metadata": {},
   "outputs": [],
   "source": [
    "import pandas as pd\n",
    "import numpy as np\n",
    "\n",
    "import jieba\n",
    "import jieba.posseg as pseg\n",
    "import jieba.analyse\n",
    "\n",
    "import sys\n",
    "from optparse import OptionParser\n",
    "import pprint\n",
    "from prettytable import PrettyTable"
   ]
  },
  {
   "cell_type": "code",
   "execution_count": 34,
   "metadata": {},
   "outputs": [
    {
     "name": "stdout",
     "output_type": "stream",
     "text": [
      "有91340筆對話\n"
     ]
    }
   ],
   "source": [
    "df = pd.read_csv(open('../data/df_small.csv'))\n",
    "df = df[df['text'].str.contains(\"https|Britain\")== False]\n",
    "print('有{}筆對話'.format(len(df)))"
   ]
  },
  {
   "cell_type": "markdown",
   "metadata": {},
   "source": [
    "## groupby"
   ]
  },
  {
   "cell_type": "code",
   "execution_count": 35,
   "metadata": {},
   "outputs": [
    {
     "name": "stdout",
     "output_type": "stream",
     "text": [
      "有1019個使用者\n"
     ]
    }
   ],
   "source": [
    "grouped_data = df.groupby('from')['text'].apply(lambda x: '/'.join(x)).reset_index()\n",
    "l = len(grouped_data)\n",
    "print('有{}個使用者'.format(l))"
   ]
  },
  {
   "cell_type": "code",
   "execution_count": null,
   "metadata": {},
   "outputs": [],
   "source": []
  },
  {
   "cell_type": "markdown",
   "metadata": {},
   "source": [
    "## 先用前1000筆資料做測試"
   ]
  },
  {
   "cell_type": "code",
   "execution_count": 36,
   "metadata": {},
   "outputs": [
    {
     "data": {
      "text/html": [
       "<div>\n",
       "<style scoped>\n",
       "    .dataframe tbody tr th:only-of-type {\n",
       "        vertical-align: middle;\n",
       "    }\n",
       "\n",
       "    .dataframe tbody tr th {\n",
       "        vertical-align: top;\n",
       "    }\n",
       "\n",
       "    .dataframe thead th {\n",
       "        text-align: right;\n",
       "    }\n",
       "</style>\n",
       "<table border=\"1\" class=\"dataframe\">\n",
       "  <thead>\n",
       "    <tr style=\"text-align: right;\">\n",
       "      <th></th>\n",
       "      <th>from</th>\n",
       "      <th>text</th>\n",
       "    </tr>\n",
       "  </thead>\n",
       "  <tbody>\n",
       "    <tr>\n",
       "      <th>0</th>\n",
       "      <td>1000970273334199</td>\n",
       "      <td>找不到阿/安安/你有打LOL嗎/好吧，可以帶我嗎/安安/凸/Sor/嗯/約哪/有啊/你先約的...</td>\n",
       "    </tr>\n",
       "    <tr>\n",
       "      <th>1</th>\n",
       "      <td>1001070263323689</td>\n",
       "      <td>!?/唐寶寶/你那麼愛慕他ㄇ/嗨/先問問您期望本人的性別是?/了解/我是男的/抱歉沒有/請問...</td>\n",
       "    </tr>\n",
       "    <tr>\n",
       "      <th>2</th>\n",
       "      <td>1001967239901904</td>\n",
       "      <td>早/在床上發懶/爆/斷/魂/你在暗諷綠藻嘛/壞/話說我好餓ㄛ/窩不要這個qq/ㄋ早餐吃什麼/...</td>\n",
       "    </tr>\n",
       "    <tr>\n",
       "      <th>3</th>\n",
       "      <td>1003172849781848</td>\n",
       "      <td>甲/你要做我的0？/人生勝利組是不會來玩這個的/你一定不是c銘/也不是業王/葉你妹/被盜/其...</td>\n",
       "    </tr>\n",
       "    <tr>\n",
       "      <th>4</th>\n",
       "      <td>1003929993039131</td>\n",
       "      <td>吃噓/肥宅早/我們不是場外人/場外ㄈㄓ/我沒用了/安安/是喔/場外ㄈㄓ嗎/豪/斷/欸/在打手...</td>\n",
       "    </tr>\n",
       "  </tbody>\n",
       "</table>\n",
       "</div>"
      ],
      "text/plain": [
       "               from                                               text\n",
       "0  1000970273334199  找不到阿/安安/你有打LOL嗎/好吧，可以帶我嗎/安安/凸/Sor/嗯/約哪/有啊/你先約的...\n",
       "1  1001070263323689  !?/唐寶寶/你那麼愛慕他ㄇ/嗨/先問問您期望本人的性別是?/了解/我是男的/抱歉沒有/請問...\n",
       "2  1001967239901904  早/在床上發懶/爆/斷/魂/你在暗諷綠藻嘛/壞/話說我好餓ㄛ/窩不要這個qq/ㄋ早餐吃什麼/...\n",
       "3  1003172849781848  甲/你要做我的0？/人生勝利組是不會來玩這個的/你一定不是c銘/也不是業王/葉你妹/被盜/其...\n",
       "4  1003929993039131  吃噓/肥宅早/我們不是場外人/場外ㄈㄓ/我沒用了/安安/是喔/場外ㄈㄓ嗎/豪/斷/欸/在打手..."
      ]
     },
     "execution_count": 36,
     "metadata": {},
     "output_type": "execute_result"
    }
   ],
   "source": [
    "test = grouped_data.head(1000)\n",
    "test_len = len(test)\n",
    "test.head()"
   ]
  },
  {
   "cell_type": "code",
   "execution_count": 37,
   "metadata": {},
   "outputs": [
    {
     "data": {
      "text/html": [
       "<div>\n",
       "<style scoped>\n",
       "    .dataframe tbody tr th:only-of-type {\n",
       "        vertical-align: middle;\n",
       "    }\n",
       "\n",
       "    .dataframe tbody tr th {\n",
       "        vertical-align: top;\n",
       "    }\n",
       "\n",
       "    .dataframe thead th {\n",
       "        text-align: right;\n",
       "    }\n",
       "</style>\n",
       "<table border=\"1\" class=\"dataframe\">\n",
       "  <thead>\n",
       "    <tr style=\"text-align: right;\">\n",
       "      <th></th>\n",
       "      <th>from</th>\n",
       "      <th>text</th>\n",
       "    </tr>\n",
       "  </thead>\n",
       "  <tbody>\n",
       "    <tr>\n",
       "      <th>0</th>\n",
       "      <td>1000970273334199</td>\n",
       "      <td>[找不到阿, 安安, 你有打LOL嗎, 好吧，可以帶我嗎, 安安, 凸, Sor, 嗯, 約...</td>\n",
       "    </tr>\n",
       "    <tr>\n",
       "      <th>1</th>\n",
       "      <td>1001070263323689</td>\n",
       "      <td>[!?, 唐寶寶, 你那麼愛慕他ㄇ, 嗨, 先問問您期望本人的性別是?, 了解, 我是男的,...</td>\n",
       "    </tr>\n",
       "    <tr>\n",
       "      <th>2</th>\n",
       "      <td>1001967239901904</td>\n",
       "      <td>[早, 在床上發懶, 爆, 斷, 魂, 你在暗諷綠藻嘛, 壞, 話說我好餓ㄛ, 窩不要這個q...</td>\n",
       "    </tr>\n",
       "    <tr>\n",
       "      <th>3</th>\n",
       "      <td>1003172849781848</td>\n",
       "      <td>[甲, 你要做我的0？, 人生勝利組是不會來玩這個的, 你一定不是c銘, 也不是業王, 葉你...</td>\n",
       "    </tr>\n",
       "    <tr>\n",
       "      <th>4</th>\n",
       "      <td>1003929993039131</td>\n",
       "      <td>[吃噓, 肥宅早, 我們不是場外人, 場外ㄈㄓ, 我沒用了, 安安, 是喔, 場外ㄈㄓ嗎, ...</td>\n",
       "    </tr>\n",
       "  </tbody>\n",
       "</table>\n",
       "</div>"
      ],
      "text/plain": [
       "               from                                               text\n",
       "0  1000970273334199  [找不到阿, 安安, 你有打LOL嗎, 好吧，可以帶我嗎, 安安, 凸, Sor, 嗯, 約...\n",
       "1  1001070263323689  [!?, 唐寶寶, 你那麼愛慕他ㄇ, 嗨, 先問問您期望本人的性別是?, 了解, 我是男的,...\n",
       "2  1001967239901904  [早, 在床上發懶, 爆, 斷, 魂, 你在暗諷綠藻嘛, 壞, 話說我好餓ㄛ, 窩不要這個q...\n",
       "3  1003172849781848  [甲, 你要做我的0？, 人生勝利組是不會來玩這個的, 你一定不是c銘, 也不是業王, 葉你...\n",
       "4  1003929993039131  [吃噓, 肥宅早, 我們不是場外人, 場外ㄈㄓ, 我沒用了, 安安, 是喔, 場外ㄈㄓ嗎, ..."
      ]
     },
     "execution_count": 37,
     "metadata": {},
     "output_type": "execute_result"
    }
   ],
   "source": [
    "for i in range(len(test)):\n",
    "    test.iloc[i][1] = test.iloc[i][1].split('/')\n",
    "test.head()"
   ]
  },
  {
   "cell_type": "code",
   "execution_count": 38,
   "metadata": {},
   "outputs": [
    {
     "name": "stdout",
     "output_type": "stream",
     "text": [
      "id為 1000970273334199 的使用者傳送的訊息['找不到阿', '安安', '你有打LOL嗎', '好吧，可以帶我嗎', '安安', '凸', 'Sor', '嗯', '約哪', '有啊', '你先約的啊', '喔', '輸入0088', '我懶的打了', '皮米屌', '這你嗎？', '魏癢癢', '哪裡人?', '住哪裡啦？', '超癢', '哪裡人?', '好遠', '其實還好', '新竹', '龍潭?', 'ㄏㄅㄨㄐㄅㄌㄗㄋ', '三小', '幹又ㄋ', '掰掰', '凹?', '凸sor']\n"
     ]
    }
   ],
   "source": [
    "print('id為 {} 的使用者傳送的訊息{}'.format(test.iloc[0][0],test.iloc[0][1]))"
   ]
  },
  {
   "cell_type": "code",
   "execution_count": 39,
   "metadata": {},
   "outputs": [
    {
     "data": {
      "text/plain": [
       "{'10',\n",
       " '20',\n",
       " '2016',\n",
       " '?',\n",
       " '他',\n",
       " '他們',\n",
       " '你',\n",
       " '台灣',\n",
       " '她',\n",
       " '對於',\n",
       " '成為',\n",
       " '我',\n",
       " '我們',\n",
       " '沒有',\n",
       " '王隆甫',\n",
       " '？'}"
      ]
     },
     "execution_count": 39,
     "metadata": {},
     "output_type": "execute_result"
    }
   ],
   "source": [
    "jieba.set_dictionary('jieba_txt/dict.txt.big.txt')\n",
    "stopwordset = set()\n",
    "with open('jieba_txt/stop_words.txt','r',encoding='utf-8') as sw:\n",
    "    for line in sw:\n",
    "        stopwordset.add(line.strip('\\n'))\n",
    "stopwordset"
   ]
  },
  {
   "cell_type": "code",
   "execution_count": 40,
   "metadata": {},
   "outputs": [],
   "source": [
    "chars = set(' abcdefghijklmnopqrstuvwxyz0123456789()?!$,:.。，-_&=/􀆿\\r\\n')\n",
    "for c in chars:\n",
    "    stopwordset.add(c)"
   ]
  },
  {
   "cell_type": "code",
   "execution_count": 41,
   "metadata": {},
   "outputs": [],
   "source": [
    "# stopwordset"
   ]
  },
  {
   "cell_type": "markdown",
   "metadata": {},
   "source": [
    "## gensim model"
   ]
  },
  {
   "cell_type": "code",
   "execution_count": 42,
   "metadata": {},
   "outputs": [],
   "source": [
    "from gensim import models\n",
    "import gensim"
   ]
  },
  {
   "cell_type": "code",
   "execution_count": 43,
   "metadata": {},
   "outputs": [],
   "source": [
    "sentences = models.word2vec.LineSentence(\"corpusSegDone.txt\")\n",
    "model = models.word2vec.Word2Vec(sentences, size=1, window=5, min_count=5, workers=1)\n",
    "# model.wv.vocab"
   ]
  },
  {
   "cell_type": "markdown",
   "metadata": {},
   "source": [
    "## pick user top 10 word ( frequency-based )"
   ]
  },
  {
   "cell_type": "code",
   "execution_count": 44,
   "metadata": {},
   "outputs": [],
   "source": [
    "top10_vector = np.zeros(shape=(l,10))\n",
    "# top10_vector"
   ]
  },
  {
   "cell_type": "code",
   "execution_count": 45,
   "metadata": {},
   "outputs": [
    {
     "name": "stderr",
     "output_type": "stream",
     "text": [
      "Building prefix dict from /home/tp6han/gp_new/jieba_txt/dict.txt.big.txt ...\n",
      "Loading model from cache /tmp/jieba.u0ddb98113e9461fac3a7658d9e24e45e.cache\n",
      "Loading model cost 1.514 seconds.\n",
      "Prefix dict has been built succesfully.\n"
     ]
    }
   ],
   "source": [
    "import operator\n",
    "for i in range(l):\n",
    "    og_dict = dict()\n",
    "#     print('\\n user'+str(i+1))\n",
    "#     if (len(test.iloc[i][1]))<10:\n",
    "#         continue\n",
    "    for j in range(len(grouped_data.iloc[i][1])):\n",
    "        seglist = jieba.cut((grouped_data.iloc[i][1])[j])\n",
    "        for word in seglist:\n",
    "            if word not in stopwordset:\n",
    "                if not word in og_dict.keys():\n",
    "                    if word == \" \":\n",
    "                        continue\n",
    "                    og_dict[word] = 1\n",
    "                else:\n",
    "                    og_dict[word] = int(og_dict[word]) + 1\n",
    "    a = sorted(og_dict.items(), key=operator.itemgetter(1),reverse=True)\n",
    "#     print(a)\n",
    "    \n",
    "    row = np.zeros(shape=(1,10))\n",
    "    \n",
    "    if len(a) >= 10:\n",
    "        for x in range(10):\n",
    "            if a[x][0] in model:\n",
    "                show = float(model[a[x][0]])\n",
    "#                 print(show)\n",
    "                row[0][x] = show\n",
    "    else:\n",
    "        for x in range(len(a)):\n",
    "#             print(a[x]) \n",
    "            if a[x][0] in model:\n",
    "                show = float(model[a[x][0]])\n",
    "#                 print(show)\n",
    "                row[0][x] = show\n",
    "#     print(row)\n",
    "    top10_vector[i] = row"
   ]
  },
  {
   "cell_type": "code",
   "execution_count": 46,
   "metadata": {},
   "outputs": [
    {
     "data": {
      "text/plain": [
       "(1019, 10)"
      ]
     },
     "execution_count": 46,
     "metadata": {},
     "output_type": "execute_result"
    }
   ],
   "source": [
    "top10_vector.shape"
   ]
  },
  {
   "cell_type": "code",
   "execution_count": null,
   "metadata": {},
   "outputs": [],
   "source": [
    "# top10_vector"
   ]
  },
  {
   "cell_type": "markdown",
   "metadata": {},
   "source": [
    "## 分群"
   ]
  },
  {
   "cell_type": "code",
   "execution_count": 52,
   "metadata": {},
   "outputs": [
    {
     "name": "stdout",
     "output_type": "stream",
     "text": [
      "分群結果 前10：\n",
      "[1 1 1 2 1 1 1 2 1 0]\n",
      "---\n"
     ]
    }
   ],
   "source": [
    "from sklearn import cluster, datasets\n",
    "\n",
    "# KMeans 演算法\n",
    "kmeans_fit = cluster.KMeans(n_clusters = 3,random_state=1170).fit(top10_vector)\n",
    "\n",
    "# 印出分群結果\n",
    "cluster_labels = kmeans_fit.labels_\n",
    "print(\"分群結果 前10：\")\n",
    "print(cluster_labels[:10])\n",
    "print(\"---\")\n",
    "\n",
    "\n"
   ]
  },
  {
   "cell_type": "markdown",
   "metadata": {},
   "source": [
    "## 分群結果數量"
   ]
  },
  {
   "cell_type": "code",
   "execution_count": 53,
   "metadata": {},
   "outputs": [
    {
     "data": {
      "text/plain": [
       "{0: 109, 1: 557, 2: 353}"
      ]
     },
     "execution_count": 53,
     "metadata": {},
     "output_type": "execute_result"
    }
   ],
   "source": [
    "unique, counts = np.unique(cluster_labels, return_counts=True)\n",
    "dict(zip(unique, counts))\n"
   ]
  },
  {
   "cell_type": "code",
   "execution_count": 54,
   "metadata": {},
   "outputs": [],
   "source": [
    "grouped_data['category'] = cluster_labels"
   ]
  },
  {
   "cell_type": "code",
   "execution_count": 55,
   "metadata": {},
   "outputs": [
    {
     "data": {
      "text/html": [
       "<div>\n",
       "<style scoped>\n",
       "    .dataframe tbody tr th:only-of-type {\n",
       "        vertical-align: middle;\n",
       "    }\n",
       "\n",
       "    .dataframe tbody tr th {\n",
       "        vertical-align: top;\n",
       "    }\n",
       "\n",
       "    .dataframe thead th {\n",
       "        text-align: right;\n",
       "    }\n",
       "</style>\n",
       "<table border=\"1\" class=\"dataframe\">\n",
       "  <thead>\n",
       "    <tr style=\"text-align: right;\">\n",
       "      <th></th>\n",
       "      <th>from</th>\n",
       "      <th>text</th>\n",
       "      <th>category</th>\n",
       "    </tr>\n",
       "  </thead>\n",
       "  <tbody>\n",
       "    <tr>\n",
       "      <th>0</th>\n",
       "      <td>1000970273334199</td>\n",
       "      <td>找不到阿/安安/你有打LOL嗎/好吧，可以帶我嗎/安安/凸/Sor/嗯/約哪/有啊/你先約的...</td>\n",
       "      <td>1</td>\n",
       "    </tr>\n",
       "    <tr>\n",
       "      <th>1</th>\n",
       "      <td>1001070263323689</td>\n",
       "      <td>!?/唐寶寶/你那麼愛慕他ㄇ/嗨/先問問您期望本人的性別是?/了解/我是男的/抱歉沒有/請問...</td>\n",
       "      <td>1</td>\n",
       "    </tr>\n",
       "    <tr>\n",
       "      <th>2</th>\n",
       "      <td>1001967239901904</td>\n",
       "      <td>早/在床上發懶/爆/斷/魂/你在暗諷綠藻嘛/壞/話說我好餓ㄛ/窩不要這個qq/ㄋ早餐吃什麼/...</td>\n",
       "      <td>1</td>\n",
       "    </tr>\n",
       "    <tr>\n",
       "      <th>3</th>\n",
       "      <td>1003172849781848</td>\n",
       "      <td>甲/你要做我的0？/人生勝利組是不會來玩這個的/你一定不是c銘/也不是業王/葉你妹/被盜/其...</td>\n",
       "      <td>2</td>\n",
       "    </tr>\n",
       "    <tr>\n",
       "      <th>4</th>\n",
       "      <td>1003929993039131</td>\n",
       "      <td>吃噓/肥宅早/我們不是場外人/場外ㄈㄓ/我沒用了/安安/是喔/場外ㄈㄓ嗎/豪/斷/欸/在打手...</td>\n",
       "      <td>1</td>\n",
       "    </tr>\n",
       "    <tr>\n",
       "      <th>5</th>\n",
       "      <td>1006942526092443</td>\n",
       "      <td>安/是/靠北哈哈/是要說啥/呃/對呀/好/那我們來玩個遊戲/1188-1100/扣掉的要補零...</td>\n",
       "      <td>1</td>\n",
       "    </tr>\n",
       "    <tr>\n",
       "      <th>6</th>\n",
       "      <td>1007352782715651</td>\n",
       "      <td>嗨/......./看來是沒有/我是有差點想打/哈哈/真的離開喔/想說多打一句好了/哈哈/下...</td>\n",
       "      <td>1</td>\n",
       "    </tr>\n",
       "    <tr>\n",
       "      <th>7</th>\n",
       "      <td>1018989321532115</td>\n",
       "      <td>Hi/O.O/Ooo/黃色那隻/已知啊/Hi/還沒睡啊/不睡啊</td>\n",
       "      <td>2</td>\n",
       "    </tr>\n",
       "    <tr>\n",
       "      <th>8</th>\n",
       "      <td>1020089304775462</td>\n",
       "      <td>嗨/嗨/斷/嗨/哪裡人/挖/國外耶/天龍國人啊/感覺不同世界/嗨/安安  幾歲  住那  浪...</td>\n",
       "      <td>1</td>\n",
       "    </tr>\n",
       "    <tr>\n",
       "      <th>9</th>\n",
       "      <td>1020229148084642</td>\n",
       "      <td>安安</td>\n",
       "      <td>0</td>\n",
       "    </tr>\n",
       "    <tr>\n",
       "      <th>10</th>\n",
       "      <td>1020244088095767</td>\n",
       "      <td>闢咧?/小編?/囉/配對成功，您與陌生人連線了，可以開始聊天囉！！</td>\n",
       "      <td>2</td>\n",
       "    </tr>\n",
       "    <tr>\n",
       "      <th>11</th>\n",
       "      <td>1026226497490186</td>\n",
       "      <td>嗨/ㄤㄤ/ㄩㄇ/ㄩㄇ/？/ㄩㄇ/幹真的滿地場外人/氣死/你是/假小妹？？？/我是真小妹喔^_...</td>\n",
       "      <td>1</td>\n",
       "    </tr>\n",
       "    <tr>\n",
       "      <th>12</th>\n",
       "      <td>1026725947396093</td>\n",
       "      <td>沒人理我/？？？？/ㄩㄇ/不要阿/Yo啥/8+9/？/..../你不是/?!/三小/../88</td>\n",
       "      <td>1</td>\n",
       "    </tr>\n",
       "    <tr>\n",
       "      <th>13</th>\n",
       "      <td>1027517360702603</td>\n",
       "      <td>ㄩㄇ</td>\n",
       "      <td>0</td>\n",
       "    </tr>\n",
       "    <tr>\n",
       "      <th>14</th>\n",
       "      <td>1032159903558547</td>\n",
       "      <td>Hi,/English?/My name is Wunan/XD/Fuck, Its U a...</td>\n",
       "      <td>0</td>\n",
       "    </tr>\n",
       "    <tr>\n",
       "      <th>15</th>\n",
       "      <td>1033724770074424</td>\n",
       "      <td>Hi/你怎麼會用這個/那是什麼/朋友臉書</td>\n",
       "      <td>2</td>\n",
       "    </tr>\n",
       "    <tr>\n",
       "      <th>16</th>\n",
       "      <td>1033950489987576</td>\n",
       "      <td>男要約/87/約啊/就是約出來/你是男的嗎/那你也是Andy wang/不然勒/我不是/你才...</td>\n",
       "      <td>1</td>\n",
       "    </tr>\n",
       "    <tr>\n",
       "      <th>17</th>\n",
       "      <td>1036991086414609</td>\n",
       "      <td>8主/一堆場外</td>\n",
       "      <td>0</td>\n",
       "    </tr>\n",
       "    <tr>\n",
       "      <th>18</th>\n",
       "      <td>1039020552872155</td>\n",
       "      <td>三小/要打圖戰？/凶喔/你是八家將對不對/豪/我回了/然後/你要來干我媽了沒/等很久了還沒來...</td>\n",
       "      <td>1</td>\n",
       "    </tr>\n",
       "    <tr>\n",
       "      <th>19</th>\n",
       "      <td>1040646796050279</td>\n",
       "      <td>../我場外最正常/你好 我是他弟弟 王希芝/約浪漫??/所以要約嗎/我臺南王c銘/你嗎??...</td>\n",
       "      <td>1</td>\n",
       "    </tr>\n",
       "  </tbody>\n",
       "</table>\n",
       "</div>"
      ],
      "text/plain": [
       "                from                                               text  \\\n",
       "0   1000970273334199  找不到阿/安安/你有打LOL嗎/好吧，可以帶我嗎/安安/凸/Sor/嗯/約哪/有啊/你先約的...   \n",
       "1   1001070263323689  !?/唐寶寶/你那麼愛慕他ㄇ/嗨/先問問您期望本人的性別是?/了解/我是男的/抱歉沒有/請問...   \n",
       "2   1001967239901904  早/在床上發懶/爆/斷/魂/你在暗諷綠藻嘛/壞/話說我好餓ㄛ/窩不要這個qq/ㄋ早餐吃什麼/...   \n",
       "3   1003172849781848  甲/你要做我的0？/人生勝利組是不會來玩這個的/你一定不是c銘/也不是業王/葉你妹/被盜/其...   \n",
       "4   1003929993039131  吃噓/肥宅早/我們不是場外人/場外ㄈㄓ/我沒用了/安安/是喔/場外ㄈㄓ嗎/豪/斷/欸/在打手...   \n",
       "5   1006942526092443  安/是/靠北哈哈/是要說啥/呃/對呀/好/那我們來玩個遊戲/1188-1100/扣掉的要補零...   \n",
       "6   1007352782715651  嗨/......./看來是沒有/我是有差點想打/哈哈/真的離開喔/想說多打一句好了/哈哈/下...   \n",
       "7   1018989321532115                    Hi/O.O/Ooo/黃色那隻/已知啊/Hi/還沒睡啊/不睡啊   \n",
       "8   1020089304775462  嗨/嗨/斷/嗨/哪裡人/挖/國外耶/天龍國人啊/感覺不同世界/嗨/安安  幾歲  住那  浪...   \n",
       "9   1020229148084642                                                 安安   \n",
       "10  1020244088095767                  闢咧?/小編?/囉/配對成功，您與陌生人連線了，可以開始聊天囉！！   \n",
       "11  1026226497490186  嗨/ㄤㄤ/ㄩㄇ/ㄩㄇ/？/ㄩㄇ/幹真的滿地場外人/氣死/你是/假小妹？？？/我是真小妹喔^_...   \n",
       "12  1026725947396093    沒人理我/？？？？/ㄩㄇ/不要阿/Yo啥/8+9/？/..../你不是/?!/三小/../88   \n",
       "13  1027517360702603                                                 ㄩㄇ   \n",
       "14  1032159903558547  Hi,/English?/My name is Wunan/XD/Fuck, Its U a...   \n",
       "15  1033724770074424                               Hi/你怎麼會用這個/那是什麼/朋友臉書   \n",
       "16  1033950489987576  男要約/87/約啊/就是約出來/你是男的嗎/那你也是Andy wang/不然勒/我不是/你才...   \n",
       "17  1036991086414609                                            8主/一堆場外   \n",
       "18  1039020552872155  三小/要打圖戰？/凶喔/你是八家將對不對/豪/我回了/然後/你要來干我媽了沒/等很久了還沒來...   \n",
       "19  1040646796050279  ../我場外最正常/你好 我是他弟弟 王希芝/約浪漫??/所以要約嗎/我臺南王c銘/你嗎??...   \n",
       "\n",
       "    category  \n",
       "0          1  \n",
       "1          1  \n",
       "2          1  \n",
       "3          2  \n",
       "4          1  \n",
       "5          1  \n",
       "6          1  \n",
       "7          2  \n",
       "8          1  \n",
       "9          0  \n",
       "10         2  \n",
       "11         1  \n",
       "12         1  \n",
       "13         0  \n",
       "14         0  \n",
       "15         2  \n",
       "16         1  \n",
       "17         0  \n",
       "18         1  \n",
       "19         1  "
      ]
     },
     "execution_count": 55,
     "metadata": {},
     "output_type": "execute_result"
    }
   ],
   "source": [
    "grouped_data.head(20)"
   ]
  },
  {
   "cell_type": "code",
   "execution_count": null,
   "metadata": {},
   "outputs": [],
   "source": []
  }
 ],
 "metadata": {
  "kernelspec": {
   "display_name": "Python 3",
   "language": "python",
   "name": "python3"
  },
  "language_info": {
   "codemirror_mode": {
    "name": "ipython",
    "version": 3
   },
   "file_extension": ".py",
   "mimetype": "text/x-python",
   "name": "python",
   "nbconvert_exporter": "python",
   "pygments_lexer": "ipython3",
   "version": "3.5.2"
  }
 },
 "nbformat": 4,
 "nbformat_minor": 2
}
