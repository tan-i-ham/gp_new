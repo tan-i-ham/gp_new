{
 "cells": [
  {
   "cell_type": "code",
   "execution_count": 1,
   "metadata": {},
   "outputs": [],
   "source": [
    "import pandas as pd\n",
    "import numpy as np\n",
    "import operator\n",
    "from collections import defaultdict\n",
    "from IPython.display import display"
   ]
  },
  {
   "cell_type": "code",
   "execution_count": 2,
   "metadata": {},
   "outputs": [
    {
     "name": "stderr",
     "output_type": "stream",
     "text": [
      "/home/tp6han/.local/lib/python3.5/site-packages/IPython/core/interactiveshell.py:2728: DtypeWarning: Columns (1,2,3) have mixed types. Specify dtype option on import or set low_memory=False.\n",
      "  interactivity=interactivity, compiler=compiler, result=result)\n"
     ]
    }
   ],
   "source": [
    "df = pd.read_csv('../data/processed.csv')"
   ]
  },
  {
   "cell_type": "code",
   "execution_count": 3,
   "metadata": {},
   "outputs": [],
   "source": [
    "df = df.dropna(axis=0)\n",
    "df = df.reset_index(drop=True)\n"
   ]
  },
  {
   "cell_type": "code",
   "execution_count": 4,
   "metadata": {},
   "outputs": [
    {
     "name": "stdout",
     "output_type": "stream",
     "text": [
      "有28275265筆對話\n"
     ]
    },
    {
     "data": {
      "text/plain": [
       "None"
      ]
     },
     "metadata": {},
     "output_type": "display_data"
    },
    {
     "data": {
      "text/plain": [
       "from    28275265\n",
       "to      28275265\n",
       "text    28275265\n",
       "room    28275265\n",
       "time    28275265\n",
       "dtype: int64"
      ]
     },
     "metadata": {},
     "output_type": "display_data"
    },
    {
     "data": {
      "text/html": [
       "<div>\n",
       "<style scoped>\n",
       "    .dataframe tbody tr th:only-of-type {\n",
       "        vertical-align: middle;\n",
       "    }\n",
       "\n",
       "    .dataframe tbody tr th {\n",
       "        vertical-align: top;\n",
       "    }\n",
       "\n",
       "    .dataframe thead th {\n",
       "        text-align: right;\n",
       "    }\n",
       "</style>\n",
       "<table border=\"1\" class=\"dataframe\">\n",
       "  <thead>\n",
       "    <tr style=\"text-align: right;\">\n",
       "      <th></th>\n",
       "      <th>from</th>\n",
       "      <th>to</th>\n",
       "      <th>text</th>\n",
       "      <th>room</th>\n",
       "      <th>time</th>\n",
       "    </tr>\n",
       "  </thead>\n",
       "  <tbody>\n",
       "    <tr>\n",
       "      <th>0</th>\n",
       "      <td>ud4097fbb4471c8c54512814bf0182e03</td>\n",
       "      <td>u84fa1e46e99df373e0f978c2ba274f9a</td>\n",
       "      <td>wd</td>\n",
       "      <td>8aee77a7-1d90-4d0f-b3c3-3f7b94a90e36</td>\n",
       "      <td>1.471640e+12</td>\n",
       "    </tr>\n",
       "    <tr>\n",
       "      <th>1</th>\n",
       "      <td>ud4097fbb4471c8c54512814bf0182e03</td>\n",
       "      <td>u96e826dccd3c9db56d684a5ddffc3154</td>\n",
       "      <td>嗨嗨</td>\n",
       "      <td>fe214cfc-22d1-4736-92e7-d133190142b8</td>\n",
       "      <td>1.471643e+12</td>\n",
       "    </tr>\n",
       "    <tr>\n",
       "      <th>2</th>\n",
       "      <td>u96e826dccd3c9db56d684a5ddffc3154</td>\n",
       "      <td>ud4097fbb4471c8c54512814bf0182e03</td>\n",
       "      <td>蛤？</td>\n",
       "      <td>fe214cfc-22d1-4736-92e7-d133190142b8</td>\n",
       "      <td>1.471643e+12</td>\n",
       "    </tr>\n",
       "    <tr>\n",
       "      <th>3</th>\n",
       "      <td>ud4097fbb4471c8c54512814bf0182e03</td>\n",
       "      <td>u96e826dccd3c9db56d684a5ddffc3154</td>\n",
       "      <td>你是第二個使用者ＱＱ</td>\n",
       "      <td>fe214cfc-22d1-4736-92e7-d133190142b8</td>\n",
       "      <td>1.471643e+12</td>\n",
       "    </tr>\n",
       "    <tr>\n",
       "      <th>4</th>\n",
       "      <td>u96e826dccd3c9db56d684a5ddffc3154</td>\n",
       "      <td>ud4097fbb4471c8c54512814bf0182e03</td>\n",
       "      <td>哈哈哈哈哈哈哈</td>\n",
       "      <td>fe214cfc-22d1-4736-92e7-d133190142b8</td>\n",
       "      <td>1.471643e+12</td>\n",
       "    </tr>\n",
       "    <tr>\n",
       "      <th>5</th>\n",
       "      <td>u96e826dccd3c9db56d684a5ddffc3154</td>\n",
       "      <td>ud4097fbb4471c8c54512814bf0182e03</td>\n",
       "      <td>這是限定版嗎</td>\n",
       "      <td>fe214cfc-22d1-4736-92e7-d133190142b8</td>\n",
       "      <td>1.471643e+12</td>\n",
       "    </tr>\n",
       "    <tr>\n",
       "      <th>6</th>\n",
       "      <td>ud4097fbb4471c8c54512814bf0182e03</td>\n",
       "      <td>u96e826dccd3c9db56d684a5ddffc3154</td>\n",
       "      <td>什麼限定版？</td>\n",
       "      <td>fe214cfc-22d1-4736-92e7-d133190142b8</td>\n",
       "      <td>1.471643e+12</td>\n",
       "    </tr>\n",
       "    <tr>\n",
       "      <th>7</th>\n",
       "      <td>u96e826dccd3c9db56d684a5ddffc3154</td>\n",
       "      <td>ud4097fbb4471c8c54512814bf0182e03</td>\n",
       "      <td>賴限定？</td>\n",
       "      <td>fe214cfc-22d1-4736-92e7-d133190142b8</td>\n",
       "      <td>1.471643e+12</td>\n",
       "    </tr>\n",
       "    <tr>\n",
       "      <th>8</th>\n",
       "      <td>ud4097fbb4471c8c54512814bf0182e03</td>\n",
       "      <td>u96e826dccd3c9db56d684a5ddffc3154</td>\n",
       "      <td>等我睡醒再來寫fb版本</td>\n",
       "      <td>fe214cfc-22d1-4736-92e7-d133190142b8</td>\n",
       "      <td>1.471643e+12</td>\n",
       "    </tr>\n",
       "    <tr>\n",
       "      <th>9</th>\n",
       "      <td>u96e826dccd3c9db56d684a5ddffc3154</td>\n",
       "      <td>ud4097fbb4471c8c54512814bf0182e03</td>\n",
       "      <td>賴才能用？</td>\n",
       "      <td>fe214cfc-22d1-4736-92e7-d133190142b8</td>\n",
       "      <td>1.471643e+12</td>\n",
       "    </tr>\n",
       "  </tbody>\n",
       "</table>\n",
       "</div>"
      ],
      "text/plain": [
       "                                from                                 to  \\\n",
       "0  ud4097fbb4471c8c54512814bf0182e03  u84fa1e46e99df373e0f978c2ba274f9a   \n",
       "1  ud4097fbb4471c8c54512814bf0182e03  u96e826dccd3c9db56d684a5ddffc3154   \n",
       "2  u96e826dccd3c9db56d684a5ddffc3154  ud4097fbb4471c8c54512814bf0182e03   \n",
       "3  ud4097fbb4471c8c54512814bf0182e03  u96e826dccd3c9db56d684a5ddffc3154   \n",
       "4  u96e826dccd3c9db56d684a5ddffc3154  ud4097fbb4471c8c54512814bf0182e03   \n",
       "5  u96e826dccd3c9db56d684a5ddffc3154  ud4097fbb4471c8c54512814bf0182e03   \n",
       "6  ud4097fbb4471c8c54512814bf0182e03  u96e826dccd3c9db56d684a5ddffc3154   \n",
       "7  u96e826dccd3c9db56d684a5ddffc3154  ud4097fbb4471c8c54512814bf0182e03   \n",
       "8  ud4097fbb4471c8c54512814bf0182e03  u96e826dccd3c9db56d684a5ddffc3154   \n",
       "9  u96e826dccd3c9db56d684a5ddffc3154  ud4097fbb4471c8c54512814bf0182e03   \n",
       "\n",
       "          text                                  room          time  \n",
       "0           wd  8aee77a7-1d90-4d0f-b3c3-3f7b94a90e36  1.471640e+12  \n",
       "1           嗨嗨  fe214cfc-22d1-4736-92e7-d133190142b8  1.471643e+12  \n",
       "2           蛤？  fe214cfc-22d1-4736-92e7-d133190142b8  1.471643e+12  \n",
       "3   你是第二個使用者ＱＱ  fe214cfc-22d1-4736-92e7-d133190142b8  1.471643e+12  \n",
       "4      哈哈哈哈哈哈哈  fe214cfc-22d1-4736-92e7-d133190142b8  1.471643e+12  \n",
       "5       這是限定版嗎  fe214cfc-22d1-4736-92e7-d133190142b8  1.471643e+12  \n",
       "6       什麼限定版？  fe214cfc-22d1-4736-92e7-d133190142b8  1.471643e+12  \n",
       "7         賴限定？  fe214cfc-22d1-4736-92e7-d133190142b8  1.471643e+12  \n",
       "8  等我睡醒再來寫fb版本  fe214cfc-22d1-4736-92e7-d133190142b8  1.471643e+12  \n",
       "9        賴才能用？  fe214cfc-22d1-4736-92e7-d133190142b8  1.471643e+12  "
      ]
     },
     "metadata": {},
     "output_type": "display_data"
    }
   ],
   "source": [
    "display(\n",
    "    print('有{}筆對話'.format(len(df))),\n",
    "    df.count(),\n",
    "    df.head(10)\n",
    ")"
   ]
  },
  {
   "cell_type": "markdown",
   "metadata": {},
   "source": [
    "## Groupby by 'from' column "
   ]
  },
  {
   "cell_type": "code",
   "execution_count": 5,
   "metadata": {},
   "outputs": [
    {
     "name": "stdout",
     "output_type": "stream",
     "text": [
      "have 52703 users\n"
     ]
    }
   ],
   "source": [
    "grouped_data = df.groupby('from')['text'].apply(list).reset_index()\n",
    "print('have {} users'.format(len(grouped_data)))"
   ]
  },
  {
   "cell_type": "code",
   "execution_count": 6,
   "metadata": {},
   "outputs": [
    {
     "data": {
      "text/html": [
       "<div>\n",
       "<style scoped>\n",
       "    .dataframe tbody tr th:only-of-type {\n",
       "        vertical-align: middle;\n",
       "    }\n",
       "\n",
       "    .dataframe tbody tr th {\n",
       "        vertical-align: top;\n",
       "    }\n",
       "\n",
       "    .dataframe thead th {\n",
       "        text-align: right;\n",
       "    }\n",
       "</style>\n",
       "<table border=\"1\" class=\"dataframe\">\n",
       "  <thead>\n",
       "    <tr style=\"text-align: right;\">\n",
       "      <th></th>\n",
       "      <th>from</th>\n",
       "      <th>text</th>\n",
       "    </tr>\n",
       "  </thead>\n",
       "  <tbody>\n",
       "    <tr>\n",
       "      <th>0</th>\n",
       "      <td>100000074540167</td>\n",
       "      <td>[Udf65fb966d9b628dd5b7e88569af4339/屢勸不聽]</td>\n",
       "    </tr>\n",
       "    <tr>\n",
       "      <th>1</th>\n",
       "      <td>100000286958812</td>\n",
       "      <td>[哈哈哈, 一秒也太誇張]</td>\n",
       "    </tr>\n",
       "    <tr>\n",
       "      <th>2</th>\n",
       "      <td>100002516292141</td>\n",
       "      <td>[因為還沒上大學 不知道以後會怎樣]</td>\n",
       "    </tr>\n",
       "    <tr>\n",
       "      <th>3</th>\n",
       "      <td>100002919027218</td>\n",
       "      <td>[嗎]</td>\n",
       "    </tr>\n",
       "    <tr>\n",
       "      <th>4</th>\n",
       "      <td>100003139568226</td>\n",
       "      <td>[哈嘍, 我正在吃😂, 你是大學生嗎, 安安, .]</td>\n",
       "    </tr>\n",
       "  </tbody>\n",
       "</table>\n",
       "</div>"
      ],
      "text/plain": [
       "              from                                      text\n",
       "0  100000074540167  [Udf65fb966d9b628dd5b7e88569af4339/屢勸不聽]\n",
       "1  100000286958812                             [哈哈哈, 一秒也太誇張]\n",
       "2  100002516292141                        [因為還沒上大學 不知道以後會怎樣]\n",
       "3  100002919027218                                       [嗎]\n",
       "4  100003139568226                [哈嘍, 我正在吃😂, 你是大學生嗎, 安安, .]"
      ]
     },
     "execution_count": 6,
     "metadata": {},
     "output_type": "execute_result"
    }
   ],
   "source": [
    "grouped_data.head()\n",
    "# type(grouped_data.text[0])"
   ]
  },
  {
   "cell_type": "markdown",
   "metadata": {},
   "source": [
    "# 分詞存至 **seperate_done.txt**"
   ]
  },
  {
   "cell_type": "code",
   "execution_count": 16,
   "metadata": {},
   "outputs": [],
   "source": [
    "import jieba\n",
    "import jieba.posseg as pseg\n",
    "import jieba.analyse"
   ]
  },
  {
   "cell_type": "code",
   "execution_count": 17,
   "metadata": {},
   "outputs": [],
   "source": [
    "fileTrainSeg = []"
   ]
  },
  {
   "cell_type": "code",
   "execution_count": 18,
   "metadata": {},
   "outputs": [
    {
     "name": "stderr",
     "output_type": "stream",
     "text": [
      "Building prefix dict from the default dictionary ...\n",
      "DEBUG:jieba:Building prefix dict from the default dictionary ...\n",
      "Loading model from cache /tmp/jieba.cache\n",
      "DEBUG:jieba:Loading model from cache /tmp/jieba.cache\n",
      "Loading model cost 0.843 seconds.\n",
      "DEBUG:jieba:Loading model cost 0.843 seconds.\n",
      "Prefix dict has been built succesfully.\n",
      "DEBUG:jieba:Prefix dict has been built succesfully.\n"
     ]
    },
    {
     "ename": "KeyboardInterrupt",
     "evalue": "",
     "output_type": "error",
     "traceback": [
      "\u001b[0;31m---------------------------------------------------------------------------\u001b[0m",
      "\u001b[0;31mKeyboardInterrupt\u001b[0m                         Traceback (most recent call last)",
      "\u001b[0;32m<ipython-input-18-ca6e50f3532f>\u001b[0m in \u001b[0;36m<module>\u001b[0;34m()\u001b[0m\n\u001b[1;32m      1\u001b[0m \u001b[0;32mfor\u001b[0m \u001b[0mi\u001b[0m \u001b[0;32min\u001b[0m \u001b[0mrange\u001b[0m\u001b[0;34m(\u001b[0m\u001b[0;34m(\u001b[0m\u001b[0mlen\u001b[0m\u001b[0;34m(\u001b[0m\u001b[0mdf\u001b[0m\u001b[0;34m)\u001b[0m\u001b[0;34m)\u001b[0m\u001b[0;34m)\u001b[0m\u001b[0;34m:\u001b[0m\u001b[0;34m\u001b[0m\u001b[0m\n\u001b[0;32m----> 2\u001b[0;31m     \u001b[0mseglist\u001b[0m \u001b[0;34m=\u001b[0m \u001b[0mjieba\u001b[0m\u001b[0;34m.\u001b[0m\u001b[0mcut\u001b[0m\u001b[0;34m(\u001b[0m\u001b[0mdf\u001b[0m\u001b[0;34m[\u001b[0m\u001b[0;34m'text'\u001b[0m\u001b[0;34m]\u001b[0m\u001b[0;34m[\u001b[0m\u001b[0mi\u001b[0m\u001b[0;34m]\u001b[0m\u001b[0;34m)\u001b[0m\u001b[0;34m\u001b[0m\u001b[0m\n\u001b[0m\u001b[1;32m      3\u001b[0m     \u001b[0mfileTrainSeg\u001b[0m\u001b[0;34m.\u001b[0m\u001b[0mappend\u001b[0m\u001b[0;34m(\u001b[0m\u001b[0;34m[\u001b[0m\u001b[0;34m\" \"\u001b[0m\u001b[0;34m.\u001b[0m\u001b[0mjoin\u001b[0m\u001b[0;34m(\u001b[0m\u001b[0mlist\u001b[0m\u001b[0;34m(\u001b[0m\u001b[0mjieba\u001b[0m\u001b[0;34m.\u001b[0m\u001b[0mcut\u001b[0m\u001b[0;34m(\u001b[0m\u001b[0mdf\u001b[0m\u001b[0;34m[\u001b[0m\u001b[0;34m'text'\u001b[0m\u001b[0;34m]\u001b[0m\u001b[0;34m[\u001b[0m\u001b[0mi\u001b[0m\u001b[0;34m]\u001b[0m\u001b[0;34m)\u001b[0m\u001b[0;34m)\u001b[0m\u001b[0;34m)\u001b[0m\u001b[0;34m]\u001b[0m\u001b[0;34m)\u001b[0m\u001b[0;34m\u001b[0m\u001b[0m\n",
      "\u001b[0;32m/usr/local/lib/python3.5/dist-packages/pandas/core/series.py\u001b[0m in \u001b[0;36m__getitem__\u001b[0;34m(self, key)\u001b[0m\n\u001b[1;32m    621\u001b[0m         \u001b[0mkey\u001b[0m \u001b[0;34m=\u001b[0m \u001b[0mcom\u001b[0m\u001b[0;34m.\u001b[0m\u001b[0m_apply_if_callable\u001b[0m\u001b[0;34m(\u001b[0m\u001b[0mkey\u001b[0m\u001b[0;34m,\u001b[0m \u001b[0mself\u001b[0m\u001b[0;34m)\u001b[0m\u001b[0;34m\u001b[0m\u001b[0m\n\u001b[1;32m    622\u001b[0m         \u001b[0;32mtry\u001b[0m\u001b[0;34m:\u001b[0m\u001b[0;34m\u001b[0m\u001b[0m\n\u001b[0;32m--> 623\u001b[0;31m             \u001b[0mresult\u001b[0m \u001b[0;34m=\u001b[0m \u001b[0mself\u001b[0m\u001b[0;34m.\u001b[0m\u001b[0mindex\u001b[0m\u001b[0;34m.\u001b[0m\u001b[0mget_value\u001b[0m\u001b[0;34m(\u001b[0m\u001b[0mself\u001b[0m\u001b[0;34m,\u001b[0m \u001b[0mkey\u001b[0m\u001b[0;34m)\u001b[0m\u001b[0;34m\u001b[0m\u001b[0m\n\u001b[0m\u001b[1;32m    624\u001b[0m \u001b[0;34m\u001b[0m\u001b[0m\n\u001b[1;32m    625\u001b[0m             \u001b[0;32mif\u001b[0m \u001b[0;32mnot\u001b[0m \u001b[0mis_scalar\u001b[0m\u001b[0;34m(\u001b[0m\u001b[0mresult\u001b[0m\u001b[0;34m)\u001b[0m\u001b[0;34m:\u001b[0m\u001b[0;34m\u001b[0m\u001b[0m\n",
      "\u001b[0;32m/usr/local/lib/python3.5/dist-packages/pandas/core/indexes/base.py\u001b[0m in \u001b[0;36mget_value\u001b[0;34m(self, series, key)\u001b[0m\n\u001b[1;32m   2549\u001b[0m                 \u001b[0;32mpass\u001b[0m\u001b[0;34m\u001b[0m\u001b[0m\n\u001b[1;32m   2550\u001b[0m \u001b[0;34m\u001b[0m\u001b[0m\n\u001b[0;32m-> 2551\u001b[0;31m         \u001b[0ms\u001b[0m \u001b[0;34m=\u001b[0m \u001b[0m_values_from_object\u001b[0m\u001b[0;34m(\u001b[0m\u001b[0mseries\u001b[0m\u001b[0;34m)\u001b[0m\u001b[0;34m\u001b[0m\u001b[0m\n\u001b[0m\u001b[1;32m   2552\u001b[0m         \u001b[0mk\u001b[0m \u001b[0;34m=\u001b[0m \u001b[0m_values_from_object\u001b[0m\u001b[0;34m(\u001b[0m\u001b[0mkey\u001b[0m\u001b[0;34m)\u001b[0m\u001b[0;34m\u001b[0m\u001b[0m\n\u001b[1;32m   2553\u001b[0m \u001b[0;34m\u001b[0m\u001b[0m\n",
      "\u001b[0;32mpandas/_libs/lib.pyx\u001b[0m in \u001b[0;36mpandas._libs.lib.values_from_object\u001b[0;34m()\u001b[0m\n",
      "\u001b[0;32m/usr/local/lib/python3.5/dist-packages/pandas/core/series.py\u001b[0m in \u001b[0;36mget_values\u001b[0;34m(self)\u001b[0m\n\u001b[1;32m    411\u001b[0m     \u001b[0;32mdef\u001b[0m \u001b[0mget_values\u001b[0m\u001b[0;34m(\u001b[0m\u001b[0mself\u001b[0m\u001b[0;34m)\u001b[0m\u001b[0;34m:\u001b[0m\u001b[0;34m\u001b[0m\u001b[0m\n\u001b[1;32m    412\u001b[0m         \u001b[0;34m\"\"\" same as values (but handles sparseness conversions); is a view \"\"\"\u001b[0m\u001b[0;34m\u001b[0m\u001b[0m\n\u001b[0;32m--> 413\u001b[0;31m         \u001b[0;32mreturn\u001b[0m \u001b[0mself\u001b[0m\u001b[0;34m.\u001b[0m\u001b[0m_data\u001b[0m\u001b[0;34m.\u001b[0m\u001b[0mget_values\u001b[0m\u001b[0;34m(\u001b[0m\u001b[0;34m)\u001b[0m\u001b[0;34m\u001b[0m\u001b[0m\n\u001b[0m\u001b[1;32m    414\u001b[0m \u001b[0;34m\u001b[0m\u001b[0m\n\u001b[1;32m    415\u001b[0m     \u001b[0;34m@\u001b[0m\u001b[0mproperty\u001b[0m\u001b[0;34m\u001b[0m\u001b[0m\n",
      "\u001b[0;31mKeyboardInterrupt\u001b[0m: "
     ]
    }
   ],
   "source": [
    "for i in range((len(df))):\n",
    "    seglist = jieba.cut(df['text'][i])  \n",
    "    fileTrainSeg.append([\" \".join(list(jieba.cut(df['text'][i])))])"
   ]
  },
  {
   "cell_type": "code",
   "execution_count": null,
   "metadata": {},
   "outputs": [],
   "source": [
    "fileSegWordDonePath = '../data/seperate_done.txt'\n",
    "with open(fileSegWordDonePath,'w') as fW:\n",
    "    for i in range(len(fileTrainSeg)):\n",
    "        fW.write(fileTrainSeg[i][0])\n",
    "        fW.write('\\n')"
   ]
  },
  {
   "cell_type": "markdown",
   "metadata": {},
   "source": [
    "## 載入分詞檔做訓練"
   ]
  },
  {
   "cell_type": "code",
   "execution_count": 7,
   "metadata": {},
   "outputs": [],
   "source": [
    "from gensim.models import word2vec\n",
    "import logging\n"
   ]
  },
  {
   "cell_type": "code",
   "execution_count": 11,
   "metadata": {},
   "outputs": [
    {
     "name": "stderr",
     "output_type": "stream",
     "text": [
      "2017-12-24 15:59:37,603 : WARNING : consider setting layer size to a multiple of 4 for greater performance\n",
      "2017-12-24 15:59:37,604 : INFO : collecting all words and their counts\n",
      "2017-12-24 15:59:37,607 : INFO : PROGRESS: at sentence #0, processed 0 words, keeping 0 word types\n",
      "2017-12-24 16:00:15,620 : INFO : PROGRESS: at sentence #10000, processed 100000000 words, keeping 497890 word types\n",
      "2017-12-24 16:00:22,327 : INFO : collected 548728 word types from a corpus of 117073912 raw words and 11708 sentences\n",
      "2017-12-24 16:00:22,329 : INFO : Loading a fresh vocabulary\n",
      "2017-12-24 16:00:25,392 : INFO : min_count=5 retains 140943 unique words (25% of original 548728, drops 407785)\n",
      "2017-12-24 16:00:25,394 : INFO : min_count=5 leaves 116457175 word corpus (99% of original 117073912, drops 616737)\n",
      "2017-12-24 16:00:25,893 : INFO : deleting the raw counts dictionary of 548728 items\n",
      "2017-12-24 16:00:25,940 : INFO : sample=0.001 downsamples 57 most-common words\n",
      "2017-12-24 16:00:25,942 : INFO : downsampling leaves estimated 88804009 word corpus (76.3% of prior 116457175)\n",
      "2017-12-24 16:00:25,943 : INFO : estimated required memory for 140943 words and 10 dimensions: 81746940 bytes\n",
      "2017-12-24 16:00:26,595 : INFO : resetting layer weights\n",
      "2017-12-24 16:00:28,062 : INFO : training model with 3 workers on 140943 vocabulary and 10 features, using sg=0 hs=0 sample=0.001 negative=5 window=5\n",
      "2017-12-24 16:00:29,078 : INFO : PROGRESS: at 0.25% examples, 1202335 words/s, in_qsize 5, out_qsize 0\n",
      "2017-12-24 16:00:30,078 : INFO : PROGRESS: at 0.49% examples, 1131572 words/s, in_qsize 4, out_qsize 1\n",
      "2017-12-24 16:00:31,084 : INFO : PROGRESS: at 0.73% examples, 1100608 words/s, in_qsize 5, out_qsize 0\n",
      "2017-12-24 16:00:32,098 : INFO : PROGRESS: at 0.99% examples, 1128067 words/s, in_qsize 4, out_qsize 1\n",
      "2017-12-24 16:00:33,100 : INFO : PROGRESS: at 1.22% examples, 1097363 words/s, in_qsize 5, out_qsize 0\n",
      "2017-12-24 16:00:34,101 : INFO : PROGRESS: at 1.45% examples, 1087339 words/s, in_qsize 5, out_qsize 0\n",
      "2017-12-24 16:00:35,106 : INFO : PROGRESS: at 1.67% examples, 1073725 words/s, in_qsize 5, out_qsize 0\n",
      "2017-12-24 16:00:36,118 : INFO : PROGRESS: at 1.93% examples, 1064363 words/s, in_qsize 5, out_qsize 1\n",
      "2017-12-24 16:00:37,120 : INFO : PROGRESS: at 2.15% examples, 1051379 words/s, in_qsize 5, out_qsize 0\n",
      "2017-12-24 16:00:38,125 : INFO : PROGRESS: at 2.39% examples, 1052570 words/s, in_qsize 5, out_qsize 0\n",
      "2017-12-24 16:00:39,129 : INFO : PROGRESS: at 2.63% examples, 1048949 words/s, in_qsize 5, out_qsize 0\n",
      "2017-12-24 16:00:40,134 : INFO : PROGRESS: at 2.88% examples, 1052218 words/s, in_qsize 5, out_qsize 0\n",
      "2017-12-24 16:00:41,138 : INFO : PROGRESS: at 3.11% examples, 1049056 words/s, in_qsize 5, out_qsize 0\n",
      "2017-12-24 16:00:42,142 : INFO : PROGRESS: at 3.35% examples, 1048871 words/s, in_qsize 5, out_qsize 0\n",
      "2017-12-24 16:00:43,148 : INFO : PROGRESS: at 3.59% examples, 1049868 words/s, in_qsize 5, out_qsize 0\n",
      "2017-12-24 16:00:44,152 : INFO : PROGRESS: at 3.83% examples, 1050697 words/s, in_qsize 5, out_qsize 0\n",
      "2017-12-24 16:00:45,156 : INFO : PROGRESS: at 4.06% examples, 1048795 words/s, in_qsize 5, out_qsize 0\n",
      "2017-12-24 16:00:46,160 : INFO : PROGRESS: at 4.28% examples, 1043985 words/s, in_qsize 5, out_qsize 0\n",
      "2017-12-24 16:00:47,162 : INFO : PROGRESS: at 4.52% examples, 1045368 words/s, in_qsize 5, out_qsize 0\n",
      "2017-12-24 16:00:48,163 : INFO : PROGRESS: at 4.76% examples, 1046034 words/s, in_qsize 5, out_qsize 0\n",
      "2017-12-24 16:00:49,165 : INFO : PROGRESS: at 5.00% examples, 1046190 words/s, in_qsize 5, out_qsize 0\n",
      "2017-12-24 16:00:50,166 : INFO : PROGRESS: at 5.23% examples, 1044140 words/s, in_qsize 5, out_qsize 0\n",
      "2017-12-24 16:00:51,172 : INFO : PROGRESS: at 5.45% examples, 1041779 words/s, in_qsize 5, out_qsize 0\n",
      "2017-12-24 16:00:52,175 : INFO : PROGRESS: at 5.70% examples, 1043242 words/s, in_qsize 5, out_qsize 0\n",
      "2017-12-24 16:00:53,176 : INFO : PROGRESS: at 5.93% examples, 1042262 words/s, in_qsize 5, out_qsize 0\n",
      "2017-12-24 16:00:54,179 : INFO : PROGRESS: at 6.18% examples, 1044747 words/s, in_qsize 5, out_qsize 0\n",
      "2017-12-24 16:00:55,184 : INFO : PROGRESS: at 6.43% examples, 1047329 words/s, in_qsize 5, out_qsize 0\n",
      "2017-12-24 16:00:56,189 : INFO : PROGRESS: at 6.67% examples, 1045930 words/s, in_qsize 5, out_qsize 0\n",
      "2017-12-24 16:00:57,192 : INFO : PROGRESS: at 6.91% examples, 1046841 words/s, in_qsize 5, out_qsize 0\n",
      "2017-12-24 16:00:58,194 : INFO : PROGRESS: at 7.16% examples, 1048143 words/s, in_qsize 5, out_qsize 0\n",
      "2017-12-24 16:00:59,194 : INFO : PROGRESS: at 7.39% examples, 1047484 words/s, in_qsize 5, out_qsize 0\n",
      "2017-12-24 16:01:00,211 : INFO : PROGRESS: at 7.63% examples, 1046485 words/s, in_qsize 5, out_qsize 0\n",
      "2017-12-24 16:01:01,216 : INFO : PROGRESS: at 7.87% examples, 1047513 words/s, in_qsize 5, out_qsize 0\n",
      "2017-12-24 16:01:02,219 : INFO : PROGRESS: at 8.12% examples, 1048617 words/s, in_qsize 5, out_qsize 0\n",
      "2017-12-24 16:01:03,220 : INFO : PROGRESS: at 8.35% examples, 1048043 words/s, in_qsize 5, out_qsize 0\n",
      "2017-12-24 16:01:04,222 : INFO : PROGRESS: at 8.60% examples, 1048936 words/s, in_qsize 5, out_qsize 0\n",
      "2017-12-24 16:01:05,226 : INFO : PROGRESS: at 8.83% examples, 1048044 words/s, in_qsize 5, out_qsize 0\n",
      "2017-12-24 16:01:06,228 : INFO : PROGRESS: at 9.10% examples, 1060471 words/s, in_qsize 5, out_qsize 0\n",
      "2017-12-24 16:01:07,231 : INFO : PROGRESS: at 9.34% examples, 1060246 words/s, in_qsize 5, out_qsize 0\n",
      "2017-12-24 16:01:08,234 : INFO : PROGRESS: at 9.57% examples, 1059467 words/s, in_qsize 5, out_qsize 0\n",
      "2017-12-24 16:01:09,239 : INFO : PROGRESS: at 9.82% examples, 1059654 words/s, in_qsize 5, out_qsize 0\n",
      "2017-12-24 16:01:10,240 : INFO : PROGRESS: at 10.05% examples, 1059222 words/s, in_qsize 5, out_qsize 0\n",
      "2017-12-24 16:01:11,244 : INFO : PROGRESS: at 10.27% examples, 1057345 words/s, in_qsize 5, out_qsize 0\n",
      "2017-12-24 16:01:12,246 : INFO : PROGRESS: at 10.51% examples, 1057115 words/s, in_qsize 5, out_qsize 0\n",
      "2017-12-24 16:01:13,253 : INFO : PROGRESS: at 10.75% examples, 1056913 words/s, in_qsize 5, out_qsize 0\n",
      "2017-12-24 16:01:14,260 : INFO : PROGRESS: at 11.00% examples, 1057771 words/s, in_qsize 5, out_qsize 0\n",
      "2017-12-24 16:01:15,262 : INFO : PROGRESS: at 11.23% examples, 1057601 words/s, in_qsize 5, out_qsize 0\n",
      "2017-12-24 16:01:16,269 : INFO : PROGRESS: at 11.45% examples, 1055601 words/s, in_qsize 5, out_qsize 0\n",
      "2017-12-24 16:01:17,273 : INFO : PROGRESS: at 11.68% examples, 1054686 words/s, in_qsize 5, out_qsize 0\n",
      "2017-12-24 16:01:18,275 : INFO : PROGRESS: at 11.92% examples, 1054658 words/s, in_qsize 5, out_qsize 0\n",
      "2017-12-24 16:01:19,288 : INFO : PROGRESS: at 12.15% examples, 1054213 words/s, in_qsize 5, out_qsize 0\n",
      "2017-12-24 16:01:20,291 : INFO : PROGRESS: at 12.39% examples, 1054111 words/s, in_qsize 5, out_qsize 0\n",
      "2017-12-24 16:01:21,295 : INFO : PROGRESS: at 12.61% examples, 1052959 words/s, in_qsize 5, out_qsize 0\n",
      "2017-12-24 16:01:22,299 : INFO : PROGRESS: at 12.85% examples, 1052702 words/s, in_qsize 5, out_qsize 0\n",
      "2017-12-24 16:01:23,305 : INFO : PROGRESS: at 13.09% examples, 1052488 words/s, in_qsize 5, out_qsize 0\n",
      "2017-12-24 16:01:24,312 : INFO : PROGRESS: at 13.33% examples, 1052743 words/s, in_qsize 5, out_qsize 0\n",
      "2017-12-24 16:01:25,319 : INFO : PROGRESS: at 13.57% examples, 1052891 words/s, in_qsize 5, out_qsize 0\n",
      "2017-12-24 16:01:26,322 : INFO : PROGRESS: at 13.80% examples, 1052449 words/s, in_qsize 5, out_qsize 0\n",
      "2017-12-24 16:01:27,323 : INFO : PROGRESS: at 14.03% examples, 1051857 words/s, in_qsize 5, out_qsize 0\n",
      "2017-12-24 16:01:28,325 : INFO : PROGRESS: at 14.27% examples, 1052081 words/s, in_qsize 5, out_qsize 0\n",
      "2017-12-24 16:01:29,332 : INFO : PROGRESS: at 14.51% examples, 1051688 words/s, in_qsize 5, out_qsize 0\n",
      "2017-12-24 16:01:30,338 : INFO : PROGRESS: at 14.75% examples, 1051687 words/s, in_qsize 5, out_qsize 0\n",
      "2017-12-24 16:01:31,340 : INFO : PROGRESS: at 14.98% examples, 1051507 words/s, in_qsize 5, out_qsize 0\n",
      "2017-12-24 16:01:32,345 : INFO : PROGRESS: at 15.22% examples, 1051302 words/s, in_qsize 5, out_qsize 0\n",
      "2017-12-24 16:01:33,350 : INFO : PROGRESS: at 15.45% examples, 1051020 words/s, in_qsize 5, out_qsize 0\n",
      "2017-12-24 16:01:34,352 : INFO : PROGRESS: at 15.69% examples, 1050813 words/s, in_qsize 5, out_qsize 0\n"
     ]
    },
    {
     "name": "stderr",
     "output_type": "stream",
     "text": [
      "2017-12-24 16:01:35,359 : INFO : PROGRESS: at 15.92% examples, 1050381 words/s, in_qsize 5, out_qsize 0\n",
      "2017-12-24 16:01:36,365 : INFO : PROGRESS: at 16.13% examples, 1049025 words/s, in_qsize 5, out_qsize 0\n",
      "2017-12-24 16:01:37,372 : INFO : PROGRESS: at 16.35% examples, 1047595 words/s, in_qsize 5, out_qsize 0\n",
      "2017-12-24 16:01:38,374 : INFO : PROGRESS: at 16.58% examples, 1047313 words/s, in_qsize 5, out_qsize 0\n",
      "2017-12-24 16:01:39,384 : INFO : PROGRESS: at 16.83% examples, 1047815 words/s, in_qsize 5, out_qsize 0\n",
      "2017-12-24 16:01:40,392 : INFO : PROGRESS: at 17.06% examples, 1047428 words/s, in_qsize 4, out_qsize 1\n",
      "2017-12-24 16:01:41,414 : INFO : PROGRESS: at 17.28% examples, 1045909 words/s, in_qsize 5, out_qsize 1\n",
      "2017-12-24 16:01:42,418 : INFO : PROGRESS: at 17.50% examples, 1045356 words/s, in_qsize 5, out_qsize 0\n",
      "2017-12-24 16:01:43,422 : INFO : PROGRESS: at 17.74% examples, 1045483 words/s, in_qsize 5, out_qsize 0\n",
      "2017-12-24 16:01:44,427 : INFO : PROGRESS: at 17.98% examples, 1045434 words/s, in_qsize 5, out_qsize 0\n",
      "2017-12-24 16:01:45,444 : INFO : PROGRESS: at 18.20% examples, 1044595 words/s, in_qsize 6, out_qsize 0\n",
      "2017-12-24 16:01:46,445 : INFO : PROGRESS: at 18.43% examples, 1044283 words/s, in_qsize 5, out_qsize 0\n",
      "2017-12-24 16:01:47,449 : INFO : PROGRESS: at 18.66% examples, 1043838 words/s, in_qsize 5, out_qsize 0\n",
      "2017-12-24 16:01:48,450 : INFO : PROGRESS: at 18.91% examples, 1044424 words/s, in_qsize 5, out_qsize 0\n",
      "2017-12-24 16:01:49,459 : INFO : PROGRESS: at 19.13% examples, 1043684 words/s, in_qsize 4, out_qsize 1\n",
      "2017-12-24 16:01:50,462 : INFO : PROGRESS: at 19.36% examples, 1043221 words/s, in_qsize 5, out_qsize 0\n",
      "2017-12-24 16:01:51,470 : INFO : PROGRESS: at 19.59% examples, 1043279 words/s, in_qsize 5, out_qsize 0\n",
      "2017-12-24 16:01:52,470 : INFO : PROGRESS: at 19.82% examples, 1042971 words/s, in_qsize 5, out_qsize 0\n",
      "2017-12-24 16:01:53,478 : INFO : PROGRESS: at 20.05% examples, 1042806 words/s, in_qsize 5, out_qsize 0\n",
      "2017-12-24 16:01:54,484 : INFO : PROGRESS: at 20.32% examples, 1045332 words/s, in_qsize 5, out_qsize 0\n",
      "2017-12-24 16:01:55,489 : INFO : PROGRESS: at 20.57% examples, 1045744 words/s, in_qsize 5, out_qsize 0\n",
      "2017-12-24 16:01:56,490 : INFO : PROGRESS: at 20.83% examples, 1047557 words/s, in_qsize 5, out_qsize 0\n",
      "2017-12-24 16:01:57,490 : INFO : PROGRESS: at 21.08% examples, 1048066 words/s, in_qsize 5, out_qsize 0\n",
      "2017-12-24 16:01:58,494 : INFO : PROGRESS: at 21.31% examples, 1047899 words/s, in_qsize 5, out_qsize 0\n",
      "2017-12-24 16:01:59,498 : INFO : PROGRESS: at 21.54% examples, 1047365 words/s, in_qsize 5, out_qsize 0\n",
      "2017-12-24 16:02:00,500 : INFO : PROGRESS: at 21.78% examples, 1046788 words/s, in_qsize 5, out_qsize 0\n",
      "2017-12-24 16:02:01,505 : INFO : PROGRESS: at 22.05% examples, 1047796 words/s, in_qsize 5, out_qsize 0\n",
      "2017-12-24 16:02:02,507 : INFO : PROGRESS: at 22.29% examples, 1047833 words/s, in_qsize 5, out_qsize 0\n",
      "2017-12-24 16:02:03,512 : INFO : PROGRESS: at 22.54% examples, 1047631 words/s, in_qsize 5, out_qsize 0\n",
      "2017-12-24 16:02:04,516 : INFO : PROGRESS: at 22.77% examples, 1047331 words/s, in_qsize 5, out_qsize 0\n",
      "2017-12-24 16:02:05,516 : INFO : PROGRESS: at 22.99% examples, 1046636 words/s, in_qsize 4, out_qsize 1\n",
      "2017-12-24 16:02:06,518 : INFO : PROGRESS: at 23.22% examples, 1046475 words/s, in_qsize 5, out_qsize 0\n",
      "2017-12-24 16:02:07,524 : INFO : PROGRESS: at 23.45% examples, 1045970 words/s, in_qsize 5, out_qsize 0\n",
      "2017-12-24 16:02:08,525 : INFO : PROGRESS: at 23.68% examples, 1045761 words/s, in_qsize 4, out_qsize 1\n",
      "2017-12-24 16:02:09,526 : INFO : PROGRESS: at 23.92% examples, 1045542 words/s, in_qsize 5, out_qsize 0\n",
      "2017-12-24 16:02:10,527 : INFO : PROGRESS: at 24.15% examples, 1045449 words/s, in_qsize 5, out_qsize 0\n",
      "2017-12-24 16:02:11,530 : INFO : PROGRESS: at 24.38% examples, 1045078 words/s, in_qsize 5, out_qsize 0\n",
      "2017-12-24 16:02:12,534 : INFO : PROGRESS: at 24.62% examples, 1045241 words/s, in_qsize 5, out_qsize 0\n",
      "2017-12-24 16:02:13,540 : INFO : PROGRESS: at 24.86% examples, 1045380 words/s, in_qsize 5, out_qsize 0\n",
      "2017-12-24 16:02:14,546 : INFO : PROGRESS: at 25.09% examples, 1045159 words/s, in_qsize 5, out_qsize 0\n",
      "2017-12-24 16:02:15,547 : INFO : PROGRESS: at 25.32% examples, 1044892 words/s, in_qsize 5, out_qsize 0\n",
      "2017-12-24 16:02:16,548 : INFO : PROGRESS: at 25.54% examples, 1044157 words/s, in_qsize 5, out_qsize 0\n",
      "2017-12-24 16:02:17,554 : INFO : PROGRESS: at 25.78% examples, 1044026 words/s, in_qsize 5, out_qsize 0\n",
      "2017-12-24 16:02:18,559 : INFO : PROGRESS: at 26.02% examples, 1044294 words/s, in_qsize 5, out_qsize 0\n",
      "2017-12-24 16:02:19,561 : INFO : PROGRESS: at 26.24% examples, 1043722 words/s, in_qsize 5, out_qsize 0\n",
      "2017-12-24 16:02:20,565 : INFO : PROGRESS: at 26.47% examples, 1043141 words/s, in_qsize 5, out_qsize 0\n",
      "2017-12-24 16:02:21,570 : INFO : PROGRESS: at 26.70% examples, 1043014 words/s, in_qsize 5, out_qsize 0\n",
      "2017-12-24 16:02:22,573 : INFO : PROGRESS: at 26.93% examples, 1042644 words/s, in_qsize 5, out_qsize 0\n",
      "2017-12-24 16:02:23,579 : INFO : PROGRESS: at 27.18% examples, 1042910 words/s, in_qsize 5, out_qsize 0\n",
      "2017-12-24 16:02:24,580 : INFO : PROGRESS: at 27.40% examples, 1042457 words/s, in_qsize 5, out_qsize 0\n",
      "2017-12-24 16:02:25,580 : INFO : PROGRESS: at 27.65% examples, 1042688 words/s, in_qsize 5, out_qsize 0\n",
      "2017-12-24 16:02:26,581 : INFO : PROGRESS: at 27.87% examples, 1042148 words/s, in_qsize 5, out_qsize 0\n",
      "2017-12-24 16:02:27,587 : INFO : PROGRESS: at 28.10% examples, 1041982 words/s, in_qsize 5, out_qsize 0\n",
      "2017-12-24 16:02:28,589 : INFO : PROGRESS: at 28.35% examples, 1042295 words/s, in_qsize 5, out_qsize 0\n",
      "2017-12-24 16:02:29,598 : INFO : PROGRESS: at 28.58% examples, 1042172 words/s, in_qsize 5, out_qsize 0\n",
      "2017-12-24 16:02:30,599 : INFO : PROGRESS: at 28.81% examples, 1041868 words/s, in_qsize 5, out_qsize 0\n",
      "2017-12-24 16:02:31,605 : INFO : PROGRESS: at 29.08% examples, 1045690 words/s, in_qsize 5, out_qsize 0\n",
      "2017-12-24 16:02:32,610 : INFO : PROGRESS: at 29.31% examples, 1045518 words/s, in_qsize 5, out_qsize 0\n",
      "2017-12-24 16:02:33,611 : INFO : PROGRESS: at 29.55% examples, 1045574 words/s, in_qsize 5, out_qsize 0\n",
      "2017-12-24 16:02:34,613 : INFO : PROGRESS: at 29.78% examples, 1045354 words/s, in_qsize 5, out_qsize 0\n",
      "2017-12-24 16:02:35,615 : INFO : PROGRESS: at 30.01% examples, 1045126 words/s, in_qsize 5, out_qsize 0\n",
      "2017-12-24 16:02:36,615 : INFO : PROGRESS: at 30.24% examples, 1044996 words/s, in_qsize 5, out_qsize 0\n",
      "2017-12-24 16:02:37,622 : INFO : PROGRESS: at 30.48% examples, 1044851 words/s, in_qsize 5, out_qsize 0\n",
      "2017-12-24 16:02:38,624 : INFO : PROGRESS: at 30.70% examples, 1044445 words/s, in_qsize 5, out_qsize 0\n",
      "2017-12-24 16:02:39,628 : INFO : PROGRESS: at 30.94% examples, 1044455 words/s, in_qsize 5, out_qsize 0\n",
      "2017-12-24 16:02:40,632 : INFO : PROGRESS: at 31.17% examples, 1044207 words/s, in_qsize 5, out_qsize 0\n",
      "2017-12-24 16:02:41,638 : INFO : PROGRESS: at 31.40% examples, 1044213 words/s, in_qsize 5, out_qsize 0\n",
      "2017-12-24 16:02:42,644 : INFO : PROGRESS: at 31.64% examples, 1044169 words/s, in_qsize 5, out_qsize 0\n",
      "2017-12-24 16:02:43,648 : INFO : PROGRESS: at 31.89% examples, 1044555 words/s, in_qsize 5, out_qsize 0\n",
      "2017-12-24 16:02:44,664 : INFO : PROGRESS: at 32.13% examples, 1044552 words/s, in_qsize 4, out_qsize 1\n",
      "2017-12-24 16:02:45,670 : INFO : PROGRESS: at 32.35% examples, 1044339 words/s, in_qsize 5, out_qsize 0\n",
      "2017-12-24 16:02:46,675 : INFO : PROGRESS: at 32.59% examples, 1044336 words/s, in_qsize 5, out_qsize 0\n",
      "2017-12-24 16:02:47,677 : INFO : PROGRESS: at 32.82% examples, 1044096 words/s, in_qsize 5, out_qsize 0\n",
      "2017-12-24 16:02:48,682 : INFO : PROGRESS: at 33.06% examples, 1044088 words/s, in_qsize 5, out_qsize 0\n",
      "2017-12-24 16:02:49,689 : INFO : PROGRESS: at 33.29% examples, 1043806 words/s, in_qsize 5, out_qsize 0\n",
      "2017-12-24 16:02:50,692 : INFO : PROGRESS: at 33.52% examples, 1043696 words/s, in_qsize 5, out_qsize 0\n",
      "2017-12-24 16:02:51,697 : INFO : PROGRESS: at 33.75% examples, 1043659 words/s, in_qsize 5, out_qsize 0\n",
      "2017-12-24 16:02:52,707 : INFO : PROGRESS: at 33.98% examples, 1043266 words/s, in_qsize 5, out_qsize 0\n",
      "2017-12-24 16:02:53,713 : INFO : PROGRESS: at 34.23% examples, 1043794 words/s, in_qsize 5, out_qsize 0\n"
     ]
    },
    {
     "name": "stderr",
     "output_type": "stream",
     "text": [
      "2017-12-24 16:02:54,717 : INFO : PROGRESS: at 34.46% examples, 1043353 words/s, in_qsize 5, out_qsize 0\n",
      "2017-12-24 16:02:55,719 : INFO : PROGRESS: at 34.68% examples, 1042982 words/s, in_qsize 5, out_qsize 0\n",
      "2017-12-24 16:02:56,726 : INFO : PROGRESS: at 34.91% examples, 1042824 words/s, in_qsize 5, out_qsize 0\n",
      "2017-12-24 16:02:57,730 : INFO : PROGRESS: at 35.15% examples, 1042802 words/s, in_qsize 5, out_qsize 0\n",
      "2017-12-24 16:02:58,730 : INFO : PROGRESS: at 35.39% examples, 1042919 words/s, in_qsize 5, out_qsize 0\n",
      "2017-12-24 16:02:59,736 : INFO : PROGRESS: at 35.62% examples, 1042961 words/s, in_qsize 5, out_qsize 0\n",
      "2017-12-24 16:03:00,748 : INFO : PROGRESS: at 35.85% examples, 1042552 words/s, in_qsize 5, out_qsize 0\n",
      "2017-12-24 16:03:01,754 : INFO : PROGRESS: at 36.08% examples, 1042378 words/s, in_qsize 5, out_qsize 0\n",
      "2017-12-24 16:03:02,759 : INFO : PROGRESS: at 36.31% examples, 1042329 words/s, in_qsize 5, out_qsize 0\n",
      "2017-12-24 16:03:03,762 : INFO : PROGRESS: at 36.55% examples, 1042483 words/s, in_qsize 6, out_qsize 0\n",
      "2017-12-24 16:03:04,766 : INFO : PROGRESS: at 36.78% examples, 1042340 words/s, in_qsize 5, out_qsize 0\n",
      "2017-12-24 16:03:05,771 : INFO : PROGRESS: at 37.02% examples, 1042230 words/s, in_qsize 5, out_qsize 0\n",
      "2017-12-24 16:03:06,774 : INFO : PROGRESS: at 37.25% examples, 1042340 words/s, in_qsize 5, out_qsize 0\n",
      "2017-12-24 16:03:07,777 : INFO : PROGRESS: at 37.49% examples, 1042318 words/s, in_qsize 5, out_qsize 0\n",
      "2017-12-24 16:03:08,778 : INFO : PROGRESS: at 37.73% examples, 1042377 words/s, in_qsize 5, out_qsize 0\n",
      "2017-12-24 16:03:09,780 : INFO : PROGRESS: at 37.97% examples, 1042482 words/s, in_qsize 5, out_qsize 0\n",
      "2017-12-24 16:03:10,781 : INFO : PROGRESS: at 38.19% examples, 1042249 words/s, in_qsize 5, out_qsize 0\n",
      "2017-12-24 16:03:11,785 : INFO : PROGRESS: at 38.41% examples, 1041860 words/s, in_qsize 5, out_qsize 0\n",
      "2017-12-24 16:03:12,797 : INFO : PROGRESS: at 38.65% examples, 1041796 words/s, in_qsize 4, out_qsize 1\n",
      "2017-12-24 16:03:13,797 : INFO : PROGRESS: at 38.89% examples, 1041975 words/s, in_qsize 5, out_qsize 0\n",
      "2017-12-24 16:03:14,802 : INFO : PROGRESS: at 39.13% examples, 1042201 words/s, in_qsize 5, out_qsize 0\n",
      "2017-12-24 16:03:15,809 : INFO : PROGRESS: at 39.36% examples, 1042045 words/s, in_qsize 5, out_qsize 0\n",
      "2017-12-24 16:03:16,812 : INFO : PROGRESS: at 39.59% examples, 1041927 words/s, in_qsize 5, out_qsize 0\n",
      "2017-12-24 16:03:17,817 : INFO : PROGRESS: at 39.83% examples, 1042024 words/s, in_qsize 5, out_qsize 0\n",
      "2017-12-24 16:03:18,820 : INFO : PROGRESS: at 40.07% examples, 1042176 words/s, in_qsize 5, out_qsize 0\n",
      "2017-12-24 16:03:19,825 : INFO : PROGRESS: at 40.32% examples, 1042865 words/s, in_qsize 5, out_qsize 0\n",
      "2017-12-24 16:03:20,829 : INFO : PROGRESS: at 40.54% examples, 1042476 words/s, in_qsize 5, out_qsize 0\n",
      "2017-12-24 16:03:21,830 : INFO : PROGRESS: at 40.77% examples, 1042524 words/s, in_qsize 5, out_qsize 0\n",
      "2017-12-24 16:03:22,835 : INFO : PROGRESS: at 41.03% examples, 1043157 words/s, in_qsize 5, out_qsize 0\n",
      "2017-12-24 16:03:23,840 : INFO : PROGRESS: at 41.27% examples, 1043218 words/s, in_qsize 5, out_qsize 0\n",
      "2017-12-24 16:03:24,846 : INFO : PROGRESS: at 41.51% examples, 1043279 words/s, in_qsize 5, out_qsize 0\n",
      "2017-12-24 16:03:25,851 : INFO : PROGRESS: at 41.73% examples, 1042909 words/s, in_qsize 5, out_qsize 0\n",
      "2017-12-24 16:03:26,853 : INFO : PROGRESS: at 42.01% examples, 1043271 words/s, in_qsize 5, out_qsize 0\n",
      "2017-12-24 16:03:27,856 : INFO : PROGRESS: at 42.23% examples, 1042848 words/s, in_qsize 5, out_qsize 0\n",
      "2017-12-24 16:03:28,865 : INFO : PROGRESS: at 42.46% examples, 1042416 words/s, in_qsize 5, out_qsize 0\n",
      "2017-12-24 16:03:29,866 : INFO : PROGRESS: at 42.69% examples, 1042262 words/s, in_qsize 5, out_qsize 0\n",
      "2017-12-24 16:03:30,866 : INFO : PROGRESS: at 42.93% examples, 1042329 words/s, in_qsize 5, out_qsize 0\n",
      "2017-12-24 16:03:31,867 : INFO : PROGRESS: at 43.17% examples, 1042401 words/s, in_qsize 5, out_qsize 0\n",
      "2017-12-24 16:03:32,871 : INFO : PROGRESS: at 43.40% examples, 1042158 words/s, in_qsize 5, out_qsize 0\n",
      "2017-12-24 16:03:33,874 : INFO : PROGRESS: at 43.64% examples, 1042295 words/s, in_qsize 5, out_qsize 0\n",
      "2017-12-24 16:03:34,879 : INFO : PROGRESS: at 43.86% examples, 1042002 words/s, in_qsize 5, out_qsize 0\n",
      "2017-12-24 16:03:35,885 : INFO : PROGRESS: at 44.09% examples, 1041790 words/s, in_qsize 5, out_qsize 0\n",
      "2017-12-24 16:03:36,895 : INFO : PROGRESS: at 44.33% examples, 1041772 words/s, in_qsize 4, out_qsize 1\n",
      "2017-12-24 16:03:37,898 : INFO : PROGRESS: at 44.56% examples, 1041640 words/s, in_qsize 5, out_qsize 0\n",
      "2017-12-24 16:03:38,901 : INFO : PROGRESS: at 44.79% examples, 1041594 words/s, in_qsize 5, out_qsize 0\n",
      "2017-12-24 16:03:39,904 : INFO : PROGRESS: at 45.00% examples, 1040997 words/s, in_qsize 5, out_qsize 0\n",
      "2017-12-24 16:03:40,913 : INFO : PROGRESS: at 45.24% examples, 1040900 words/s, in_qsize 5, out_qsize 0\n",
      "2017-12-24 16:03:41,923 : INFO : PROGRESS: at 45.47% examples, 1040809 words/s, in_qsize 4, out_qsize 1\n",
      "2017-12-24 16:03:42,927 : INFO : PROGRESS: at 45.69% examples, 1040410 words/s, in_qsize 5, out_qsize 0\n",
      "2017-12-24 16:03:43,930 : INFO : PROGRESS: at 45.92% examples, 1040168 words/s, in_qsize 5, out_qsize 0\n",
      "2017-12-24 16:03:44,932 : INFO : PROGRESS: at 46.15% examples, 1040095 words/s, in_qsize 5, out_qsize 0\n",
      "2017-12-24 16:03:45,938 : INFO : PROGRESS: at 46.38% examples, 1039828 words/s, in_qsize 5, out_qsize 0\n",
      "2017-12-24 16:03:46,940 : INFO : PROGRESS: at 46.61% examples, 1039874 words/s, in_qsize 5, out_qsize 0\n",
      "2017-12-24 16:03:47,945 : INFO : PROGRESS: at 46.84% examples, 1039676 words/s, in_qsize 5, out_qsize 0\n",
      "2017-12-24 16:03:48,950 : INFO : PROGRESS: at 47.09% examples, 1039902 words/s, in_qsize 5, out_qsize 0\n",
      "2017-12-24 16:03:49,951 : INFO : PROGRESS: at 47.32% examples, 1039595 words/s, in_qsize 4, out_qsize 1\n",
      "2017-12-24 16:03:50,954 : INFO : PROGRESS: at 47.55% examples, 1039521 words/s, in_qsize 5, out_qsize 0\n",
      "2017-12-24 16:03:51,957 : INFO : PROGRESS: at 47.79% examples, 1039624 words/s, in_qsize 5, out_qsize 0\n",
      "2017-12-24 16:03:52,963 : INFO : PROGRESS: at 48.03% examples, 1039764 words/s, in_qsize 5, out_qsize 0\n",
      "2017-12-24 16:03:53,967 : INFO : PROGRESS: at 48.27% examples, 1039844 words/s, in_qsize 5, out_qsize 0\n",
      "2017-12-24 16:03:54,973 : INFO : PROGRESS: at 48.53% examples, 1040338 words/s, in_qsize 5, out_qsize 0\n",
      "2017-12-24 16:03:55,984 : INFO : PROGRESS: at 48.77% examples, 1040327 words/s, in_qsize 5, out_qsize 0\n",
      "2017-12-24 16:03:56,991 : INFO : PROGRESS: at 49.03% examples, 1042068 words/s, in_qsize 4, out_qsize 1\n",
      "2017-12-24 16:03:57,994 : INFO : PROGRESS: at 49.28% examples, 1042697 words/s, in_qsize 5, out_qsize 0\n",
      "2017-12-24 16:03:58,997 : INFO : PROGRESS: at 49.53% examples, 1042877 words/s, in_qsize 6, out_qsize 0\n",
      "2017-12-24 16:03:59,997 : INFO : PROGRESS: at 49.76% examples, 1042692 words/s, in_qsize 5, out_qsize 0\n",
      "2017-12-24 16:04:01,002 : INFO : PROGRESS: at 49.99% examples, 1042563 words/s, in_qsize 5, out_qsize 0\n",
      "2017-12-24 16:04:02,003 : INFO : PROGRESS: at 50.23% examples, 1042778 words/s, in_qsize 5, out_qsize 0\n",
      "2017-12-24 16:04:03,007 : INFO : PROGRESS: at 50.47% examples, 1042791 words/s, in_qsize 5, out_qsize 0\n",
      "2017-12-24 16:04:04,009 : INFO : PROGRESS: at 50.71% examples, 1042973 words/s, in_qsize 5, out_qsize 0\n",
      "2017-12-24 16:04:05,009 : INFO : PROGRESS: at 50.95% examples, 1043009 words/s, in_qsize 5, out_qsize 0\n",
      "2017-12-24 16:04:06,015 : INFO : PROGRESS: at 51.18% examples, 1042928 words/s, in_qsize 5, out_qsize 0\n",
      "2017-12-24 16:04:07,019 : INFO : PROGRESS: at 51.42% examples, 1043048 words/s, in_qsize 5, out_qsize 0\n",
      "2017-12-24 16:04:08,021 : INFO : PROGRESS: at 51.66% examples, 1043113 words/s, in_qsize 5, out_qsize 0\n",
      "2017-12-24 16:04:09,025 : INFO : PROGRESS: at 51.90% examples, 1043078 words/s, in_qsize 5, out_qsize 0\n",
      "2017-12-24 16:04:10,028 : INFO : PROGRESS: at 52.14% examples, 1043147 words/s, in_qsize 5, out_qsize 0\n",
      "2017-12-24 16:04:11,033 : INFO : PROGRESS: at 52.37% examples, 1043125 words/s, in_qsize 5, out_qsize 0\n",
      "2017-12-24 16:04:12,035 : INFO : PROGRESS: at 52.60% examples, 1043048 words/s, in_qsize 5, out_qsize 0\n",
      "2017-12-24 16:04:13,039 : INFO : PROGRESS: at 52.83% examples, 1042858 words/s, in_qsize 5, out_qsize 0\n"
     ]
    },
    {
     "name": "stderr",
     "output_type": "stream",
     "text": [
      "2017-12-24 16:04:14,046 : INFO : PROGRESS: at 53.08% examples, 1043046 words/s, in_qsize 5, out_qsize 0\n",
      "2017-12-24 16:04:15,047 : INFO : PROGRESS: at 53.29% examples, 1042676 words/s, in_qsize 5, out_qsize 0\n",
      "2017-12-24 16:04:16,047 : INFO : PROGRESS: at 53.52% examples, 1042524 words/s, in_qsize 5, out_qsize 0\n",
      "2017-12-24 16:04:17,051 : INFO : PROGRESS: at 53.75% examples, 1042480 words/s, in_qsize 5, out_qsize 0\n",
      "2017-12-24 16:04:18,052 : INFO : PROGRESS: at 53.99% examples, 1042436 words/s, in_qsize 4, out_qsize 1\n",
      "2017-12-24 16:04:19,055 : INFO : PROGRESS: at 54.23% examples, 1042492 words/s, in_qsize 5, out_qsize 0\n",
      "2017-12-24 16:04:20,060 : INFO : PROGRESS: at 54.44% examples, 1041989 words/s, in_qsize 5, out_qsize 0\n",
      "2017-12-24 16:04:21,063 : INFO : PROGRESS: at 54.66% examples, 1041686 words/s, in_qsize 5, out_qsize 0\n",
      "2017-12-24 16:04:22,064 : INFO : PROGRESS: at 54.89% examples, 1041554 words/s, in_qsize 5, out_qsize 0\n",
      "2017-12-24 16:04:23,070 : INFO : PROGRESS: at 55.11% examples, 1041377 words/s, in_qsize 5, out_qsize 0\n",
      "2017-12-24 16:04:24,071 : INFO : PROGRESS: at 55.35% examples, 1041424 words/s, in_qsize 5, out_qsize 0\n",
      "2017-12-24 16:04:25,077 : INFO : PROGRESS: at 55.59% examples, 1041453 words/s, in_qsize 5, out_qsize 0\n",
      "2017-12-24 16:04:26,083 : INFO : PROGRESS: at 55.83% examples, 1041480 words/s, in_qsize 5, out_qsize 0\n",
      "2017-12-24 16:04:27,089 : INFO : PROGRESS: at 56.05% examples, 1041279 words/s, in_qsize 5, out_qsize 0\n",
      "2017-12-24 16:04:28,091 : INFO : PROGRESS: at 56.29% examples, 1041393 words/s, in_qsize 5, out_qsize 0\n",
      "2017-12-24 16:04:29,094 : INFO : PROGRESS: at 56.53% examples, 1041462 words/s, in_qsize 5, out_qsize 0\n",
      "2017-12-24 16:04:30,096 : INFO : PROGRESS: at 56.76% examples, 1041446 words/s, in_qsize 5, out_qsize 0\n",
      "2017-12-24 16:04:31,109 : INFO : PROGRESS: at 57.00% examples, 1041344 words/s, in_qsize 4, out_qsize 1\n",
      "2017-12-24 16:04:32,109 : INFO : PROGRESS: at 57.22% examples, 1041174 words/s, in_qsize 6, out_qsize 0\n",
      "2017-12-24 16:04:33,111 : INFO : PROGRESS: at 57.45% examples, 1041043 words/s, in_qsize 6, out_qsize 0\n",
      "2017-12-24 16:04:34,114 : INFO : PROGRESS: at 57.69% examples, 1041140 words/s, in_qsize 6, out_qsize 0\n",
      "2017-12-24 16:04:35,115 : INFO : PROGRESS: at 57.92% examples, 1040982 words/s, in_qsize 5, out_qsize 0\n",
      "2017-12-24 16:04:36,120 : INFO : PROGRESS: at 58.14% examples, 1040816 words/s, in_qsize 5, out_qsize 0\n",
      "2017-12-24 16:04:37,125 : INFO : PROGRESS: at 58.38% examples, 1040866 words/s, in_qsize 5, out_qsize 0\n",
      "2017-12-24 16:04:38,127 : INFO : PROGRESS: at 58.62% examples, 1041025 words/s, in_qsize 5, out_qsize 0\n",
      "2017-12-24 16:04:39,130 : INFO : PROGRESS: at 58.87% examples, 1041283 words/s, in_qsize 5, out_qsize 0\n",
      "2017-12-24 16:04:40,133 : INFO : PROGRESS: at 59.11% examples, 1041255 words/s, in_qsize 4, out_qsize 1\n",
      "2017-12-24 16:04:41,141 : INFO : PROGRESS: at 59.31% examples, 1040646 words/s, in_qsize 5, out_qsize 0\n",
      "2017-12-24 16:04:42,145 : INFO : PROGRESS: at 59.55% examples, 1040681 words/s, in_qsize 5, out_qsize 0\n",
      "2017-12-24 16:04:43,149 : INFO : PROGRESS: at 59.79% examples, 1040787 words/s, in_qsize 5, out_qsize 0\n",
      "2017-12-24 16:04:44,154 : INFO : PROGRESS: at 60.03% examples, 1040829 words/s, in_qsize 5, out_qsize 0\n",
      "2017-12-24 16:04:45,162 : INFO : PROGRESS: at 60.29% examples, 1041615 words/s, in_qsize 5, out_qsize 0\n",
      "2017-12-24 16:04:46,164 : INFO : PROGRESS: at 60.53% examples, 1041654 words/s, in_qsize 5, out_qsize 0\n",
      "2017-12-24 16:04:47,165 : INFO : PROGRESS: at 60.77% examples, 1041771 words/s, in_qsize 5, out_qsize 0\n",
      "2017-12-24 16:04:48,167 : INFO : PROGRESS: at 61.04% examples, 1042507 words/s, in_qsize 5, out_qsize 0\n",
      "2017-12-24 16:04:49,175 : INFO : PROGRESS: at 61.27% examples, 1042372 words/s, in_qsize 4, out_qsize 1\n",
      "2017-12-24 16:04:50,181 : INFO : PROGRESS: at 61.49% examples, 1042074 words/s, in_qsize 4, out_qsize 1\n",
      "2017-12-24 16:04:51,181 : INFO : PROGRESS: at 61.71% examples, 1041952 words/s, in_qsize 5, out_qsize 0\n",
      "2017-12-24 16:04:52,184 : INFO : PROGRESS: at 61.99% examples, 1042199 words/s, in_qsize 5, out_qsize 0\n",
      "2017-12-24 16:04:53,189 : INFO : PROGRESS: at 62.23% examples, 1042230 words/s, in_qsize 5, out_qsize 0\n",
      "2017-12-24 16:04:54,190 : INFO : PROGRESS: at 62.47% examples, 1042082 words/s, in_qsize 5, out_qsize 0\n",
      "2017-12-24 16:04:55,197 : INFO : PROGRESS: at 62.72% examples, 1042234 words/s, in_qsize 5, out_qsize 0\n",
      "2017-12-24 16:04:56,198 : INFO : PROGRESS: at 62.95% examples, 1042189 words/s, in_qsize 5, out_qsize 0\n",
      "2017-12-24 16:04:57,204 : INFO : PROGRESS: at 63.18% examples, 1042077 words/s, in_qsize 5, out_qsize 0\n",
      "2017-12-24 16:04:58,209 : INFO : PROGRESS: at 63.41% examples, 1041998 words/s, in_qsize 5, out_qsize 0\n",
      "2017-12-24 16:04:59,212 : INFO : PROGRESS: at 63.66% examples, 1042092 words/s, in_qsize 4, out_qsize 1\n",
      "2017-12-24 16:05:00,213 : INFO : PROGRESS: at 63.88% examples, 1041828 words/s, in_qsize 5, out_qsize 1\n",
      "2017-12-24 16:05:01,219 : INFO : PROGRESS: at 64.11% examples, 1041788 words/s, in_qsize 5, out_qsize 0\n",
      "2017-12-24 16:05:02,225 : INFO : PROGRESS: at 64.36% examples, 1041929 words/s, in_qsize 6, out_qsize 0\n",
      "2017-12-24 16:05:03,230 : INFO : PROGRESS: at 64.60% examples, 1042047 words/s, in_qsize 5, out_qsize 0\n",
      "2017-12-24 16:05:04,235 : INFO : PROGRESS: at 64.84% examples, 1042005 words/s, in_qsize 5, out_qsize 0\n",
      "2017-12-24 16:05:05,235 : INFO : PROGRESS: at 65.06% examples, 1041845 words/s, in_qsize 5, out_qsize 0\n",
      "2017-12-24 16:05:06,243 : INFO : PROGRESS: at 65.29% examples, 1041723 words/s, in_qsize 4, out_qsize 1\n",
      "2017-12-24 16:05:07,244 : INFO : PROGRESS: at 65.52% examples, 1041536 words/s, in_qsize 5, out_qsize 0\n",
      "2017-12-24 16:05:08,251 : INFO : PROGRESS: at 65.73% examples, 1041229 words/s, in_qsize 4, out_qsize 1\n",
      "2017-12-24 16:05:09,251 : INFO : PROGRESS: at 65.98% examples, 1041331 words/s, in_qsize 5, out_qsize 0\n",
      "2017-12-24 16:05:10,257 : INFO : PROGRESS: at 66.22% examples, 1041392 words/s, in_qsize 5, out_qsize 0\n",
      "2017-12-24 16:05:11,262 : INFO : PROGRESS: at 66.44% examples, 1041147 words/s, in_qsize 5, out_qsize 0\n",
      "2017-12-24 16:05:12,267 : INFO : PROGRESS: at 66.68% examples, 1041162 words/s, in_qsize 5, out_qsize 0\n",
      "2017-12-24 16:05:13,270 : INFO : PROGRESS: at 66.92% examples, 1041231 words/s, in_qsize 5, out_qsize 0\n",
      "2017-12-24 16:05:14,272 : INFO : PROGRESS: at 67.16% examples, 1041274 words/s, in_qsize 5, out_qsize 0\n",
      "2017-12-24 16:05:15,276 : INFO : PROGRESS: at 67.40% examples, 1041267 words/s, in_qsize 5, out_qsize 0\n",
      "2017-12-24 16:05:16,278 : INFO : PROGRESS: at 67.63% examples, 1041099 words/s, in_qsize 5, out_qsize 0\n",
      "2017-12-24 16:05:17,281 : INFO : PROGRESS: at 67.86% examples, 1041138 words/s, in_qsize 5, out_qsize 0\n",
      "2017-12-24 16:05:18,281 : INFO : PROGRESS: at 68.10% examples, 1041144 words/s, in_qsize 5, out_qsize 0\n",
      "2017-12-24 16:05:19,282 : INFO : PROGRESS: at 68.33% examples, 1040972 words/s, in_qsize 5, out_qsize 0\n",
      "2017-12-24 16:05:20,286 : INFO : PROGRESS: at 68.55% examples, 1040860 words/s, in_qsize 5, out_qsize 0\n",
      "2017-12-24 16:05:21,299 : INFO : PROGRESS: at 68.75% examples, 1040254 words/s, in_qsize 4, out_qsize 1\n",
      "2017-12-24 16:05:22,300 : INFO : PROGRESS: at 69.02% examples, 1041472 words/s, in_qsize 5, out_qsize 0\n",
      "2017-12-24 16:05:23,306 : INFO : PROGRESS: at 69.26% examples, 1041853 words/s, in_qsize 5, out_qsize 0\n",
      "2017-12-24 16:05:24,306 : INFO : PROGRESS: at 69.49% examples, 1041814 words/s, in_qsize 5, out_qsize 0\n",
      "2017-12-24 16:05:25,308 : INFO : PROGRESS: at 69.74% examples, 1041907 words/s, in_qsize 5, out_qsize 0\n",
      "2017-12-24 16:05:26,314 : INFO : PROGRESS: at 69.97% examples, 1041813 words/s, in_qsize 5, out_qsize 0\n",
      "2017-12-24 16:05:27,317 : INFO : PROGRESS: at 70.20% examples, 1041859 words/s, in_qsize 5, out_qsize 0\n",
      "2017-12-24 16:05:28,320 : INFO : PROGRESS: at 70.45% examples, 1041962 words/s, in_qsize 5, out_qsize 0\n",
      "2017-12-24 16:05:29,322 : INFO : PROGRESS: at 70.69% examples, 1042030 words/s, in_qsize 5, out_qsize 0\n",
      "2017-12-24 16:05:30,328 : INFO : PROGRESS: at 70.93% examples, 1042139 words/s, in_qsize 5, out_qsize 0\n",
      "2017-12-24 16:05:31,335 : INFO : PROGRESS: at 71.16% examples, 1042058 words/s, in_qsize 5, out_qsize 0\n",
      "2017-12-24 16:05:32,337 : INFO : PROGRESS: at 71.40% examples, 1042026 words/s, in_qsize 5, out_qsize 0\n"
     ]
    },
    {
     "name": "stderr",
     "output_type": "stream",
     "text": [
      "2017-12-24 16:05:33,341 : INFO : PROGRESS: at 71.63% examples, 1042048 words/s, in_qsize 5, out_qsize 0\n",
      "2017-12-24 16:05:34,347 : INFO : PROGRESS: at 71.86% examples, 1041846 words/s, in_qsize 5, out_qsize 0\n",
      "2017-12-24 16:05:35,349 : INFO : PROGRESS: at 72.09% examples, 1041851 words/s, in_qsize 5, out_qsize 0\n",
      "2017-12-24 16:05:36,355 : INFO : PROGRESS: at 72.31% examples, 1041698 words/s, in_qsize 5, out_qsize 0\n",
      "2017-12-24 16:05:37,357 : INFO : PROGRESS: at 72.55% examples, 1041715 words/s, in_qsize 5, out_qsize 0\n",
      "2017-12-24 16:05:38,362 : INFO : PROGRESS: at 72.79% examples, 1041726 words/s, in_qsize 5, out_qsize 0\n",
      "2017-12-24 16:05:39,367 : INFO : PROGRESS: at 73.03% examples, 1041802 words/s, in_qsize 4, out_qsize 1\n",
      "2017-12-24 16:05:40,373 : INFO : PROGRESS: at 73.27% examples, 1041787 words/s, in_qsize 5, out_qsize 0\n",
      "2017-12-24 16:05:41,375 : INFO : PROGRESS: at 73.48% examples, 1041456 words/s, in_qsize 5, out_qsize 0\n",
      "2017-12-24 16:05:42,389 : INFO : PROGRESS: at 73.71% examples, 1041371 words/s, in_qsize 5, out_qsize 0\n",
      "2017-12-24 16:05:43,395 : INFO : PROGRESS: at 73.95% examples, 1041468 words/s, in_qsize 5, out_qsize 0\n",
      "2017-12-24 16:05:44,395 : INFO : PROGRESS: at 74.19% examples, 1041503 words/s, in_qsize 5, out_qsize 0\n",
      "2017-12-24 16:05:45,400 : INFO : PROGRESS: at 74.42% examples, 1041429 words/s, in_qsize 5, out_qsize 0\n",
      "2017-12-24 16:05:46,402 : INFO : PROGRESS: at 74.65% examples, 1041305 words/s, in_qsize 5, out_qsize 0\n",
      "2017-12-24 16:05:47,406 : INFO : PROGRESS: at 74.89% examples, 1041342 words/s, in_qsize 5, out_qsize 0\n",
      "2017-12-24 16:05:48,406 : INFO : PROGRESS: at 75.12% examples, 1041351 words/s, in_qsize 5, out_qsize 0\n",
      "2017-12-24 16:05:49,407 : INFO : PROGRESS: at 75.35% examples, 1041216 words/s, in_qsize 5, out_qsize 0\n",
      "2017-12-24 16:05:50,408 : INFO : PROGRESS: at 75.59% examples, 1041254 words/s, in_qsize 5, out_qsize 0\n",
      "2017-12-24 16:05:51,408 : INFO : PROGRESS: at 75.81% examples, 1041174 words/s, in_qsize 5, out_qsize 0\n",
      "2017-12-24 16:05:52,424 : INFO : PROGRESS: at 76.05% examples, 1041116 words/s, in_qsize 3, out_qsize 2\n",
      "2017-12-24 16:05:53,426 : INFO : PROGRESS: at 76.28% examples, 1041129 words/s, in_qsize 5, out_qsize 0\n",
      "2017-12-24 16:05:54,431 : INFO : PROGRESS: at 76.53% examples, 1041224 words/s, in_qsize 5, out_qsize 0\n",
      "2017-12-24 16:05:55,437 : INFO : PROGRESS: at 76.77% examples, 1041316 words/s, in_qsize 5, out_qsize 0\n",
      "2017-12-24 16:05:56,439 : INFO : PROGRESS: at 77.01% examples, 1041346 words/s, in_qsize 5, out_qsize 0\n",
      "2017-12-24 16:05:57,442 : INFO : PROGRESS: at 77.24% examples, 1041375 words/s, in_qsize 5, out_qsize 0\n",
      "2017-12-24 16:05:58,448 : INFO : PROGRESS: at 77.49% examples, 1041518 words/s, in_qsize 5, out_qsize 0\n",
      "2017-12-24 16:05:59,455 : INFO : PROGRESS: at 77.73% examples, 1041527 words/s, in_qsize 5, out_qsize 0\n",
      "2017-12-24 16:06:00,465 : INFO : PROGRESS: at 77.96% examples, 1041443 words/s, in_qsize 5, out_qsize 0\n",
      "2017-12-24 16:06:01,466 : INFO : PROGRESS: at 78.19% examples, 1041446 words/s, in_qsize 5, out_qsize 0\n",
      "2017-12-24 16:06:02,471 : INFO : PROGRESS: at 78.44% examples, 1041549 words/s, in_qsize 5, out_qsize 0\n",
      "2017-12-24 16:06:03,474 : INFO : PROGRESS: at 78.68% examples, 1041680 words/s, in_qsize 5, out_qsize 0\n",
      "2017-12-24 16:06:04,478 : INFO : PROGRESS: at 78.91% examples, 1041636 words/s, in_qsize 5, out_qsize 0\n",
      "2017-12-24 16:06:05,479 : INFO : PROGRESS: at 79.14% examples, 1041517 words/s, in_qsize 5, out_qsize 0\n",
      "2017-12-24 16:06:06,485 : INFO : PROGRESS: at 79.37% examples, 1041465 words/s, in_qsize 5, out_qsize 0\n",
      "2017-12-24 16:06:07,493 : INFO : PROGRESS: at 79.61% examples, 1041504 words/s, in_qsize 5, out_qsize 0\n",
      "2017-12-24 16:06:08,496 : INFO : PROGRESS: at 79.84% examples, 1041491 words/s, in_qsize 5, out_qsize 0\n",
      "2017-12-24 16:06:09,501 : INFO : PROGRESS: at 80.09% examples, 1041595 words/s, in_qsize 5, out_qsize 0\n",
      "2017-12-24 16:06:10,504 : INFO : PROGRESS: at 80.35% examples, 1042245 words/s, in_qsize 5, out_qsize 0\n",
      "2017-12-24 16:06:11,508 : INFO : PROGRESS: at 80.58% examples, 1042075 words/s, in_qsize 5, out_qsize 0\n",
      "2017-12-24 16:06:12,516 : INFO : PROGRESS: at 80.85% examples, 1042632 words/s, in_qsize 5, out_qsize 0\n",
      "2017-12-24 16:06:13,517 : INFO : PROGRESS: at 81.10% examples, 1042825 words/s, in_qsize 5, out_qsize 0\n",
      "2017-12-24 16:06:14,521 : INFO : PROGRESS: at 81.33% examples, 1042709 words/s, in_qsize 5, out_qsize 0\n",
      "2017-12-24 16:06:15,526 : INFO : PROGRESS: at 81.56% examples, 1042652 words/s, in_qsize 5, out_qsize 0\n",
      "2017-12-24 16:06:16,541 : INFO : PROGRESS: at 81.80% examples, 1042569 words/s, in_qsize 5, out_qsize 0\n",
      "2017-12-24 16:06:17,542 : INFO : PROGRESS: at 82.07% examples, 1042757 words/s, in_qsize 5, out_qsize 0\n",
      "2017-12-24 16:06:18,548 : INFO : PROGRESS: at 82.32% examples, 1042876 words/s, in_qsize 5, out_qsize 0\n",
      "2017-12-24 16:06:19,549 : INFO : PROGRESS: at 82.54% examples, 1042550 words/s, in_qsize 5, out_qsize 0\n",
      "2017-12-24 16:06:20,552 : INFO : PROGRESS: at 82.77% examples, 1042421 words/s, in_qsize 5, out_qsize 0\n",
      "2017-12-24 16:06:21,555 : INFO : PROGRESS: at 82.98% examples, 1042168 words/s, in_qsize 5, out_qsize 0\n",
      "2017-12-24 16:06:22,562 : INFO : PROGRESS: at 83.21% examples, 1042061 words/s, in_qsize 5, out_qsize 0\n",
      "2017-12-24 16:06:23,563 : INFO : PROGRESS: at 83.46% examples, 1042137 words/s, in_qsize 5, out_qsize 0\n",
      "2017-12-24 16:06:24,566 : INFO : PROGRESS: at 83.69% examples, 1042101 words/s, in_qsize 5, out_qsize 0\n",
      "2017-12-24 16:06:25,569 : INFO : PROGRESS: at 83.91% examples, 1041874 words/s, in_qsize 5, out_qsize 0\n",
      "2017-12-24 16:06:26,572 : INFO : PROGRESS: at 84.13% examples, 1041727 words/s, in_qsize 5, out_qsize 0\n",
      "2017-12-24 16:06:27,573 : INFO : PROGRESS: at 84.35% examples, 1041473 words/s, in_qsize 5, out_qsize 0\n",
      "2017-12-24 16:06:28,581 : INFO : PROGRESS: at 84.58% examples, 1041472 words/s, in_qsize 5, out_qsize 1\n",
      "2017-12-24 16:06:29,584 : INFO : PROGRESS: at 84.82% examples, 1041468 words/s, in_qsize 5, out_qsize 0\n",
      "2017-12-24 16:06:30,592 : INFO : PROGRESS: at 85.05% examples, 1041408 words/s, in_qsize 5, out_qsize 0\n",
      "2017-12-24 16:06:31,592 : INFO : PROGRESS: at 85.28% examples, 1041276 words/s, in_qsize 5, out_qsize 0\n",
      "2017-12-24 16:06:32,594 : INFO : PROGRESS: at 85.50% examples, 1041148 words/s, in_qsize 5, out_qsize 0\n",
      "2017-12-24 16:06:33,597 : INFO : PROGRESS: at 85.73% examples, 1041074 words/s, in_qsize 5, out_qsize 0\n",
      "2017-12-24 16:06:34,597 : INFO : PROGRESS: at 85.97% examples, 1041028 words/s, in_qsize 5, out_qsize 0\n",
      "2017-12-24 16:06:35,602 : INFO : PROGRESS: at 86.19% examples, 1040873 words/s, in_qsize 5, out_qsize 0\n",
      "2017-12-24 16:06:36,608 : INFO : PROGRESS: at 86.42% examples, 1040727 words/s, in_qsize 5, out_qsize 0\n",
      "2017-12-24 16:06:37,610 : INFO : PROGRESS: at 86.65% examples, 1040690 words/s, in_qsize 5, out_qsize 0\n",
      "2017-12-24 16:06:38,618 : INFO : PROGRESS: at 86.90% examples, 1040785 words/s, in_qsize 4, out_qsize 1\n",
      "2017-12-24 16:06:39,621 : INFO : PROGRESS: at 87.14% examples, 1040799 words/s, in_qsize 5, out_qsize 0\n",
      "2017-12-24 16:06:40,626 : INFO : PROGRESS: at 87.38% examples, 1040870 words/s, in_qsize 5, out_qsize 0\n",
      "2017-12-24 16:06:41,628 : INFO : PROGRESS: at 87.62% examples, 1040885 words/s, in_qsize 5, out_qsize 0\n",
      "2017-12-24 16:06:42,628 : INFO : PROGRESS: at 87.82% examples, 1040520 words/s, in_qsize 5, out_qsize 0\n",
      "2017-12-24 16:06:43,634 : INFO : PROGRESS: at 88.07% examples, 1040612 words/s, in_qsize 5, out_qsize 0\n",
      "2017-12-24 16:06:44,636 : INFO : PROGRESS: at 88.31% examples, 1040617 words/s, in_qsize 4, out_qsize 1\n",
      "2017-12-24 16:06:45,648 : INFO : PROGRESS: at 88.52% examples, 1040370 words/s, in_qsize 6, out_qsize 1\n",
      "2017-12-24 16:06:46,651 : INFO : PROGRESS: at 88.76% examples, 1040406 words/s, in_qsize 5, out_qsize 0\n",
      "2017-12-24 16:06:47,659 : INFO : PROGRESS: at 89.03% examples, 1041462 words/s, in_qsize 3, out_qsize 2\n",
      "2017-12-24 16:06:48,664 : INFO : PROGRESS: at 89.29% examples, 1041904 words/s, in_qsize 5, out_qsize 0\n",
      "2017-12-24 16:06:49,669 : INFO : PROGRESS: at 89.52% examples, 1041782 words/s, in_qsize 5, out_qsize 0\n",
      "2017-12-24 16:06:50,673 : INFO : PROGRESS: at 89.75% examples, 1041750 words/s, in_qsize 5, out_qsize 0\n",
      "2017-12-24 16:06:51,680 : INFO : PROGRESS: at 89.99% examples, 1041769 words/s, in_qsize 6, out_qsize 0\n"
     ]
    },
    {
     "name": "stderr",
     "output_type": "stream",
     "text": [
      "2017-12-24 16:06:52,685 : INFO : PROGRESS: at 90.23% examples, 1041839 words/s, in_qsize 5, out_qsize 0\n",
      "2017-12-24 16:06:53,692 : INFO : PROGRESS: at 90.49% examples, 1042056 words/s, in_qsize 5, out_qsize 0\n",
      "2017-12-24 16:06:54,698 : INFO : PROGRESS: at 90.74% examples, 1042229 words/s, in_qsize 5, out_qsize 0\n",
      "2017-12-24 16:06:55,701 : INFO : PROGRESS: at 90.98% examples, 1042224 words/s, in_qsize 5, out_qsize 0\n",
      "2017-12-24 16:06:56,702 : INFO : PROGRESS: at 91.22% examples, 1042311 words/s, in_qsize 5, out_qsize 0\n",
      "2017-12-24 16:06:57,703 : INFO : PROGRESS: at 91.46% examples, 1042371 words/s, in_qsize 5, out_qsize 0\n",
      "2017-12-24 16:06:58,711 : INFO : PROGRESS: at 91.71% examples, 1042490 words/s, in_qsize 5, out_qsize 0\n",
      "2017-12-24 16:06:59,717 : INFO : PROGRESS: at 91.94% examples, 1042508 words/s, in_qsize 5, out_qsize 0\n",
      "2017-12-24 16:07:00,720 : INFO : PROGRESS: at 92.18% examples, 1042492 words/s, in_qsize 5, out_qsize 0\n",
      "2017-12-24 16:07:01,722 : INFO : PROGRESS: at 92.42% examples, 1042565 words/s, in_qsize 5, out_qsize 0\n",
      "2017-12-24 16:07:02,729 : INFO : PROGRESS: at 92.66% examples, 1042579 words/s, in_qsize 5, out_qsize 0\n",
      "2017-12-24 16:07:03,736 : INFO : PROGRESS: at 92.91% examples, 1042715 words/s, in_qsize 5, out_qsize 0\n",
      "2017-12-24 16:07:04,741 : INFO : PROGRESS: at 93.14% examples, 1042717 words/s, in_qsize 5, out_qsize 0\n",
      "2017-12-24 16:07:05,742 : INFO : PROGRESS: at 93.36% examples, 1042547 words/s, in_qsize 5, out_qsize 0\n",
      "2017-12-24 16:07:06,747 : INFO : PROGRESS: at 93.60% examples, 1042578 words/s, in_qsize 5, out_qsize 0\n",
      "2017-12-24 16:07:07,753 : INFO : PROGRESS: at 93.84% examples, 1042571 words/s, in_qsize 5, out_qsize 0\n",
      "2017-12-24 16:07:08,758 : INFO : PROGRESS: at 94.08% examples, 1042606 words/s, in_qsize 5, out_qsize 0\n",
      "2017-12-24 16:07:09,763 : INFO : PROGRESS: at 94.30% examples, 1042488 words/s, in_qsize 4, out_qsize 1\n",
      "2017-12-24 16:07:10,767 : INFO : PROGRESS: at 94.54% examples, 1042478 words/s, in_qsize 5, out_qsize 0\n",
      "2017-12-24 16:07:11,768 : INFO : PROGRESS: at 94.77% examples, 1042381 words/s, in_qsize 5, out_qsize 0\n",
      "2017-12-24 16:07:12,780 : INFO : PROGRESS: at 95.00% examples, 1042351 words/s, in_qsize 5, out_qsize 0\n",
      "2017-12-24 16:07:13,786 : INFO : PROGRESS: at 95.25% examples, 1042432 words/s, in_qsize 5, out_qsize 0\n",
      "2017-12-24 16:07:14,788 : INFO : PROGRESS: at 95.48% examples, 1042454 words/s, in_qsize 5, out_qsize 0\n",
      "2017-12-24 16:07:15,791 : INFO : PROGRESS: at 95.71% examples, 1042405 words/s, in_qsize 5, out_qsize 0\n",
      "2017-12-24 16:07:16,794 : INFO : PROGRESS: at 95.94% examples, 1042324 words/s, in_qsize 5, out_qsize 0\n",
      "2017-12-24 16:07:17,800 : INFO : PROGRESS: at 96.18% examples, 1042302 words/s, in_qsize 5, out_qsize 0\n",
      "2017-12-24 16:07:18,807 : INFO : PROGRESS: at 96.42% examples, 1042370 words/s, in_qsize 5, out_qsize 0\n",
      "2017-12-24 16:07:19,811 : INFO : PROGRESS: at 96.65% examples, 1042260 words/s, in_qsize 5, out_qsize 0\n",
      "2017-12-24 16:07:20,818 : INFO : PROGRESS: at 96.87% examples, 1042125 words/s, in_qsize 5, out_qsize 0\n",
      "2017-12-24 16:07:21,826 : INFO : PROGRESS: at 97.10% examples, 1042096 words/s, in_qsize 5, out_qsize 0\n",
      "2017-12-24 16:07:22,828 : INFO : PROGRESS: at 97.33% examples, 1042035 words/s, in_qsize 5, out_qsize 0\n",
      "2017-12-24 16:07:23,831 : INFO : PROGRESS: at 97.57% examples, 1042108 words/s, in_qsize 5, out_qsize 0\n",
      "2017-12-24 16:07:24,838 : INFO : PROGRESS: at 97.81% examples, 1042102 words/s, in_qsize 5, out_qsize 0\n",
      "2017-12-24 16:07:25,843 : INFO : PROGRESS: at 98.04% examples, 1042048 words/s, in_qsize 5, out_qsize 0\n",
      "2017-12-24 16:07:26,845 : INFO : PROGRESS: at 98.27% examples, 1041989 words/s, in_qsize 5, out_qsize 0\n",
      "2017-12-24 16:07:27,846 : INFO : PROGRESS: at 98.50% examples, 1041895 words/s, in_qsize 5, out_qsize 0\n",
      "2017-12-24 16:07:28,852 : INFO : PROGRESS: at 98.74% examples, 1041957 words/s, in_qsize 5, out_qsize 0\n",
      "2017-12-24 16:07:29,862 : INFO : PROGRESS: at 98.98% examples, 1042052 words/s, in_qsize 5, out_qsize 0\n",
      "2017-12-24 16:07:30,865 : INFO : PROGRESS: at 99.22% examples, 1042077 words/s, in_qsize 5, out_qsize 0\n",
      "2017-12-24 16:07:31,866 : INFO : PROGRESS: at 99.44% examples, 1041961 words/s, in_qsize 5, out_qsize 0\n",
      "2017-12-24 16:07:32,866 : INFO : PROGRESS: at 99.68% examples, 1041921 words/s, in_qsize 5, out_qsize 0\n",
      "2017-12-24 16:07:33,870 : INFO : PROGRESS: at 99.91% examples, 1041874 words/s, in_qsize 4, out_qsize 1\n",
      "2017-12-24 16:07:34,247 : INFO : worker thread finished; awaiting finish of 2 more threads\n",
      "2017-12-24 16:07:34,249 : INFO : worker thread finished; awaiting finish of 1 more threads\n",
      "2017-12-24 16:07:34,254 : INFO : worker thread finished; awaiting finish of 0 more threads\n",
      "2017-12-24 16:07:34,255 : INFO : training on 585369560 raw words (444036021 effective words) took 426.2s, 1041904 effective words/s\n",
      "2017-12-24 16:07:34,257 : INFO : saving Word2Vec object under ../data/corpusModel.bin, separately None\n",
      "2017-12-24 16:07:34,258 : INFO : not storing attribute syn0norm\n",
      "2017-12-24 16:07:34,259 : INFO : not storing attribute cum_table\n",
      "2017-12-24 16:07:34,778 : INFO : saved ../data/corpusModel.bin\n"
     ]
    }
   ],
   "source": [
    "\n",
    "def vec():\n",
    "\n",
    "    logging.basicConfig(format='%(asctime)s : %(levelname)s : %(message)s', level=logging.INFO)\n",
    "    sentences = word2vec.Text8Corpus(\"../data/corpusSegDone.txt\")\n",
    "    model = word2vec.Word2Vec(sentences, size = 10)\n",
    "\n",
    "    # Save our model.\n",
    "    model.save(\"../data/corpusModel.bin\")\n",
    "\n",
    "    # To load a model.\n",
    "    # model = word2vec.Word2Vec.load(\"your_model.bin\")\n",
    "    \n",
    "vec()"
   ]
  },
  {
   "cell_type": "code",
   "execution_count": 8,
   "metadata": {},
   "outputs": [],
   "source": [
    "model = word2vec.Word2Vec.load(\"../data/corpusModel.bin\")"
   ]
  },
  {
   "cell_type": "code",
   "execution_count": 9,
   "metadata": {},
   "outputs": [
    {
     "data": {
      "text/plain": [
       "array([ 4.93107128,  1.21990347, -4.14288187,  2.31684399, -0.4441478 ,\n",
       "       -1.21744585, -3.93405676, -5.17406654, -1.86051655, -1.93497562], dtype=float32)"
      ]
     },
     "execution_count": 9,
     "metadata": {},
     "output_type": "execute_result"
    }
   ],
   "source": [
    "model.wv['電腦']"
   ]
  },
  {
   "cell_type": "markdown",
   "metadata": {},
   "source": [
    "## 設定停用詞"
   ]
  },
  {
   "cell_type": "code",
   "execution_count": 10,
   "metadata": {},
   "outputs": [],
   "source": [
    "import jieba\n",
    "import jieba.posseg as pseg\n",
    "import jieba.analyse\n",
    "\n",
    "stopwordset = set()\n",
    "with open('jieba_txt/stop_words.txt','r',encoding='utf-8') as sw:\n",
    "    for line in sw:\n",
    "        stopwordset.add(line.strip('\\n'))\n",
    "        \n",
    "chars = set(' abcdefghijklmnopqrstuvwxyz0123456789()?@？!$,~:.。，-_&=/􀆿\\r\\n')\n",
    "for c in chars:\n",
    "    stopwordset.add(c)"
   ]
  },
  {
   "cell_type": "code",
   "execution_count": 11,
   "metadata": {},
   "outputs": [
    {
     "data": {
      "text/plain": [
       "52703"
      ]
     },
     "execution_count": 11,
     "metadata": {},
     "output_type": "execute_result"
    }
   ],
   "source": [
    "length = len(grouped_data)\n",
    "length"
   ]
  },
  {
   "cell_type": "code",
   "execution_count": 12,
   "metadata": {},
   "outputs": [
    {
     "name": "stderr",
     "output_type": "stream",
     "text": [
      "Building prefix dict from /home/tp6han/gp_new/jieba_txt/dict.txt.big.txt ...\n",
      "Loading model from cache /tmp/jieba.u0ddb98113e9461fac3a7658d9e24e45e.cache\n",
      "Loading model cost 1.458 seconds.\n",
      "Prefix dict has been built succesfully.\n"
     ]
    },
    {
     "name": "stdout",
     "output_type": "stream",
     "text": [
      "0\n",
      "1000\n",
      "2000\n",
      "3000\n",
      "4000\n",
      "5000\n",
      "6000\n",
      "7000\n",
      "8000\n",
      "9000\n",
      "10000\n",
      "11000\n",
      "12000\n",
      "13000\n",
      "14000\n",
      "15000\n",
      "16000\n",
      "17000\n",
      "18000\n",
      "19000\n",
      "20000\n",
      "21000\n",
      "22000\n",
      "23000\n",
      "24000\n",
      "25000\n",
      "26000\n",
      "27000\n",
      "28000\n",
      "29000\n",
      "30000\n",
      "31000\n",
      "32000\n",
      "33000\n",
      "34000\n",
      "35000\n",
      "36000\n",
      "37000\n",
      "38000\n",
      "39000\n",
      "40000\n",
      "41000\n",
      "42000\n",
      "43000\n",
      "44000\n",
      "45000\n",
      "46000\n",
      "47000\n",
      "48000\n",
      "49000\n",
      "50000\n",
      "51000\n",
      "52000\n"
     ]
    }
   ],
   "source": [
    "top10_vector = np.zeros(shape=(length,10))\n",
    "jieba.set_dictionary('jieba_txt/dict.txt.big.txt')\n",
    "jieba.load_userdict(\"jieba_txt/userdict.txt\")\n",
    "\n",
    "for i in range(length):\n",
    "    frequency = defaultdict(int)\n",
    "    for j in range(len(grouped_data.iloc[i][1])):\n",
    "        seglist = jieba.cut((grouped_data.iloc[i][1])[j])\n",
    "        texts = [word for word in seglist if word not in stopwordset]\n",
    "        for text in texts:\n",
    "            frequency[text] += 1\n",
    "            \n",
    "    a = sorted(frequency.items(), key=operator.itemgetter(1),reverse=True)\n",
    "    row = np.zeros(shape=(1,10))\n",
    "    vec = np.zeros(shape=(10,10))\n",
    "\n",
    "    r = 10 if len(a) >= 10 else len(a)\n",
    "    if i%1000 == 0:\n",
    "        print(i)\n",
    "    for x in range(r):\n",
    "        if a[x][0] in model:\n",
    "            show = model.wv[a[x][0]]\n",
    "        else:\n",
    "            show = np.zeros(shape=(1,10))\n",
    "        vec[x] = show\n",
    "    top10_vector[i] = np.sum(vec,axis=0)\n",
    "    "
   ]
  },
  {
   "cell_type": "code",
   "execution_count": 13,
   "metadata": {},
   "outputs": [
    {
     "data": {
      "text/plain": [
       "(52703, 10)"
      ]
     },
     "execution_count": 13,
     "metadata": {},
     "output_type": "execute_result"
    }
   ],
   "source": [
    "top10_vector.shape"
   ]
  },
  {
   "cell_type": "code",
   "execution_count": 14,
   "metadata": {},
   "outputs": [
    {
     "data": {
      "text/plain": [
       "array([  6.84630519,  -7.84967482,  11.77980614,   1.40736103,\n",
       "         2.15270317,   2.61053348,   2.80388796,  -4.46690598,\n",
       "         3.03244591,  -0.15954316])"
      ]
     },
     "execution_count": 14,
     "metadata": {},
     "output_type": "execute_result"
    }
   ],
   "source": [
    "top10_vector[1]"
   ]
  },
  {
   "cell_type": "code",
   "execution_count": 18,
   "metadata": {},
   "outputs": [
    {
     "name": "stdout",
     "output_type": "stream",
     "text": [
      "[[ -1.40944734e-01  -1.04721233e-01  -1.30847320e-01  -4.58314344e-02\n",
      "    3.48807909e-02  -4.29059327e-01  -4.92357947e-02  -9.93256196e-02\n",
      "    4.08469677e-01   1.80444345e-02]\n",
      " [  6.84630519e+00  -7.84967482e+00   1.17798061e+01   1.40736103e+00\n",
      "    2.15270317e+00   2.61053348e+00   2.80388796e+00  -4.46690598e+00\n",
      "    3.03244591e+00  -1.59543157e-01]\n",
      " [  2.36286393e+01  -1.54556113e+01   1.11386906e+01  -1.49006128e+01\n",
      "    1.51330800e+01   1.12599715e+01   1.05354523e+01  -3.19721418e+01\n",
      "   -7.51116979e+00   3.33538285e+00]\n",
      " [  0.00000000e+00   0.00000000e+00   0.00000000e+00   0.00000000e+00\n",
      "    0.00000000e+00   0.00000000e+00   0.00000000e+00   0.00000000e+00\n",
      "    0.00000000e+00   0.00000000e+00]\n",
      " [  7.32677031e+00   1.52461886e-01   2.38706040e+00   3.13187870e+00\n",
      "    1.14593681e+01   5.57066858e-01   1.21897294e+01  -9.66540813e-01\n",
      "   -1.54965734e+01   5.91096795e+00]\n",
      " [  1.46921320e+01  -1.10506165e+01   1.33400631e+01  -1.75319932e+01\n",
      "   -2.64263609e+00  -3.47371525e+00   3.70159715e-01  -8.95175976e+00\n",
      "    1.45107668e+00  -2.55793974e+00]\n",
      " [  3.73951854e+01  -1.80380047e+01   1.58235451e+01  -3.11918917e+01\n",
      "    2.50110569e+01   7.10348388e+00   1.21234483e+01  -2.81124649e+01\n",
      "   -1.20642924e+01  -4.84704009e+00]\n",
      " [  1.38849891e+01  -1.68187854e+01   6.07747102e+00  -5.18019134e+00\n",
      "    2.15962950e+00   1.87994633e+00   1.89576718e+00  -7.32976788e+00\n",
      "   -6.20123380e+00   3.95853335e+00]\n",
      " [  2.92837074e+01  -2.90782446e+01  -7.63698445e+00   4.84242886e-01\n",
      "    1.33874157e+01   1.08264816e+01   2.23709590e+01  -4.81983018e+00\n",
      "   -2.82651657e+01   1.10171388e+00]\n",
      " [ -1.63719041e+01  -6.07885212e+00   1.24409063e+01   1.09199666e+01\n",
      "   -1.53117394e+01   1.27255938e+01   2.12572185e+01  -1.94431549e+01\n",
      "    1.06556719e+01   6.54464760e+00]]\n"
     ]
    }
   ],
   "source": [
    "print(top10_vector[:10])\n"
   ]
  },
  {
   "cell_type": "code",
   "execution_count": 19,
   "metadata": {},
   "outputs": [
    {
     "data": {
      "text/plain": [
       "11708"
      ]
     },
     "execution_count": 19,
     "metadata": {},
     "output_type": "execute_result"
    }
   ],
   "source": [
    "model.corpus_count"
   ]
  },
  {
   "cell_type": "code",
   "execution_count": 20,
   "metadata": {},
   "outputs": [
    {
     "name": "stdout",
     "output_type": "stream",
     "text": [
      "分群結果 前10：\n",
      "[0 0 2 0 0 0 1 0 2 0]\n",
      "---\n"
     ]
    }
   ],
   "source": [
    "from sklearn import cluster, datasets\n",
    "\n",
    "# KMeans 演算法\n",
    "kmeans_fit = cluster.KMeans(n_clusters = 3,random_state=1170).fit(top10_vector)\n",
    "\n",
    "# 印出分群結果\n",
    "cluster_labels = kmeans_fit.labels_\n",
    "print(\"分群結果 前10：\")\n",
    "print(cluster_labels[:10])\n",
    "print(\"---\")"
   ]
  },
  {
   "cell_type": "code",
   "execution_count": 21,
   "metadata": {},
   "outputs": [
    {
     "data": {
      "text/plain": [
       "52703"
      ]
     },
     "execution_count": 21,
     "metadata": {},
     "output_type": "execute_result"
    }
   ],
   "source": [
    "len(cluster_labels)"
   ]
  },
  {
   "cell_type": "code",
   "execution_count": 22,
   "metadata": {},
   "outputs": [
    {
     "data": {
      "text/plain": [
       "{0: 10598, 1: 19490, 2: 22615}"
      ]
     },
     "execution_count": 22,
     "metadata": {},
     "output_type": "execute_result"
    }
   ],
   "source": [
    "unique, counts = np.unique(cluster_labels, return_counts=True)\n",
    "dict(zip(unique, counts))"
   ]
  },
  {
   "cell_type": "code",
   "execution_count": null,
   "metadata": {},
   "outputs": [],
   "source": []
  },
  {
   "cell_type": "code",
   "execution_count": 23,
   "metadata": {},
   "outputs": [],
   "source": [
    "cluster_done = grouped_data\n",
    "cluster_done['category'] = cluster_labels"
   ]
  },
  {
   "cell_type": "code",
   "execution_count": 24,
   "metadata": {},
   "outputs": [],
   "source": [
    "cluster_done = cluster_done.sort_values(by='category')\n",
    "# t = t.drop('from',1)"
   ]
  },
  {
   "cell_type": "code",
   "execution_count": 25,
   "metadata": {},
   "outputs": [
    {
     "data": {
      "text/html": [
       "<div>\n",
       "<style scoped>\n",
       "    .dataframe tbody tr th:only-of-type {\n",
       "        vertical-align: middle;\n",
       "    }\n",
       "\n",
       "    .dataframe tbody tr th {\n",
       "        vertical-align: top;\n",
       "    }\n",
       "\n",
       "    .dataframe thead th {\n",
       "        text-align: right;\n",
       "    }\n",
       "</style>\n",
       "<table border=\"1\" class=\"dataframe\">\n",
       "  <thead>\n",
       "    <tr style=\"text-align: right;\">\n",
       "      <th></th>\n",
       "      <th>from</th>\n",
       "      <th>text</th>\n",
       "      <th>category</th>\n",
       "    </tr>\n",
       "  </thead>\n",
       "  <tbody>\n",
       "    <tr>\n",
       "      <th>0</th>\n",
       "      <td>100000074540167</td>\n",
       "      <td>[Udf65fb966d9b628dd5b7e88569af4339/屢勸不聽]</td>\n",
       "      <td>0</td>\n",
       "    </tr>\n",
       "    <tr>\n",
       "      <th>1</th>\n",
       "      <td>1485563238185751</td>\n",
       "      <td>[哎呀，真的是匿名的]</td>\n",
       "      <td>0</td>\n",
       "    </tr>\n",
       "    <tr>\n",
       "      <th>2</th>\n",
       "      <td>1485630471504010</td>\n",
       "      <td>[嗨]</td>\n",
       "      <td>0</td>\n",
       "    </tr>\n",
       "    <tr>\n",
       "      <th>3</th>\n",
       "      <td>1485634741452405</td>\n",
       "      <td>[嗨, 嗨, 對辣]</td>\n",
       "      <td>0</td>\n",
       "    </tr>\n",
       "    <tr>\n",
       "      <th>4</th>\n",
       "      <td>1485650034828792</td>\n",
       "      <td>[安安, 哈哈, 你是男？, 我是女的, 幹, 同性欸, 哈哈, 幾歲, 我22, 好小喔,...</td>\n",
       "      <td>0</td>\n",
       "    </tr>\n",
       "  </tbody>\n",
       "</table>\n",
       "</div>"
      ],
      "text/plain": [
       "               from                                               text  \\\n",
       "0   100000074540167           [Udf65fb966d9b628dd5b7e88569af4339/屢勸不聽]   \n",
       "1  1485563238185751                                        [哎呀，真的是匿名的]   \n",
       "2  1485630471504010                                                [嗨]   \n",
       "3  1485634741452405                                         [嗨, 嗨, 對辣]   \n",
       "4  1485650034828792  [安安, 哈哈, 你是男？, 我是女的, 幹, 同性欸, 哈哈, 幾歲, 我22, 好小喔,...   \n",
       "\n",
       "   category  \n",
       "0         0  \n",
       "1         0  \n",
       "2         0  \n",
       "3         0  \n",
       "4         0  "
      ]
     },
     "execution_count": 25,
     "metadata": {},
     "output_type": "execute_result"
    }
   ],
   "source": [
    "cluster_done = cluster_done.reset_index(drop=True)\n",
    "cluster_done.head()"
   ]
  },
  {
   "cell_type": "code",
   "execution_count": 26,
   "metadata": {},
   "outputs": [
    {
     "data": {
      "text/plain": [
       "from        52703\n",
       "text        52703\n",
       "category    52703\n",
       "dtype: int64"
      ]
     },
     "execution_count": 26,
     "metadata": {},
     "output_type": "execute_result"
    }
   ],
   "source": [
    "cluster_done.count()\n",
    "# small_clustered = cluster_done[6000:6300].reset_index(drop=True)"
   ]
  },
  {
   "cell_type": "code",
   "execution_count": 47,
   "metadata": {},
   "outputs": [],
   "source": [
    "cluster_done.to_csv('../data/k_means_result2.csv',encoding='utf-8-sig',index=False)"
   ]
  },
  {
   "cell_type": "markdown",
   "metadata": {},
   "source": [
    "## make dictionary = { from : category }"
   ]
  },
  {
   "cell_type": "code",
   "execution_count": 27,
   "metadata": {},
   "outputs": [],
   "source": [
    "from_category = {}\n",
    "for i, row in cluster_done.iterrows():\n",
    "    from_category[row['from']] = row['category']"
   ]
  },
  {
   "cell_type": "code",
   "execution_count": 28,
   "metadata": {},
   "outputs": [
    {
     "data": {
      "text/plain": [
       "52703"
      ]
     },
     "execution_count": 28,
     "metadata": {},
     "output_type": "execute_result"
    }
   ],
   "source": [
    "len(from_category)"
   ]
  },
  {
   "cell_type": "markdown",
   "metadata": {},
   "source": [
    "## groupby room "
   ]
  },
  {
   "cell_type": "code",
   "execution_count": 29,
   "metadata": {},
   "outputs": [],
   "source": [
    "df2 = df.copy()\n",
    "df2 = df2.drop(['time','to'], axis=1)"
   ]
  },
  {
   "cell_type": "code",
   "execution_count": 30,
   "metadata": {},
   "outputs": [],
   "source": [
    "df2['category'] = df2['from'].map(from_category)"
   ]
  },
  {
   "cell_type": "code",
   "execution_count": 31,
   "metadata": {},
   "outputs": [
    {
     "data": {
      "text/plain": [
       "from        28275265\n",
       "text        28275265\n",
       "room        28275265\n",
       "category    28275265\n",
       "dtype: int64"
      ]
     },
     "execution_count": 31,
     "metadata": {},
     "output_type": "execute_result"
    }
   ],
   "source": [
    "df2.head()\n",
    "df2 = df2.dropna(axis=0)\n",
    "df2.count()\n"
   ]
  },
  {
   "cell_type": "code",
   "execution_count": 32,
   "metadata": {},
   "outputs": [
    {
     "data": {
      "text/html": [
       "<div>\n",
       "<style scoped>\n",
       "    .dataframe tbody tr th:only-of-type {\n",
       "        vertical-align: middle;\n",
       "    }\n",
       "\n",
       "    .dataframe tbody tr th {\n",
       "        vertical-align: top;\n",
       "    }\n",
       "\n",
       "    .dataframe thead th {\n",
       "        text-align: right;\n",
       "    }\n",
       "</style>\n",
       "<table border=\"1\" class=\"dataframe\">\n",
       "  <thead>\n",
       "    <tr style=\"text-align: right;\">\n",
       "      <th></th>\n",
       "      <th>from</th>\n",
       "      <th>text</th>\n",
       "      <th>room</th>\n",
       "      <th>category</th>\n",
       "    </tr>\n",
       "  </thead>\n",
       "  <tbody>\n",
       "    <tr>\n",
       "      <th>0</th>\n",
       "      <td>ud4097fbb4471c8c54512814bf0182e03</td>\n",
       "      <td>wd</td>\n",
       "      <td>8aee77a7-1d90-4d0f-b3c3-3f7b94a90e36</td>\n",
       "      <td>1</td>\n",
       "    </tr>\n",
       "    <tr>\n",
       "      <th>1</th>\n",
       "      <td>ud4097fbb4471c8c54512814bf0182e03</td>\n",
       "      <td>嗨嗨</td>\n",
       "      <td>fe214cfc-22d1-4736-92e7-d133190142b8</td>\n",
       "      <td>1</td>\n",
       "    </tr>\n",
       "    <tr>\n",
       "      <th>2</th>\n",
       "      <td>u96e826dccd3c9db56d684a5ddffc3154</td>\n",
       "      <td>蛤？</td>\n",
       "      <td>fe214cfc-22d1-4736-92e7-d133190142b8</td>\n",
       "      <td>2</td>\n",
       "    </tr>\n",
       "    <tr>\n",
       "      <th>3</th>\n",
       "      <td>ud4097fbb4471c8c54512814bf0182e03</td>\n",
       "      <td>你是第二個使用者ＱＱ</td>\n",
       "      <td>fe214cfc-22d1-4736-92e7-d133190142b8</td>\n",
       "      <td>1</td>\n",
       "    </tr>\n",
       "    <tr>\n",
       "      <th>4</th>\n",
       "      <td>u96e826dccd3c9db56d684a5ddffc3154</td>\n",
       "      <td>哈哈哈哈哈哈哈</td>\n",
       "      <td>fe214cfc-22d1-4736-92e7-d133190142b8</td>\n",
       "      <td>2</td>\n",
       "    </tr>\n",
       "  </tbody>\n",
       "</table>\n",
       "</div>"
      ],
      "text/plain": [
       "                                from        text  \\\n",
       "0  ud4097fbb4471c8c54512814bf0182e03          wd   \n",
       "1  ud4097fbb4471c8c54512814bf0182e03          嗨嗨   \n",
       "2  u96e826dccd3c9db56d684a5ddffc3154          蛤？   \n",
       "3  ud4097fbb4471c8c54512814bf0182e03  你是第二個使用者ＱＱ   \n",
       "4  u96e826dccd3c9db56d684a5ddffc3154     哈哈哈哈哈哈哈   \n",
       "\n",
       "                                   room  category  \n",
       "0  8aee77a7-1d90-4d0f-b3c3-3f7b94a90e36         1  \n",
       "1  fe214cfc-22d1-4736-92e7-d133190142b8         1  \n",
       "2  fe214cfc-22d1-4736-92e7-d133190142b8         2  \n",
       "3  fe214cfc-22d1-4736-92e7-d133190142b8         1  \n",
       "4  fe214cfc-22d1-4736-92e7-d133190142b8         2  "
      ]
     },
     "execution_count": 32,
     "metadata": {},
     "output_type": "execute_result"
    }
   ],
   "source": [
    "df2.head()"
   ]
  },
  {
   "cell_type": "code",
   "execution_count": null,
   "metadata": {},
   "outputs": [],
   "source": []
  },
  {
   "cell_type": "code",
   "execution_count": 33,
   "metadata": {},
   "outputs": [],
   "source": [
    "p1 = df2.groupby('room')['from'].aggregate(lambda x: set(x)).reset_index()\n",
    "p2 = df2.groupby('room')['category'].aggregate(lambda x: set(x)).reset_index()\n",
    "c = df2.groupby('room')['text'].agg(['count']).reset_index()\n",
    "t = df2.groupby('room')['text'].apply(list).reset_index()"
   ]
  },
  {
   "cell_type": "code",
   "execution_count": 34,
   "metadata": {},
   "outputs": [
    {
     "name": "stdout",
     "output_type": "stream",
     "text": [
      "have 314530 314530 rooms\n"
     ]
    }
   ],
   "source": [
    "print('have {} {} rooms'.format(len(p1),len(p2)))"
   ]
  },
  {
   "cell_type": "markdown",
   "metadata": {},
   "source": [
    "## new df  group by room"
   ]
  },
  {
   "cell_type": "code",
   "execution_count": 35,
   "metadata": {},
   "outputs": [],
   "source": [
    "room_grouped = pd.concat([p1,p2['category'],c['count'],t['text']],axis=1)"
   ]
  },
  {
   "cell_type": "code",
   "execution_count": 36,
   "metadata": {},
   "outputs": [
    {
     "data": {
      "text/plain": [
       "Index(['room', 'from', 'category', 'count', 'text'], dtype='object')"
      ]
     },
     "execution_count": 36,
     "metadata": {},
     "output_type": "execute_result"
    }
   ],
   "source": [
    "room_grouped.columns"
   ]
  },
  {
   "cell_type": "code",
   "execution_count": 37,
   "metadata": {},
   "outputs": [
    {
     "data": {
      "text/html": [
       "<div>\n",
       "<style scoped>\n",
       "    .dataframe tbody tr th:only-of-type {\n",
       "        vertical-align: middle;\n",
       "    }\n",
       "\n",
       "    .dataframe tbody tr th {\n",
       "        vertical-align: top;\n",
       "    }\n",
       "\n",
       "    .dataframe thead th {\n",
       "        text-align: right;\n",
       "    }\n",
       "</style>\n",
       "<table border=\"1\" class=\"dataframe\">\n",
       "  <thead>\n",
       "    <tr style=\"text-align: right;\">\n",
       "      <th></th>\n",
       "      <th>room</th>\n",
       "      <th>from</th>\n",
       "      <th>category</th>\n",
       "      <th>count</th>\n",
       "      <th>text</th>\n",
       "    </tr>\n",
       "  </thead>\n",
       "  <tbody>\n",
       "    <tr>\n",
       "      <th>0</th>\n",
       "      <td>000080b3-d61b-442b-a150-4fd63893a69b</td>\n",
       "      <td>{Ucd977dbbe72bd86376d08d2e66f6bca9, 1184144314...</td>\n",
       "      <td>{1, 2}</td>\n",
       "      <td>3</td>\n",
       "      <td>[😴😫😢😓, 安抓了, 抓ㄐㄐ了]</td>\n",
       "    </tr>\n",
       "    <tr>\n",
       "      <th>1</th>\n",
       "      <td>00009791-f91b-429b-b366-8b6238896fe5</td>\n",
       "      <td>{Uac401dacdef342244cb14cd0b75be7dc, 1627851433...</td>\n",
       "      <td>{1, 2}</td>\n",
       "      <td>24</td>\n",
       "      <td>[嗨, 嗨, 好無聊～, 真的, 大家都一樣無聊, 我想開學了, 怎麼還不睡呢, 還睡不著,...</td>\n",
       "    </tr>\n",
       "    <tr>\n",
       "      <th>2</th>\n",
       "      <td>0000af35-ca57-43fe-b4d7-3dddf91d5746</td>\n",
       "      <td>{226765477, 1231598343578301}</td>\n",
       "      <td>{0, 1}</td>\n",
       "      <td>3</td>\n",
       "      <td>[你擁有了 87, 我祈禱, 擁有一顆透明的心靈]</td>\n",
       "    </tr>\n",
       "    <tr>\n",
       "      <th>3</th>\n",
       "      <td>0000d3d1-cd74-4c6a-8ab6-8c9c0df594aa</td>\n",
       "      <td>{u84ff3587ce973343ca6328d6881d94f8, 1313316695...</td>\n",
       "      <td>{0}</td>\n",
       "      <td>2</td>\n",
       "      <td>[嗨嗨, 请问有人吗]</td>\n",
       "    </tr>\n",
       "    <tr>\n",
       "      <th>4</th>\n",
       "      <td>000129e0-e9c9-4e51-8b7a-b782d220894e</td>\n",
       "      <td>{1127853807261849}</td>\n",
       "      <td>{2}</td>\n",
       "      <td>1</td>\n",
       "      <td>[安]</td>\n",
       "    </tr>\n",
       "  </tbody>\n",
       "</table>\n",
       "</div>"
      ],
      "text/plain": [
       "                                   room  \\\n",
       "0  000080b3-d61b-442b-a150-4fd63893a69b   \n",
       "1  00009791-f91b-429b-b366-8b6238896fe5   \n",
       "2  0000af35-ca57-43fe-b4d7-3dddf91d5746   \n",
       "3  0000d3d1-cd74-4c6a-8ab6-8c9c0df594aa   \n",
       "4  000129e0-e9c9-4e51-8b7a-b782d220894e   \n",
       "\n",
       "                                                from category  count  \\\n",
       "0  {Ucd977dbbe72bd86376d08d2e66f6bca9, 1184144314...   {1, 2}      3   \n",
       "1  {Uac401dacdef342244cb14cd0b75be7dc, 1627851433...   {1, 2}     24   \n",
       "2                      {226765477, 1231598343578301}   {0, 1}      3   \n",
       "3  {u84ff3587ce973343ca6328d6881d94f8, 1313316695...      {0}      2   \n",
       "4                                 {1127853807261849}      {2}      1   \n",
       "\n",
       "                                                text  \n",
       "0                                  [😴😫😢😓, 安抓了, 抓ㄐㄐ了]  \n",
       "1  [嗨, 嗨, 好無聊～, 真的, 大家都一樣無聊, 我想開學了, 怎麼還不睡呢, 還睡不著,...  \n",
       "2                          [你擁有了 87, 我祈禱, 擁有一顆透明的心靈]  \n",
       "3                                        [嗨嗨, 请问有人吗]  \n",
       "4                                                [安]  "
      ]
     },
     "execution_count": 37,
     "metadata": {},
     "output_type": "execute_result"
    }
   ],
   "source": [
    "room_grouped.head()"
   ]
  },
  {
   "cell_type": "code",
   "execution_count": 52,
   "metadata": {},
   "outputs": [
    {
     "data": {
      "text/plain": [
       "room        309992\n",
       "from        309992\n",
       "category    309992\n",
       "count       309992\n",
       "text        309992\n",
       "dtype: int64"
      ]
     },
     "execution_count": 52,
     "metadata": {},
     "output_type": "execute_result"
    }
   ],
   "source": [
    "room_grouped.countt()"
   ]
  },
  {
   "cell_type": "markdown",
   "metadata": {},
   "source": [
    "## delete the row (room) which has only one user "
   ]
  },
  {
   "cell_type": "code",
   "execution_count": 56,
   "metadata": {},
   "outputs": [],
   "source": [
    "room_grouped = room_grouped[room_grouped['from'].map(len) > 1]"
   ]
  },
  {
   "cell_type": "code",
   "execution_count": 57,
   "metadata": {},
   "outputs": [
    {
     "data": {
      "text/plain": [
       "room        274349\n",
       "from        274349\n",
       "category    274349\n",
       "count       274349\n",
       "text        274349\n",
       "dtype: int64"
      ]
     },
     "execution_count": 57,
     "metadata": {},
     "output_type": "execute_result"
    }
   ],
   "source": [
    "room_grouped.count()"
   ]
  },
  {
   "cell_type": "code",
   "execution_count": 58,
   "metadata": {},
   "outputs": [
    {
     "data": {
      "text/html": [
       "<div>\n",
       "<style scoped>\n",
       "    .dataframe tbody tr th:only-of-type {\n",
       "        vertical-align: middle;\n",
       "    }\n",
       "\n",
       "    .dataframe tbody tr th {\n",
       "        vertical-align: top;\n",
       "    }\n",
       "\n",
       "    .dataframe thead th {\n",
       "        text-align: right;\n",
       "    }\n",
       "</style>\n",
       "<table border=\"1\" class=\"dataframe\">\n",
       "  <thead>\n",
       "    <tr style=\"text-align: right;\">\n",
       "      <th></th>\n",
       "      <th>room</th>\n",
       "      <th>from</th>\n",
       "      <th>category</th>\n",
       "      <th>count</th>\n",
       "      <th>text</th>\n",
       "    </tr>\n",
       "  </thead>\n",
       "  <tbody>\n",
       "    <tr>\n",
       "      <th>0</th>\n",
       "      <td>000080b3-d61b-442b-a150-4fd63893a69b</td>\n",
       "      <td>{Ucd977dbbe72bd86376d08d2e66f6bca9, 1184144314...</td>\n",
       "      <td>{1, 2}</td>\n",
       "      <td>3</td>\n",
       "      <td>[😴😫😢😓, 安抓了, 抓ㄐㄐ了]</td>\n",
       "    </tr>\n",
       "    <tr>\n",
       "      <th>1</th>\n",
       "      <td>00009791-f91b-429b-b366-8b6238896fe5</td>\n",
       "      <td>{Uac401dacdef342244cb14cd0b75be7dc, 1627851433...</td>\n",
       "      <td>{1, 2}</td>\n",
       "      <td>24</td>\n",
       "      <td>[嗨, 嗨, 好無聊～, 真的, 大家都一樣無聊, 我想開學了, 怎麼還不睡呢, 還睡不著,...</td>\n",
       "    </tr>\n",
       "    <tr>\n",
       "      <th>2</th>\n",
       "      <td>0000af35-ca57-43fe-b4d7-3dddf91d5746</td>\n",
       "      <td>{226765477, 1231598343578301}</td>\n",
       "      <td>{0, 1}</td>\n",
       "      <td>3</td>\n",
       "      <td>[你擁有了 87, 我祈禱, 擁有一顆透明的心靈]</td>\n",
       "    </tr>\n",
       "    <tr>\n",
       "      <th>3</th>\n",
       "      <td>0000d3d1-cd74-4c6a-8ab6-8c9c0df594aa</td>\n",
       "      <td>{u84ff3587ce973343ca6328d6881d94f8, 1313316695...</td>\n",
       "      <td>{0}</td>\n",
       "      <td>2</td>\n",
       "      <td>[嗨嗨, 请问有人吗]</td>\n",
       "    </tr>\n",
       "    <tr>\n",
       "      <th>6</th>\n",
       "      <td>0001e0a2-ccc6-4c15-b8d3-cc147fd24a0a</td>\n",
       "      <td>{U7aad78f851c18ec81eb6f244b954ad78, U5d527f76b...</td>\n",
       "      <td>{1}</td>\n",
       "      <td>20</td>\n",
       "      <td>[嗨！嗨！, 嗨嗨, 在忙？, 剛剛有點忙, 抱歉抱歉, 沒關係阿, 阿你在幹嘛？, 我放暑...</td>\n",
       "    </tr>\n",
       "  </tbody>\n",
       "</table>\n",
       "</div>"
      ],
      "text/plain": [
       "                                   room  \\\n",
       "0  000080b3-d61b-442b-a150-4fd63893a69b   \n",
       "1  00009791-f91b-429b-b366-8b6238896fe5   \n",
       "2  0000af35-ca57-43fe-b4d7-3dddf91d5746   \n",
       "3  0000d3d1-cd74-4c6a-8ab6-8c9c0df594aa   \n",
       "6  0001e0a2-ccc6-4c15-b8d3-cc147fd24a0a   \n",
       "\n",
       "                                                from category  count  \\\n",
       "0  {Ucd977dbbe72bd86376d08d2e66f6bca9, 1184144314...   {1, 2}      3   \n",
       "1  {Uac401dacdef342244cb14cd0b75be7dc, 1627851433...   {1, 2}     24   \n",
       "2                      {226765477, 1231598343578301}   {0, 1}      3   \n",
       "3  {u84ff3587ce973343ca6328d6881d94f8, 1313316695...      {0}      2   \n",
       "6  {U7aad78f851c18ec81eb6f244b954ad78, U5d527f76b...      {1}     20   \n",
       "\n",
       "                                                text  \n",
       "0                                  [😴😫😢😓, 安抓了, 抓ㄐㄐ了]  \n",
       "1  [嗨, 嗨, 好無聊～, 真的, 大家都一樣無聊, 我想開學了, 怎麼還不睡呢, 還睡不著,...  \n",
       "2                          [你擁有了 87, 我祈禱, 擁有一顆透明的心靈]  \n",
       "3                                        [嗨嗨, 请问有人吗]  \n",
       "6  [嗨！嗨！, 嗨嗨, 在忙？, 剛剛有點忙, 抱歉抱歉, 沒關係阿, 阿你在幹嘛？, 我放暑...  "
      ]
     },
     "execution_count": 58,
     "metadata": {},
     "output_type": "execute_result"
    }
   ],
   "source": [
    "room_grouped.head()"
   ]
  },
  {
   "cell_type": "markdown",
   "metadata": {},
   "source": [
    "### 每間聊天室平均聊幾句"
   ]
  },
  {
   "cell_type": "code",
   "execution_count": 59,
   "metadata": {},
   "outputs": [
    {
     "data": {
      "text/plain": [
       "102.83713809782431"
      ]
     },
     "execution_count": 59,
     "metadata": {},
     "output_type": "execute_result"
    }
   ],
   "source": [
    "room_grouped['count'].mean()"
   ]
  },
  {
   "cell_type": "markdown",
   "metadata": {},
   "source": [
    "# 證明分群有意義"
   ]
  },
  {
   "cell_type": "markdown",
   "metadata": {},
   "source": [
    "## 1. 同一群的使用者平均聊天句數比不同群的使用者平均聊天句數還多"
   ]
  },
  {
   "cell_type": "code",
   "execution_count": 60,
   "metadata": {},
   "outputs": [],
   "source": [
    "same_cat_count = 0\n",
    "all_text = 0\n",
    "other_user = 0\n",
    "other_all_text = 0\n",
    "for index, row in room_grouped.iterrows():\n",
    "    l = len(row['category'])\n",
    "    t_len = len(row['text'])\n",
    "# same cluster\n",
    "    if l == 1:\n",
    "        same_cat_count+=1\n",
    "        all_text+=t_len\n",
    "# different cluster\n",
    "    else:\n",
    "        other_user+=1\n",
    "        other_all_text+=t_len"
   ]
  },
  {
   "cell_type": "code",
   "execution_count": 61,
   "metadata": {},
   "outputs": [
    {
     "name": "stdout",
     "output_type": "stream",
     "text": [
      "同一群的使用者有 158713 組, 平均聊天句數 : 143.17418232910978\n",
      "不同群的使用者有 115636 組, 平均聊天句數 : 47.47364142654536\n"
     ]
    }
   ],
   "source": [
    "print('同一群的使用者有 {} 組, 平均聊天句數 : {}'.format(same_cat_count,all_text/same_cat_count))\n",
    "print('不同群的使用者有 {} 組, 平均聊天句數 : {}'.format(other_user ,other_all_text/other_user))"
   ]
  },
  {
   "cell_type": "markdown",
   "metadata": {},
   "source": [
    "## 2. 聊天句數超過 1000 句的使用者，同群的有幾組"
   ]
  },
  {
   "cell_type": "code",
   "execution_count": 62,
   "metadata": {},
   "outputs": [],
   "source": [
    "gt1000 = room_grouped[room_grouped['count']>1000]"
   ]
  },
  {
   "cell_type": "code",
   "execution_count": 63,
   "metadata": {},
   "outputs": [],
   "source": [
    "gt1000_same_cat = 0\n",
    "for i, row in gt1000.iterrows():\n",
    "    l = len(row['category'])\n",
    "    if l == 1:\n",
    "        gt1000_same_cat+=1"
   ]
  },
  {
   "cell_type": "code",
   "execution_count": 64,
   "metadata": {},
   "outputs": [
    {
     "name": "stdout",
     "output_type": "stream",
     "text": [
      "共有 3647 組，同類的有 3353 組\n"
     ]
    }
   ],
   "source": [
    "print('共有 {} 組，同類的有 {} 組'.format(len(gt1000),gt1000_same_cat))"
   ]
  },
  {
   "cell_type": "code",
   "execution_count": 22,
   "metadata": {},
   "outputs": [],
   "source": [
    "t.to_csv('../data/k_means_result.csv',encoding='utf-8-sig')"
   ]
  }
 ],
 "metadata": {
  "kernelspec": {
   "display_name": "Python 3",
   "language": "python",
   "name": "python3"
  },
  "language_info": {
   "codemirror_mode": {
    "name": "ipython",
    "version": 3
   },
   "file_extension": ".py",
   "mimetype": "text/x-python",
   "name": "python",
   "nbconvert_exporter": "python",
   "pygments_lexer": "ipython3",
   "version": "3.5.2"
  }
 },
 "nbformat": 4,
 "nbformat_minor": 2
}
