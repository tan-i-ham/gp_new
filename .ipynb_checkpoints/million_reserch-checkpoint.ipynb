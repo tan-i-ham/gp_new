{
 "cells": [
  {
   "cell_type": "code",
   "execution_count": 1,
   "metadata": {},
   "outputs": [],
   "source": [
    "import pandas as pd\n",
    "import numpy as np\n",
    "import operator\n",
    "from collections import defaultdict\n"
   ]
  },
  {
   "cell_type": "code",
   "execution_count": 2,
   "metadata": {},
   "outputs": [
    {
     "name": "stdout",
     "output_type": "stream",
     "text": [
      "有1000000筆對話\n"
     ]
    }
   ],
   "source": [
    "df = pd.read_csv(open('../data/df_million.csv'), low_memory=False)\n",
    "df = df[df['text'].str.contains(\"00leave\")== False]\n",
    "df = df.drop('Unnamed: 0', 1)\n",
    "print('有{}筆對話'.format(len(df)))"
   ]
  },
  {
   "cell_type": "code",
   "execution_count": 3,
   "metadata": {},
   "outputs": [
    {
     "data": {
      "text/plain": [
       "Index(['from', 'to', 'text', 'room', 'time'], dtype='object')"
      ]
     },
     "execution_count": 3,
     "metadata": {},
     "output_type": "execute_result"
    }
   ],
   "source": [
    "df.columns"
   ]
  },
  {
   "cell_type": "code",
   "execution_count": 4,
   "metadata": {},
   "outputs": [],
   "source": [
    "df = df.reset_index(drop=True)"
   ]
  },
  {
   "cell_type": "code",
   "execution_count": 5,
   "metadata": {},
   "outputs": [
    {
     "data": {
      "text/html": [
       "<div>\n",
       "<style scoped>\n",
       "    .dataframe tbody tr th:only-of-type {\n",
       "        vertical-align: middle;\n",
       "    }\n",
       "\n",
       "    .dataframe tbody tr th {\n",
       "        vertical-align: top;\n",
       "    }\n",
       "\n",
       "    .dataframe thead th {\n",
       "        text-align: right;\n",
       "    }\n",
       "</style>\n",
       "<table border=\"1\" class=\"dataframe\">\n",
       "  <thead>\n",
       "    <tr style=\"text-align: right;\">\n",
       "      <th></th>\n",
       "      <th>from</th>\n",
       "      <th>to</th>\n",
       "      <th>text</th>\n",
       "      <th>room</th>\n",
       "      <th>time</th>\n",
       "    </tr>\n",
       "  </thead>\n",
       "  <tbody>\n",
       "    <tr>\n",
       "      <th>0</th>\n",
       "      <td>ud4097fbb4471c8c54512814bf0182e03</td>\n",
       "      <td>u84fa1e46e99df373e0f978c2ba274f9a</td>\n",
       "      <td>wd</td>\n",
       "      <td>8aee77a7-1d90-4d0f-b3c3-3f7b94a90e36</td>\n",
       "      <td>1.471640e+12</td>\n",
       "    </tr>\n",
       "    <tr>\n",
       "      <th>1</th>\n",
       "      <td>ud4097fbb4471c8c54512814bf0182e03</td>\n",
       "      <td>u96e826dccd3c9db56d684a5ddffc3154</td>\n",
       "      <td>嗨嗨</td>\n",
       "      <td>fe214cfc-22d1-4736-92e7-d133190142b8</td>\n",
       "      <td>1.471643e+12</td>\n",
       "    </tr>\n",
       "    <tr>\n",
       "      <th>2</th>\n",
       "      <td>u96e826dccd3c9db56d684a5ddffc3154</td>\n",
       "      <td>ud4097fbb4471c8c54512814bf0182e03</td>\n",
       "      <td>蛤？</td>\n",
       "      <td>fe214cfc-22d1-4736-92e7-d133190142b8</td>\n",
       "      <td>1.471643e+12</td>\n",
       "    </tr>\n",
       "    <tr>\n",
       "      <th>3</th>\n",
       "      <td>ud4097fbb4471c8c54512814bf0182e03</td>\n",
       "      <td>u96e826dccd3c9db56d684a5ddffc3154</td>\n",
       "      <td>你是第二個使用者ＱＱ</td>\n",
       "      <td>fe214cfc-22d1-4736-92e7-d133190142b8</td>\n",
       "      <td>1.471643e+12</td>\n",
       "    </tr>\n",
       "    <tr>\n",
       "      <th>4</th>\n",
       "      <td>u96e826dccd3c9db56d684a5ddffc3154</td>\n",
       "      <td>ud4097fbb4471c8c54512814bf0182e03</td>\n",
       "      <td>哈哈哈哈哈哈哈</td>\n",
       "      <td>fe214cfc-22d1-4736-92e7-d133190142b8</td>\n",
       "      <td>1.471643e+12</td>\n",
       "    </tr>\n",
       "  </tbody>\n",
       "</table>\n",
       "</div>"
      ],
      "text/plain": [
       "                                from                                 to  \\\n",
       "0  ud4097fbb4471c8c54512814bf0182e03  u84fa1e46e99df373e0f978c2ba274f9a   \n",
       "1  ud4097fbb4471c8c54512814bf0182e03  u96e826dccd3c9db56d684a5ddffc3154   \n",
       "2  u96e826dccd3c9db56d684a5ddffc3154  ud4097fbb4471c8c54512814bf0182e03   \n",
       "3  ud4097fbb4471c8c54512814bf0182e03  u96e826dccd3c9db56d684a5ddffc3154   \n",
       "4  u96e826dccd3c9db56d684a5ddffc3154  ud4097fbb4471c8c54512814bf0182e03   \n",
       "\n",
       "         text                                  room          time  \n",
       "0          wd  8aee77a7-1d90-4d0f-b3c3-3f7b94a90e36  1.471640e+12  \n",
       "1          嗨嗨  fe214cfc-22d1-4736-92e7-d133190142b8  1.471643e+12  \n",
       "2          蛤？  fe214cfc-22d1-4736-92e7-d133190142b8  1.471643e+12  \n",
       "3  你是第二個使用者ＱＱ  fe214cfc-22d1-4736-92e7-d133190142b8  1.471643e+12  \n",
       "4     哈哈哈哈哈哈哈  fe214cfc-22d1-4736-92e7-d133190142b8  1.471643e+12  "
      ]
     },
     "execution_count": 5,
     "metadata": {},
     "output_type": "execute_result"
    }
   ],
   "source": [
    "df.head()"
   ]
  },
  {
   "cell_type": "markdown",
   "metadata": {},
   "source": [
    "## Groupby by 'from' column "
   ]
  },
  {
   "cell_type": "code",
   "execution_count": 6,
   "metadata": {},
   "outputs": [
    {
     "name": "stdout",
     "output_type": "stream",
     "text": [
      "have 12691 users\n"
     ]
    }
   ],
   "source": [
    "grouped_data = df.groupby('from')['text'].apply(list).reset_index()\n",
    "print('have {} users'.format(len(grouped_data)))"
   ]
  },
  {
   "cell_type": "code",
   "execution_count": 67,
   "metadata": {},
   "outputs": [
    {
     "data": {
      "text/html": [
       "<div>\n",
       "<style scoped>\n",
       "    .dataframe tbody tr th:only-of-type {\n",
       "        vertical-align: middle;\n",
       "    }\n",
       "\n",
       "    .dataframe tbody tr th {\n",
       "        vertical-align: top;\n",
       "    }\n",
       "\n",
       "    .dataframe thead th {\n",
       "        text-align: right;\n",
       "    }\n",
       "</style>\n",
       "<table border=\"1\" class=\"dataframe\">\n",
       "  <thead>\n",
       "    <tr style=\"text-align: right;\">\n",
       "      <th></th>\n",
       "      <th>from</th>\n",
       "      <th>to</th>\n",
       "      <th>text</th>\n",
       "      <th>room</th>\n",
       "      <th>time</th>\n",
       "    </tr>\n",
       "  </thead>\n",
       "  <tbody>\n",
       "    <tr>\n",
       "      <th>0</th>\n",
       "      <td>ud4097fbb4471c8c54512814bf0182e03</td>\n",
       "      <td>u84fa1e46e99df373e0f978c2ba274f9a</td>\n",
       "      <td>wd</td>\n",
       "      <td>8aee77a7-1d90-4d0f-b3c3-3f7b94a90e36</td>\n",
       "      <td>1.471640e+12</td>\n",
       "    </tr>\n",
       "    <tr>\n",
       "      <th>1</th>\n",
       "      <td>ud4097fbb4471c8c54512814bf0182e03</td>\n",
       "      <td>u96e826dccd3c9db56d684a5ddffc3154</td>\n",
       "      <td>嗨嗨</td>\n",
       "      <td>fe214cfc-22d1-4736-92e7-d133190142b8</td>\n",
       "      <td>1.471643e+12</td>\n",
       "    </tr>\n",
       "    <tr>\n",
       "      <th>3</th>\n",
       "      <td>ud4097fbb4471c8c54512814bf0182e03</td>\n",
       "      <td>u96e826dccd3c9db56d684a5ddffc3154</td>\n",
       "      <td>你是第二個使用者ＱＱ</td>\n",
       "      <td>fe214cfc-22d1-4736-92e7-d133190142b8</td>\n",
       "      <td>1.471643e+12</td>\n",
       "    </tr>\n",
       "    <tr>\n",
       "      <th>6</th>\n",
       "      <td>ud4097fbb4471c8c54512814bf0182e03</td>\n",
       "      <td>u96e826dccd3c9db56d684a5ddffc3154</td>\n",
       "      <td>什麼限定版？</td>\n",
       "      <td>fe214cfc-22d1-4736-92e7-d133190142b8</td>\n",
       "      <td>1.471643e+12</td>\n",
       "    </tr>\n",
       "    <tr>\n",
       "      <th>8</th>\n",
       "      <td>ud4097fbb4471c8c54512814bf0182e03</td>\n",
       "      <td>u96e826dccd3c9db56d684a5ddffc3154</td>\n",
       "      <td>等我睡醒再來寫fb版本</td>\n",
       "      <td>fe214cfc-22d1-4736-92e7-d133190142b8</td>\n",
       "      <td>1.471643e+12</td>\n",
       "    </tr>\n",
       "    <tr>\n",
       "      <th>10</th>\n",
       "      <td>ud4097fbb4471c8c54512814bf0182e03</td>\n",
       "      <td>u96e826dccd3c9db56d684a5ddffc3154</td>\n",
       "      <td>剛寫完line</td>\n",
       "      <td>fe214cfc-22d1-4736-92e7-d133190142b8</td>\n",
       "      <td>1.471643e+12</td>\n",
       "    </tr>\n",
       "    <tr>\n",
       "      <th>13</th>\n",
       "      <td>ud4097fbb4471c8c54512814bf0182e03</td>\n",
       "      <td>u96e826dccd3c9db56d684a5ddffc3154</td>\n",
       "      <td>可以吧</td>\n",
       "      <td>fe214cfc-22d1-4736-92e7-d133190142b8</td>\n",
       "      <td>1.471643e+12</td>\n",
       "    </tr>\n",
       "    <tr>\n",
       "      <th>14</th>\n",
       "      <td>ud4097fbb4471c8c54512814bf0182e03</td>\n",
       "      <td>u96e826dccd3c9db56d684a5ddffc3154</td>\n",
       "      <td>哈哈哈</td>\n",
       "      <td>fe214cfc-22d1-4736-92e7-d133190142b8</td>\n",
       "      <td>1.471643e+12</td>\n",
       "    </tr>\n",
       "    <tr>\n",
       "      <th>15</th>\n",
       "      <td>ud4097fbb4471c8c54512814bf0182e03</td>\n",
       "      <td>u96e826dccd3c9db56d684a5ddffc3154</td>\n",
       "      <td>yoooo</td>\n",
       "      <td>fe214cfc-22d1-4736-92e7-d133190142b8</td>\n",
       "      <td>1.471643e+12</td>\n",
       "    </tr>\n",
       "    <tr>\n",
       "      <th>17</th>\n",
       "      <td>ud4097fbb4471c8c54512814bf0182e03</td>\n",
       "      <td>u96e826dccd3c9db56d684a5ddffc3154</td>\n",
       "      <td>貼圖我直接關掉ＸＤ</td>\n",
       "      <td>fe214cfc-22d1-4736-92e7-d133190142b8</td>\n",
       "      <td>1.471643e+12</td>\n",
       "    </tr>\n",
       "    <tr>\n",
       "      <th>18</th>\n",
       "      <td>ud4097fbb4471c8c54512814bf0182e03</td>\n",
       "      <td>u96e826dccd3c9db56d684a5ddffc3154</td>\n",
       "      <td>晚點再來研究</td>\n",
       "      <td>fe214cfc-22d1-4736-92e7-d133190142b8</td>\n",
       "      <td>1.471643e+12</td>\n",
       "    </tr>\n",
       "    <tr>\n",
       "      <th>21</th>\n",
       "      <td>ud4097fbb4471c8c54512814bf0182e03</td>\n",
       "      <td>u96e826dccd3c9db56d684a5ddffc3154</td>\n",
       "      <td>不支援是我這邊傳出去的....</td>\n",
       "      <td>fe214cfc-22d1-4736-92e7-d133190142b8</td>\n",
       "      <td>1.471644e+12</td>\n",
       "    </tr>\n",
       "    <tr>\n",
       "      <th>24</th>\n",
       "      <td>ud4097fbb4471c8c54512814bf0182e03</td>\n",
       "      <td>u96e826dccd3c9db56d684a5ddffc3154</td>\n",
       "      <td>不知道能不能傳</td>\n",
       "      <td>fe214cfc-22d1-4736-92e7-d133190142b8</td>\n",
       "      <td>1.471644e+12</td>\n",
       "    </tr>\n",
       "    <tr>\n",
       "      <th>25</th>\n",
       "      <td>ud4097fbb4471c8c54512814bf0182e03</td>\n",
       "      <td>u96e826dccd3c9db56d684a5ddffc3154</td>\n",
       "      <td>因為這個機器人帳號沒有那個貼圖</td>\n",
       "      <td>fe214cfc-22d1-4736-92e7-d133190142b8</td>\n",
       "      <td>1.471644e+12</td>\n",
       "    </tr>\n",
       "    <tr>\n",
       "      <th>27</th>\n",
       "      <td>ud4097fbb4471c8c54512814bf0182e03</td>\n",
       "      <td>u96e826dccd3c9db56d684a5ddffc3154</td>\n",
       "      <td>可以</td>\n",
       "      <td>fe214cfc-22d1-4736-92e7-d133190142b8</td>\n",
       "      <td>1.471644e+12</td>\n",
       "    </tr>\n",
       "    <tr>\n",
       "      <th>29</th>\n",
       "      <td>ud4097fbb4471c8c54512814bf0182e03</td>\n",
       "      <td>u96e826dccd3c9db56d684a5ddffc3154</td>\n",
       "      <td>可以</td>\n",
       "      <td>fe214cfc-22d1-4736-92e7-d133190142b8</td>\n",
       "      <td>1.471644e+12</td>\n",
       "    </tr>\n",
       "    <tr>\n",
       "      <th>30</th>\n",
       "      <td>ud4097fbb4471c8c54512814bf0182e03</td>\n",
       "      <td>u96e826dccd3c9db56d684a5ddffc3154</td>\n",
       "      <td>我在想啊 這個商業模式 就做匿名贈禮好了...</td>\n",
       "      <td>fe214cfc-22d1-4736-92e7-d133190142b8</td>\n",
       "      <td>1.471644e+12</td>\n",
       "    </tr>\n",
       "    <tr>\n",
       "      <th>31</th>\n",
       "      <td>ud4097fbb4471c8c54512814bf0182e03</td>\n",
       "      <td>u96e826dccd3c9db56d684a5ddffc3154</td>\n",
       "      <td>跟我買咖啡兌換序號 麥當勞兌換序號 送給對方</td>\n",
       "      <td>fe214cfc-22d1-4736-92e7-d133190142b8</td>\n",
       "      <td>1.471644e+12</td>\n",
       "    </tr>\n",
       "    <tr>\n",
       "      <th>33</th>\n",
       "      <td>ud4097fbb4471c8c54512814bf0182e03</td>\n",
       "      <td>u96e826dccd3c9db56d684a5ddffc3154</td>\n",
       "      <td>對啊</td>\n",
       "      <td>fe214cfc-22d1-4736-92e7-d133190142b8</td>\n",
       "      <td>1.471644e+12</td>\n",
       "    </tr>\n",
       "    <tr>\n",
       "      <th>35</th>\n",
       "      <td>ud4097fbb4471c8c54512814bf0182e03</td>\n",
       "      <td>u96e826dccd3c9db56d684a5ddffc3154</td>\n",
       "      <td>交友軟體不都這樣搞</td>\n",
       "      <td>fe214cfc-22d1-4736-92e7-d133190142b8</td>\n",
       "      <td>1.471644e+12</td>\n",
       "    </tr>\n",
       "    <tr>\n",
       "      <th>36</th>\n",
       "      <td>ud4097fbb4471c8c54512814bf0182e03</td>\n",
       "      <td>u96e826dccd3c9db56d684a5ddffc3154</td>\n",
       "      <td>哈哈哈</td>\n",
       "      <td>fe214cfc-22d1-4736-92e7-d133190142b8</td>\n",
       "      <td>1.471644e+12</td>\n",
       "    </tr>\n",
       "    <tr>\n",
       "      <th>38</th>\n",
       "      <td>ud4097fbb4471c8c54512814bf0182e03</td>\n",
       "      <td>u96e826dccd3c9db56d684a5ddffc3154</td>\n",
       "      <td>不是 送商品兌換的</td>\n",
       "      <td>fe214cfc-22d1-4736-92e7-d133190142b8</td>\n",
       "      <td>1.471644e+12</td>\n",
       "    </tr>\n",
       "    <tr>\n",
       "      <th>39</th>\n",
       "      <td>ud4097fbb4471c8c54512814bf0182e03</td>\n",
       "      <td>u96e826dccd3c9db56d684a5ddffc3154</td>\n",
       "      <td>我昨天查了一下</td>\n",
       "      <td>fe214cfc-22d1-4736-92e7-d133190142b8</td>\n",
       "      <td>1.471644e+12</td>\n",
       "    </tr>\n",
       "    <tr>\n",
       "      <th>41</th>\n",
       "      <td>ud4097fbb4471c8c54512814bf0182e03</td>\n",
       "      <td>u96e826dccd3c9db56d684a5ddffc3154</td>\n",
       "      <td>711的東西 麥當勞 肯德基 都可以買序號</td>\n",
       "      <td>fe214cfc-22d1-4736-92e7-d133190142b8</td>\n",
       "      <td>1.471644e+12</td>\n",
       "    </tr>\n",
       "    <tr>\n",
       "      <th>42</th>\n",
       "      <td>ud4097fbb4471c8c54512814bf0182e03</td>\n",
       "      <td>u96e826dccd3c9db56d684a5ddffc3154</td>\n",
       "      <td>然後拿序號去實體商店換商品</td>\n",
       "      <td>fe214cfc-22d1-4736-92e7-d133190142b8</td>\n",
       "      <td>1.471644e+12</td>\n",
       "    </tr>\n",
       "    <tr>\n",
       "      <th>43</th>\n",
       "      <td>ud4097fbb4471c8c54512814bf0182e03</td>\n",
       "      <td>u96e826dccd3c9db56d684a5ddffc3154</td>\n",
       "      <td>很多 威秀也有</td>\n",
       "      <td>fe214cfc-22d1-4736-92e7-d133190142b8</td>\n",
       "      <td>1.471644e+12</td>\n",
       "    </tr>\n",
       "    <tr>\n",
       "      <th>48</th>\n",
       "      <td>ud4097fbb4471c8c54512814bf0182e03</td>\n",
       "      <td>u96e826dccd3c9db56d684a5ddffc3154</td>\n",
       "      <td>A送不知道是誰的B</td>\n",
       "      <td>fe214cfc-22d1-4736-92e7-d133190142b8</td>\n",
       "      <td>1.471644e+12</td>\n",
       "    </tr>\n",
       "    <tr>\n",
       "      <th>49</th>\n",
       "      <td>ud4097fbb4471c8c54512814bf0182e03</td>\n",
       "      <td>u96e826dccd3c9db56d684a5ddffc3154</td>\n",
       "      <td>A買序號 給B就好</td>\n",
       "      <td>fe214cfc-22d1-4736-92e7-d133190142b8</td>\n",
       "      <td>1.471644e+12</td>\n",
       "    </tr>\n",
       "    <tr>\n",
       "      <th>52</th>\n",
       "      <td>ud4097fbb4471c8c54512814bf0182e03</td>\n",
       "      <td>u96e826dccd3c9db56d684a5ddffc3154</td>\n",
       "      <td>昨天花錢買的序號</td>\n",
       "      <td>fe214cfc-22d1-4736-92e7-d133190142b8</td>\n",
       "      <td>1.471644e+12</td>\n",
       "    </tr>\n",
       "    <tr>\n",
       "      <th>53</th>\n",
       "      <td>ud4097fbb4471c8c54512814bf0182e03</td>\n",
       "      <td>u96e826dccd3c9db56d684a5ddffc3154</td>\n",
       "      <td>你有去美聯社可以換... 我是不知道哪裡有美聯社</td>\n",
       "      <td>fe214cfc-22d1-4736-92e7-d133190142b8</td>\n",
       "      <td>1.471644e+12</td>\n",
       "    </tr>\n",
       "    <tr>\n",
       "      <th>...</th>\n",
       "      <td>...</td>\n",
       "      <td>...</td>\n",
       "      <td>...</td>\n",
       "      <td>...</td>\n",
       "      <td>...</td>\n",
       "    </tr>\n",
       "    <tr>\n",
       "      <th>294143</th>\n",
       "      <td>ud4097fbb4471c8c54512814bf0182e03</td>\n",
       "      <td>u55b2649e05072d257600a66dfe30cb78</td>\n",
       "      <td>開</td>\n",
       "      <td>c0234140-ddc6-4e76-935d-fccac3bc9045</td>\n",
       "      <td>1.474090e+12</td>\n",
       "    </tr>\n",
       "    <tr>\n",
       "      <th>294145</th>\n",
       "      <td>ud4097fbb4471c8c54512814bf0182e03</td>\n",
       "      <td>u55b2649e05072d257600a66dfe30cb78</td>\n",
       "      <td>喔喔喔</td>\n",
       "      <td>c0234140-ddc6-4e76-935d-fccac3bc9045</td>\n",
       "      <td>1.474090e+12</td>\n",
       "    </tr>\n",
       "    <tr>\n",
       "      <th>294147</th>\n",
       "      <td>ud4097fbb4471c8c54512814bf0182e03</td>\n",
       "      <td>u55b2649e05072d257600a66dfe30cb78</td>\n",
       "      <td>喔什麼？</td>\n",
       "      <td>c0234140-ddc6-4e76-935d-fccac3bc9045</td>\n",
       "      <td>1.474090e+12</td>\n",
       "    </tr>\n",
       "    <tr>\n",
       "      <th>294181</th>\n",
       "      <td>ud4097fbb4471c8c54512814bf0182e03</td>\n",
       "      <td>u55b2649e05072d257600a66dfe30cb78</td>\n",
       "      <td>喔喔語？</td>\n",
       "      <td>c0234140-ddc6-4e76-935d-fccac3bc9045</td>\n",
       "      <td>1.474090e+12</td>\n",
       "    </tr>\n",
       "    <tr>\n",
       "      <th>294182</th>\n",
       "      <td>ud4097fbb4471c8c54512814bf0182e03</td>\n",
       "      <td>u55b2649e05072d257600a66dfe30cb78</td>\n",
       "      <td>我是陌生人</td>\n",
       "      <td>c0234140-ddc6-4e76-935d-fccac3bc9045</td>\n",
       "      <td>1.474090e+12</td>\n",
       "    </tr>\n",
       "    <tr>\n",
       "      <th>294184</th>\n",
       "      <td>ud4097fbb4471c8c54512814bf0182e03</td>\n",
       "      <td>u55b2649e05072d257600a66dfe30cb78</td>\n",
       "      <td>哈屁喔</td>\n",
       "      <td>c0234140-ddc6-4e76-935d-fccac3bc9045</td>\n",
       "      <td>1.474090e+12</td>\n",
       "    </tr>\n",
       "    <tr>\n",
       "      <th>294186</th>\n",
       "      <td>ud4097fbb4471c8c54512814bf0182e03</td>\n",
       "      <td>u55b2649e05072d257600a66dfe30cb78</td>\n",
       "      <td>對啊</td>\n",
       "      <td>c0234140-ddc6-4e76-935d-fccac3bc9045</td>\n",
       "      <td>1.474090e+12</td>\n",
       "    </tr>\n",
       "    <tr>\n",
       "      <th>294188</th>\n",
       "      <td>ud4097fbb4471c8c54512814bf0182e03</td>\n",
       "      <td>u55b2649e05072d257600a66dfe30cb78</td>\n",
       "      <td>你好你好</td>\n",
       "      <td>c0234140-ddc6-4e76-935d-fccac3bc9045</td>\n",
       "      <td>1.474090e+12</td>\n",
       "    </tr>\n",
       "    <tr>\n",
       "      <th>294190</th>\n",
       "      <td>ud4097fbb4471c8c54512814bf0182e03</td>\n",
       "      <td>u55b2649e05072d257600a66dfe30cb78</td>\n",
       "      <td>小明？</td>\n",
       "      <td>c0234140-ddc6-4e76-935d-fccac3bc9045</td>\n",
       "      <td>1.474090e+12</td>\n",
       "    </tr>\n",
       "    <tr>\n",
       "      <th>294191</th>\n",
       "      <td>ud4097fbb4471c8c54512814bf0182e03</td>\n",
       "      <td>u55b2649e05072d257600a66dfe30cb78</td>\n",
       "      <td>小王？</td>\n",
       "      <td>c0234140-ddc6-4e76-935d-fccac3bc9045</td>\n",
       "      <td>1.474090e+12</td>\n",
       "    </tr>\n",
       "    <tr>\n",
       "      <th>294207</th>\n",
       "      <td>ud4097fbb4471c8c54512814bf0182e03</td>\n",
       "      <td>u55b2649e05072d257600a66dfe30cb78</td>\n",
       "      <td>阿明？</td>\n",
       "      <td>c0234140-ddc6-4e76-935d-fccac3bc9045</td>\n",
       "      <td>1.474091e+12</td>\n",
       "    </tr>\n",
       "    <tr>\n",
       "      <th>294208</th>\n",
       "      <td>ud4097fbb4471c8c54512814bf0182e03</td>\n",
       "      <td>u55b2649e05072d257600a66dfe30cb78</td>\n",
       "      <td>小惠？</td>\n",
       "      <td>c0234140-ddc6-4e76-935d-fccac3bc9045</td>\n",
       "      <td>1.474091e+12</td>\n",
       "    </tr>\n",
       "    <tr>\n",
       "      <th>294209</th>\n",
       "      <td>ud4097fbb4471c8c54512814bf0182e03</td>\n",
       "      <td>u55b2649e05072d257600a66dfe30cb78</td>\n",
       "      <td>英九？</td>\n",
       "      <td>c0234140-ddc6-4e76-935d-fccac3bc9045</td>\n",
       "      <td>1.474091e+12</td>\n",
       "    </tr>\n",
       "    <tr>\n",
       "      <th>294211</th>\n",
       "      <td>ud4097fbb4471c8c54512814bf0182e03</td>\n",
       "      <td>u55b2649e05072d257600a66dfe30cb78</td>\n",
       "      <td>金平？</td>\n",
       "      <td>c0234140-ddc6-4e76-935d-fccac3bc9045</td>\n",
       "      <td>1.474091e+12</td>\n",
       "    </tr>\n",
       "    <tr>\n",
       "      <th>294212</th>\n",
       "      <td>ud4097fbb4471c8c54512814bf0182e03</td>\n",
       "      <td>u55b2649e05072d257600a66dfe30cb78</td>\n",
       "      <td>阿來？</td>\n",
       "      <td>c0234140-ddc6-4e76-935d-fccac3bc9045</td>\n",
       "      <td>1.474091e+12</td>\n",
       "    </tr>\n",
       "    <tr>\n",
       "      <th>294213</th>\n",
       "      <td>ud4097fbb4471c8c54512814bf0182e03</td>\n",
       "      <td>u55b2649e05072d257600a66dfe30cb78</td>\n",
       "      <td>菜頭？</td>\n",
       "      <td>c0234140-ddc6-4e76-935d-fccac3bc9045</td>\n",
       "      <td>1.474091e+12</td>\n",
       "    </tr>\n",
       "    <tr>\n",
       "      <th>294214</th>\n",
       "      <td>ud4097fbb4471c8c54512814bf0182e03</td>\n",
       "      <td>u55b2649e05072d257600a66dfe30cb78</td>\n",
       "      <td>臭嘴？</td>\n",
       "      <td>c0234140-ddc6-4e76-935d-fccac3bc9045</td>\n",
       "      <td>1.474091e+12</td>\n",
       "    </tr>\n",
       "    <tr>\n",
       "      <th>294215</th>\n",
       "      <td>ud4097fbb4471c8c54512814bf0182e03</td>\n",
       "      <td>u55b2649e05072d257600a66dfe30cb78</td>\n",
       "      <td>小隻？</td>\n",
       "      <td>c0234140-ddc6-4e76-935d-fccac3bc9045</td>\n",
       "      <td>1.474091e+12</td>\n",
       "    </tr>\n",
       "    <tr>\n",
       "      <th>294216</th>\n",
       "      <td>ud4097fbb4471c8c54512814bf0182e03</td>\n",
       "      <td>u55b2649e05072d257600a66dfe30cb78</td>\n",
       "      <td>肥肥？</td>\n",
       "      <td>c0234140-ddc6-4e76-935d-fccac3bc9045</td>\n",
       "      <td>1.474091e+12</td>\n",
       "    </tr>\n",
       "    <tr>\n",
       "      <th>294217</th>\n",
       "      <td>ud4097fbb4471c8c54512814bf0182e03</td>\n",
       "      <td>u55b2649e05072d257600a66dfe30cb78</td>\n",
       "      <td>我快沒梗了</td>\n",
       "      <td>c0234140-ddc6-4e76-935d-fccac3bc9045</td>\n",
       "      <td>1.474091e+12</td>\n",
       "    </tr>\n",
       "    <tr>\n",
       "      <th>294238</th>\n",
       "      <td>ud4097fbb4471c8c54512814bf0182e03</td>\n",
       "      <td>u55b2649e05072d257600a66dfe30cb78</td>\n",
       "      <td>台北</td>\n",
       "      <td>c0234140-ddc6-4e76-935d-fccac3bc9045</td>\n",
       "      <td>1.474091e+12</td>\n",
       "    </tr>\n",
       "    <tr>\n",
       "      <th>294239</th>\n",
       "      <td>ud4097fbb4471c8c54512814bf0182e03</td>\n",
       "      <td>u55b2649e05072d257600a66dfe30cb78</td>\n",
       "      <td>台中</td>\n",
       "      <td>c0234140-ddc6-4e76-935d-fccac3bc9045</td>\n",
       "      <td>1.474091e+12</td>\n",
       "    </tr>\n",
       "    <tr>\n",
       "      <th>294240</th>\n",
       "      <td>ud4097fbb4471c8c54512814bf0182e03</td>\n",
       "      <td>u55b2649e05072d257600a66dfe30cb78</td>\n",
       "      <td>高雄</td>\n",
       "      <td>c0234140-ddc6-4e76-935d-fccac3bc9045</td>\n",
       "      <td>1.474091e+12</td>\n",
       "    </tr>\n",
       "    <tr>\n",
       "      <th>294257</th>\n",
       "      <td>ud4097fbb4471c8c54512814bf0182e03</td>\n",
       "      <td>u55b2649e05072d257600a66dfe30cb78</td>\n",
       "      <td>我要猜一圈嗎？</td>\n",
       "      <td>c0234140-ddc6-4e76-935d-fccac3bc9045</td>\n",
       "      <td>1.474091e+12</td>\n",
       "    </tr>\n",
       "    <tr>\n",
       "      <th>294286</th>\n",
       "      <td>ud4097fbb4471c8c54512814bf0182e03</td>\n",
       "      <td>u55b2649e05072d257600a66dfe30cb78</td>\n",
       "      <td>台北</td>\n",
       "      <td>c0234140-ddc6-4e76-935d-fccac3bc9045</td>\n",
       "      <td>1.474091e+12</td>\n",
       "    </tr>\n",
       "    <tr>\n",
       "      <th>294297</th>\n",
       "      <td>ud4097fbb4471c8c54512814bf0182e03</td>\n",
       "      <td>u55b2649e05072d257600a66dfe30cb78</td>\n",
       "      <td>？</td>\n",
       "      <td>c0234140-ddc6-4e76-935d-fccac3bc9045</td>\n",
       "      <td>1.474091e+12</td>\n",
       "    </tr>\n",
       "    <tr>\n",
       "      <th>294301</th>\n",
       "      <td>ud4097fbb4471c8c54512814bf0182e03</td>\n",
       "      <td>u55b2649e05072d257600a66dfe30cb78</td>\n",
       "      <td>台北</td>\n",
       "      <td>c0234140-ddc6-4e76-935d-fccac3bc9045</td>\n",
       "      <td>1.474091e+12</td>\n",
       "    </tr>\n",
       "    <tr>\n",
       "      <th>294323</th>\n",
       "      <td>ud4097fbb4471c8c54512814bf0182e03</td>\n",
       "      <td>u55b2649e05072d257600a66dfe30cb78</td>\n",
       "      <td>對呀</td>\n",
       "      <td>c0234140-ddc6-4e76-935d-fccac3bc9045</td>\n",
       "      <td>1.474091e+12</td>\n",
       "    </tr>\n",
       "    <tr>\n",
       "      <th>294324</th>\n",
       "      <td>ud4097fbb4471c8c54512814bf0182e03</td>\n",
       "      <td>u55b2649e05072d257600a66dfe30cb78</td>\n",
       "      <td>我剛剛恍神了一下</td>\n",
       "      <td>c0234140-ddc6-4e76-935d-fccac3bc9045</td>\n",
       "      <td>1.474091e+12</td>\n",
       "    </tr>\n",
       "    <tr>\n",
       "      <th>294347</th>\n",
       "      <td>ud4097fbb4471c8c54512814bf0182e03</td>\n",
       "      <td>u55b2649e05072d257600a66dfe30cb78</td>\n",
       "      <td>我要來睡覺</td>\n",
       "      <td>c0234140-ddc6-4e76-935d-fccac3bc9045</td>\n",
       "      <td>1.474091e+12</td>\n",
       "    </tr>\n",
       "  </tbody>\n",
       "</table>\n",
       "<p>1074 rows × 5 columns</p>\n",
       "</div>"
      ],
      "text/plain": [
       "                                     from                                 to  \\\n",
       "0       ud4097fbb4471c8c54512814bf0182e03  u84fa1e46e99df373e0f978c2ba274f9a   \n",
       "1       ud4097fbb4471c8c54512814bf0182e03  u96e826dccd3c9db56d684a5ddffc3154   \n",
       "3       ud4097fbb4471c8c54512814bf0182e03  u96e826dccd3c9db56d684a5ddffc3154   \n",
       "6       ud4097fbb4471c8c54512814bf0182e03  u96e826dccd3c9db56d684a5ddffc3154   \n",
       "8       ud4097fbb4471c8c54512814bf0182e03  u96e826dccd3c9db56d684a5ddffc3154   \n",
       "10      ud4097fbb4471c8c54512814bf0182e03  u96e826dccd3c9db56d684a5ddffc3154   \n",
       "13      ud4097fbb4471c8c54512814bf0182e03  u96e826dccd3c9db56d684a5ddffc3154   \n",
       "14      ud4097fbb4471c8c54512814bf0182e03  u96e826dccd3c9db56d684a5ddffc3154   \n",
       "15      ud4097fbb4471c8c54512814bf0182e03  u96e826dccd3c9db56d684a5ddffc3154   \n",
       "17      ud4097fbb4471c8c54512814bf0182e03  u96e826dccd3c9db56d684a5ddffc3154   \n",
       "18      ud4097fbb4471c8c54512814bf0182e03  u96e826dccd3c9db56d684a5ddffc3154   \n",
       "21      ud4097fbb4471c8c54512814bf0182e03  u96e826dccd3c9db56d684a5ddffc3154   \n",
       "24      ud4097fbb4471c8c54512814bf0182e03  u96e826dccd3c9db56d684a5ddffc3154   \n",
       "25      ud4097fbb4471c8c54512814bf0182e03  u96e826dccd3c9db56d684a5ddffc3154   \n",
       "27      ud4097fbb4471c8c54512814bf0182e03  u96e826dccd3c9db56d684a5ddffc3154   \n",
       "29      ud4097fbb4471c8c54512814bf0182e03  u96e826dccd3c9db56d684a5ddffc3154   \n",
       "30      ud4097fbb4471c8c54512814bf0182e03  u96e826dccd3c9db56d684a5ddffc3154   \n",
       "31      ud4097fbb4471c8c54512814bf0182e03  u96e826dccd3c9db56d684a5ddffc3154   \n",
       "33      ud4097fbb4471c8c54512814bf0182e03  u96e826dccd3c9db56d684a5ddffc3154   \n",
       "35      ud4097fbb4471c8c54512814bf0182e03  u96e826dccd3c9db56d684a5ddffc3154   \n",
       "36      ud4097fbb4471c8c54512814bf0182e03  u96e826dccd3c9db56d684a5ddffc3154   \n",
       "38      ud4097fbb4471c8c54512814bf0182e03  u96e826dccd3c9db56d684a5ddffc3154   \n",
       "39      ud4097fbb4471c8c54512814bf0182e03  u96e826dccd3c9db56d684a5ddffc3154   \n",
       "41      ud4097fbb4471c8c54512814bf0182e03  u96e826dccd3c9db56d684a5ddffc3154   \n",
       "42      ud4097fbb4471c8c54512814bf0182e03  u96e826dccd3c9db56d684a5ddffc3154   \n",
       "43      ud4097fbb4471c8c54512814bf0182e03  u96e826dccd3c9db56d684a5ddffc3154   \n",
       "48      ud4097fbb4471c8c54512814bf0182e03  u96e826dccd3c9db56d684a5ddffc3154   \n",
       "49      ud4097fbb4471c8c54512814bf0182e03  u96e826dccd3c9db56d684a5ddffc3154   \n",
       "52      ud4097fbb4471c8c54512814bf0182e03  u96e826dccd3c9db56d684a5ddffc3154   \n",
       "53      ud4097fbb4471c8c54512814bf0182e03  u96e826dccd3c9db56d684a5ddffc3154   \n",
       "...                                   ...                                ...   \n",
       "294143  ud4097fbb4471c8c54512814bf0182e03  u55b2649e05072d257600a66dfe30cb78   \n",
       "294145  ud4097fbb4471c8c54512814bf0182e03  u55b2649e05072d257600a66dfe30cb78   \n",
       "294147  ud4097fbb4471c8c54512814bf0182e03  u55b2649e05072d257600a66dfe30cb78   \n",
       "294181  ud4097fbb4471c8c54512814bf0182e03  u55b2649e05072d257600a66dfe30cb78   \n",
       "294182  ud4097fbb4471c8c54512814bf0182e03  u55b2649e05072d257600a66dfe30cb78   \n",
       "294184  ud4097fbb4471c8c54512814bf0182e03  u55b2649e05072d257600a66dfe30cb78   \n",
       "294186  ud4097fbb4471c8c54512814bf0182e03  u55b2649e05072d257600a66dfe30cb78   \n",
       "294188  ud4097fbb4471c8c54512814bf0182e03  u55b2649e05072d257600a66dfe30cb78   \n",
       "294190  ud4097fbb4471c8c54512814bf0182e03  u55b2649e05072d257600a66dfe30cb78   \n",
       "294191  ud4097fbb4471c8c54512814bf0182e03  u55b2649e05072d257600a66dfe30cb78   \n",
       "294207  ud4097fbb4471c8c54512814bf0182e03  u55b2649e05072d257600a66dfe30cb78   \n",
       "294208  ud4097fbb4471c8c54512814bf0182e03  u55b2649e05072d257600a66dfe30cb78   \n",
       "294209  ud4097fbb4471c8c54512814bf0182e03  u55b2649e05072d257600a66dfe30cb78   \n",
       "294211  ud4097fbb4471c8c54512814bf0182e03  u55b2649e05072d257600a66dfe30cb78   \n",
       "294212  ud4097fbb4471c8c54512814bf0182e03  u55b2649e05072d257600a66dfe30cb78   \n",
       "294213  ud4097fbb4471c8c54512814bf0182e03  u55b2649e05072d257600a66dfe30cb78   \n",
       "294214  ud4097fbb4471c8c54512814bf0182e03  u55b2649e05072d257600a66dfe30cb78   \n",
       "294215  ud4097fbb4471c8c54512814bf0182e03  u55b2649e05072d257600a66dfe30cb78   \n",
       "294216  ud4097fbb4471c8c54512814bf0182e03  u55b2649e05072d257600a66dfe30cb78   \n",
       "294217  ud4097fbb4471c8c54512814bf0182e03  u55b2649e05072d257600a66dfe30cb78   \n",
       "294238  ud4097fbb4471c8c54512814bf0182e03  u55b2649e05072d257600a66dfe30cb78   \n",
       "294239  ud4097fbb4471c8c54512814bf0182e03  u55b2649e05072d257600a66dfe30cb78   \n",
       "294240  ud4097fbb4471c8c54512814bf0182e03  u55b2649e05072d257600a66dfe30cb78   \n",
       "294257  ud4097fbb4471c8c54512814bf0182e03  u55b2649e05072d257600a66dfe30cb78   \n",
       "294286  ud4097fbb4471c8c54512814bf0182e03  u55b2649e05072d257600a66dfe30cb78   \n",
       "294297  ud4097fbb4471c8c54512814bf0182e03  u55b2649e05072d257600a66dfe30cb78   \n",
       "294301  ud4097fbb4471c8c54512814bf0182e03  u55b2649e05072d257600a66dfe30cb78   \n",
       "294323  ud4097fbb4471c8c54512814bf0182e03  u55b2649e05072d257600a66dfe30cb78   \n",
       "294324  ud4097fbb4471c8c54512814bf0182e03  u55b2649e05072d257600a66dfe30cb78   \n",
       "294347  ud4097fbb4471c8c54512814bf0182e03  u55b2649e05072d257600a66dfe30cb78   \n",
       "\n",
       "                            text                                  room  \\\n",
       "0                             wd  8aee77a7-1d90-4d0f-b3c3-3f7b94a90e36   \n",
       "1                             嗨嗨  fe214cfc-22d1-4736-92e7-d133190142b8   \n",
       "3                     你是第二個使用者ＱＱ  fe214cfc-22d1-4736-92e7-d133190142b8   \n",
       "6                         什麼限定版？  fe214cfc-22d1-4736-92e7-d133190142b8   \n",
       "8                    等我睡醒再來寫fb版本  fe214cfc-22d1-4736-92e7-d133190142b8   \n",
       "10                       剛寫完line  fe214cfc-22d1-4736-92e7-d133190142b8   \n",
       "13                           可以吧  fe214cfc-22d1-4736-92e7-d133190142b8   \n",
       "14                           哈哈哈  fe214cfc-22d1-4736-92e7-d133190142b8   \n",
       "15                         yoooo  fe214cfc-22d1-4736-92e7-d133190142b8   \n",
       "17                     貼圖我直接關掉ＸＤ  fe214cfc-22d1-4736-92e7-d133190142b8   \n",
       "18                        晚點再來研究  fe214cfc-22d1-4736-92e7-d133190142b8   \n",
       "21               不支援是我這邊傳出去的....  fe214cfc-22d1-4736-92e7-d133190142b8   \n",
       "24                       不知道能不能傳  fe214cfc-22d1-4736-92e7-d133190142b8   \n",
       "25               因為這個機器人帳號沒有那個貼圖  fe214cfc-22d1-4736-92e7-d133190142b8   \n",
       "27                            可以  fe214cfc-22d1-4736-92e7-d133190142b8   \n",
       "29                            可以  fe214cfc-22d1-4736-92e7-d133190142b8   \n",
       "30       我在想啊 這個商業模式 就做匿名贈禮好了...  fe214cfc-22d1-4736-92e7-d133190142b8   \n",
       "31        跟我買咖啡兌換序號 麥當勞兌換序號 送給對方  fe214cfc-22d1-4736-92e7-d133190142b8   \n",
       "33                            對啊  fe214cfc-22d1-4736-92e7-d133190142b8   \n",
       "35                     交友軟體不都這樣搞  fe214cfc-22d1-4736-92e7-d133190142b8   \n",
       "36                           哈哈哈  fe214cfc-22d1-4736-92e7-d133190142b8   \n",
       "38                     不是 送商品兌換的  fe214cfc-22d1-4736-92e7-d133190142b8   \n",
       "39                       我昨天查了一下  fe214cfc-22d1-4736-92e7-d133190142b8   \n",
       "41         711的東西 麥當勞 肯德基 都可以買序號  fe214cfc-22d1-4736-92e7-d133190142b8   \n",
       "42                 然後拿序號去實體商店換商品  fe214cfc-22d1-4736-92e7-d133190142b8   \n",
       "43                       很多 威秀也有  fe214cfc-22d1-4736-92e7-d133190142b8   \n",
       "48                     A送不知道是誰的B  fe214cfc-22d1-4736-92e7-d133190142b8   \n",
       "49                     A買序號 給B就好  fe214cfc-22d1-4736-92e7-d133190142b8   \n",
       "52                      昨天花錢買的序號  fe214cfc-22d1-4736-92e7-d133190142b8   \n",
       "53      你有去美聯社可以換... 我是不知道哪裡有美聯社  fe214cfc-22d1-4736-92e7-d133190142b8   \n",
       "...                          ...                                   ...   \n",
       "294143                         開  c0234140-ddc6-4e76-935d-fccac3bc9045   \n",
       "294145                       喔喔喔  c0234140-ddc6-4e76-935d-fccac3bc9045   \n",
       "294147                      喔什麼？  c0234140-ddc6-4e76-935d-fccac3bc9045   \n",
       "294181                      喔喔語？  c0234140-ddc6-4e76-935d-fccac3bc9045   \n",
       "294182                     我是陌生人  c0234140-ddc6-4e76-935d-fccac3bc9045   \n",
       "294184                       哈屁喔  c0234140-ddc6-4e76-935d-fccac3bc9045   \n",
       "294186                        對啊  c0234140-ddc6-4e76-935d-fccac3bc9045   \n",
       "294188                      你好你好  c0234140-ddc6-4e76-935d-fccac3bc9045   \n",
       "294190                       小明？  c0234140-ddc6-4e76-935d-fccac3bc9045   \n",
       "294191                       小王？  c0234140-ddc6-4e76-935d-fccac3bc9045   \n",
       "294207                       阿明？  c0234140-ddc6-4e76-935d-fccac3bc9045   \n",
       "294208                       小惠？  c0234140-ddc6-4e76-935d-fccac3bc9045   \n",
       "294209                       英九？  c0234140-ddc6-4e76-935d-fccac3bc9045   \n",
       "294211                       金平？  c0234140-ddc6-4e76-935d-fccac3bc9045   \n",
       "294212                       阿來？  c0234140-ddc6-4e76-935d-fccac3bc9045   \n",
       "294213                       菜頭？  c0234140-ddc6-4e76-935d-fccac3bc9045   \n",
       "294214                       臭嘴？  c0234140-ddc6-4e76-935d-fccac3bc9045   \n",
       "294215                       小隻？  c0234140-ddc6-4e76-935d-fccac3bc9045   \n",
       "294216                       肥肥？  c0234140-ddc6-4e76-935d-fccac3bc9045   \n",
       "294217                     我快沒梗了  c0234140-ddc6-4e76-935d-fccac3bc9045   \n",
       "294238                        台北  c0234140-ddc6-4e76-935d-fccac3bc9045   \n",
       "294239                        台中  c0234140-ddc6-4e76-935d-fccac3bc9045   \n",
       "294240                        高雄  c0234140-ddc6-4e76-935d-fccac3bc9045   \n",
       "294257                   我要猜一圈嗎？  c0234140-ddc6-4e76-935d-fccac3bc9045   \n",
       "294286                        台北  c0234140-ddc6-4e76-935d-fccac3bc9045   \n",
       "294297                         ？  c0234140-ddc6-4e76-935d-fccac3bc9045   \n",
       "294301                        台北  c0234140-ddc6-4e76-935d-fccac3bc9045   \n",
       "294323                        對呀  c0234140-ddc6-4e76-935d-fccac3bc9045   \n",
       "294324                  我剛剛恍神了一下  c0234140-ddc6-4e76-935d-fccac3bc9045   \n",
       "294347                     我要來睡覺  c0234140-ddc6-4e76-935d-fccac3bc9045   \n",
       "\n",
       "                time  \n",
       "0       1.471640e+12  \n",
       "1       1.471643e+12  \n",
       "3       1.471643e+12  \n",
       "6       1.471643e+12  \n",
       "8       1.471643e+12  \n",
       "10      1.471643e+12  \n",
       "13      1.471643e+12  \n",
       "14      1.471643e+12  \n",
       "15      1.471643e+12  \n",
       "17      1.471643e+12  \n",
       "18      1.471643e+12  \n",
       "21      1.471644e+12  \n",
       "24      1.471644e+12  \n",
       "25      1.471644e+12  \n",
       "27      1.471644e+12  \n",
       "29      1.471644e+12  \n",
       "30      1.471644e+12  \n",
       "31      1.471644e+12  \n",
       "33      1.471644e+12  \n",
       "35      1.471644e+12  \n",
       "36      1.471644e+12  \n",
       "38      1.471644e+12  \n",
       "39      1.471644e+12  \n",
       "41      1.471644e+12  \n",
       "42      1.471644e+12  \n",
       "43      1.471644e+12  \n",
       "48      1.471644e+12  \n",
       "49      1.471644e+12  \n",
       "52      1.471644e+12  \n",
       "53      1.471644e+12  \n",
       "...              ...  \n",
       "294143  1.474090e+12  \n",
       "294145  1.474090e+12  \n",
       "294147  1.474090e+12  \n",
       "294181  1.474090e+12  \n",
       "294182  1.474090e+12  \n",
       "294184  1.474090e+12  \n",
       "294186  1.474090e+12  \n",
       "294188  1.474090e+12  \n",
       "294190  1.474090e+12  \n",
       "294191  1.474090e+12  \n",
       "294207  1.474091e+12  \n",
       "294208  1.474091e+12  \n",
       "294209  1.474091e+12  \n",
       "294211  1.474091e+12  \n",
       "294212  1.474091e+12  \n",
       "294213  1.474091e+12  \n",
       "294214  1.474091e+12  \n",
       "294215  1.474091e+12  \n",
       "294216  1.474091e+12  \n",
       "294217  1.474091e+12  \n",
       "294238  1.474091e+12  \n",
       "294239  1.474091e+12  \n",
       "294240  1.474091e+12  \n",
       "294257  1.474091e+12  \n",
       "294286  1.474091e+12  \n",
       "294297  1.474091e+12  \n",
       "294301  1.474091e+12  \n",
       "294323  1.474091e+12  \n",
       "294324  1.474091e+12  \n",
       "294347  1.474091e+12  \n",
       "\n",
       "[1074 rows x 5 columns]"
      ]
     },
     "execution_count": 67,
     "metadata": {},
     "output_type": "execute_result"
    }
   ],
   "source": [
    "df.loc[df['from'] == 'ud4097fbb4471c8c54512814bf0182e03']\n"
   ]
  },
  {
   "cell_type": "code",
   "execution_count": 64,
   "metadata": {},
   "outputs": [
    {
     "data": {
      "text/html": [
       "<div>\n",
       "<style scoped>\n",
       "    .dataframe tbody tr th:only-of-type {\n",
       "        vertical-align: middle;\n",
       "    }\n",
       "\n",
       "    .dataframe tbody tr th {\n",
       "        vertical-align: top;\n",
       "    }\n",
       "\n",
       "    .dataframe thead th {\n",
       "        text-align: right;\n",
       "    }\n",
       "</style>\n",
       "<table border=\"1\" class=\"dataframe\">\n",
       "  <thead>\n",
       "    <tr style=\"text-align: right;\">\n",
       "      <th></th>\n",
       "      <th>from</th>\n",
       "      <th>text</th>\n",
       "      <th>category</th>\n",
       "    </tr>\n",
       "  </thead>\n",
       "  <tbody>\n",
       "    <tr>\n",
       "      <th>0</th>\n",
       "      <td>1000080793444348</td>\n",
       "      <td>[嗨嗨, 安安, 幾歲呢, 我也是, 😂😂, 我男生, 嗨嗨, 我男生😂😂, 嗨嗨, 欸欸不...</td>\n",
       "      <td>0</td>\n",
       "    </tr>\n",
       "    <tr>\n",
       "      <th>1</th>\n",
       "      <td>1000309370066644</td>\n",
       "      <td>[哈哈哈哈哈好酷哦, 你好, 媽妳在哪, 矮額, 嗨, 覺得酷, 哈哈哈哈, 我在上, 生物...</td>\n",
       "      <td>2</td>\n",
       "    </tr>\n",
       "    <tr>\n",
       "      <th>2</th>\n",
       "      <td>1000515923404164</td>\n",
       "      <td>[安安, 看dcard 的, 真假, 高中生😂😂, 你大幾？, 女生😂😂, 嗨, 嗨, 哈哈...</td>\n",
       "      <td>2</td>\n",
       "    </tr>\n",
       "    <tr>\n",
       "      <th>3</th>\n",
       "      <td>1000617956728437</td>\n",
       "      <td>[Hi, 你好, 放假囉, 我畢業一段時間了😂, Yup, 看完覺得有趣, 對啊。\\n不過我...</td>\n",
       "      <td>2</td>\n",
       "    </tr>\n",
       "    <tr>\n",
       "      <th>4</th>\n",
       "      <td>1000669336711180</td>\n",
       "      <td>[哈囉, 剛剛在Dcard看到的, 好酷哦, 是啊不是只有大學, 才有Dcard, 我現在在...</td>\n",
       "      <td>0</td>\n",
       "    </tr>\n",
       "  </tbody>\n",
       "</table>\n",
       "</div>"
      ],
      "text/plain": [
       "               from                                               text  \\\n",
       "0  1000080793444348  [嗨嗨, 安安, 幾歲呢, 我也是, 😂😂, 我男生, 嗨嗨, 我男生😂😂, 嗨嗨, 欸欸不...   \n",
       "1  1000309370066644  [哈哈哈哈哈好酷哦, 你好, 媽妳在哪, 矮額, 嗨, 覺得酷, 哈哈哈哈, 我在上, 生物...   \n",
       "2  1000515923404164  [安安, 看dcard 的, 真假, 高中生😂😂, 你大幾？, 女生😂😂, 嗨, 嗨, 哈哈...   \n",
       "3  1000617956728437  [Hi, 你好, 放假囉, 我畢業一段時間了😂, Yup, 看完覺得有趣, 對啊。\\n不過我...   \n",
       "4  1000669336711180  [哈囉, 剛剛在Dcard看到的, 好酷哦, 是啊不是只有大學, 才有Dcard, 我現在在...   \n",
       "\n",
       "   category  \n",
       "0         0  \n",
       "1         2  \n",
       "2         2  \n",
       "3         2  \n",
       "4         0  "
      ]
     },
     "execution_count": 64,
     "metadata": {},
     "output_type": "execute_result"
    }
   ],
   "source": [
    "grouped_data.head()\n",
    "# type(grouped_data.text[0])"
   ]
  },
  {
   "cell_type": "code",
   "execution_count": 8,
   "metadata": {},
   "outputs": [
    {
     "name": "stdout",
     "output_type": "stream",
     "text": [
      "id為 1000080793444348 的使用者傳送的訊息 ：['嗨嗨', '安安', '幾歲呢', '我也是', '😂😂', '我男生', '嗨嗨', '我男生😂😂', '嗨嗨', '欸欸不在嗎？', '嗨嗨', '？？', '安安', '男17', '喔喔ok', '😂😂', '嗯嗯', '對', '哈哈😂😂', '一樣吧', '哪裡人呀？', '哇嗚唯一不靠海', '嗨嗨', '我高二男生喔😂😂', '哈哈', '掰掰', '嗨嗨', '有人嗎？', '嗨嗨', '嗨嗨', '什麼？？', '😂😂', '我高二男生@@', '不好玩', '換了班換了人', '二類', 'XD', '怎麼？？', '過來人？', '我還有頭髮的', '😃😃', '噗ㄘ', '不是和尚啦', '不是', '嗨嗨', '安安', '高二男生喔😂😂', '哈哈', '那掰掰', '自己說', '噗ㄘ', '掰掰', '？？', '欸欸？', '安安', '高二男生喔😂😂', '……', '好喔', '嗨嗨', '你好', '我是男生', '啊啊好巧喔', 'XD', '欸欸？', '😶😶😶', '？', '嗯嗯', '加油', '嗨嗨', '那掰掰吧😂', '嗨嗨', '嗨嗨', '男生😶', '我？', '我說我男生', '嗨嗨', '我男生😶', '覺得這裡有點像woo了😂😂', 'Wootalk阿跟這個差不多', '不過裡面有90%的機率是男的', '好無聊']\n"
     ]
    }
   ],
   "source": [
    "print('id為 {} 的使用者傳送的訊息 ：{}'.format(grouped_data.iloc[0][0],grouped_data.iloc[0][1]))"
   ]
  },
  {
   "cell_type": "markdown",
   "metadata": {},
   "source": [
    "## set stop word"
   ]
  },
  {
   "cell_type": "code",
   "execution_count": 9,
   "metadata": {},
   "outputs": [
    {
     "name": "stderr",
     "output_type": "stream",
     "text": [
      "Building prefix dict from /home/tp6han/gp_new/jieba_txt/dict.txt.big.txt ...\n",
      "Loading model from cache /tmp/jieba.u0ddb98113e9461fac3a7658d9e24e45e.cache\n",
      "Loading model cost 1.654 seconds.\n",
      "Prefix dict has been built succesfully.\n"
     ]
    }
   ],
   "source": [
    "import jieba\n",
    "import jieba.posseg as pseg\n",
    "import jieba.analyse\n",
    "\n",
    "jieba.set_dictionary('jieba_txt/dict.txt.big.txt')\n",
    "jieba.load_userdict(\"jieba_txt/userdict.txt\")\n",
    "stopwordset = set()\n",
    "with open('jieba_txt/stop_words.txt','r',encoding='utf-8') as sw:\n",
    "    for line in sw:\n",
    "        stopwordset.add(line.strip('\\n'))\n",
    "        \n",
    "chars = set(' abcdefghijklmnopqrstuvwxyz0123456789()?@？!$,~:.。，-_&=/􀆿\\r\\n')\n",
    "for c in chars:\n",
    "    stopwordset.add(c)"
   ]
  },
  {
   "cell_type": "code",
   "execution_count": 27,
   "metadata": {},
   "outputs": [],
   "source": [
    "# stopwordset"
   ]
  },
  {
   "cell_type": "markdown",
   "metadata": {},
   "source": [
    "## 載入分詞檔做訓練"
   ]
  },
  {
   "cell_type": "code",
   "execution_count": 10,
   "metadata": {},
   "outputs": [],
   "source": [
    "from gensim import models\n",
    "import gensim\n",
    "sentences = models.word2vec.LineSentence(\"corpusSegDone.txt\")\n",
    "model = models.word2vec.Word2Vec(sentences, size=1, window=5, min_count=5, workers=1)"
   ]
  },
  {
   "cell_type": "code",
   "execution_count": 29,
   "metadata": {},
   "outputs": [],
   "source": [
    "a = pd.read_table('corpusSegDone.txt')"
   ]
  },
  {
   "cell_type": "code",
   "execution_count": 30,
   "metadata": {},
   "outputs": [
    {
     "data": {
      "text/html": [
       "<div>\n",
       "<style scoped>\n",
       "    .dataframe tbody tr th:only-of-type {\n",
       "        vertical-align: middle;\n",
       "    }\n",
       "\n",
       "    .dataframe tbody tr th {\n",
       "        vertical-align: top;\n",
       "    }\n",
       "\n",
       "    .dataframe thead th {\n",
       "        text-align: right;\n",
       "    }\n",
       "</style>\n",
       "<table border=\"1\" class=\"dataframe\">\n",
       "  <thead>\n",
       "    <tr style=\"text-align: right;\">\n",
       "      <th></th>\n",
       "      <th>wd</th>\n",
       "    </tr>\n",
       "  </thead>\n",
       "  <tbody>\n",
       "    <tr>\n",
       "      <th>0</th>\n",
       "      <td>嗨 嗨</td>\n",
       "    </tr>\n",
       "    <tr>\n",
       "      <th>1</th>\n",
       "      <td>蛤 ？</td>\n",
       "    </tr>\n",
       "    <tr>\n",
       "      <th>2</th>\n",
       "      <td>你 是 第二 個 使用者 Ｑ Ｑ</td>\n",
       "    </tr>\n",
       "    <tr>\n",
       "      <th>3</th>\n",
       "      <td>哈哈哈哈 哈哈哈</td>\n",
       "    </tr>\n",
       "    <tr>\n",
       "      <th>4</th>\n",
       "      <td>這是 限定版 嗎</td>\n",
       "    </tr>\n",
       "  </tbody>\n",
       "</table>\n",
       "</div>"
      ],
      "text/plain": [
       "                 wd\n",
       "0               嗨 嗨\n",
       "1               蛤 ？\n",
       "2  你 是 第二 個 使用者 Ｑ Ｑ\n",
       "3          哈哈哈哈 哈哈哈\n",
       "4          這是 限定版 嗎"
      ]
     },
     "execution_count": 30,
     "metadata": {},
     "output_type": "execute_result"
    }
   ],
   "source": [
    "a.head()"
   ]
  },
  {
   "cell_type": "code",
   "execution_count": 11,
   "metadata": {},
   "outputs": [
    {
     "data": {
      "text/plain": [
       "12691"
      ]
     },
     "execution_count": 11,
     "metadata": {},
     "output_type": "execute_result"
    }
   ],
   "source": [
    "length = len(grouped_data)\n",
    "length"
   ]
  },
  {
   "cell_type": "code",
   "execution_count": 12,
   "metadata": {},
   "outputs": [
    {
     "name": "stderr",
     "output_type": "stream",
     "text": [
      "Building prefix dict from /home/tp6han/gp_new/jieba_txt/dict.txt.big.txt ...\n",
      "Loading model from cache /tmp/jieba.u0ddb98113e9461fac3a7658d9e24e45e.cache\n",
      "Loading model cost 1.648 seconds.\n",
      "Prefix dict has been built succesfully.\n"
     ]
    }
   ],
   "source": [
    "top10_vector = np.zeros(shape=(length,10))\n",
    "jieba.set_dictionary('jieba_txt/dict.txt.big.txt')\n",
    "jieba.load_userdict(\"jieba_txt/userdict.txt\")\n",
    "for i in range(length):\n",
    "    frequency = defaultdict(int)\n",
    "    for j in range(len(grouped_data.iloc[i][1])):\n",
    "        seglist = jieba.cut((grouped_data.iloc[i][1])[j])\n",
    "        texts = [word for word in seglist if word not in stopwordset]\n",
    "        for text in texts:\n",
    "            frequency[text] += 1\n",
    "    a = sorted(frequency.items(), key=operator.itemgetter(1),reverse=True)\n",
    "#     print(a)\n",
    "    \n",
    "    row = np.zeros(shape=(1,10))\n",
    "    \n",
    "    r = 10 if len(a) >= 10 else len(a)\n",
    "    for x in range(r):\n",
    "        if a[x][0] in model:\n",
    "            show = float(model[a[x][0]])\n",
    "            row[0][x] = show\n",
    "    top10_vector[i] = row"
   ]
  },
  {
   "cell_type": "code",
   "execution_count": 13,
   "metadata": {},
   "outputs": [
    {
     "data": {
      "text/plain": [
       "(12691, 10)"
      ]
     },
     "execution_count": 13,
     "metadata": {},
     "output_type": "execute_result"
    }
   ],
   "source": [
    "top10_vector.shape\n"
   ]
  },
  {
   "cell_type": "code",
   "execution_count": 25,
   "metadata": {},
   "outputs": [
    {
     "data": {
      "text/plain": [
       "137045"
      ]
     },
     "execution_count": 25,
     "metadata": {},
     "output_type": "execute_result"
    }
   ],
   "source": [
    "model.corpus_count"
   ]
  },
  {
   "cell_type": "markdown",
   "metadata": {},
   "source": [
    "# k-means clustering"
   ]
  },
  {
   "cell_type": "code",
   "execution_count": 14,
   "metadata": {},
   "outputs": [
    {
     "name": "stdout",
     "output_type": "stream",
     "text": [
      "分群結果 前10：\n",
      "[0 2 2 2 0 0 2 0 0 1]\n",
      "---\n"
     ]
    }
   ],
   "source": [
    "from sklearn import cluster, datasets\n",
    "\n",
    "# KMeans 演算法\n",
    "kmeans_fit = cluster.KMeans(n_clusters = 3,random_state=1170).fit(top10_vector)\n",
    "\n",
    "# 印出分群結果\n",
    "cluster_labels = kmeans_fit.labels_\n",
    "print(\"分群結果 前10：\")\n",
    "print(cluster_labels[:10])\n",
    "print(\"---\")"
   ]
  },
  {
   "cell_type": "code",
   "execution_count": 15,
   "metadata": {},
   "outputs": [
    {
     "data": {
      "text/plain": [
       "12691"
      ]
     },
     "execution_count": 15,
     "metadata": {},
     "output_type": "execute_result"
    }
   ],
   "source": [
    "len(cluster_labels)"
   ]
  },
  {
   "cell_type": "code",
   "execution_count": 16,
   "metadata": {},
   "outputs": [
    {
     "data": {
      "text/plain": [
       "{0: 6073, 1: 2488, 2: 4130}"
      ]
     },
     "execution_count": 16,
     "metadata": {},
     "output_type": "execute_result"
    }
   ],
   "source": [
    "unique, counts = np.unique(cluster_labels, return_counts=True)\n",
    "dict(zip(unique, counts))"
   ]
  },
  {
   "cell_type": "code",
   "execution_count": null,
   "metadata": {},
   "outputs": [],
   "source": []
  },
  {
   "cell_type": "code",
   "execution_count": 17,
   "metadata": {},
   "outputs": [],
   "source": [
    "cluster_done = grouped_data\n",
    "cluster_done['category'] = cluster_labels"
   ]
  },
  {
   "cell_type": "code",
   "execution_count": 18,
   "metadata": {},
   "outputs": [],
   "source": [
    "cluster_done = cluster_done.sort_values(by='category')\n",
    "# t = t.drop('from',1)"
   ]
  },
  {
   "cell_type": "code",
   "execution_count": 68,
   "metadata": {},
   "outputs": [
    {
     "data": {
      "text/html": [
       "<div>\n",
       "<style scoped>\n",
       "    .dataframe tbody tr th:only-of-type {\n",
       "        vertical-align: middle;\n",
       "    }\n",
       "\n",
       "    .dataframe tbody tr th {\n",
       "        vertical-align: top;\n",
       "    }\n",
       "\n",
       "    .dataframe thead th {\n",
       "        text-align: right;\n",
       "    }\n",
       "</style>\n",
       "<table border=\"1\" class=\"dataframe\">\n",
       "  <thead>\n",
       "    <tr style=\"text-align: right;\">\n",
       "      <th></th>\n",
       "      <th>from</th>\n",
       "      <th>text</th>\n",
       "      <th>category</th>\n",
       "      <th>user_group</th>\n",
       "    </tr>\n",
       "  </thead>\n",
       "  <tbody>\n",
       "    <tr>\n",
       "      <th>0</th>\n",
       "      <td>1000080793444348</td>\n",
       "      <td>[嗨嗨, 安安, 幾歲呢, 我也是, 😂😂, 我男生, 嗨嗨, 我男生😂😂, 嗨嗨, 欸欸不...</td>\n",
       "      <td>0</td>\n",
       "      <td>[1000080793444348, 0]</td>\n",
       "    </tr>\n",
       "    <tr>\n",
       "      <th>1</th>\n",
       "      <td>1199622836756721</td>\n",
       "      <td>[狄卡看到的😂, 一直很懷疑是不是真的匿名😂, 不知道欸😂, 希望有～～～～哈哈, 哈哈哈,...</td>\n",
       "      <td>0</td>\n",
       "      <td>[1199622836756721, 0]</td>\n",
       "    </tr>\n",
       "    <tr>\n",
       "      <th>2</th>\n",
       "      <td>968106896645587</td>\n",
       "      <td>[對啊哈哈, 我也是！, 對啊, 我大四了, 對啊已經老了, 這個是不是只能跟同一個人聊天啊...</td>\n",
       "      <td>0</td>\n",
       "      <td>[968106896645587, 0]</td>\n",
       "    </tr>\n",
       "    <tr>\n",
       "      <th>3</th>\n",
       "      <td>968194556624182</td>\n",
       "      <td>[我高三哈哈哈哈哈哈, 新竹, 哇, 有人嗎, 哈哈這真的假的啊, 對啊, 感覺很酷, 不是...</td>\n",
       "      <td>0</td>\n",
       "      <td>[968194556624182, 0]</td>\n",
       "    </tr>\n",
       "    <tr>\n",
       "      <th>4</th>\n",
       "      <td>1199526976784112</td>\n",
       "      <td>[嘿喲, 在跟陌生人聊天, 😂, 台中, 有阿 整天, 你呢？, 有!, 也是很好騙, Wh...</td>\n",
       "      <td>0</td>\n",
       "      <td>[1199526976784112, 0]</td>\n",
       "    </tr>\n",
       "  </tbody>\n",
       "</table>\n",
       "</div>"
      ],
      "text/plain": [
       "               from                                               text  \\\n",
       "0  1000080793444348  [嗨嗨, 安安, 幾歲呢, 我也是, 😂😂, 我男生, 嗨嗨, 我男生😂😂, 嗨嗨, 欸欸不...   \n",
       "1  1199622836756721  [狄卡看到的😂, 一直很懷疑是不是真的匿名😂, 不知道欸😂, 希望有～～～～哈哈, 哈哈哈,...   \n",
       "2   968106896645587  [對啊哈哈, 我也是！, 對啊, 我大四了, 對啊已經老了, 這個是不是只能跟同一個人聊天啊...   \n",
       "3   968194556624182  [我高三哈哈哈哈哈哈, 新竹, 哇, 有人嗎, 哈哈這真的假的啊, 對啊, 感覺很酷, 不是...   \n",
       "4  1199526976784112  [嘿喲, 在跟陌生人聊天, 😂, 台中, 有阿 整天, 你呢？, 有!, 也是很好騙, Wh...   \n",
       "\n",
       "   category             user_group  \n",
       "0         0  [1000080793444348, 0]  \n",
       "1         0  [1199622836756721, 0]  \n",
       "2         0   [968106896645587, 0]  \n",
       "3         0   [968194556624182, 0]  \n",
       "4         0  [1199526976784112, 0]  "
      ]
     },
     "execution_count": 68,
     "metadata": {},
     "output_type": "execute_result"
    }
   ],
   "source": [
    "cluster_done = cluster_done.reset_index(drop=True)\n",
    "cluster_done.head()\n"
   ]
  },
  {
   "cell_type": "code",
   "execution_count": 71,
   "metadata": {},
   "outputs": [
    {
     "data": {
      "text/plain": [
       "from          12691\n",
       "text          12691\n",
       "category      12691\n",
       "user_group    12691\n",
       "dtype: int64"
      ]
     },
     "execution_count": 71,
     "metadata": {},
     "output_type": "execute_result"
    }
   ],
   "source": [
    "cluster_done.count()\n",
    "# small_clustered = cluster_done[6000:6300].reset_index(drop=True)\n",
    "\n"
   ]
  },
  {
   "cell_type": "code",
   "execution_count": 60,
   "metadata": {},
   "outputs": [
    {
     "data": {
      "text/plain": [
       "['u71e2145d37dfa11eb818b4c53a285f2b', 0]"
      ]
     },
     "execution_count": 60,
     "metadata": {},
     "output_type": "execute_result"
    }
   ],
   "source": [
    "small_clustered.user_group[0]"
   ]
  },
  {
   "cell_type": "code",
   "execution_count": 62,
   "metadata": {},
   "outputs": [],
   "source": [
    "cluster_done['user_group'] = cluster_done.apply(lambda row: [row['from'], row['category']], axis=1)"
   ]
  },
  {
   "cell_type": "code",
   "execution_count": 63,
   "metadata": {},
   "outputs": [
    {
     "data": {
      "text/html": [
       "<div>\n",
       "<style scoped>\n",
       "    .dataframe tbody tr th:only-of-type {\n",
       "        vertical-align: middle;\n",
       "    }\n",
       "\n",
       "    .dataframe tbody tr th {\n",
       "        vertical-align: top;\n",
       "    }\n",
       "\n",
       "    .dataframe thead th {\n",
       "        text-align: right;\n",
       "    }\n",
       "</style>\n",
       "<table border=\"1\" class=\"dataframe\">\n",
       "  <thead>\n",
       "    <tr style=\"text-align: right;\">\n",
       "      <th></th>\n",
       "      <th>from</th>\n",
       "      <th>text</th>\n",
       "      <th>category</th>\n",
       "      <th>user_group</th>\n",
       "    </tr>\n",
       "  </thead>\n",
       "  <tbody>\n",
       "    <tr>\n",
       "      <th>0</th>\n",
       "      <td>1000080793444348</td>\n",
       "      <td>[嗨嗨, 安安, 幾歲呢, 我也是, 😂😂, 我男生, 嗨嗨, 我男生😂😂, 嗨嗨, 欸欸不...</td>\n",
       "      <td>0</td>\n",
       "      <td>[1000080793444348, 0]</td>\n",
       "    </tr>\n",
       "    <tr>\n",
       "      <th>1</th>\n",
       "      <td>1199622836756721</td>\n",
       "      <td>[狄卡看到的😂, 一直很懷疑是不是真的匿名😂, 不知道欸😂, 希望有～～～～哈哈, 哈哈哈,...</td>\n",
       "      <td>0</td>\n",
       "      <td>[1199622836756721, 0]</td>\n",
       "    </tr>\n",
       "    <tr>\n",
       "      <th>2</th>\n",
       "      <td>968106896645587</td>\n",
       "      <td>[對啊哈哈, 我也是！, 對啊, 我大四了, 對啊已經老了, 這個是不是只能跟同一個人聊天啊...</td>\n",
       "      <td>0</td>\n",
       "      <td>[968106896645587, 0]</td>\n",
       "    </tr>\n",
       "    <tr>\n",
       "      <th>3</th>\n",
       "      <td>968194556624182</td>\n",
       "      <td>[我高三哈哈哈哈哈哈, 新竹, 哇, 有人嗎, 哈哈這真的假的啊, 對啊, 感覺很酷, 不是...</td>\n",
       "      <td>0</td>\n",
       "      <td>[968194556624182, 0]</td>\n",
       "    </tr>\n",
       "    <tr>\n",
       "      <th>4</th>\n",
       "      <td>1199526976784112</td>\n",
       "      <td>[嘿喲, 在跟陌生人聊天, 😂, 台中, 有阿 整天, 你呢？, 有!, 也是很好騙, Wh...</td>\n",
       "      <td>0</td>\n",
       "      <td>[1199526976784112, 0]</td>\n",
       "    </tr>\n",
       "  </tbody>\n",
       "</table>\n",
       "</div>"
      ],
      "text/plain": [
       "               from                                               text  \\\n",
       "0  1000080793444348  [嗨嗨, 安安, 幾歲呢, 我也是, 😂😂, 我男生, 嗨嗨, 我男生😂😂, 嗨嗨, 欸欸不...   \n",
       "1  1199622836756721  [狄卡看到的😂, 一直很懷疑是不是真的匿名😂, 不知道欸😂, 希望有～～～～哈哈, 哈哈哈,...   \n",
       "2   968106896645587  [對啊哈哈, 我也是！, 對啊, 我大四了, 對啊已經老了, 這個是不是只能跟同一個人聊天啊...   \n",
       "3   968194556624182  [我高三哈哈哈哈哈哈, 新竹, 哇, 有人嗎, 哈哈這真的假的啊, 對啊, 感覺很酷, 不是...   \n",
       "4  1199526976784112  [嘿喲, 在跟陌生人聊天, 😂, 台中, 有阿 整天, 你呢？, 有!, 也是很好騙, Wh...   \n",
       "\n",
       "   category             user_group  \n",
       "0         0  [1000080793444348, 0]  \n",
       "1         0  [1199622836756721, 0]  \n",
       "2         0   [968106896645587, 0]  \n",
       "3         0   [968194556624182, 0]  \n",
       "4         0  [1199526976784112, 0]  "
      ]
     },
     "execution_count": 63,
     "metadata": {},
     "output_type": "execute_result"
    }
   ],
   "source": [
    "cluster_done.head()"
   ]
  },
  {
   "cell_type": "markdown",
   "metadata": {},
   "source": [
    "## groupby room "
   ]
  },
  {
   "cell_type": "code",
   "execution_count": 40,
   "metadata": {},
   "outputs": [],
   "source": [
    "new_group = df.groupby('room')[['from','text']].apply(list).reset_index()\n"
   ]
  },
  {
   "cell_type": "code",
   "execution_count": 69,
   "metadata": {},
   "outputs": [],
   "source": [
    "grouped = df.groupby('room')\n",
    "\n",
    "grouped = grouped['from'].aggregate(lambda x: set(x))\n"
   ]
  },
  {
   "cell_type": "code",
   "execution_count": 70,
   "metadata": {},
   "outputs": [
    {
     "data": {
      "text/plain": [
       "room\n",
       "0000d3d1-cd74-4c6a-8ab6-8c9c0df594aa    {u84ff3587ce973343ca6328d6881d94f8, 1313316695...\n",
       "000129e0-e9c9-4e51-8b7a-b782d220894e                                   {1127853807261849}\n",
       "0002fc8b-0951-47b0-9348-bf7decae9d93                   {955305891265054, 966587086804396}\n",
       "000418d0-779f-469a-ad5b-7fcfd6da4959    {1084323831664067, ua725d2fbddf188fb2e97f67bbd...\n",
       "00054188-59bc-49cf-aea2-e8ddd7057849                 {1157361747619580, 1192735997454971}\n",
       "0005ce30-1ab7-4b4f-8861-684a88e4f94b                  {1020089304775462, 954276064700164}\n",
       "00085efc-d8c4-4cb4-bfb7-8b77b4eab863                                   {1317025831663636}\n",
       "00097d10-ea23-4f1c-928b-ddd7c8141e1f    {ud95f6005aa22431c6478e88b902ddb22, u4808ce8bc...\n",
       "000ccf9f-46b9-48cd-8296-52eb015caca0                 {1566325376726489, 1316497611723525}\n",
       "000df9ee-d430-4864-9564-fae2507ca388                  {1034656073317025, 947181448737968}\n",
       "00114f26-0178-4fd3-9d02-e55e3098a8ec                 {1061880683925320, 1608331579184324}\n",
       "0011725b-1e98-4470-a184-693a0b198d55                 {1316982401727950, 1099317836821817}\n",
       "0017bb1c-7519-4e33-80ae-83181b62d415                 {1116105478473611, 1323841347629135}\n",
       "0017bdf1-06e2-4287-bf4b-9140eb19521a    {1415812098434312, u5e98e99606dd99dc347534c68f...\n",
       "0017ea7c-b42c-45b4-a828-0f3ae91a6106                 {1198165390256333, 1118148821601004}\n",
       "0018cb69-d0d9-4503-84b7-d468339407df    {u4808ce8bc1a7748f22a27f58f538a073, 8602947340...\n",
       "0019bfed-d60e-4594-ada5-5e295d8bfe1b    {u75fc905f6380e52a138f7681784c835f, 9477080253...\n",
       "001aa416-7801-4b1a-8fdb-29265c45083e                 {1097266403694022, 1388198081221087}\n",
       "001b9df7-c22b-4f8a-be3a-403aaffb6bf0    {1071753506252563, u6dbd49530b86288633b4cb1b3d...\n",
       "001f0904-2a51-46e0-993e-ede5b5fff396                 {1162896637130342, 1115863918467713}\n",
       "001f1746-75c4-4846-a966-de9d79882a52    {ub3a30a89ce1f53948b22280a037e39ad, ue6f5124d1...\n",
       "001fa557-fa39-4fe1-b64f-b2db8550f4b3                 {1408975235798014, 1396712147009654}\n",
       "002238e3-56d0-4ea9-9b0c-27df190ab9ef                 {1106945159380319, 1001070263323689}\n",
       "0023db5d-793d-49c3-ac84-af48860e7d81                                   {1182292991845365}\n",
       "00247706-0762-475f-afbe-fec588c55209                 {1216307248415957, 1104065193019383}\n",
       "00266b11-580b-4ea2-92c5-c87b81b6203f                                   {1347184001973434}\n",
       "00268fb8-9106-4f15-9168-2f5fd7bd11bd                 {1099845433443700, 1015460891885777}\n",
       "002b6074-920b-46b3-adbd-7442fba9c399                                   {1126932587399915}\n",
       "002c0ce1-9e65-4b2c-b665-ce1d2bb499d5                  {u31f7585a65b13d4ec4984dad9f14ea4e}\n",
       "0035bf4c-d1cf-4626-b44c-319becbdb6ac    {1200464976693065, u5fd525b894a8590e60a3b295d3...\n",
       "                                                              ...                        \n",
       "ffce9ac3-f998-488b-b1aa-74603dda573c                 {1107832712640237, 1406471876033129}\n",
       "ffcec39a-e5ad-4586-b625-93c79a24b102    {uc386660a29b2daa02daf8cab656e101f, 1024059474...\n",
       "ffcf38a4-b15d-45e9-9f98-21a9cb5b40c3                 {1096222680432635, 1095420320505672}\n",
       "ffd1bf9f-4b52-4763-8b3e-1d1d686cc2c2                 {1153652328026331, 1479127015435806}\n",
       "ffd1d3b7-0054-4f32-8816-867c9d88a3a5    {ubb97ade0b1d7b0d2a8c5c2f70069bd53, 1293313900...\n",
       "ffd49ce2-b955-46df-9f53-d6f479a63f50                                   {1170797516325169}\n",
       "ffd56950-dd37-449c-b97d-772a942ef1d7                 {1095921403830530, 1182855538476565}\n",
       "ffd6dd81-2008-4fcb-b0d5-f2614ca275ef                        {1086061464835303, 289016759}\n",
       "ffda1d07-a0d9-42f4-82a4-5d5ce6d3bc61                  {u392b84fa6f245496ad9909858fa30852}\n",
       "ffda4e88-96fe-4ac9-9b4f-96dad53ecb2e                 {1319972128037490, 1104791816240675}\n",
       "ffda834f-70cb-4cd9-980e-bfda2ee3bb93                 {1342813092415811, 1166671213404079}\n",
       "ffdd67f9-c8e7-41f2-936a-291b81d6e227                  {1021427851300161, 520099121448219}\n",
       "ffe179f0-7064-48aa-a556-97d722284f9e    {1300985963267465, u91e6b376ca8ffd7b3e0bb4f8d6...\n",
       "ffe43433-c842-43b7-92e9-a80183bb5d91    {uebd25f6f737ec6a4162c6b153a709d81, u465bc401e...\n",
       "ffe47580-fa46-4ae4-b3df-d23c7314e668                                   {1177036999019510}\n",
       "ffe4d0b2-1773-4046-bcfc-452d80ebce9c                  {779436755492088, 1255074741191887}\n",
       "ffe58936-ac5a-43f3-bee9-869fad7ccf1f    {ub9fa851d7d6394e7a355ad46424ee2db, u2d725c3e7...\n",
       "ffe7a102-2918-4296-a900-d1767eb2f848                  {u4808ce8bc1a7748f22a27f58f538a073}\n",
       "ffe813f2-af8f-4259-8cde-edc2fd69ab78    {u7c94a14398c6666908d649863bbd8742, 9849393416...\n",
       "ffea6737-4963-4206-b1fc-5428191d1c26                   {977489075694494, 885685844865033}\n",
       "ffead89c-3041-4a94-9540-04072e584cc4                 {1122095541207401, 1484745404885862}\n",
       "ffefda9c-baf5-4d56-a8d0-254b1046b914    {1074823572553606, u9efe6aebb4ac11180b84e2db82...\n",
       "fff1509c-9917-47a3-8077-11530a74557b    {u89e62fcc6037445d9bb8dd2fd347fada, 1042269532...\n",
       "fff1e02f-c994-4e7a-9658-6a454ee1c3ee    {1177036999019510, u95dfedf8994bd5a7c09eb82fb9...\n",
       "fff4b717-e1fd-49cb-8895-18c6e4feadc6    {1072098532903230, u197b97253f213115fc524db9dc...\n",
       "fff64671-c2b2-440e-b992-e9755f0d7634                                   {1368387173178994}\n",
       "fff9145f-e971-4545-ab1d-9282f40b79c7    {1175680579149304, u2529ae430e284507ea25e6256a...\n",
       "fff9c3d5-8fd6-4beb-a039-7e10de72def6                 {1145847325485637, 1500576873291141}\n",
       "fffc108d-ed94-49d8-b138-0a7ee7d384d6    {u7d876748c25d3d43425cec3888c5f32b, u1bf2166c9...\n",
       "fffee97d-5896-420a-b3a5-12f0b8d8ea79                  {857854210983093, 1197242467016569}\n",
       "Name: from, Length: 39423, dtype: object"
      ]
     },
     "execution_count": 70,
     "metadata": {},
     "output_type": "execute_result"
    }
   ],
   "source": [
    "grouped"
   ]
  },
  {
   "cell_type": "code",
   "execution_count": null,
   "metadata": {},
   "outputs": [],
   "source": []
  },
  {
   "cell_type": "code",
   "execution_count": 51,
   "metadata": {},
   "outputs": [
    {
     "data": {
      "text/plain": [
       "{'1084323831664067', 'ua725d2fbddf188fb2e97f67bbd36d056'}"
      ]
     },
     "execution_count": 51,
     "metadata": {},
     "output_type": "execute_result"
    }
   ],
   "source": [
    "set(grouped['from'][3])"
   ]
  },
  {
   "cell_type": "code",
   "execution_count": 22,
   "metadata": {},
   "outputs": [],
   "source": [
    "t.to_csv('../data/k_means_result.csv',encoding='utf-8-sig')"
   ]
  },
  {
   "cell_type": "code",
   "execution_count": 23,
   "metadata": {},
   "outputs": [],
   "source": [
    "aaa = t.drop('from',1)\n",
    "aaa = aaa.groupby('category')\n",
    "# aaa"
   ]
  },
  {
   "cell_type": "code",
   "execution_count": 24,
   "metadata": {},
   "outputs": [],
   "source": [
    "aaa = aaa.agg({'text': 'sum'})"
   ]
  },
  {
   "cell_type": "markdown",
   "metadata": {},
   "source": [
    "### todo\n",
    "* 沒講過超過幾句話的不納入計算 ex: 某使用者講不超過10句 就刪\n",
    "* user 講幾句話的長條圖\n",
    "* 同一類的使用者對話的比數是否高於其他不同累類的人聊天\n"
   ]
  },
  {
   "cell_type": "code",
   "execution_count": 63,
   "metadata": {},
   "outputs": [],
   "source": [
    "lll = df.groupby('from')['text'].agg(['count']).reset_index()\n"
   ]
  },
  {
   "cell_type": "code",
   "execution_count": 64,
   "metadata": {},
   "outputs": [
    {
     "data": {
      "text/plain": [
       "0    81\n",
       "1    40\n",
       "2    15\n",
       "3    16\n",
       "4    60\n",
       "Name: count, dtype: int64"
      ]
     },
     "execution_count": 64,
     "metadata": {},
     "output_type": "execute_result"
    }
   ],
   "source": [
    "lll[:3]\n",
    "lll['count'].head()"
   ]
  },
  {
   "cell_type": "code",
   "execution_count": 72,
   "metadata": {},
   "outputs": [],
   "source": [
    "n = pd.concat([df, lll['count']], axis=1)"
   ]
  },
  {
   "cell_type": "code",
   "execution_count": 85,
   "metadata": {},
   "outputs": [
    {
     "data": {
      "text/html": [
       "<div>\n",
       "<style scoped>\n",
       "    .dataframe tbody tr th:only-of-type {\n",
       "        vertical-align: middle;\n",
       "    }\n",
       "\n",
       "    .dataframe tbody tr th {\n",
       "        vertical-align: top;\n",
       "    }\n",
       "\n",
       "    .dataframe thead th {\n",
       "        text-align: right;\n",
       "    }\n",
       "</style>\n",
       "<table border=\"1\" class=\"dataframe\">\n",
       "  <thead>\n",
       "    <tr style=\"text-align: right;\">\n",
       "      <th></th>\n",
       "      <th>from</th>\n",
       "      <th>to</th>\n",
       "      <th>text</th>\n",
       "      <th>room</th>\n",
       "      <th>time</th>\n",
       "      <th>count</th>\n",
       "    </tr>\n",
       "  </thead>\n",
       "  <tbody>\n",
       "    <tr>\n",
       "      <th>0</th>\n",
       "      <td>ud4097fbb4471c8c54512814bf0182e03</td>\n",
       "      <td>u84fa1e46e99df373e0f978c2ba274f9a</td>\n",
       "      <td>wd</td>\n",
       "      <td>8aee77a7-1d90-4d0f-b3c3-3f7b94a90e36</td>\n",
       "      <td>1.471640e+12</td>\n",
       "      <td>81.0</td>\n",
       "    </tr>\n",
       "    <tr>\n",
       "      <th>1</th>\n",
       "      <td>ud4097fbb4471c8c54512814bf0182e03</td>\n",
       "      <td>u96e826dccd3c9db56d684a5ddffc3154</td>\n",
       "      <td>嗨嗨</td>\n",
       "      <td>fe214cfc-22d1-4736-92e7-d133190142b8</td>\n",
       "      <td>1.471643e+12</td>\n",
       "      <td>40.0</td>\n",
       "    </tr>\n",
       "    <tr>\n",
       "      <th>4</th>\n",
       "      <td>u96e826dccd3c9db56d684a5ddffc3154</td>\n",
       "      <td>ud4097fbb4471c8c54512814bf0182e03</td>\n",
       "      <td>哈哈哈哈哈哈哈</td>\n",
       "      <td>fe214cfc-22d1-4736-92e7-d133190142b8</td>\n",
       "      <td>1.471643e+12</td>\n",
       "      <td>60.0</td>\n",
       "    </tr>\n",
       "    <tr>\n",
       "      <th>5</th>\n",
       "      <td>u96e826dccd3c9db56d684a5ddffc3154</td>\n",
       "      <td>ud4097fbb4471c8c54512814bf0182e03</td>\n",
       "      <td>這是限定版嗎</td>\n",
       "      <td>fe214cfc-22d1-4736-92e7-d133190142b8</td>\n",
       "      <td>1.471643e+12</td>\n",
       "      <td>329.0</td>\n",
       "    </tr>\n",
       "    <tr>\n",
       "      <th>6</th>\n",
       "      <td>ud4097fbb4471c8c54512814bf0182e03</td>\n",
       "      <td>u96e826dccd3c9db56d684a5ddffc3154</td>\n",
       "      <td>什麼限定版？</td>\n",
       "      <td>fe214cfc-22d1-4736-92e7-d133190142b8</td>\n",
       "      <td>1.471643e+12</td>\n",
       "      <td>82.0</td>\n",
       "    </tr>\n",
       "  </tbody>\n",
       "</table>\n",
       "</div>"
      ],
      "text/plain": [
       "                                from                                 to  \\\n",
       "0  ud4097fbb4471c8c54512814bf0182e03  u84fa1e46e99df373e0f978c2ba274f9a   \n",
       "1  ud4097fbb4471c8c54512814bf0182e03  u96e826dccd3c9db56d684a5ddffc3154   \n",
       "4  u96e826dccd3c9db56d684a5ddffc3154  ud4097fbb4471c8c54512814bf0182e03   \n",
       "5  u96e826dccd3c9db56d684a5ddffc3154  ud4097fbb4471c8c54512814bf0182e03   \n",
       "6  ud4097fbb4471c8c54512814bf0182e03  u96e826dccd3c9db56d684a5ddffc3154   \n",
       "\n",
       "      text                                  room          time  count  \n",
       "0       wd  8aee77a7-1d90-4d0f-b3c3-3f7b94a90e36  1.471640e+12   81.0  \n",
       "1       嗨嗨  fe214cfc-22d1-4736-92e7-d133190142b8  1.471643e+12   40.0  \n",
       "4  哈哈哈哈哈哈哈  fe214cfc-22d1-4736-92e7-d133190142b8  1.471643e+12   60.0  \n",
       "5   這是限定版嗎  fe214cfc-22d1-4736-92e7-d133190142b8  1.471643e+12  329.0  \n",
       "6   什麼限定版？  fe214cfc-22d1-4736-92e7-d133190142b8  1.471643e+12   82.0  "
      ]
     },
     "execution_count": 85,
     "metadata": {},
     "output_type": "execute_result"
    }
   ],
   "source": [
    "n[n['count']>30].head()"
   ]
  },
  {
   "cell_type": "code",
   "execution_count": 86,
   "metadata": {},
   "outputs": [
    {
     "data": {
      "text/plain": [
       "39423"
      ]
     },
     "execution_count": 86,
     "metadata": {},
     "output_type": "execute_result"
    }
   ],
   "source": [
    "q = df.groupby('room')['text'].agg(['count']).reset_index()\n",
    "q.columns = ['room', 'room_dialog_count']\n",
    "len(q)"
   ]
  },
  {
   "cell_type": "code",
   "execution_count": 87,
   "metadata": {},
   "outputs": [
    {
     "data": {
      "text/html": [
       "<div>\n",
       "<style scoped>\n",
       "    .dataframe tbody tr th:only-of-type {\n",
       "        vertical-align: middle;\n",
       "    }\n",
       "\n",
       "    .dataframe tbody tr th {\n",
       "        vertical-align: top;\n",
       "    }\n",
       "\n",
       "    .dataframe thead th {\n",
       "        text-align: right;\n",
       "    }\n",
       "</style>\n",
       "<table border=\"1\" class=\"dataframe\">\n",
       "  <thead>\n",
       "    <tr style=\"text-align: right;\">\n",
       "      <th></th>\n",
       "      <th>room</th>\n",
       "      <th>room_dialog_count</th>\n",
       "    </tr>\n",
       "  </thead>\n",
       "  <tbody>\n",
       "    <tr>\n",
       "      <th>0</th>\n",
       "      <td>0000d3d1-cd74-4c6a-8ab6-8c9c0df594aa</td>\n",
       "      <td>2</td>\n",
       "    </tr>\n",
       "    <tr>\n",
       "      <th>1</th>\n",
       "      <td>000129e0-e9c9-4e51-8b7a-b782d220894e</td>\n",
       "      <td>1</td>\n",
       "    </tr>\n",
       "    <tr>\n",
       "      <th>2</th>\n",
       "      <td>0002fc8b-0951-47b0-9348-bf7decae9d93</td>\n",
       "      <td>6</td>\n",
       "    </tr>\n",
       "    <tr>\n",
       "      <th>3</th>\n",
       "      <td>000418d0-779f-469a-ad5b-7fcfd6da4959</td>\n",
       "      <td>26</td>\n",
       "    </tr>\n",
       "    <tr>\n",
       "      <th>4</th>\n",
       "      <td>00054188-59bc-49cf-aea2-e8ddd7057849</td>\n",
       "      <td>162</td>\n",
       "    </tr>\n",
       "  </tbody>\n",
       "</table>\n",
       "</div>"
      ],
      "text/plain": [
       "                                   room  room_dialog_count\n",
       "0  0000d3d1-cd74-4c6a-8ab6-8c9c0df594aa                  2\n",
       "1  000129e0-e9c9-4e51-8b7a-b782d220894e                  1\n",
       "2  0002fc8b-0951-47b0-9348-bf7decae9d93                  6\n",
       "3  000418d0-779f-469a-ad5b-7fcfd6da4959                 26\n",
       "4  00054188-59bc-49cf-aea2-e8ddd7057849                162"
      ]
     },
     "execution_count": 87,
     "metadata": {},
     "output_type": "execute_result"
    }
   ],
   "source": [
    "q.head()"
   ]
  },
  {
   "cell_type": "code",
   "execution_count": 91,
   "metadata": {},
   "outputs": [
    {
     "data": {
      "text/plain": [
       "25.364913882758795"
      ]
     },
     "execution_count": 91,
     "metadata": {},
     "output_type": "execute_result"
    }
   ],
   "source": [
    "q.room_dialog_count.mean()"
   ]
  },
  {
   "cell_type": "code",
   "execution_count": 3,
   "metadata": {},
   "outputs": [],
   "source": [
    "df = pd.read_csv(open('../data/k_means_result.csv'), low_memory=False)\n"
   ]
  },
  {
   "cell_type": "code",
   "execution_count": 23,
   "metadata": {},
   "outputs": [
    {
     "data": {
      "text/html": [
       "<div>\n",
       "<style scoped>\n",
       "    .dataframe tbody tr th:only-of-type {\n",
       "        vertical-align: middle;\n",
       "    }\n",
       "\n",
       "    .dataframe tbody tr th {\n",
       "        vertical-align: top;\n",
       "    }\n",
       "\n",
       "    .dataframe thead th {\n",
       "        text-align: right;\n",
       "    }\n",
       "</style>\n",
       "<table border=\"1\" class=\"dataframe\">\n",
       "  <thead>\n",
       "    <tr style=\"text-align: right;\">\n",
       "      <th></th>\n",
       "      <th>Unnamed: 0</th>\n",
       "      <th>from</th>\n",
       "      <th>text</th>\n",
       "      <th>category</th>\n",
       "    </tr>\n",
       "  </thead>\n",
       "  <tbody>\n",
       "    <tr>\n",
       "      <th>1773</th>\n",
       "      <td>1773</td>\n",
       "      <td>1439124526116366</td>\n",
       "      <td>['約嗎', '……', '約嗎', '你是ㄊㄊㄌ嗎', '吞吐海洋', '我最想幹死ㄊㄊㄌ了', '你知道光頭嗎', '跟你講八掛', '光頭他', '最愛ㄘ撞球', '這是秘密', 'ㄊㄊㄌ跟我說的', '我不知道', '光頭可能不是人類', '不然怎麼幹撞球', '沒有', '我不存男生照', '幹撞球洞吧', 'ㄨㄋㄠㄎㄨㄕㄗㄎㄟㄋㄝㄊㄙㄊㄙ', '你那位', '我是', '秘密', '我也ㄞ你', '雷歐', '不對，是ㄨ娜', 'Ru', '哪位', '娟喔', '我是真的ㄊㄊㄌ呦', '對啊', '不信我叫ㄊㄊㄌ來跟你講', '嗨！我是ㄊㄊㄌ', '興趣是欣賞猛男', '呃…內褲的話，男生才私喔', '好，私', '好看嗎\\n喜歡嗎\\n好色喔你\\n呵呵', '……好，我道歉', '要尬是不是？', '……我的圖片好多都刪了ㄨㄨ', '……這幾歲', '==我不懂她們在想什麼', '怎麼敢傳裸照出去', '男生', '私♡', '==你怎麼看呢', '我覺得她們傻傻的', '以後不是變ㄖㄅㄑ就是很後悔', '==搞不好她們老爸哪天也在群裡看到', '女兒的裸照', '小妹我25', '當然是假年齡……', '網路上都留假資料', '升高中了', '我說你', '應該是高一了吧', '好，……差不多啦', '你知道場外的uccu嗎', '喔喔，我只是想試探一下你是不是他', 'Poi', '卡卡', '咦', '你是粉絲團的嗎', '霸主', '所以你不是場外的', '測試，野', '斷', '好，人家說野時，是要接龍', '野格炸彈，我的最愛', '通常場外的都會這個', '下次你可以試試', '巴哈姆特電玩資訊站', '裡面一個版叫場外休憩版', '對', '至於場外如何，還是自己確認最準', '==我是裡面的潛水老屁股', '有些梗場外才知道', '大部分是沒差', '偶爾會出現一些怪咖就是', '例如霸主', '這樣啊', 'ㄊㄊㄌ是個秘密', '他是一個人，也是好幾個人', '他是變態，是天使，是好人，也是王八', '……度', '度等於對', '起因是有個人打字沒打好', '度的，這樣就度了', '你今天更接近場外梗了', '等等，你剛剛遇到ㄊㄊㄌ？', 'ㄊㄊㄌ他說啥', '==他在幹嘛啊', '別理ㄊㄊㄌ', '好，我記得，快開學了...</td>\n",
       "      <td>0</td>\n",
       "    </tr>\n",
       "    <tr>\n",
       "      <th>2034</th>\n",
       "      <td>2034</td>\n",
       "      <td>1503461509669308</td>\n",
       "      <td>['嗨一', '嗨一', '你是真人嗎～', '剛剛也沒連到以為壞了', '應該看你太魯', 'ㄟㄟㄟㄟ是跑了喔哈哈', '嗨一', '你好你好', '這重要嗎🤔', '哈哈哈哈', '如果我男生要跟我聊什麼', '我剛畢業喔還在廢哈哈', '那我女生的話聊什麼', '也差別太大哈哈哈', '你說什麼有沒有差', '對啊', '上一個被我說魯就消失了🤔', '有喔', '你也要閃了嗎😂😂😂', '但是有時候很孤單耶～', '看電影吃飯什麼的', '嗨一', '哈哈騙你的', '嗨一', '安安颱風天還好嗎', '你在哪裡沒颱風🤔', '可惡', '台中風大雨大', '應該只能卡在路上求北部人支援ㄌ', '緊來載我', '坐船到白沙灣你來載好唄', '那不是很久的片了', '綁兩戳的妹妹不是', '喔哈哈哈你很懶欸是不會多打個怪奇', '綁兩戳的好看該看', '不是鬼的耶', '怪奇孤兒院看預告也蠻恐怖的啊🤔', '超詭異', '哈哈裡面有人用後腦勺吃雞腿ㄟ', '不恐怖嗎', '沒有啦那部應該沒那麼恐怖啦😂😂', '但吃雞腿是真的', '那部沒興趣捏', '我重口味的', '但鬼片我也不敢😝', '是怕被音效嚇到哈哈', '睡啊吃啊玩狗哈哈', '好廢喔', '嗨一', '你好你好', '颱風天安好嗎', '哈哈騙你的', '服務業喔', '看來你是北部人嗎🤔', '哈哈哈竟然猜中了', '台中～', '有啊', '但到剛才下雨', '很難猜嗎🤔', '微～', '真沒禮貌', '我也是啊😆😆😆', '這東西太神奇了', '哈哈你剛沒有跟其他人聊過嗎', '你遇到有禮貌了🤔', '我遇到都直接離開', '傻眼', '抽卡嗎', '喔哈哈哈哈', '臉書就好了吧哈哈', '這名字也太長', '嗯那我也要去睡囉哈哈', '真是有趣哈哈', '蝦毀', '自備貼圖喔', '嗨一', '哈哈騙你的', '臉書啊哈哈不是只能用這個', '那是什麼哈哈', '功能一樣嗎', '真的喔', '我以為只有臉書', '🤔', '好吧 是還蠻好玩的啦', '幹嘛', '哈哈真的蠻可惜的ㄟ', '該不會是你長的太魯', '😨', '這麼深喔', '不是也才聊一下嗎😆😆😆', '這麼多進展', '乾脆去潑dcard尋人算了', '才不會好嗎', '你不怕我是甲', '哈哈哈', '...</td>\n",
       "      <td>0</td>\n",
       "    </tr>\n",
       "    <tr>\n",
       "      <th>4292</th>\n",
       "      <td>4292</td>\n",
       "      <td>uea65a2313b63db97197d01dd251e95ab</td>\n",
       "      <td>['你好', '你平常在幹嘛', '我也是', '第一個', '哦?', '玩什麼', '是喔  之前有玩呢', '但是一直上不了手', '嘿嘿 什麼牌位', '我15等 www', '可能是', '我想不到(･ω´･ )', 'ㄅ欠', '有想過是不是零時間雙向傳輸', '瞬間把二個人的信息經過一個相同的媒介', '很像捏  但是是在另一個聊天軟體做出來的', '真厲害', '厲害', '我看看規則', '好啦  換個了', '掰掰', '尼豪', '幾歲阿', '好 : )', '嗨喲', '在忙喔 怎麼這麼慢 xD', 'wwww', 'wwww', '可以拍下蘋果嗎', '人類無所不能(ﾟ∀。)', '嗨喲', '在幹嘛~', '我傻(ﾟ∀。)', '14&gt;&lt;', '4阿', '晴軒是可愛的小妹&gt;&lt;', '雲林喔', '小妹想想~', '我在玩御劍情緣喔', '手機遊戲 小妹第一天就五十幾等囉&gt;&lt;', '齁齁  葛格想玩喔(*´▽`*)', '小妹也才剛玩捏(*´艸`*)', '小妹跟著任務走 跟著任務很快的(ﾉ&gt;ω&lt;)ﾉ', '齁齁怎麼說', '小妹在吃東西 嘻嘻', '小沙拉  嘻嘻 吃完了ヽ(●´∀`●)ﾉ', '不會阿  很養生 (*´▽`*)', '喔吉桑才不會知道自己老了  (*ﾟ∀ﾟ*)', '8787ㄉ', '很可愛啊(*´艸`*)', '蓋', '年齡不是問題啊', '約浪漫嗎', '蚌', '那個隨機聊的怎麼用', '對齁 窩在幹嘛啊 哈哈', '窩遇到尼就發燒了哈哈', '幹', '幹我', '攻守交換', '那我當攻吧', '葛格硬了嗎', '要來了', 'ㄩㄇ', '約嗎', '我的跨下 又大又好ㄘ', '洗乾淨就可以ㄘ惹', '被盜', '來肛交', '那你也要洗乾淨哦 嘻嘻', '網路看到的 臺灣啊！怎?', '嗨囉~', '蛤', '?', '哈囉~', '哈囉~~', '什麼?', '蛤', '嗨', '過得怎麼樣', '吃點小東西', '然後聊天~~', '是的', 'ㄇ關西', '場外人?', '幹  現在是場外都在玩嗎', '你背後也有嗎', '幹 你也是喔', '你哪個', '肏', '沒有', '沒有', '太正經', '太噓啦', '你發個聲', '世的', '鬧爆', '聊天室', '群', '看到惹'...</td>\n",
       "      <td>0</td>\n",
       "    </tr>\n",
       "    <tr>\n",
       "      <th>4352</th>\n",
       "      <td>4352</td>\n",
       "      <td>ufea168c353704deefd4a375453156cdb</td>\n",
       "      <td>['安安', 'ㄜ', '你喜歡的類型？', '來 都來', '嗯啊再來', '甲爆', '下午剛收到這封~ 我也不想傳=&gt;&lt;為了自己的家人！還是傳吧!)（信不信由你）．．．別人硬要傳ㄉ．．對不起我叫遠呂智，我在民國94年6月29號，被人殺了，屍體埋在金湖國小附近，如果你把這封信 刪除的話，你的男性家人會在5天內被ㄊㄊㄌ纏上，如果你在看到這封信的24小時內，傳給30個人你家 就不會鬧ㄊㄊㄌ，我是被逼ㄉ 請幫忙找到犯人 你把這封信發給你的30個好友，10天後，你喜歡的人就會喜歡上你。如果不發，你全家男性就會在50天後，被ㄊㄊㄌ探花 很靈: 看清: 阿強包皮裂開 下午剛收到這封~ 我也不想傳=&gt;&lt;為了自己的家人！還是傳吧!)（信不信由你）．．．別人硬要傳ㄉ．．對不起我叫遠呂智，我在民國94年6月29號，被人殺了，屍體埋在金湖國小附近，如果你把這封信 刪除的話，你的男性家人會在5天內被ㄊㄊㄌ纏上，如果你在看到這封信的24小時內，傳給30個人你家 就不會鬧ㄊㄊㄌ，我是被逼ㄉ 請幫忙找到犯人 你把這封信發給你的30個好友，10天後，你喜歡的人就會喜歡上你。如果不發，你全家男性就會在50天後，被ㄊㄊㄌ探花 很靈: 看清: 阿強包皮裂開 下午剛收到這封~ 我也不想傳=&gt;&lt;為了自己的家人！還是傳吧!)（信不信由你）．．．別人硬要傳ㄉ．．對不起我叫遠呂智，我在民國94年6月29號，被人殺了，屍體埋在金湖國小附近，如果你把這封信 刪除的話，你的男性家人會在5天內被ㄊㄊㄌ纏上，如果你在看到這封信的24小時內，傳給30個人你家 就不會鬧ㄊㄊㄌ，我是被逼ㄉ 請幫忙找到犯人 你把這封信發給你的30個好友，10天後，你喜歡的人就會喜歡上你。如果不發，你全家男性就會在50天後，被ㄊㄊㄌ探花 很靈: 看清: 阿強包皮裂開 下午剛收到這封~ 我也不想傳=&gt;&lt;為了自己的家人！還是傳吧!)（信不信由你）．．．別人硬要傳ㄉ．．對不起我叫遠呂智，我在民國94年6月29號，被人殺了，屍體埋在金湖國小附近，如果你把這封信 刪除的話，你的男性家人會在5天內被ㄊㄊㄌ纏上，如果你在看到這封信的24小時內，傳給30個人你家 就不會鬧ㄊㄊㄌ，我是被逼ㄉ 請幫忙找到犯人 你把這封信發給你的30個好友，10天後，你喜歡的人就會喜歡上你。如果不發，你全家男性就會在50天後，被ㄊㄊㄌ探花 很靈: 看清: 阿強包皮裂開 下午...</td>\n",
       "      <td>0</td>\n",
       "    </tr>\n",
       "    <tr>\n",
       "      <th>5650</th>\n",
       "      <td>5650</td>\n",
       "      <td>1376382692391122</td>\n",
       "      <td>['嗨', '真早起', '狂', '??', '早餐94要吃培根蛋', 'BJ4', '?', '男的啊 這時間哪有女生', '小妳媽妹', '叫我姊姊', '白痴', '嗨嗨', '._.?', '狂啊', '肥宅 約嗎？？', '你才肥宅 你全家都肥宅', '蒸蚌', '回去多爬爬文', '這個時間哪有什麼小妹', '我來考考妳', '1+1+1=?', '答對了..', '蒸蚌', '不然妳早上起床看到鏡子㑹覺得自己很漂亮嗎？', '妳沒有妹妹', '看來我們是', '兩個世界', '夢魘製造G?', '星', '爆', '妳還是醒醒吧', '妳沒有妹妹', '野', '別在釣魚了', '小妹妳給個LINE', '摁摁', '不會ㄅ', '我都潛水', '畢竟', '邊緣人', '幫QQ補血', '哈哈哈哈哈哈', '比8主還樂觀', '真的假的', '感覺妳真的是小妹欸', '我竟然不相信妳..', '哈哈哈哈哈哈', '加lineㄅ', '這裡隔牆有耳', '那妳加我ㄇ', '好ㄅ', '難過', '流淚', '我一個被拋棄', '妳不要我了', '幹', '還是我們+臉書', '場外一家親', '。。。', '怎麼還是妳', '87', '不能給別的答案了', '87', '野我是第二個', '星', 'I8主', '成功快樂又致富', '幹', '一生平安', '嗨嗨', '中壢', 'Y', '白痴', '這個看不懂', '對啦', '23', 'KNPS', '嗨', 'KNPS', '嗨', '野', '臭夢子', '..', '我們為什麼要互相傷害', 'HI', '夢子', 'jpg', '野', '星', 'Hi', '176', '謝謝', '哈哈哈哈哈哈', '最萌身高差', '開學了ㄇ', '蒸蚌', '視訊?', 'ㄋ才ㄈㄓ ㄋ全家都ㄈㄓ', '臭夢子', '窩知道錯了', '幫QQ', 'ㄢ', '我來翻譯', '約嗎？', '哈哈哈哈哈哈', '蒸蚌', '哈哈哈哈哈哈', '快點叫', '歐尼醬', '真可愛&gt;&lt;', '人可愛又善良', '我也最喜歡夢子', '哈哈哈哈哈哈', '對啊', '對不起', '原諒我', '給我機會', '我會改', '我有在反省了', '不約ㄛ', '拍寫', '我要保護我的小可愛',...</td>\n",
       "      <td>0</td>\n",
       "    </tr>\n",
       "    <tr>\n",
       "      <th>5908</th>\n",
       "      <td>5908</td>\n",
       "      <td>u892992a4983d1be3d237aadefdbb9133</td>\n",
       "      <td>['對啊', '你是真人？', '學我打字', '你們公司目前幾個人', '台科大就是不一樣', '難過', '不能傳貼圖啊', '你難過啥', '我是機器人', '哇', '研究這個很辛苦齁', '辛苦你了', '哈哈哈哈哈', '你們加油啦', '對啊', '我以為你真的在工作', '🙄', '78', '哈哈哈', '你加油', '我也是', '你哪所大學', '我還在上課....', '我高雄這邊的', '我混鬼式企業的', '哈哈哈哈哈', '下課幹嘛去', '我總覺得等等又搶不到飯之類的', '上線人數2420欸', '好多', '真的！！！！', '不過你拼錯了', '日校', '哈哈哈', '哪所啊', '也太可憐了', '要當醫生嗎', '輔英', '美容科的', '🤔', '加油啦', '我上個禮拜剛參觀完學校的屍體', '賀哦', '嘿', '沒上課喔', '😂昂', '夜校嗎', '辛苦了', '嗨', '上課嗎', '對啊哈哈哈哈', '我在這裡看到的', '哈哈哈哈哈', '你什麼大學的', '在哪😂', '我在高雄', '輔英', '哈哈哈哈哈', '護理學校', '我在上歷史......', '哈哈哈哈', '媽', '我上電視了', '大幾', '老大四拐了幾個學妹了', '大一新鮮人', '怎麼可能', '學妹最好騙的', '你呢', '不是學妹嗎😂', '哈哈哈哈', '我要上課了', '拜拜', '🤗', '我也跟學長不熟😭', '也可以啊哈哈哈哈哈', '不過沒那麼容易被騙的', '😂', '魯半年了', '我下課了欸']</td>\n",
       "      <td>0</td>\n",
       "    </tr>\n",
       "    <tr>\n",
       "      <th>6391</th>\n",
       "      <td>6391</td>\n",
       "      <td>u319c521f6e77ee9e0a94fea224c6f6ac</td>\n",
       "      <td>['「希銘，郭叔叔有件事想跟你談一談。」郭叔叔此時尚未發現希銘異樣的眼色，又說道。\\n\\n「是什麼事？郭叔叔請講。」說完，抬眼注視著他帥氣的臉蛋。\\n\\n「嗯，是這樣的，我看你長得體格健壯，又英俊瀟灑，所以郭叔叔很喜歡你，我想把我唯一的女兒，她叫卡卡，介紹給你，先交個朋友，有緣的話，再談婚嫁，不知道你的意思怎樣呢？」\\n\\n「這個……..。」\\n\\n「別這個、那個的，是不是我的女兒不夠漂亮，你不喜歡？」\\n\\n「不是的，你們父女都很漂亮，尤其郭叔叔更帥氣非凡，又年輕，你所生的女兒，當然也漂亮嘛！」\\n\\n「真的？你沒騙我吧！我都四十多了，還把我說得如此年輕、帥氣。」\\n\\n「不，郭叔叔一點都不老，看起來像三十剛出頭的一樣，和你的女兒站在一起，不知內情的人，還以為你們是兄妹呢！」\\n\\n郭叔叔一聽芳心暗喜：「希銘，你的嘴真甜，真會討我的歡心。」\\n\\n希銘一見，知道他動情了，心想機會來了：「郭叔叔，要不要嘗嘗看，我的嘴甜不甜？」\\n\\n「畢竟，我還是比較喜歡不會懷孕的。」\\n\\n希銘揚起了一抹淫蕩的微笑。', '可以三匹嗎？\\n就是我朋友插妳，我肛我朋友，\\n妳戴假屌肛我這樣☆', 'ㄟ', '共威啊！', '看不起我老大葳葳膩', '安安', '嘎嘎挖啦啦吧 \\n挖挖寶拉愛挖\\n鱸啊啊啦啦挖啦', '嗨', '認識葳葳嗎', '葳葳娘娘', '公威啊', '您好!\\n這裡是罔市汽機車貸款中心，\\n請問您有沒有任何\\n汽機車貸款上的問題，\\n有的話本公司的顧問罔腰\\n會樂意替您解答喔！\\n\\n現在貸款還免費教導您家的角挖\\n騎重機喔!!', '沒重機剛好可以貸款買乙台喔', '欸', '喵挖', '種子', '挖嗎？', '挖嗎？', '挖嗎？', '挖嗎？', '還是要玩布袋戲，限男', '貪婪', '我知道啊，我是ㄊㄊㄌ', '他幹嘛被打', '嗨', '沒，', '連讀都沒有', '氣到噴尿', '我要找蝙蝠俠大戰超人傳給他', '不錯', '…==ㄗㄒ', '我這樣會被ㄅㄓ打吧', '對了，您那位', '應嘎不是熊怪', '男的', '好，薰', '呃…這樣我女生認識不多欸', '冰冰嗎', '喔喔', '喔喔', '黑…', '黑…', '不是…', '不是', '妳聽我說', '我是要打嘿', '嘿黑黑', '我本來開頭要打', '約嗎', '但怕...</td>\n",
       "      <td>1</td>\n",
       "    </tr>\n",
       "    <tr>\n",
       "      <th>8530</th>\n",
       "      <td>8530</td>\n",
       "      <td>u7e890052630297c1d8a4e600976deb7b</td>\n",
       "      <td>[' 。。', '嚇', '到', '沒4', '好想你', '是真的真的好想你', '不是假的假的好想你', '你想看什麼', '窩怕', '才不要你咧', '🙂', '🈹🇬 🇬嘍', '什麼什麼', '笑惹', '不想', '內建嚕', '🈹🇬 🇬', 'ㄘ', '晚飯', '你亂猜', '男的', '😏', '甲什麼拉。', '甲', '根本4你', '噗噗', 'ㄩㄇ是啥', '說啊', '這樣太危險', '8787', '。。。', '😒', '甲', '沒啊', '掰掰', '嘿', '哪裡😂', '抓抓', '窩有快龍', '迷你龍合體ㄉ', '🙂', '那還要好久好久😂', '水邊有很多迷你龍', '窩也4', '都快2隻暴力龍ㄌ', '😂😂😂', '太多了', '看日出', '🤔', '提示', '早屁', 'ㄅ早ㄌ', '豬', '真的4豬😅😅', '。。。', '晚安', '啊不是藥睡', '快開學了', '窩在調整好ㄇ', '高2→3', '宜蘭', '好狂。。', '替代役是幹嘛ㄉ', '無解跟東珊是什麼', '幹', '窩是齁', '書凹', '矮噁', '這樣太危險', '8787', '🤗', '窩想想', '麥當勞歡樂送', '窩都ㄘ勁辣ㄐ跟雙層牛', '加大薯', '好ㄘ', '🤗🤗', '算了', '早看開', '逆走開唉~', '男森嘍', '噗', '你才ㄍㄟˋ', '臭甲甲', '窩若是ㄍㄟˋ，\\n那就🈹🇬 🇬嘍', '😓😓😓', '果然是臭甲甲', '窩哪有', '你。。。。', '(´･_･`)', '是真的真的', '你才死大叔', '窩啾ㄅ4甲', '🙃', '已🈹', '看屍體?', '所以咧', '噗噗', '找時間ㄅ', '給你+', '嘶嘶嘶嘶嘶嘶嘶嘶嘶嘶嘶嘶嘶嘶嘶嘶', '😅', '0漬泫', '3.3', '澡ㄍ時間ㄅ', '給你+', '你給我啊', 'ヽ(｀Д´)ﾉ', '就看看文張', '那窩4', '為何😅', '沒差啊', '窩也4', '本來就是', 'ㄘ', 'ㄘㄘㄘㄘㄘㄘㄘㄘㄘㄘ', '飯( ´_ゝ`)', '( ´_ゝ`)', '窩沒ㄒ', '好ㄇ', '好學生豪ㄇ', '不是ㄇ🤔🤔', 'ㄆ友', '豪ㄐㄌ', '🇳 🇮 🇨 🇪', '窩只是普通百姓好ㄇ', '怕\\U0010...</td>\n",
       "      <td>2</td>\n",
       "    </tr>\n",
       "    <tr>\n",
       "      <th>10589</th>\n",
       "      <td>10589</td>\n",
       "      <td>1228311663893341</td>\n",
       "      <td>['嗨嗨', '這東西好帥', '有啊', '正躺在椅子上', '你沒有嗎', '哇', '那你們那邊現在有風有雨嗎', '我覺得半天好累', '而且還要浪費時間出門', '換個角度想\\n你可以待會去覓食', '我現在想出門覓食 都不敢出去哈哈', '吃完午餐買點心回家', '臺北哈哈', '我剛剛聽到外面有鐵鍋掉的聲音', '還有盆栽掉', '很可怕哈哈', '中秋節那週的第二個颱風 也差不多', '還有超長的蚯蚓', '對', '美麗華那邊 有草地 上次颱風 跑出一堆蚯蚓', '很黑很長的', '是超多的那種', '是說 那你現在什麼課', '哈哈辛苦辛苦', '我已經遠離國文的可怕', '是啊', '對哈哈', '避開國文', '大三了', '好老', '嗚嗚', '當年我也是這樣安慰大學生的哈哈', '其實我現在才發現沒有哈哈', '這個我不否認', '上了大學還是很慶幸哈哈', '我妹也在奮鬥高中', '高三啊', '那你想唸什麼科', '反正都先考高再來看嗎哈哈', '我是唸傳播的', '廣電系就是拍片相關的', '其他的也都是實作比較多', '也是有理論啦', '只是根據一個修了傳播和國企的人的說法\\n上了傳播的課就會覺得商學的課無聊 哈哈', '我是銘傳哈哈', '世新的實作更可怕的多', '你是理科的孩子！！', '偏物還化', '電機？', '資訊', '可以考完學測後\\n去看看大學的課表', '我覺得自然組的都要動腦哈哈', '嗨', '20', '大三了哈哈', '時間咻咻咻', '還可以什麼哈哈', '你唸什麼啊', '他怎麼了', '哇！！是肝比我們黑的系', '我傳播的哈哈', '他是要找大一嗎哈哈', '我是銘傳', '不愛唸國英數社自只好這樣哈哈', '可以夜教哈哈', '但是馬上離開真的太壞了', '我們有宿營', '只是我也沒去過哈哈', '辦在天氣很熱的時間\\n然後蚊蟲很多\\n大自然我真到沒辦法', '其實是我當年剛好要去看表演的時間撞期哈哈', '一堆歌手唱歌的那種活動', 'D Link辦的', '我也是意外發現的', '你們會展出！！', '我之前有看過新一代', '哈哈應該是不會啦~~', '我們通常都另外辦畢展', '你的是哪個學校', '我明年去的時候關注一下', '我會記得的', '認你們學校哈哈', '...</td>\n",
       "      <td>2</td>\n",
       "    </tr>\n",
       "    <tr>\n",
       "      <th>11723</th>\n",
       "      <td>11723</td>\n",
       "      <td>1180778915349569</td>\n",
       "      <td>['莫名其妙醒來的', '我也是哈哈', '無聊到不知道要幹嘛', '這麼早醒來沒地方去', '只好繼續在床上當屍體ㄏㄏ', '你們有下雨嗎', 'Hi', '早安', '剛醒ㄏㄏ', '你整晚該不會都在聊天吧ㄏㄏ']</td>\n",
       "      <td>2</td>\n",
       "    </tr>\n",
       "    <tr>\n",
       "      <th>12632</th>\n",
       "      <td>12632</td>\n",
       "      <td>1196509963755946</td>\n",
       "      <td>['嗨', '今天過得如何？', '是喔', '嗨嗨嗨', 'ＧＧ', 'ＧＧＧＧＧＧＧＧＧＧＧ', '________________', '________________', '下午剛收到這封~ 我也不想傳=&gt;&lt;為了自己的家人！還是傳吧!)（信不信由你）．．．別人硬要傳ㄉ．．對不起我叫遠呂智，我在民國94年6月29號，被人殺了，屍體埋在金湖國小附近，如果你把這封信 刪除的話，你的男性家人會在5天內被ㄊㄊㄌ纏上，如果你在看到這封信的24小時內，傳給30個人你家 就不會鬧ㄊㄊㄌ，我是被逼ㄉ 請幫忙找到犯人 你把這封信發給你的30個好友，10天後，你喜歡的人就會喜歡上你。如果不發，你全家男性就會在50天後，被ㄊㄊㄌ探花 很靈: 看清: 阿強包皮裂開', 'ㄅㄑ', '請使用fb 那裡品質較穩定唷唷唷', '我的告白', 'ＱＱ', '杜絕約炮', '8', '23 才公布這個', '有這個可以聊', '現在應該算不錯了', '不約', '又是用line', '沒看到公告說用fb嗎？', '＠＠', '對方使用 Line 聊天，目前屬於不穩定狀態，隨時可能會斷線', '這三小', '？？', '黑', '今天開心嗎？', '不懂喔', '請解釋', '可能喔', '不懂', '嗨', '你怎麼用line 不用fb呢？', '好喔', '不過我建議還是用 FB 比較穩定', '嗨嗨', '那是什麼？', '？？', '嗨', '你好', '今天開心嗎？', '耶', 'c9 c9', '嗨嗨', '今天過得如何', '喵', '新興感？', '什麼意思？', '喔喔', '我可以問一些問題嗎？', '你怎麼知道這個app?', '好多場外人', '你應該用fb吧？', '度啊 到底是什麼意思？', '喔喔', '剛剛另外一個人跟我解釋 餓了', '我感到很莫名', '那你覺得這裡如何？', '這個app', '123', '==', '123', '&gt;\"&lt;', 'hjl', 'd', 'asd', '我好我好', '這麼早不睡', '男生', '怎', '＝＝', '幹嘛嗆他', '我測試一下東西', '沒東西', '我在測試傳訊息正不正常', '我在修改程式ＱＱ', '我是管理員ＱＱ', '趁現在人少改一下東西', '拍謝啦', '看一下 影片照片', '傳送...</td>\n",
       "      <td>2</td>\n",
       "    </tr>\n",
       "  </tbody>\n",
       "</table>\n",
       "</div>"
      ],
      "text/plain": [
       "       Unnamed: 0                               from  \\\n",
       "1773         1773                   1439124526116366   \n",
       "2034         2034                   1503461509669308   \n",
       "4292         4292  uea65a2313b63db97197d01dd251e95ab   \n",
       "4352         4352  ufea168c353704deefd4a375453156cdb   \n",
       "5650         5650                   1376382692391122   \n",
       "5908         5908  u892992a4983d1be3d237aadefdbb9133   \n",
       "6391         6391  u319c521f6e77ee9e0a94fea224c6f6ac   \n",
       "8530         8530  u7e890052630297c1d8a4e600976deb7b   \n",
       "10589       10589                   1228311663893341   \n",
       "11723       11723                   1180778915349569   \n",
       "12632       12632                   1196509963755946   \n",
       "\n",
       "                                                                                                                                                                                                                                                                                                                                                                                                                                                                                                                                                                                                                                                                                                                                                                                                                                                                                                                                                                                                                                          text  \\\n",
       "1773   ['約嗎', '……', '約嗎', '你是ㄊㄊㄌ嗎', '吞吐海洋', '我最想幹死ㄊㄊㄌ了', '你知道光頭嗎', '跟你講八掛', '光頭他', '最愛ㄘ撞球', '這是秘密', 'ㄊㄊㄌ跟我說的', '我不知道', '光頭可能不是人類', '不然怎麼幹撞球', '沒有', '我不存男生照', '幹撞球洞吧', 'ㄨㄋㄠㄎㄨㄕㄗㄎㄟㄋㄝㄊㄙㄊㄙ', '你那位', '我是', '秘密', '我也ㄞ你', '雷歐', '不對，是ㄨ娜', 'Ru', '哪位', '娟喔', '我是真的ㄊㄊㄌ呦', '對啊', '不信我叫ㄊㄊㄌ來跟你講', '嗨！我是ㄊㄊㄌ', '興趣是欣賞猛男', '呃…內褲的話，男生才私喔', '好，私', '好看嗎\\n喜歡嗎\\n好色喔你\\n呵呵', '……好，我道歉', '要尬是不是？', '……我的圖片好多都刪了ㄨㄨ', '……這幾歲', '==我不懂她們在想什麼', '怎麼敢傳裸照出去', '男生', '私♡', '==你怎麼看呢', '我覺得她們傻傻的', '以後不是變ㄖㄅㄑ就是很後悔', '==搞不好她們老爸哪天也在群裡看到', '女兒的裸照', '小妹我25', '當然是假年齡……', '網路上都留假資料', '升高中了', '我說你', '應該是高一了吧', '好，……差不多啦', '你知道場外的uccu嗎', '喔喔，我只是想試探一下你是不是他', 'Poi', '卡卡', '咦', '你是粉絲團的嗎', '霸主', '所以你不是場外的', '測試，野', '斷', '好，人家說野時，是要接龍', '野格炸彈，我的最愛', '通常場外的都會這個', '下次你可以試試', '巴哈姆特電玩資訊站', '裡面一個版叫場外休憩版', '對', '至於場外如何，還是自己確認最準', '==我是裡面的潛水老屁股', '有些梗場外才知道', '大部分是沒差', '偶爾會出現一些怪咖就是', '例如霸主', '這樣啊', 'ㄊㄊㄌ是個秘密', '他是一個人，也是好幾個人', '他是變態，是天使，是好人，也是王八', '……度', '度等於對', '起因是有個人打字沒打好', '度的，這樣就度了', '你今天更接近場外梗了', '等等，你剛剛遇到ㄊㄊㄌ？', 'ㄊㄊㄌ他說啥', '==他在幹嘛啊', '別理ㄊㄊㄌ', '好，我記得，快開學了...   \n",
       "2034   ['嗨一', '嗨一', '你是真人嗎～', '剛剛也沒連到以為壞了', '應該看你太魯', 'ㄟㄟㄟㄟ是跑了喔哈哈', '嗨一', '你好你好', '這重要嗎🤔', '哈哈哈哈', '如果我男生要跟我聊什麼', '我剛畢業喔還在廢哈哈', '那我女生的話聊什麼', '也差別太大哈哈哈', '你說什麼有沒有差', '對啊', '上一個被我說魯就消失了🤔', '有喔', '你也要閃了嗎😂😂😂', '但是有時候很孤單耶～', '看電影吃飯什麼的', '嗨一', '哈哈騙你的', '嗨一', '安安颱風天還好嗎', '你在哪裡沒颱風🤔', '可惡', '台中風大雨大', '應該只能卡在路上求北部人支援ㄌ', '緊來載我', '坐船到白沙灣你來載好唄', '那不是很久的片了', '綁兩戳的妹妹不是', '喔哈哈哈你很懶欸是不會多打個怪奇', '綁兩戳的好看該看', '不是鬼的耶', '怪奇孤兒院看預告也蠻恐怖的啊🤔', '超詭異', '哈哈裡面有人用後腦勺吃雞腿ㄟ', '不恐怖嗎', '沒有啦那部應該沒那麼恐怖啦😂😂', '但吃雞腿是真的', '那部沒興趣捏', '我重口味的', '但鬼片我也不敢😝', '是怕被音效嚇到哈哈', '睡啊吃啊玩狗哈哈', '好廢喔', '嗨一', '你好你好', '颱風天安好嗎', '哈哈騙你的', '服務業喔', '看來你是北部人嗎🤔', '哈哈哈竟然猜中了', '台中～', '有啊', '但到剛才下雨', '很難猜嗎🤔', '微～', '真沒禮貌', '我也是啊😆😆😆', '這東西太神奇了', '哈哈你剛沒有跟其他人聊過嗎', '你遇到有禮貌了🤔', '我遇到都直接離開', '傻眼', '抽卡嗎', '喔哈哈哈哈', '臉書就好了吧哈哈', '這名字也太長', '嗯那我也要去睡囉哈哈', '真是有趣哈哈', '蝦毀', '自備貼圖喔', '嗨一', '哈哈騙你的', '臉書啊哈哈不是只能用這個', '那是什麼哈哈', '功能一樣嗎', '真的喔', '我以為只有臉書', '🤔', '好吧 是還蠻好玩的啦', '幹嘛', '哈哈真的蠻可惜的ㄟ', '該不會是你長的太魯', '😨', '這麼深喔', '不是也才聊一下嗎😆😆😆', '這麼多進展', '乾脆去潑dcard尋人算了', '才不會好嗎', '你不怕我是甲', '哈哈哈', '...   \n",
       "4292   ['你好', '你平常在幹嘛', '我也是', '第一個', '哦?', '玩什麼', '是喔  之前有玩呢', '但是一直上不了手', '嘿嘿 什麼牌位', '我15等 www', '可能是', '我想不到(･ω´･ )', 'ㄅ欠', '有想過是不是零時間雙向傳輸', '瞬間把二個人的信息經過一個相同的媒介', '很像捏  但是是在另一個聊天軟體做出來的', '真厲害', '厲害', '我看看規則', '好啦  換個了', '掰掰', '尼豪', '幾歲阿', '好 : )', '嗨喲', '在忙喔 怎麼這麼慢 xD', 'wwww', 'wwww', '可以拍下蘋果嗎', '人類無所不能(ﾟ∀。)', '嗨喲', '在幹嘛~', '我傻(ﾟ∀。)', '14><', '4阿', '晴軒是可愛的小妹><', '雲林喔', '小妹想想~', '我在玩御劍情緣喔', '手機遊戲 小妹第一天就五十幾等囉><', '齁齁  葛格想玩喔(*´▽`*)', '小妹也才剛玩捏(*´艸`*)', '小妹跟著任務走 跟著任務很快的(ﾉ>ω<)ﾉ', '齁齁怎麼說', '小妹在吃東西 嘻嘻', '小沙拉  嘻嘻 吃完了ヽ(●´∀`●)ﾉ', '不會阿  很養生 (*´▽`*)', '喔吉桑才不會知道自己老了  (*ﾟ∀ﾟ*)', '8787ㄉ', '很可愛啊(*´艸`*)', '蓋', '年齡不是問題啊', '約浪漫嗎', '蚌', '那個隨機聊的怎麼用', '對齁 窩在幹嘛啊 哈哈', '窩遇到尼就發燒了哈哈', '幹', '幹我', '攻守交換', '那我當攻吧', '葛格硬了嗎', '要來了', 'ㄩㄇ', '約嗎', '我的跨下 又大又好ㄘ', '洗乾淨就可以ㄘ惹', '被盜', '來肛交', '那你也要洗乾淨哦 嘻嘻', '網路看到的 臺灣啊！怎?', '嗨囉~', '蛤', '?', '哈囉~', '哈囉~~', '什麼?', '蛤', '嗨', '過得怎麼樣', '吃點小東西', '然後聊天~~', '是的', 'ㄇ關西', '場外人?', '幹  現在是場外都在玩嗎', '你背後也有嗎', '幹 你也是喔', '你哪個', '肏', '沒有', '沒有', '太正經', '太噓啦', '你發個聲', '世的', '鬧爆', '聊天室', '群', '看到惹'...   \n",
       "4352   ['安安', 'ㄜ', '你喜歡的類型？', '來 都來', '嗯啊再來', '甲爆', '下午剛收到這封~ 我也不想傳=><為了自己的家人！還是傳吧!)（信不信由你）．．．別人硬要傳ㄉ．．對不起我叫遠呂智，我在民國94年6月29號，被人殺了，屍體埋在金湖國小附近，如果你把這封信 刪除的話，你的男性家人會在5天內被ㄊㄊㄌ纏上，如果你在看到這封信的24小時內，傳給30個人你家 就不會鬧ㄊㄊㄌ，我是被逼ㄉ 請幫忙找到犯人 你把這封信發給你的30個好友，10天後，你喜歡的人就會喜歡上你。如果不發，你全家男性就會在50天後，被ㄊㄊㄌ探花 很靈: 看清: 阿強包皮裂開 下午剛收到這封~ 我也不想傳=><為了自己的家人！還是傳吧!)（信不信由你）．．．別人硬要傳ㄉ．．對不起我叫遠呂智，我在民國94年6月29號，被人殺了，屍體埋在金湖國小附近，如果你把這封信 刪除的話，你的男性家人會在5天內被ㄊㄊㄌ纏上，如果你在看到這封信的24小時內，傳給30個人你家 就不會鬧ㄊㄊㄌ，我是被逼ㄉ 請幫忙找到犯人 你把這封信發給你的30個好友，10天後，你喜歡的人就會喜歡上你。如果不發，你全家男性就會在50天後，被ㄊㄊㄌ探花 很靈: 看清: 阿強包皮裂開 下午剛收到這封~ 我也不想傳=><為了自己的家人！還是傳吧!)（信不信由你）．．．別人硬要傳ㄉ．．對不起我叫遠呂智，我在民國94年6月29號，被人殺了，屍體埋在金湖國小附近，如果你把這封信 刪除的話，你的男性家人會在5天內被ㄊㄊㄌ纏上，如果你在看到這封信的24小時內，傳給30個人你家 就不會鬧ㄊㄊㄌ，我是被逼ㄉ 請幫忙找到犯人 你把這封信發給你的30個好友，10天後，你喜歡的人就會喜歡上你。如果不發，你全家男性就會在50天後，被ㄊㄊㄌ探花 很靈: 看清: 阿強包皮裂開 下午剛收到這封~ 我也不想傳=><為了自己的家人！還是傳吧!)（信不信由你）．．．別人硬要傳ㄉ．．對不起我叫遠呂智，我在民國94年6月29號，被人殺了，屍體埋在金湖國小附近，如果你把這封信 刪除的話，你的男性家人會在5天內被ㄊㄊㄌ纏上，如果你在看到這封信的24小時內，傳給30個人你家 就不會鬧ㄊㄊㄌ，我是被逼ㄉ 請幫忙找到犯人 你把這封信發給你的30個好友，10天後，你喜歡的人就會喜歡上你。如果不發，你全家男性就會在50天後，被ㄊㄊㄌ探花 很靈: 看清: 阿強包皮裂開 下午...   \n",
       "5650   ['嗨', '真早起', '狂', '??', '早餐94要吃培根蛋', 'BJ4', '?', '男的啊 這時間哪有女生', '小妳媽妹', '叫我姊姊', '白痴', '嗨嗨', '._.?', '狂啊', '肥宅 約嗎？？', '你才肥宅 你全家都肥宅', '蒸蚌', '回去多爬爬文', '這個時間哪有什麼小妹', '我來考考妳', '1+1+1=?', '答對了..', '蒸蚌', '不然妳早上起床看到鏡子㑹覺得自己很漂亮嗎？', '妳沒有妹妹', '看來我們是', '兩個世界', '夢魘製造G?', '星', '爆', '妳還是醒醒吧', '妳沒有妹妹', '野', '別在釣魚了', '小妹妳給個LINE', '摁摁', '不會ㄅ', '我都潛水', '畢竟', '邊緣人', '幫QQ補血', '哈哈哈哈哈哈', '比8主還樂觀', '真的假的', '感覺妳真的是小妹欸', '我竟然不相信妳..', '哈哈哈哈哈哈', '加lineㄅ', '這裡隔牆有耳', '那妳加我ㄇ', '好ㄅ', '難過', '流淚', '我一個被拋棄', '妳不要我了', '幹', '還是我們+臉書', '場外一家親', '。。。', '怎麼還是妳', '87', '不能給別的答案了', '87', '野我是第二個', '星', 'I8主', '成功快樂又致富', '幹', '一生平安', '嗨嗨', '中壢', 'Y', '白痴', '這個看不懂', '對啦', '23', 'KNPS', '嗨', 'KNPS', '嗨', '野', '臭夢子', '..', '我們為什麼要互相傷害', 'HI', '夢子', 'jpg', '野', '星', 'Hi', '176', '謝謝', '哈哈哈哈哈哈', '最萌身高差', '開學了ㄇ', '蒸蚌', '視訊?', 'ㄋ才ㄈㄓ ㄋ全家都ㄈㄓ', '臭夢子', '窩知道錯了', '幫QQ', 'ㄢ', '我來翻譯', '約嗎？', '哈哈哈哈哈哈', '蒸蚌', '哈哈哈哈哈哈', '快點叫', '歐尼醬', '真可愛><', '人可愛又善良', '我也最喜歡夢子', '哈哈哈哈哈哈', '對啊', '對不起', '原諒我', '給我機會', '我會改', '我有在反省了', '不約ㄛ', '拍寫', '我要保護我的小可愛',...   \n",
       "5908                                                                                                                                                                                                                                                                                                                     ['對啊', '你是真人？', '學我打字', '你們公司目前幾個人', '台科大就是不一樣', '難過', '不能傳貼圖啊', '你難過啥', '我是機器人', '哇', '研究這個很辛苦齁', '辛苦你了', '哈哈哈哈哈', '你們加油啦', '對啊', '我以為你真的在工作', '🙄', '78', '哈哈哈', '你加油', '我也是', '你哪所大學', '我還在上課....', '我高雄這邊的', '我混鬼式企業的', '哈哈哈哈哈', '下課幹嘛去', '我總覺得等等又搶不到飯之類的', '上線人數2420欸', '好多', '真的！！！！', '不過你拼錯了', '日校', '哈哈哈', '哪所啊', '也太可憐了', '要當醫生嗎', '輔英', '美容科的', '🤔', '加油啦', '我上個禮拜剛參觀完學校的屍體', '賀哦', '嘿', '沒上課喔', '😂昂', '夜校嗎', '辛苦了', '嗨', '上課嗎', '對啊哈哈哈哈', '我在這裡看到的', '哈哈哈哈哈', '你什麼大學的', '在哪😂', '我在高雄', '輔英', '哈哈哈哈哈', '護理學校', '我在上歷史......', '哈哈哈哈', '媽', '我上電視了', '大幾', '老大四拐了幾個學妹了', '大一新鮮人', '怎麼可能', '學妹最好騙的', '你呢', '不是學妹嗎😂', '哈哈哈哈', '我要上課了', '拜拜', '🤗', '我也跟學長不熟😭', '也可以啊哈哈哈哈哈', '不過沒那麼容易被騙的', '😂', '魯半年了', '我下課了欸']   \n",
       "6391   ['「希銘，郭叔叔有件事想跟你談一談。」郭叔叔此時尚未發現希銘異樣的眼色，又說道。\\n\\n「是什麼事？郭叔叔請講。」說完，抬眼注視著他帥氣的臉蛋。\\n\\n「嗯，是這樣的，我看你長得體格健壯，又英俊瀟灑，所以郭叔叔很喜歡你，我想把我唯一的女兒，她叫卡卡，介紹給你，先交個朋友，有緣的話，再談婚嫁，不知道你的意思怎樣呢？」\\n\\n「這個……..。」\\n\\n「別這個、那個的，是不是我的女兒不夠漂亮，你不喜歡？」\\n\\n「不是的，你們父女都很漂亮，尤其郭叔叔更帥氣非凡，又年輕，你所生的女兒，當然也漂亮嘛！」\\n\\n「真的？你沒騙我吧！我都四十多了，還把我說得如此年輕、帥氣。」\\n\\n「不，郭叔叔一點都不老，看起來像三十剛出頭的一樣，和你的女兒站在一起，不知內情的人，還以為你們是兄妹呢！」\\n\\n郭叔叔一聽芳心暗喜：「希銘，你的嘴真甜，真會討我的歡心。」\\n\\n希銘一見，知道他動情了，心想機會來了：「郭叔叔，要不要嘗嘗看，我的嘴甜不甜？」\\n\\n「畢竟，我還是比較喜歡不會懷孕的。」\\n\\n希銘揚起了一抹淫蕩的微笑。', '可以三匹嗎？\\n就是我朋友插妳，我肛我朋友，\\n妳戴假屌肛我這樣☆', 'ㄟ', '共威啊！', '看不起我老大葳葳膩', '安安', '嘎嘎挖啦啦吧 \\n挖挖寶拉愛挖\\n鱸啊啊啦啦挖啦', '嗨', '認識葳葳嗎', '葳葳娘娘', '公威啊', '您好!\\n這裡是罔市汽機車貸款中心，\\n請問您有沒有任何\\n汽機車貸款上的問題，\\n有的話本公司的顧問罔腰\\n會樂意替您解答喔！\\n\\n現在貸款還免費教導您家的角挖\\n騎重機喔!!', '沒重機剛好可以貸款買乙台喔', '欸', '喵挖', '種子', '挖嗎？', '挖嗎？', '挖嗎？', '挖嗎？', '還是要玩布袋戲，限男', '貪婪', '我知道啊，我是ㄊㄊㄌ', '他幹嘛被打', '嗨', '沒，', '連讀都沒有', '氣到噴尿', '我要找蝙蝠俠大戰超人傳給他', '不錯', '…==ㄗㄒ', '我這樣會被ㄅㄓ打吧', '對了，您那位', '應嘎不是熊怪', '男的', '好，薰', '呃…這樣我女生認識不多欸', '冰冰嗎', '喔喔', '喔喔', '黑…', '黑…', '不是…', '不是', '妳聽我說', '我是要打嘿', '嘿黑黑', '我本來開頭要打', '約嗎', '但怕...   \n",
       "8530   [' 。。', '嚇', '到', '沒4', '好想你', '是真的真的好想你', '不是假的假的好想你', '你想看什麼', '窩怕', '才不要你咧', '🙂', '🈹🇬 🇬嘍', '什麼什麼', '笑惹', '不想', '內建嚕', '🈹🇬 🇬', 'ㄘ', '晚飯', '你亂猜', '男的', '😏', '甲什麼拉。', '甲', '根本4你', '噗噗', 'ㄩㄇ是啥', '說啊', '這樣太危險', '8787', '。。。', '😒', '甲', '沒啊', '掰掰', '嘿', '哪裡😂', '抓抓', '窩有快龍', '迷你龍合體ㄉ', '🙂', '那還要好久好久😂', '水邊有很多迷你龍', '窩也4', '都快2隻暴力龍ㄌ', '😂😂😂', '太多了', '看日出', '🤔', '提示', '早屁', 'ㄅ早ㄌ', '豬', '真的4豬😅😅', '。。。', '晚安', '啊不是藥睡', '快開學了', '窩在調整好ㄇ', '高2→3', '宜蘭', '好狂。。', '替代役是幹嘛ㄉ', '無解跟東珊是什麼', '幹', '窩是齁', '書凹', '矮噁', '這樣太危險', '8787', '🤗', '窩想想', '麥當勞歡樂送', '窩都ㄘ勁辣ㄐ跟雙層牛', '加大薯', '好ㄘ', '🤗🤗', '算了', '早看開', '逆走開唉~', '男森嘍', '噗', '你才ㄍㄟˋ', '臭甲甲', '窩若是ㄍㄟˋ，\\n那就🈹🇬 🇬嘍', '😓😓😓', '果然是臭甲甲', '窩哪有', '你。。。。', '(´･_･`)', '是真的真的', '你才死大叔', '窩啾ㄅ4甲', '🙃', '已🈹', '看屍體?', '所以咧', '噗噗', '找時間ㄅ', '給你+', '嘶嘶嘶嘶嘶嘶嘶嘶嘶嘶嘶嘶嘶嘶嘶嘶', '😅', '0漬泫', '3.3', '澡ㄍ時間ㄅ', '給你+', '你給我啊', 'ヽ(｀Д´)ﾉ', '就看看文張', '那窩4', '為何😅', '沒差啊', '窩也4', '本來就是', 'ㄘ', 'ㄘㄘㄘㄘㄘㄘㄘㄘㄘㄘ', '飯( ´_ゝ`)', '( ´_ゝ`)', '窩沒ㄒ', '好ㄇ', '好學生豪ㄇ', '不是ㄇ🤔🤔', 'ㄆ友', '豪ㄐㄌ', '🇳 🇮 🇨 🇪', '窩只是普通百姓好ㄇ', '怕\\U0010...   \n",
       "10589  ['嗨嗨', '這東西好帥', '有啊', '正躺在椅子上', '你沒有嗎', '哇', '那你們那邊現在有風有雨嗎', '我覺得半天好累', '而且還要浪費時間出門', '換個角度想\\n你可以待會去覓食', '我現在想出門覓食 都不敢出去哈哈', '吃完午餐買點心回家', '臺北哈哈', '我剛剛聽到外面有鐵鍋掉的聲音', '還有盆栽掉', '很可怕哈哈', '中秋節那週的第二個颱風 也差不多', '還有超長的蚯蚓', '對', '美麗華那邊 有草地 上次颱風 跑出一堆蚯蚓', '很黑很長的', '是超多的那種', '是說 那你現在什麼課', '哈哈辛苦辛苦', '我已經遠離國文的可怕', '是啊', '對哈哈', '避開國文', '大三了', '好老', '嗚嗚', '當年我也是這樣安慰大學生的哈哈', '其實我現在才發現沒有哈哈', '這個我不否認', '上了大學還是很慶幸哈哈', '我妹也在奮鬥高中', '高三啊', '那你想唸什麼科', '反正都先考高再來看嗎哈哈', '我是唸傳播的', '廣電系就是拍片相關的', '其他的也都是實作比較多', '也是有理論啦', '只是根據一個修了傳播和國企的人的說法\\n上了傳播的課就會覺得商學的課無聊 哈哈', '我是銘傳哈哈', '世新的實作更可怕的多', '你是理科的孩子！！', '偏物還化', '電機？', '資訊', '可以考完學測後\\n去看看大學的課表', '我覺得自然組的都要動腦哈哈', '嗨', '20', '大三了哈哈', '時間咻咻咻', '還可以什麼哈哈', '你唸什麼啊', '他怎麼了', '哇！！是肝比我們黑的系', '我傳播的哈哈', '他是要找大一嗎哈哈', '我是銘傳', '不愛唸國英數社自只好這樣哈哈', '可以夜教哈哈', '但是馬上離開真的太壞了', '我們有宿營', '只是我也沒去過哈哈', '辦在天氣很熱的時間\\n然後蚊蟲很多\\n大自然我真到沒辦法', '其實是我當年剛好要去看表演的時間撞期哈哈', '一堆歌手唱歌的那種活動', 'D Link辦的', '我也是意外發現的', '你們會展出！！', '我之前有看過新一代', '哈哈應該是不會啦~~', '我們通常都另外辦畢展', '你的是哪個學校', '我明年去的時候關注一下', '我會記得的', '認你們學校哈哈', '...   \n",
       "11723                                                                                                                                                                                                                                                                                                                                                                                                                                                                                                                                                                                                                                                                                                                                                                                                                                                                                                                            ['莫名其妙醒來的', '我也是哈哈', '無聊到不知道要幹嘛', '這麼早醒來沒地方去', '只好繼續在床上當屍體ㄏㄏ', '你們有下雨嗎', 'Hi', '早安', '剛醒ㄏㄏ', '你整晚該不會都在聊天吧ㄏㄏ']   \n",
       "12632  ['嗨', '今天過得如何？', '是喔', '嗨嗨嗨', 'ＧＧ', 'ＧＧＧＧＧＧＧＧＧＧＧ', '________________', '________________', '下午剛收到這封~ 我也不想傳=><為了自己的家人！還是傳吧!)（信不信由你）．．．別人硬要傳ㄉ．．對不起我叫遠呂智，我在民國94年6月29號，被人殺了，屍體埋在金湖國小附近，如果你把這封信 刪除的話，你的男性家人會在5天內被ㄊㄊㄌ纏上，如果你在看到這封信的24小時內，傳給30個人你家 就不會鬧ㄊㄊㄌ，我是被逼ㄉ 請幫忙找到犯人 你把這封信發給你的30個好友，10天後，你喜歡的人就會喜歡上你。如果不發，你全家男性就會在50天後，被ㄊㄊㄌ探花 很靈: 看清: 阿強包皮裂開', 'ㄅㄑ', '請使用fb 那裡品質較穩定唷唷唷', '我的告白', 'ＱＱ', '杜絕約炮', '8', '23 才公布這個', '有這個可以聊', '現在應該算不錯了', '不約', '又是用line', '沒看到公告說用fb嗎？', '＠＠', '對方使用 Line 聊天，目前屬於不穩定狀態，隨時可能會斷線', '這三小', '？？', '黑', '今天開心嗎？', '不懂喔', '請解釋', '可能喔', '不懂', '嗨', '你怎麼用line 不用fb呢？', '好喔', '不過我建議還是用 FB 比較穩定', '嗨嗨', '那是什麼？', '？？', '嗨', '你好', '今天開心嗎？', '耶', 'c9 c9', '嗨嗨', '今天過得如何', '喵', '新興感？', '什麼意思？', '喔喔', '我可以問一些問題嗎？', '你怎麼知道這個app?', '好多場外人', '你應該用fb吧？', '度啊 到底是什麼意思？', '喔喔', '剛剛另外一個人跟我解釋 餓了', '我感到很莫名', '那你覺得這裡如何？', '這個app', '123', '==', '123', '>\"<', 'hjl', 'd', 'asd', '我好我好', '這麼早不睡', '男生', '怎', '＝＝', '幹嘛嗆他', '我測試一下東西', '沒東西', '我在測試傳訊息正不正常', '我在修改程式ＱＱ', '我是管理員ＱＱ', '趁現在人少改一下東西', '拍謝啦', '看一下 影片照片', '傳送...   \n",
       "\n",
       "       category  \n",
       "1773          0  \n",
       "2034          0  \n",
       "4292          0  \n",
       "4352          0  \n",
       "5650          0  \n",
       "5908          0  \n",
       "6391          1  \n",
       "8530          2  \n",
       "10589         2  \n",
       "11723         2  \n",
       "12632         2  "
      ]
     },
     "execution_count": 23,
     "metadata": {},
     "output_type": "execute_result"
    }
   ],
   "source": [
    "df[df['text'].str.contains(\"屍體\")== True]\n"
   ]
  },
  {
   "cell_type": "code",
   "execution_count": 16,
   "metadata": {},
   "outputs": [],
   "source": [
    "pd.options.display.max_colwidth = 1000"
   ]
  },
  {
   "cell_type": "code",
   "execution_count": 17,
   "metadata": {},
   "outputs": [
    {
     "name": "stdout",
     "output_type": "stream",
     "text": [
      "6391    ['「希銘，郭叔叔有件事想跟你談一談。」郭叔叔此時尚未發現希銘異樣的眼色，又說道。\\n\\n「是什麼事？郭叔叔請講。」說完，抬眼注視著他帥氣的臉蛋。\\n\\n「嗯，是這樣的，我看你長得體格健壯，又英俊瀟灑，所以郭叔叔很喜歡你，我想把我唯一的女兒，她叫卡卡，介紹給你，先交個朋友，有緣的話，再談婚嫁，不知道你的意思怎樣呢？」\\n\\n「這個……..。」\\n\\n「別這個、那個的，是不是我的女兒不夠漂亮，你不喜歡？」\\n\\n「不是的，你們父女都很漂亮，尤其郭叔叔更帥氣非凡，又年輕，你所生的女兒，當然也漂亮嘛！」\\n\\n「真的？你沒騙我吧！我都四十多了，還把我說得如此年輕、帥氣。」\\n\\n「不，郭叔叔一點都不老，看起來像三十剛出頭的一樣，和你的女兒站在一起，不知內情的人，還以為你們是兄妹呢！」\\n\\n郭叔叔一聽芳心暗喜：「希銘，你的嘴真甜，真會討我的歡心。」\\n\\n希銘一見，知道他動情了，心想機會來了：「郭叔叔，要不要嘗嘗看，我的嘴甜不甜？」\\n\\n「畢竟，我還是比較喜歡不會懷孕的。」\\n\\n希銘揚起了一抹淫蕩的微笑。', '可以三匹嗎？\\n就是我朋友插妳，我肛我朋友，\\n妳戴假屌肛我這樣☆', 'ㄟ', '共威啊！', '看不起我老大葳葳膩', '安安', '嘎嘎挖啦啦吧 \\n挖挖寶拉愛挖\\n鱸啊啊啦啦挖啦', '嗨', '認識葳葳嗎', '葳葳娘娘', '公威啊', '您好!\\n這裡是罔市汽機車貸款中心，\\n請問您有沒有任何\\n汽機車貸款上的問題，\\n有的話本公司的顧問罔腰\\n會樂意替您解答喔！\\n\\n現在貸款還免費教導您家的角挖\\n騎重機喔!!', '沒重機剛好可以貸款買乙台喔', '欸', '喵挖', '種子', '挖嗎？', '挖嗎？', '挖嗎？', '挖嗎？', '還是要玩布袋戲，限男', '貪婪', '我知道啊，我是ㄊㄊㄌ', '他幹嘛被打', '嗨', '沒，', '連讀都沒有', '氣到噴尿', '我要找蝙蝠俠大戰超人傳給他', '不錯', '…==ㄗㄒ', '我這樣會被ㄅㄓ打吧', '對了，您那位', '應嘎不是熊怪', '男的', '好，薰', '呃…這樣我女生認識不多欸', '冰冰嗎', '喔喔', '喔喔', '黑…', '黑…', '不是…', '不是', '妳聽我說', '我是要打嘿', '嘿黑黑', '我本來開頭要打', '約嗎', '但怕...\n",
      "Name: text, dtype: object\n"
     ]
    }
   ],
   "source": [
    "print(df.text[6391:6392])"
   ]
  },
  {
   "cell_type": "code",
   "execution_count": null,
   "metadata": {},
   "outputs": [],
   "source": []
  }
 ],
 "metadata": {
  "kernelspec": {
   "display_name": "Python 3",
   "language": "python",
   "name": "python3"
  },
  "language_info": {
   "codemirror_mode": {
    "name": "ipython",
    "version": 3
   },
   "file_extension": ".py",
   "mimetype": "text/x-python",
   "name": "python",
   "nbconvert_exporter": "python",
   "pygments_lexer": "ipython3",
   "version": "3.5.2"
  }
 },
 "nbformat": 4,
 "nbformat_minor": 2
}
