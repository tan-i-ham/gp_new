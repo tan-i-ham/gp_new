{
 "cells": [
  {
   "cell_type": "code",
   "execution_count": 1,
   "metadata": {},
   "outputs": [],
   "source": [
    "import pandas as pd\n",
    "import numpy as np\n",
    "import operator\n",
    "from collections import defaultdict"
   ]
  },
  {
   "cell_type": "code",
   "execution_count": 2,
   "metadata": {},
   "outputs": [
    {
     "name": "stdout",
     "output_type": "stream",
     "text": [
      "有999961筆對話\n"
     ]
    }
   ],
   "source": [
    "df = pd.read_csv(open('../data/df_million.csv'), low_memory=False)\n",
    "df = df[df['text'].str.contains(\"00leave\")== False]\n",
    "df = df.dropna(axis=0)\n",
    "df = df.drop('Unnamed: 0', 1)\n",
    "print('有{}筆對話'.format(len(df)))"
   ]
  },
  {
   "cell_type": "code",
   "execution_count": 3,
   "metadata": {},
   "outputs": [
    {
     "data": {
      "text/plain": [
       "from    999961\n",
       "to      999961\n",
       "text    999961\n",
       "room    999961\n",
       "time    999961\n",
       "dtype: int64"
      ]
     },
     "execution_count": 3,
     "metadata": {},
     "output_type": "execute_result"
    }
   ],
   "source": [
    "df.count()"
   ]
  },
  {
   "cell_type": "code",
   "execution_count": 4,
   "metadata": {},
   "outputs": [],
   "source": [
    "df = df.reset_index(drop=True)"
   ]
  },
  {
   "cell_type": "code",
   "execution_count": 5,
   "metadata": {},
   "outputs": [
    {
     "data": {
      "text/html": [
       "<div>\n",
       "<style scoped>\n",
       "    .dataframe tbody tr th:only-of-type {\n",
       "        vertical-align: middle;\n",
       "    }\n",
       "\n",
       "    .dataframe tbody tr th {\n",
       "        vertical-align: top;\n",
       "    }\n",
       "\n",
       "    .dataframe thead th {\n",
       "        text-align: right;\n",
       "    }\n",
       "</style>\n",
       "<table border=\"1\" class=\"dataframe\">\n",
       "  <thead>\n",
       "    <tr style=\"text-align: right;\">\n",
       "      <th></th>\n",
       "      <th>from</th>\n",
       "      <th>to</th>\n",
       "      <th>text</th>\n",
       "      <th>room</th>\n",
       "      <th>time</th>\n",
       "    </tr>\n",
       "  </thead>\n",
       "  <tbody>\n",
       "    <tr>\n",
       "      <th>0</th>\n",
       "      <td>ud4097fbb4471c8c54512814bf0182e03</td>\n",
       "      <td>u84fa1e46e99df373e0f978c2ba274f9a</td>\n",
       "      <td>wd</td>\n",
       "      <td>8aee77a7-1d90-4d0f-b3c3-3f7b94a90e36</td>\n",
       "      <td>1.471640e+12</td>\n",
       "    </tr>\n",
       "    <tr>\n",
       "      <th>1</th>\n",
       "      <td>ud4097fbb4471c8c54512814bf0182e03</td>\n",
       "      <td>u96e826dccd3c9db56d684a5ddffc3154</td>\n",
       "      <td>嗨嗨</td>\n",
       "      <td>fe214cfc-22d1-4736-92e7-d133190142b8</td>\n",
       "      <td>1.471643e+12</td>\n",
       "    </tr>\n",
       "    <tr>\n",
       "      <th>2</th>\n",
       "      <td>u96e826dccd3c9db56d684a5ddffc3154</td>\n",
       "      <td>ud4097fbb4471c8c54512814bf0182e03</td>\n",
       "      <td>蛤？</td>\n",
       "      <td>fe214cfc-22d1-4736-92e7-d133190142b8</td>\n",
       "      <td>1.471643e+12</td>\n",
       "    </tr>\n",
       "    <tr>\n",
       "      <th>3</th>\n",
       "      <td>ud4097fbb4471c8c54512814bf0182e03</td>\n",
       "      <td>u96e826dccd3c9db56d684a5ddffc3154</td>\n",
       "      <td>你是第二個使用者ＱＱ</td>\n",
       "      <td>fe214cfc-22d1-4736-92e7-d133190142b8</td>\n",
       "      <td>1.471643e+12</td>\n",
       "    </tr>\n",
       "    <tr>\n",
       "      <th>4</th>\n",
       "      <td>u96e826dccd3c9db56d684a5ddffc3154</td>\n",
       "      <td>ud4097fbb4471c8c54512814bf0182e03</td>\n",
       "      <td>哈哈哈哈哈哈哈</td>\n",
       "      <td>fe214cfc-22d1-4736-92e7-d133190142b8</td>\n",
       "      <td>1.471643e+12</td>\n",
       "    </tr>\n",
       "  </tbody>\n",
       "</table>\n",
       "</div>"
      ],
      "text/plain": [
       "                                from                                 to  \\\n",
       "0  ud4097fbb4471c8c54512814bf0182e03  u84fa1e46e99df373e0f978c2ba274f9a   \n",
       "1  ud4097fbb4471c8c54512814bf0182e03  u96e826dccd3c9db56d684a5ddffc3154   \n",
       "2  u96e826dccd3c9db56d684a5ddffc3154  ud4097fbb4471c8c54512814bf0182e03   \n",
       "3  ud4097fbb4471c8c54512814bf0182e03  u96e826dccd3c9db56d684a5ddffc3154   \n",
       "4  u96e826dccd3c9db56d684a5ddffc3154  ud4097fbb4471c8c54512814bf0182e03   \n",
       "\n",
       "         text                                  room          time  \n",
       "0          wd  8aee77a7-1d90-4d0f-b3c3-3f7b94a90e36  1.471640e+12  \n",
       "1          嗨嗨  fe214cfc-22d1-4736-92e7-d133190142b8  1.471643e+12  \n",
       "2          蛤？  fe214cfc-22d1-4736-92e7-d133190142b8  1.471643e+12  \n",
       "3  你是第二個使用者ＱＱ  fe214cfc-22d1-4736-92e7-d133190142b8  1.471643e+12  \n",
       "4     哈哈哈哈哈哈哈  fe214cfc-22d1-4736-92e7-d133190142b8  1.471643e+12  "
      ]
     },
     "execution_count": 5,
     "metadata": {},
     "output_type": "execute_result"
    }
   ],
   "source": [
    "df.head()"
   ]
  },
  {
   "cell_type": "markdown",
   "metadata": {},
   "source": [
    "## Groupby by 'from' column "
   ]
  },
  {
   "cell_type": "code",
   "execution_count": 6,
   "metadata": {},
   "outputs": [
    {
     "name": "stdout",
     "output_type": "stream",
     "text": [
      "have 12691 users\n"
     ]
    }
   ],
   "source": [
    "grouped_data = df.groupby('from')['text'].apply(list).reset_index()\n",
    "print('have {} users'.format(len(grouped_data)))"
   ]
  },
  {
   "cell_type": "code",
   "execution_count": 7,
   "metadata": {},
   "outputs": [],
   "source": [
    "# df.loc[df['from'] == 'ud4097fbb4471c8c54512814bf0182e03']"
   ]
  },
  {
   "cell_type": "code",
   "execution_count": 8,
   "metadata": {},
   "outputs": [
    {
     "data": {
      "text/html": [
       "<div>\n",
       "<style scoped>\n",
       "    .dataframe tbody tr th:only-of-type {\n",
       "        vertical-align: middle;\n",
       "    }\n",
       "\n",
       "    .dataframe tbody tr th {\n",
       "        vertical-align: top;\n",
       "    }\n",
       "\n",
       "    .dataframe thead th {\n",
       "        text-align: right;\n",
       "    }\n",
       "</style>\n",
       "<table border=\"1\" class=\"dataframe\">\n",
       "  <thead>\n",
       "    <tr style=\"text-align: right;\">\n",
       "      <th></th>\n",
       "      <th>from</th>\n",
       "      <th>text</th>\n",
       "    </tr>\n",
       "  </thead>\n",
       "  <tbody>\n",
       "    <tr>\n",
       "      <th>0</th>\n",
       "      <td>1000080793444348</td>\n",
       "      <td>[嗨嗨, 安安, 幾歲呢, 我也是, 😂😂, 我男生, 嗨嗨, 我男生😂😂, 嗨嗨, 欸欸不...</td>\n",
       "    </tr>\n",
       "    <tr>\n",
       "      <th>1</th>\n",
       "      <td>1000309370066644</td>\n",
       "      <td>[哈哈哈哈哈好酷哦, 你好, 媽妳在哪, 矮額, 嗨, 覺得酷, 哈哈哈哈, 我在上, 生物...</td>\n",
       "    </tr>\n",
       "    <tr>\n",
       "      <th>2</th>\n",
       "      <td>1000515923404164</td>\n",
       "      <td>[安安, 看dcard 的, 真假, 高中生😂😂, 你大幾？, 女生😂😂, 嗨, 嗨, 哈哈...</td>\n",
       "    </tr>\n",
       "    <tr>\n",
       "      <th>3</th>\n",
       "      <td>1000617956728437</td>\n",
       "      <td>[Hi, 你好, 放假囉, 我畢業一段時間了😂, Yup, 看完覺得有趣, 對啊。\\n不過我...</td>\n",
       "    </tr>\n",
       "    <tr>\n",
       "      <th>4</th>\n",
       "      <td>1000669336711180</td>\n",
       "      <td>[哈囉, 剛剛在Dcard看到的, 好酷哦, 是啊不是只有大學, 才有Dcard, 我現在在...</td>\n",
       "    </tr>\n",
       "  </tbody>\n",
       "</table>\n",
       "</div>"
      ],
      "text/plain": [
       "               from                                               text\n",
       "0  1000080793444348  [嗨嗨, 安安, 幾歲呢, 我也是, 😂😂, 我男生, 嗨嗨, 我男生😂😂, 嗨嗨, 欸欸不...\n",
       "1  1000309370066644  [哈哈哈哈哈好酷哦, 你好, 媽妳在哪, 矮額, 嗨, 覺得酷, 哈哈哈哈, 我在上, 生物...\n",
       "2  1000515923404164  [安安, 看dcard 的, 真假, 高中生😂😂, 你大幾？, 女生😂😂, 嗨, 嗨, 哈哈...\n",
       "3  1000617956728437  [Hi, 你好, 放假囉, 我畢業一段時間了😂, Yup, 看完覺得有趣, 對啊。\\n不過我...\n",
       "4  1000669336711180  [哈囉, 剛剛在Dcard看到的, 好酷哦, 是啊不是只有大學, 才有Dcard, 我現在在..."
      ]
     },
     "execution_count": 8,
     "metadata": {},
     "output_type": "execute_result"
    }
   ],
   "source": [
    "grouped_data.head()\n",
    "# type(grouped_data.text[0])"
   ]
  },
  {
   "cell_type": "code",
   "execution_count": 9,
   "metadata": {},
   "outputs": [
    {
     "name": "stdout",
     "output_type": "stream",
     "text": [
      "id為 1000080793444348 的使用者傳送的訊息 ：['嗨嗨', '安安', '幾歲呢', '我也是', '😂😂', '我男生', '嗨嗨', '我男生😂😂', '嗨嗨', '欸欸不在嗎？', '嗨嗨', '？？', '安安', '男17', '喔喔ok', '😂😂', '嗯嗯', '對', '哈哈😂😂', '一樣吧', '哪裡人呀？', '哇嗚唯一不靠海', '嗨嗨', '我高二男生喔😂😂', '哈哈', '掰掰', '嗨嗨', '有人嗎？', '嗨嗨', '嗨嗨', '什麼？？', '😂😂', '我高二男生@@', '不好玩', '換了班換了人', '二類', 'XD', '怎麼？？', '過來人？', '我還有頭髮的', '😃😃', '噗ㄘ', '不是和尚啦', '不是', '嗨嗨', '安安', '高二男生喔😂😂', '哈哈', '那掰掰', '自己說', '噗ㄘ', '掰掰', '？？', '欸欸？', '安安', '高二男生喔😂😂', '……', '好喔', '嗨嗨', '你好', '我是男生', '啊啊好巧喔', 'XD', '欸欸？', '😶😶😶', '？', '嗯嗯', '加油', '嗨嗨', '那掰掰吧😂', '嗨嗨', '嗨嗨', '男生😶', '我？', '我說我男生', '嗨嗨', '我男生😶', '覺得這裡有點像woo了😂😂', 'Wootalk阿跟這個差不多', '不過裡面有90%的機率是男的', '好無聊']\n"
     ]
    }
   ],
   "source": [
    "print('id為 {} 的使用者傳送的訊息 ：{}'.format(grouped_data.iloc[0][0],grouped_data.iloc[0][1]))"
   ]
  },
  {
   "cell_type": "markdown",
   "metadata": {},
   "source": [
    "## set stop word"
   ]
  },
  {
   "cell_type": "code",
   "execution_count": 10,
   "metadata": {},
   "outputs": [],
   "source": [
    "import jieba\n",
    "import jieba.posseg as pseg\n",
    "import jieba.analyse\n",
    "\n",
    "stopwordset = set()\n",
    "with open('jieba_txt/stop_words.txt','r',encoding='utf-8') as sw:\n",
    "    for line in sw:\n",
    "        stopwordset.add(line.strip('\\n'))\n",
    "        \n",
    "chars = set(' abcdefghijklmnopqrstuvwxyz0123456789()?@？!$,~:.。，-_&=/􀆿\\r\\n')\n",
    "for c in chars:\n",
    "    stopwordset.add(c)"
   ]
  },
  {
   "cell_type": "code",
   "execution_count": 11,
   "metadata": {},
   "outputs": [],
   "source": [
    "# stopwordset"
   ]
  },
  {
   "cell_type": "markdown",
   "metadata": {},
   "source": [
    "## 載入分詞檔做訓練"
   ]
  },
  {
   "cell_type": "code",
   "execution_count": 12,
   "metadata": {},
   "outputs": [],
   "source": [
    "from gensim import models\n",
    "import gensim\n",
    "sentences = models.word2vec.LineSentence(\"corpusSegDone.txt\")\n",
    "model = models.word2vec.Word2Vec(sentences, size=1, window=5, min_count=5, workers=1)"
   ]
  },
  {
   "cell_type": "code",
   "execution_count": 13,
   "metadata": {},
   "outputs": [
    {
     "data": {
      "text/plain": [
       "12691"
      ]
     },
     "execution_count": 13,
     "metadata": {},
     "output_type": "execute_result"
    }
   ],
   "source": [
    "length = len(grouped_data)\n",
    "length"
   ]
  },
  {
   "cell_type": "code",
   "execution_count": 14,
   "metadata": {},
   "outputs": [
    {
     "name": "stderr",
     "output_type": "stream",
     "text": [
      "Building prefix dict from /home/tp6han/gp_new/jieba_txt/dict.txt.big.txt ...\n",
      "Loading model from cache /tmp/jieba.u0ddb98113e9461fac3a7658d9e24e45e.cache\n",
      "Loading model cost 1.506 seconds.\n",
      "Prefix dict has been built succesfully.\n"
     ]
    }
   ],
   "source": [
    "top10_vector = np.zeros(shape=(length,10))\n",
    "jieba.set_dictionary('jieba_txt/dict.txt.big.txt')\n",
    "jieba.load_userdict(\"jieba_txt/userdict.txt\")\n",
    "for i in range(length):\n",
    "    frequency = defaultdict(int)\n",
    "    for j in range(len(grouped_data.iloc[i][1])):\n",
    "        seglist = jieba.cut((grouped_data.iloc[i][1])[j])\n",
    "        texts = [word for word in seglist if word not in stopwordset]\n",
    "        for text in texts:\n",
    "            frequency[text] += 1\n",
    "    a = sorted(frequency.items(), key=operator.itemgetter(1),reverse=True)\n",
    "#     print(a)\n",
    "    row = np.zeros(shape=(1,10))\n",
    "    \n",
    "    r = 10 if len(a) >= 10 else len(a)\n",
    "    for x in range(r):\n",
    "        if a[x][0] in model:\n",
    "            show = float(model[a[x][0]])\n",
    "            row[0][x] = show\n",
    "    top10_vector[i] = row"
   ]
  },
  {
   "cell_type": "code",
   "execution_count": 15,
   "metadata": {},
   "outputs": [
    {
     "data": {
      "text/plain": [
       "(12691, 10)"
      ]
     },
     "execution_count": 15,
     "metadata": {},
     "output_type": "execute_result"
    }
   ],
   "source": [
    "top10_vector.shape\n"
   ]
  },
  {
   "cell_type": "code",
   "execution_count": 16,
   "metadata": {},
   "outputs": [
    {
     "data": {
      "text/plain": [
       "137045"
      ]
     },
     "execution_count": 16,
     "metadata": {},
     "output_type": "execute_result"
    }
   ],
   "source": [
    "model.corpus_count"
   ]
  },
  {
   "cell_type": "markdown",
   "metadata": {},
   "source": [
    "# k-means clustering"
   ]
  },
  {
   "cell_type": "code",
   "execution_count": 17,
   "metadata": {},
   "outputs": [
    {
     "name": "stdout",
     "output_type": "stream",
     "text": [
      "分群結果 前10：\n",
      "[1 2 2 2 1 1 2 1 1 2]\n",
      "---\n"
     ]
    }
   ],
   "source": [
    "from sklearn import cluster, datasets\n",
    "\n",
    "# KMeans 演算法\n",
    "kmeans_fit = cluster.KMeans(n_clusters = 3,random_state=1170).fit(top10_vector)\n",
    "\n",
    "# 印出分群結果\n",
    "cluster_labels = kmeans_fit.labels_\n",
    "print(\"分群結果 前10：\")\n",
    "print(cluster_labels[:10])\n",
    "print(\"---\")"
   ]
  },
  {
   "cell_type": "code",
   "execution_count": 18,
   "metadata": {},
   "outputs": [
    {
     "data": {
      "text/plain": [
       "12691"
      ]
     },
     "execution_count": 18,
     "metadata": {},
     "output_type": "execute_result"
    }
   ],
   "source": [
    "len(cluster_labels)"
   ]
  },
  {
   "cell_type": "code",
   "execution_count": 19,
   "metadata": {},
   "outputs": [
    {
     "data": {
      "text/plain": [
       "{0: 2442, 1: 6220, 2: 4029}"
      ]
     },
     "execution_count": 19,
     "metadata": {},
     "output_type": "execute_result"
    }
   ],
   "source": [
    "unique, counts = np.unique(cluster_labels, return_counts=True)\n",
    "dict(zip(unique, counts))"
   ]
  },
  {
   "cell_type": "code",
   "execution_count": 20,
   "metadata": {},
   "outputs": [],
   "source": [
    "cluster_done = grouped_data\n",
    "cluster_done['category'] = cluster_labels"
   ]
  },
  {
   "cell_type": "code",
   "execution_count": 21,
   "metadata": {},
   "outputs": [],
   "source": [
    "cluster_done = cluster_done.sort_values(by='category')\n",
    "# t = t.drop('from',1)"
   ]
  },
  {
   "cell_type": "code",
   "execution_count": 22,
   "metadata": {},
   "outputs": [
    {
     "data": {
      "text/html": [
       "<div>\n",
       "<style scoped>\n",
       "    .dataframe tbody tr th:only-of-type {\n",
       "        vertical-align: middle;\n",
       "    }\n",
       "\n",
       "    .dataframe tbody tr th {\n",
       "        vertical-align: top;\n",
       "    }\n",
       "\n",
       "    .dataframe thead th {\n",
       "        text-align: right;\n",
       "    }\n",
       "</style>\n",
       "<table border=\"1\" class=\"dataframe\">\n",
       "  <thead>\n",
       "    <tr style=\"text-align: right;\">\n",
       "      <th></th>\n",
       "      <th>from</th>\n",
       "      <th>text</th>\n",
       "      <th>category</th>\n",
       "    </tr>\n",
       "  </thead>\n",
       "  <tbody>\n",
       "    <tr>\n",
       "      <th>0</th>\n",
       "      <td>uffe07f79a7737e6f734bcbd67c264d63</td>\n",
       "      <td>[哈囉, ？, 什麼啊, 嗨咿, ？, 說什麼？]</td>\n",
       "      <td>0</td>\n",
       "    </tr>\n",
       "    <tr>\n",
       "      <th>1</th>\n",
       "      <td>971466416314924</td>\n",
       "      <td>[嗨, 哈囉哈囉, 嗨～]</td>\n",
       "      <td>0</td>\n",
       "    </tr>\n",
       "    <tr>\n",
       "      <th>2</th>\n",
       "      <td>1136367929790440</td>\n",
       "      <td>[真人, 上課]</td>\n",
       "      <td>0</td>\n",
       "    </tr>\n",
       "    <tr>\n",
       "      <th>3</th>\n",
       "      <td>971001479688980</td>\n",
       "      <td>[安]</td>\n",
       "      <td>0</td>\n",
       "    </tr>\n",
       "    <tr>\n",
       "      <th>4</th>\n",
       "      <td>1136634969718180</td>\n",
       "      <td>[hi, 約個雕, 88]</td>\n",
       "      <td>0</td>\n",
       "    </tr>\n",
       "  </tbody>\n",
       "</table>\n",
       "</div>"
      ],
      "text/plain": [
       "                                from                       text  category\n",
       "0  uffe07f79a7737e6f734bcbd67c264d63  [哈囉, ？, 什麼啊, 嗨咿, ？, 說什麼？]         0\n",
       "1                    971466416314924              [嗨, 哈囉哈囉, 嗨～]         0\n",
       "2                   1136367929790440                   [真人, 上課]         0\n",
       "3                    971001479688980                        [安]         0\n",
       "4                   1136634969718180              [hi, 約個雕, 88]         0"
      ]
     },
     "execution_count": 22,
     "metadata": {},
     "output_type": "execute_result"
    }
   ],
   "source": [
    "cluster_done = cluster_done.reset_index(drop=True)\n",
    "cluster_done.head()\n"
   ]
  },
  {
   "cell_type": "code",
   "execution_count": 23,
   "metadata": {},
   "outputs": [
    {
     "data": {
      "text/plain": [
       "from        12691\n",
       "text        12691\n",
       "category    12691\n",
       "dtype: int64"
      ]
     },
     "execution_count": 23,
     "metadata": {},
     "output_type": "execute_result"
    }
   ],
   "source": [
    "cluster_done.count()\n",
    "# small_clustered = cluster_done[6000:6300].reset_index(drop=True)\n",
    "\n"
   ]
  },
  {
   "cell_type": "markdown",
   "metadata": {},
   "source": [
    "## make dictionary = { from : category }"
   ]
  },
  {
   "cell_type": "code",
   "execution_count": 24,
   "metadata": {},
   "outputs": [],
   "source": [
    "from_category = {}\n",
    "for i, row in cluster_done.iterrows():\n",
    "    from_category[row['from']] = row['category']"
   ]
  },
  {
   "cell_type": "code",
   "execution_count": 25,
   "metadata": {},
   "outputs": [
    {
     "data": {
      "text/plain": [
       "12691"
      ]
     },
     "execution_count": 25,
     "metadata": {},
     "output_type": "execute_result"
    }
   ],
   "source": [
    "len(from_category)"
   ]
  },
  {
   "cell_type": "code",
   "execution_count": 26,
   "metadata": {},
   "outputs": [
    {
     "data": {
      "text/plain": [
       "1"
      ]
     },
     "execution_count": 26,
     "metadata": {},
     "output_type": "execute_result"
    }
   ],
   "source": [
    "from_category['u96e826dccd3c9db56d684a5ddffc3154']"
   ]
  },
  {
   "cell_type": "markdown",
   "metadata": {},
   "source": [
    "## groupby room "
   ]
  },
  {
   "cell_type": "code",
   "execution_count": 27,
   "metadata": {},
   "outputs": [],
   "source": [
    "df2 = df.copy()\n",
    "df2 = df2.drop(['time','to'], axis=1)"
   ]
  },
  {
   "cell_type": "code",
   "execution_count": 28,
   "metadata": {},
   "outputs": [],
   "source": [
    "df2['category'] = df2['from'].map(from_category)"
   ]
  },
  {
   "cell_type": "code",
   "execution_count": 29,
   "metadata": {},
   "outputs": [
    {
     "data": {
      "text/plain": [
       "from        999961\n",
       "text        999961\n",
       "room        999961\n",
       "category    999961\n",
       "dtype: int64"
      ]
     },
     "execution_count": 29,
     "metadata": {},
     "output_type": "execute_result"
    }
   ],
   "source": [
    "df2.head()\n",
    "df2 = df2.dropna(axis=0)\n",
    "df2.count()\n"
   ]
  },
  {
   "cell_type": "code",
   "execution_count": 30,
   "metadata": {},
   "outputs": [
    {
     "data": {
      "text/html": [
       "<div>\n",
       "<style scoped>\n",
       "    .dataframe tbody tr th:only-of-type {\n",
       "        vertical-align: middle;\n",
       "    }\n",
       "\n",
       "    .dataframe tbody tr th {\n",
       "        vertical-align: top;\n",
       "    }\n",
       "\n",
       "    .dataframe thead th {\n",
       "        text-align: right;\n",
       "    }\n",
       "</style>\n",
       "<table border=\"1\" class=\"dataframe\">\n",
       "  <thead>\n",
       "    <tr style=\"text-align: right;\">\n",
       "      <th></th>\n",
       "      <th>from</th>\n",
       "      <th>text</th>\n",
       "      <th>room</th>\n",
       "      <th>category</th>\n",
       "    </tr>\n",
       "  </thead>\n",
       "  <tbody>\n",
       "    <tr>\n",
       "      <th>0</th>\n",
       "      <td>ud4097fbb4471c8c54512814bf0182e03</td>\n",
       "      <td>wd</td>\n",
       "      <td>8aee77a7-1d90-4d0f-b3c3-3f7b94a90e36</td>\n",
       "      <td>1</td>\n",
       "    </tr>\n",
       "    <tr>\n",
       "      <th>1</th>\n",
       "      <td>ud4097fbb4471c8c54512814bf0182e03</td>\n",
       "      <td>嗨嗨</td>\n",
       "      <td>fe214cfc-22d1-4736-92e7-d133190142b8</td>\n",
       "      <td>1</td>\n",
       "    </tr>\n",
       "    <tr>\n",
       "      <th>2</th>\n",
       "      <td>u96e826dccd3c9db56d684a5ddffc3154</td>\n",
       "      <td>蛤？</td>\n",
       "      <td>fe214cfc-22d1-4736-92e7-d133190142b8</td>\n",
       "      <td>1</td>\n",
       "    </tr>\n",
       "    <tr>\n",
       "      <th>3</th>\n",
       "      <td>ud4097fbb4471c8c54512814bf0182e03</td>\n",
       "      <td>你是第二個使用者ＱＱ</td>\n",
       "      <td>fe214cfc-22d1-4736-92e7-d133190142b8</td>\n",
       "      <td>1</td>\n",
       "    </tr>\n",
       "    <tr>\n",
       "      <th>4</th>\n",
       "      <td>u96e826dccd3c9db56d684a5ddffc3154</td>\n",
       "      <td>哈哈哈哈哈哈哈</td>\n",
       "      <td>fe214cfc-22d1-4736-92e7-d133190142b8</td>\n",
       "      <td>1</td>\n",
       "    </tr>\n",
       "  </tbody>\n",
       "</table>\n",
       "</div>"
      ],
      "text/plain": [
       "                                from        text  \\\n",
       "0  ud4097fbb4471c8c54512814bf0182e03          wd   \n",
       "1  ud4097fbb4471c8c54512814bf0182e03          嗨嗨   \n",
       "2  u96e826dccd3c9db56d684a5ddffc3154          蛤？   \n",
       "3  ud4097fbb4471c8c54512814bf0182e03  你是第二個使用者ＱＱ   \n",
       "4  u96e826dccd3c9db56d684a5ddffc3154     哈哈哈哈哈哈哈   \n",
       "\n",
       "                                   room  category  \n",
       "0  8aee77a7-1d90-4d0f-b3c3-3f7b94a90e36         1  \n",
       "1  fe214cfc-22d1-4736-92e7-d133190142b8         1  \n",
       "2  fe214cfc-22d1-4736-92e7-d133190142b8         1  \n",
       "3  fe214cfc-22d1-4736-92e7-d133190142b8         1  \n",
       "4  fe214cfc-22d1-4736-92e7-d133190142b8         1  "
      ]
     },
     "execution_count": 30,
     "metadata": {},
     "output_type": "execute_result"
    }
   ],
   "source": [
    "df2.head()"
   ]
  },
  {
   "cell_type": "code",
   "execution_count": null,
   "metadata": {},
   "outputs": [],
   "source": []
  },
  {
   "cell_type": "code",
   "execution_count": 84,
   "metadata": {},
   "outputs": [],
   "source": [
    "p1 = df2.groupby('room')['from'].aggregate(lambda x: set(x)).reset_index()\n",
    "p2 = df2.groupby('room')['category'].aggregate(lambda x: set(x)).reset_index()\n",
    "c = df2.groupby('room')['text'].agg(['count']).reset_index()\n",
    "t = df2.groupby('room')['text'].apply(list).reset_index()"
   ]
  },
  {
   "cell_type": "code",
   "execution_count": 32,
   "metadata": {},
   "outputs": [
    {
     "name": "stdout",
     "output_type": "stream",
     "text": [
      "have 39423 39423 rooms\n"
     ]
    }
   ],
   "source": [
    "print('have {} {} rooms'.format(len(p1),len(p2)))"
   ]
  },
  {
   "cell_type": "markdown",
   "metadata": {},
   "source": [
    "## new df  group by room"
   ]
  },
  {
   "cell_type": "code",
   "execution_count": 85,
   "metadata": {},
   "outputs": [],
   "source": [
    "room_grouped = pd.concat([p1,p2['category'],c['count'],t['text']],axis=1)"
   ]
  },
  {
   "cell_type": "code",
   "execution_count": 86,
   "metadata": {},
   "outputs": [
    {
     "data": {
      "text/plain": [
       "Index(['room', 'from', 'category', 'count', 'text'], dtype='object')"
      ]
     },
     "execution_count": 86,
     "metadata": {},
     "output_type": "execute_result"
    }
   ],
   "source": [
    "room_grouped.columns"
   ]
  },
  {
   "cell_type": "code",
   "execution_count": 87,
   "metadata": {},
   "outputs": [
    {
     "data": {
      "text/html": [
       "<div>\n",
       "<style scoped>\n",
       "    .dataframe tbody tr th:only-of-type {\n",
       "        vertical-align: middle;\n",
       "    }\n",
       "\n",
       "    .dataframe tbody tr th {\n",
       "        vertical-align: top;\n",
       "    }\n",
       "\n",
       "    .dataframe thead th {\n",
       "        text-align: right;\n",
       "    }\n",
       "</style>\n",
       "<table border=\"1\" class=\"dataframe\">\n",
       "  <thead>\n",
       "    <tr style=\"text-align: right;\">\n",
       "      <th></th>\n",
       "      <th>room</th>\n",
       "      <th>from</th>\n",
       "      <th>category</th>\n",
       "      <th>count</th>\n",
       "      <th>text</th>\n",
       "    </tr>\n",
       "  </thead>\n",
       "  <tbody>\n",
       "    <tr>\n",
       "      <th>0</th>\n",
       "      <td>0000d3d1-cd74-4c6a-8ab6-8c9c0df594aa</td>\n",
       "      <td>{1313316695368083, u84ff3587ce973343ca6328d688...</td>\n",
       "      <td>{2}</td>\n",
       "      <td>2</td>\n",
       "      <td>[嗨嗨, 请问有人吗]</td>\n",
       "    </tr>\n",
       "    <tr>\n",
       "      <th>1</th>\n",
       "      <td>000129e0-e9c9-4e51-8b7a-b782d220894e</td>\n",
       "      <td>{1127853807261849}</td>\n",
       "      <td>{1}</td>\n",
       "      <td>1</td>\n",
       "      <td>[安]</td>\n",
       "    </tr>\n",
       "    <tr>\n",
       "      <th>2</th>\n",
       "      <td>0002fc8b-0951-47b0-9348-bf7decae9d93</td>\n",
       "      <td>{955305891265054, 966587086804396}</td>\n",
       "      <td>{1, 2}</td>\n",
       "      <td>6</td>\n",
       "      <td>[嗨, 你好喔, 你好喔~, 男生, 你呢, me too]</td>\n",
       "    </tr>\n",
       "    <tr>\n",
       "      <th>3</th>\n",
       "      <td>000418d0-779f-469a-ad5b-7fcfd6da4959</td>\n",
       "      <td>{ua725d2fbddf188fb2e97f67bbd36d056, 1084323831...</td>\n",
       "      <td>{1}</td>\n",
       "      <td>26</td>\n",
       "      <td>[你好, 嗨, 嗨, 男, 女, 住哪呀?, 高雄, 台中, 那多大, 18\\n你呢, 21...</td>\n",
       "    </tr>\n",
       "    <tr>\n",
       "      <th>4</th>\n",
       "      <td>00054188-59bc-49cf-aea2-e8ddd7057849</td>\n",
       "      <td>{1192735997454971, 1157361747619580}</td>\n",
       "      <td>{1}</td>\n",
       "      <td>162</td>\n",
       "      <td>[妳好, 你好啊阿, 真假的, 這真的很酷, 假的, 迪卡上看到的嗎, 對啊, 你是我第一個...</td>\n",
       "    </tr>\n",
       "  </tbody>\n",
       "</table>\n",
       "</div>"
      ],
      "text/plain": [
       "                                   room  \\\n",
       "0  0000d3d1-cd74-4c6a-8ab6-8c9c0df594aa   \n",
       "1  000129e0-e9c9-4e51-8b7a-b782d220894e   \n",
       "2  0002fc8b-0951-47b0-9348-bf7decae9d93   \n",
       "3  000418d0-779f-469a-ad5b-7fcfd6da4959   \n",
       "4  00054188-59bc-49cf-aea2-e8ddd7057849   \n",
       "\n",
       "                                                from category  count  \\\n",
       "0  {1313316695368083, u84ff3587ce973343ca6328d688...      {2}      2   \n",
       "1                                 {1127853807261849}      {1}      1   \n",
       "2                 {955305891265054, 966587086804396}   {1, 2}      6   \n",
       "3  {ua725d2fbddf188fb2e97f67bbd36d056, 1084323831...      {1}     26   \n",
       "4               {1192735997454971, 1157361747619580}      {1}    162   \n",
       "\n",
       "                                                text  \n",
       "0                                        [嗨嗨, 请问有人吗]  \n",
       "1                                                [安]  \n",
       "2                     [嗨, 你好喔, 你好喔~, 男生, 你呢, me too]  \n",
       "3  [你好, 嗨, 嗨, 男, 女, 住哪呀?, 高雄, 台中, 那多大, 18\\n你呢, 21...  \n",
       "4  [妳好, 你好啊阿, 真假的, 這真的很酷, 假的, 迪卡上看到的嗎, 對啊, 你是我第一個...  "
      ]
     },
     "execution_count": 87,
     "metadata": {},
     "output_type": "execute_result"
    }
   ],
   "source": [
    "room_grouped.head()"
   ]
  },
  {
   "cell_type": "markdown",
   "metadata": {},
   "source": [
    "## delete the row (room) which has only one user "
   ]
  },
  {
   "cell_type": "code",
   "execution_count": 88,
   "metadata": {},
   "outputs": [],
   "source": [
    "for index, row in room_grouped.iterrows():\n",
    "    l = len(row['from'])\n",
    "    if l == 1 :\n",
    "        room_grouped.drop(index, inplace=True)"
   ]
  },
  {
   "cell_type": "code",
   "execution_count": 89,
   "metadata": {},
   "outputs": [
    {
     "data": {
      "text/plain": [
       "room        30535\n",
       "from        30535\n",
       "category    30535\n",
       "count       30535\n",
       "text        30535\n",
       "dtype: int64"
      ]
     },
     "execution_count": 89,
     "metadata": {},
     "output_type": "execute_result"
    }
   ],
   "source": [
    "room_grouped.count()"
   ]
  },
  {
   "cell_type": "code",
   "execution_count": 90,
   "metadata": {},
   "outputs": [
    {
     "data": {
      "text/html": [
       "<div>\n",
       "<style scoped>\n",
       "    .dataframe tbody tr th:only-of-type {\n",
       "        vertical-align: middle;\n",
       "    }\n",
       "\n",
       "    .dataframe tbody tr th {\n",
       "        vertical-align: top;\n",
       "    }\n",
       "\n",
       "    .dataframe thead th {\n",
       "        text-align: right;\n",
       "    }\n",
       "</style>\n",
       "<table border=\"1\" class=\"dataframe\">\n",
       "  <thead>\n",
       "    <tr style=\"text-align: right;\">\n",
       "      <th></th>\n",
       "      <th>room</th>\n",
       "      <th>from</th>\n",
       "      <th>category</th>\n",
       "      <th>count</th>\n",
       "      <th>text</th>\n",
       "    </tr>\n",
       "  </thead>\n",
       "  <tbody>\n",
       "    <tr>\n",
       "      <th>0</th>\n",
       "      <td>0000d3d1-cd74-4c6a-8ab6-8c9c0df594aa</td>\n",
       "      <td>{1313316695368083, u84ff3587ce973343ca6328d688...</td>\n",
       "      <td>{2}</td>\n",
       "      <td>2</td>\n",
       "      <td>[嗨嗨, 请问有人吗]</td>\n",
       "    </tr>\n",
       "    <tr>\n",
       "      <th>2</th>\n",
       "      <td>0002fc8b-0951-47b0-9348-bf7decae9d93</td>\n",
       "      <td>{955305891265054, 966587086804396}</td>\n",
       "      <td>{1, 2}</td>\n",
       "      <td>6</td>\n",
       "      <td>[嗨, 你好喔, 你好喔~, 男生, 你呢, me too]</td>\n",
       "    </tr>\n",
       "    <tr>\n",
       "      <th>3</th>\n",
       "      <td>000418d0-779f-469a-ad5b-7fcfd6da4959</td>\n",
       "      <td>{ua725d2fbddf188fb2e97f67bbd36d056, 1084323831...</td>\n",
       "      <td>{1}</td>\n",
       "      <td>26</td>\n",
       "      <td>[你好, 嗨, 嗨, 男, 女, 住哪呀?, 高雄, 台中, 那多大, 18\\n你呢, 21...</td>\n",
       "    </tr>\n",
       "    <tr>\n",
       "      <th>4</th>\n",
       "      <td>00054188-59bc-49cf-aea2-e8ddd7057849</td>\n",
       "      <td>{1192735997454971, 1157361747619580}</td>\n",
       "      <td>{1}</td>\n",
       "      <td>162</td>\n",
       "      <td>[妳好, 你好啊阿, 真假的, 這真的很酷, 假的, 迪卡上看到的嗎, 對啊, 你是我第一個...</td>\n",
       "    </tr>\n",
       "    <tr>\n",
       "      <th>5</th>\n",
       "      <td>0005ce30-1ab7-4b4f-8861-684a88e4f94b</td>\n",
       "      <td>{1020089304775462, 954276064700164}</td>\n",
       "      <td>{1}</td>\n",
       "      <td>175</td>\n",
       "      <td>[我不給ㄩ, 我也沒ㄩ你啊, 到處都是什麼霸主的, 那是什麼, 晚上一直聽到, 不知道, 感...</td>\n",
       "    </tr>\n",
       "  </tbody>\n",
       "</table>\n",
       "</div>"
      ],
      "text/plain": [
       "                                   room  \\\n",
       "0  0000d3d1-cd74-4c6a-8ab6-8c9c0df594aa   \n",
       "2  0002fc8b-0951-47b0-9348-bf7decae9d93   \n",
       "3  000418d0-779f-469a-ad5b-7fcfd6da4959   \n",
       "4  00054188-59bc-49cf-aea2-e8ddd7057849   \n",
       "5  0005ce30-1ab7-4b4f-8861-684a88e4f94b   \n",
       "\n",
       "                                                from category  count  \\\n",
       "0  {1313316695368083, u84ff3587ce973343ca6328d688...      {2}      2   \n",
       "2                 {955305891265054, 966587086804396}   {1, 2}      6   \n",
       "3  {ua725d2fbddf188fb2e97f67bbd36d056, 1084323831...      {1}     26   \n",
       "4               {1192735997454971, 1157361747619580}      {1}    162   \n",
       "5                {1020089304775462, 954276064700164}      {1}    175   \n",
       "\n",
       "                                                text  \n",
       "0                                        [嗨嗨, 请问有人吗]  \n",
       "2                     [嗨, 你好喔, 你好喔~, 男生, 你呢, me too]  \n",
       "3  [你好, 嗨, 嗨, 男, 女, 住哪呀?, 高雄, 台中, 那多大, 18\\n你呢, 21...  \n",
       "4  [妳好, 你好啊阿, 真假的, 這真的很酷, 假的, 迪卡上看到的嗎, 對啊, 你是我第一個...  \n",
       "5  [我不給ㄩ, 我也沒ㄩ你啊, 到處都是什麼霸主的, 那是什麼, 晚上一直聽到, 不知道, 感...  "
      ]
     },
     "execution_count": 90,
     "metadata": {},
     "output_type": "execute_result"
    }
   ],
   "source": [
    "room_grouped.head()"
   ]
  },
  {
   "cell_type": "markdown",
   "metadata": {},
   "source": [
    "### 每間聊天室平均聊幾句"
   ]
  },
  {
   "cell_type": "code",
   "execution_count": 98,
   "metadata": {},
   "outputs": [
    {
     "data": {
      "text/plain": [
       "32.296905190764697"
      ]
     },
     "execution_count": 98,
     "metadata": {},
     "output_type": "execute_result"
    }
   ],
   "source": [
    "room_grouped['count'].mean()"
   ]
  },
  {
   "cell_type": "markdown",
   "metadata": {},
   "source": [
    "# 證明分群有意義"
   ]
  },
  {
   "cell_type": "markdown",
   "metadata": {},
   "source": [
    "## 1. 同一群的使用者平均聊天句數比不同群的使用者平均聊天句數還多"
   ]
  },
  {
   "cell_type": "code",
   "execution_count": 117,
   "metadata": {},
   "outputs": [],
   "source": [
    "same_cat_count = 0\n",
    "all_text = 0\n",
    "other_user = 0\n",
    "other_all_text = 0\n",
    "for index, row in room_grouped.iterrows():\n",
    "    l = len(row['category'])\n",
    "    t_len = len(row['text'])\n",
    "# same cluster\n",
    "    if l == 1:\n",
    "        same_cat_count+=1\n",
    "        all_text+=t_len\n",
    "# different cluster\n",
    "    else:\n",
    "        other_user+=1\n",
    "        other_all_text+=t_len"
   ]
  },
  {
   "cell_type": "code",
   "execution_count": 118,
   "metadata": {},
   "outputs": [
    {
     "name": "stdout",
     "output_type": "stream",
     "text": [
      "同一群的使用者有 18187 組, 平均聊天句數 : 41.353164348160774\n",
      "不同群的使用者有 12348 組, 平均聊天句數 : 18.95821185617104\n"
     ]
    }
   ],
   "source": [
    "print('同一群的使用者有 {} 組, 平均聊天句數 : {}'.format(same_cat_count,all_text/same_cat_count))\n",
    "print('不同群的使用者有 {} 組, 平均聊天句數 : {}'.format(other_user ,other_all_text/other_user))"
   ]
  },
  {
   "cell_type": "markdown",
   "metadata": {},
   "source": [
    "## 2. 聊天句數超過 1000 句的使用者，同群的有幾組"
   ]
  },
  {
   "cell_type": "code",
   "execution_count": 123,
   "metadata": {},
   "outputs": [],
   "source": [
    "gt1000 = room_grouped[room_grouped['count']>1000]"
   ]
  },
  {
   "cell_type": "code",
   "execution_count": 124,
   "metadata": {},
   "outputs": [],
   "source": [
    "gt1000_same_cat = 0\n",
    "for i, row in temp.iterrows():\n",
    "    l = len(row['category'])\n",
    "    if l == 1:\n",
    "        gt1000_same_cat+=1"
   ]
  },
  {
   "cell_type": "code",
   "execution_count": 125,
   "metadata": {},
   "outputs": [
    {
     "name": "stdout",
     "output_type": "stream",
     "text": [
      "共有 29 組，同類的有 26 組\n"
     ]
    }
   ],
   "source": [
    "print('共有 {} 組，同類的有 {} 組'.format(len(gt1000),gt1000_same_cat))"
   ]
  },
  {
   "cell_type": "code",
   "execution_count": 105,
   "metadata": {},
   "outputs": [],
   "source": [
    "import matplotlib.pyplot as plt\n",
    "%matplotlib inline"
   ]
  },
  {
   "cell_type": "code",
   "execution_count": 22,
   "metadata": {},
   "outputs": [],
   "source": [
    "t.to_csv('../data/k_means_result.csv',encoding='utf-8-sig')"
   ]
  }
 ],
 "metadata": {
  "kernelspec": {
   "display_name": "Python 3",
   "language": "python",
   "name": "python3"
  },
  "language_info": {
   "codemirror_mode": {
    "name": "ipython",
    "version": 3
   },
   "file_extension": ".py",
   "mimetype": "text/x-python",
   "name": "python",
   "nbconvert_exporter": "python",
   "pygments_lexer": "ipython3",
   "version": "3.5.2"
  }
 },
 "nbformat": 4,
 "nbformat_minor": 2
}
