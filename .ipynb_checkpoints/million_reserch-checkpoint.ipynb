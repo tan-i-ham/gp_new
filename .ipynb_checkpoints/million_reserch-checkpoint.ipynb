{
 "cells": [
  {
   "cell_type": "code",
   "execution_count": 19,
   "metadata": {},
   "outputs": [],
   "source": [
    "import pandas as pd\n",
    "import numpy as np"
   ]
  },
  {
   "cell_type": "code",
   "execution_count": 20,
   "metadata": {},
   "outputs": [
    {
     "name": "stderr",
     "output_type": "stream",
     "text": [
      "/home/tp6han/.local/lib/python3.5/site-packages/IPython/core/interactiveshell.py:2728: DtypeWarning: Columns (0) have mixed types. Specify dtype option on import or set low_memory=False.\n",
      "  interactivity=interactivity, compiler=compiler, result=result)\n"
     ]
    },
    {
     "name": "stdout",
     "output_type": "stream",
     "text": [
      "有1000000筆對話\n"
     ]
    }
   ],
   "source": [
    "df = pd.read_csv(open('../data/df_million.csv'))\n",
    "df = df[df['text'].str.contains(\"00leave\")== False]\n",
    "df = df.drop('Unnamed: 0', 1)\n",
    "print('有{}筆對話'.format(len(df)))\n"
   ]
  },
  {
   "cell_type": "code",
   "execution_count": 21,
   "metadata": {},
   "outputs": [],
   "source": [
    "df = df.reset_index(drop=True)"
   ]
  },
  {
   "cell_type": "code",
   "execution_count": 22,
   "metadata": {},
   "outputs": [
    {
     "data": {
      "text/html": [
       "<div>\n",
       "<style scoped>\n",
       "    .dataframe tbody tr th:only-of-type {\n",
       "        vertical-align: middle;\n",
       "    }\n",
       "\n",
       "    .dataframe tbody tr th {\n",
       "        vertical-align: top;\n",
       "    }\n",
       "\n",
       "    .dataframe thead th {\n",
       "        text-align: right;\n",
       "    }\n",
       "</style>\n",
       "<table border=\"1\" class=\"dataframe\">\n",
       "  <thead>\n",
       "    <tr style=\"text-align: right;\">\n",
       "      <th></th>\n",
       "      <th>from</th>\n",
       "      <th>to</th>\n",
       "      <th>text</th>\n",
       "      <th>room</th>\n",
       "      <th>time</th>\n",
       "    </tr>\n",
       "  </thead>\n",
       "  <tbody>\n",
       "    <tr>\n",
       "      <th>0</th>\n",
       "      <td>ud4097fbb4471c8c54512814bf0182e03</td>\n",
       "      <td>u84fa1e46e99df373e0f978c2ba274f9a</td>\n",
       "      <td>wd</td>\n",
       "      <td>8aee77a7-1d90-4d0f-b3c3-3f7b94a90e36</td>\n",
       "      <td>1.471640e+12</td>\n",
       "    </tr>\n",
       "    <tr>\n",
       "      <th>1</th>\n",
       "      <td>ud4097fbb4471c8c54512814bf0182e03</td>\n",
       "      <td>u96e826dccd3c9db56d684a5ddffc3154</td>\n",
       "      <td>嗨嗨</td>\n",
       "      <td>fe214cfc-22d1-4736-92e7-d133190142b8</td>\n",
       "      <td>1.471643e+12</td>\n",
       "    </tr>\n",
       "    <tr>\n",
       "      <th>2</th>\n",
       "      <td>u96e826dccd3c9db56d684a5ddffc3154</td>\n",
       "      <td>ud4097fbb4471c8c54512814bf0182e03</td>\n",
       "      <td>蛤？</td>\n",
       "      <td>fe214cfc-22d1-4736-92e7-d133190142b8</td>\n",
       "      <td>1.471643e+12</td>\n",
       "    </tr>\n",
       "    <tr>\n",
       "      <th>3</th>\n",
       "      <td>ud4097fbb4471c8c54512814bf0182e03</td>\n",
       "      <td>u96e826dccd3c9db56d684a5ddffc3154</td>\n",
       "      <td>你是第二個使用者ＱＱ</td>\n",
       "      <td>fe214cfc-22d1-4736-92e7-d133190142b8</td>\n",
       "      <td>1.471643e+12</td>\n",
       "    </tr>\n",
       "    <tr>\n",
       "      <th>4</th>\n",
       "      <td>u96e826dccd3c9db56d684a5ddffc3154</td>\n",
       "      <td>ud4097fbb4471c8c54512814bf0182e03</td>\n",
       "      <td>哈哈哈哈哈哈哈</td>\n",
       "      <td>fe214cfc-22d1-4736-92e7-d133190142b8</td>\n",
       "      <td>1.471643e+12</td>\n",
       "    </tr>\n",
       "  </tbody>\n",
       "</table>\n",
       "</div>"
      ],
      "text/plain": [
       "                                from                                 to  \\\n",
       "0  ud4097fbb4471c8c54512814bf0182e03  u84fa1e46e99df373e0f978c2ba274f9a   \n",
       "1  ud4097fbb4471c8c54512814bf0182e03  u96e826dccd3c9db56d684a5ddffc3154   \n",
       "2  u96e826dccd3c9db56d684a5ddffc3154  ud4097fbb4471c8c54512814bf0182e03   \n",
       "3  ud4097fbb4471c8c54512814bf0182e03  u96e826dccd3c9db56d684a5ddffc3154   \n",
       "4  u96e826dccd3c9db56d684a5ddffc3154  ud4097fbb4471c8c54512814bf0182e03   \n",
       "\n",
       "         text                                  room          time  \n",
       "0          wd  8aee77a7-1d90-4d0f-b3c3-3f7b94a90e36  1.471640e+12  \n",
       "1          嗨嗨  fe214cfc-22d1-4736-92e7-d133190142b8  1.471643e+12  \n",
       "2          蛤？  fe214cfc-22d1-4736-92e7-d133190142b8  1.471643e+12  \n",
       "3  你是第二個使用者ＱＱ  fe214cfc-22d1-4736-92e7-d133190142b8  1.471643e+12  \n",
       "4     哈哈哈哈哈哈哈  fe214cfc-22d1-4736-92e7-d133190142b8  1.471643e+12  "
      ]
     },
     "execution_count": 22,
     "metadata": {},
     "output_type": "execute_result"
    }
   ],
   "source": [
    "df.head()"
   ]
  },
  {
   "cell_type": "markdown",
   "metadata": {},
   "source": [
    "## Groupby by 'from' column "
   ]
  },
  {
   "cell_type": "code",
   "execution_count": 23,
   "metadata": {},
   "outputs": [
    {
     "data": {
      "text/plain": [
       "12691"
      ]
     },
     "execution_count": 23,
     "metadata": {},
     "output_type": "execute_result"
    }
   ],
   "source": [
    "grouped_data = df.groupby('from')['text'].apply(lambda x: '/'.join(x)).reset_index()\n",
    "len(grouped_data)"
   ]
  },
  {
   "cell_type": "code",
   "execution_count": 24,
   "metadata": {},
   "outputs": [],
   "source": [
    "for i in range(len(grouped_data)):\n",
    "    grouped_data.loc[i,'text'] = grouped_data.iloc[i][1].split('/')\n"
   ]
  },
  {
   "cell_type": "code",
   "execution_count": 25,
   "metadata": {},
   "outputs": [
    {
     "data": {
      "text/html": [
       "<div>\n",
       "<style scoped>\n",
       "    .dataframe tbody tr th:only-of-type {\n",
       "        vertical-align: middle;\n",
       "    }\n",
       "\n",
       "    .dataframe tbody tr th {\n",
       "        vertical-align: top;\n",
       "    }\n",
       "\n",
       "    .dataframe thead th {\n",
       "        text-align: right;\n",
       "    }\n",
       "</style>\n",
       "<table border=\"1\" class=\"dataframe\">\n",
       "  <thead>\n",
       "    <tr style=\"text-align: right;\">\n",
       "      <th></th>\n",
       "      <th>from</th>\n",
       "      <th>text</th>\n",
       "    </tr>\n",
       "  </thead>\n",
       "  <tbody>\n",
       "    <tr>\n",
       "      <th>0</th>\n",
       "      <td>1000080793444348</td>\n",
       "      <td>[嗨嗨, 安安, 幾歲呢, 我也是, 😂😂, 我男生, 嗨嗨, 我男生😂😂, 嗨嗨, 欸欸不...</td>\n",
       "    </tr>\n",
       "    <tr>\n",
       "      <th>1</th>\n",
       "      <td>1000309370066644</td>\n",
       "      <td>[哈哈哈哈哈好酷哦, 你好, 媽妳在哪, 矮額, 嗨, 覺得酷, 哈哈哈哈, 我在上, 生物...</td>\n",
       "    </tr>\n",
       "    <tr>\n",
       "      <th>2</th>\n",
       "      <td>1000515923404164</td>\n",
       "      <td>[安安, 看dcard 的, 真假, 高中生😂😂, 你大幾？, 女生😂😂, 嗨, 嗨, 哈哈...</td>\n",
       "    </tr>\n",
       "    <tr>\n",
       "      <th>3</th>\n",
       "      <td>1000617956728437</td>\n",
       "      <td>[Hi, 你好, 放假囉, 我畢業一段時間了😂, Yup, 看完覺得有趣, 對啊。\\n不過我...</td>\n",
       "    </tr>\n",
       "    <tr>\n",
       "      <th>4</th>\n",
       "      <td>1000669336711180</td>\n",
       "      <td>[哈囉, 剛剛在Dcard看到的, 好酷哦, 是啊不是只有大學, 才有Dcard, 我現在在...</td>\n",
       "    </tr>\n",
       "  </tbody>\n",
       "</table>\n",
       "</div>"
      ],
      "text/plain": [
       "               from                                               text\n",
       "0  1000080793444348  [嗨嗨, 安安, 幾歲呢, 我也是, 😂😂, 我男生, 嗨嗨, 我男生😂😂, 嗨嗨, 欸欸不...\n",
       "1  1000309370066644  [哈哈哈哈哈好酷哦, 你好, 媽妳在哪, 矮額, 嗨, 覺得酷, 哈哈哈哈, 我在上, 生物...\n",
       "2  1000515923404164  [安安, 看dcard 的, 真假, 高中生😂😂, 你大幾？, 女生😂😂, 嗨, 嗨, 哈哈...\n",
       "3  1000617956728437  [Hi, 你好, 放假囉, 我畢業一段時間了😂, Yup, 看完覺得有趣, 對啊。\\n不過我...\n",
       "4  1000669336711180  [哈囉, 剛剛在Dcard看到的, 好酷哦, 是啊不是只有大學, 才有Dcard, 我現在在..."
      ]
     },
     "execution_count": 25,
     "metadata": {},
     "output_type": "execute_result"
    }
   ],
   "source": [
    "grouped_data.head()"
   ]
  },
  {
   "cell_type": "code",
   "execution_count": 26,
   "metadata": {},
   "outputs": [
    {
     "data": {
      "text/plain": [
       "['安安',\n",
       " '看dcard 的',\n",
       " '真假',\n",
       " '高中生😂😂',\n",
       " '你大幾？',\n",
       " '女生😂😂',\n",
       " '嗨',\n",
       " '嗨',\n",
       " '哈哈哈哈 你是男生還是女生',\n",
       " '好像很少男生欸',\n",
       " '嗨',\n",
       " '哈哈哈你是男生還是女生',\n",
       " '我也是',\n",
       " '好像幾乎都是女生😂😂',\n",
       " '真假']"
      ]
     },
     "execution_count": 26,
     "metadata": {},
     "output_type": "execute_result"
    }
   ],
   "source": [
    "test = grouped_data.head(1000)\n",
    "test.iloc[2][1]"
   ]
  },
  {
   "cell_type": "code",
   "execution_count": 27,
   "metadata": {},
   "outputs": [
    {
     "name": "stdout",
     "output_type": "stream",
     "text": [
      "id為 1000080793444348 的使用者傳送的訊息 ：['嗨嗨', '安安', '幾歲呢', '我也是', '😂😂', '我男生', '嗨嗨', '我男生😂😂', '嗨嗨', '欸欸不在嗎？', '嗨嗨', '？？', '安安', '男17', '喔喔ok', '😂😂', '嗯嗯', '對', '哈哈😂😂', '一樣吧', '哪裡人呀？', '哇嗚唯一不靠海', '嗨嗨', '我高二男生喔😂😂', '哈哈', '掰掰', '嗨嗨', '有人嗎？', '嗨嗨', '嗨嗨', '什麼？？', '😂😂', '我高二男生@@', '不好玩', '換了班換了人', '二類', 'XD', '怎麼？？', '過來人？', '我還有頭髮的', '😃😃', '噗ㄘ', '不是和尚啦', '不是', '嗨嗨', '安安', '高二男生喔😂😂', '哈哈', '那掰掰', '自己說', '噗ㄘ', '掰掰', '？？', '欸欸？', '安安', '高二男生喔😂😂', '……', '好喔', '嗨嗨', '你好', '我是男生', '啊啊好巧喔', 'XD', '欸欸？', '😶😶😶', '？', '嗯嗯', '加油', '嗨嗨', '那掰掰吧😂', '嗨嗨', '嗨嗨', '男生😶', '我？', '我說我男生', '嗨嗨', '我男生😶', '覺得這裡有點像woo了😂😂', 'Wootalk阿跟這個差不多', '不過裡面有90%的機率是男的', '好無聊']\n"
     ]
    }
   ],
   "source": [
    "print('id為 {} 的使用者傳送的訊息 ：{}'.format(test.iloc[0][0],test.iloc[0][1]))"
   ]
  },
  {
   "cell_type": "markdown",
   "metadata": {},
   "source": [
    "## set stop word"
   ]
  },
  {
   "cell_type": "code",
   "execution_count": 70,
   "metadata": {},
   "outputs": [
    {
     "name": "stderr",
     "output_type": "stream",
     "text": [
      "Building prefix dict from /home/tp6han/gp_new/jieba_txt/dict.txt.big.txt ...\n",
      "Loading model from cache /tmp/jieba.u0ddb98113e9461fac3a7658d9e24e45e.cache\n",
      "Loading model cost 1.597 seconds.\n",
      "Prefix dict has been built succesfully.\n"
     ]
    }
   ],
   "source": [
    "import jieba\n",
    "import jieba.posseg as pseg\n",
    "import jieba.analyse\n",
    "\n",
    "jieba.set_dictionary('jieba_txt/dict.txt.big.txt')\n",
    "jieba.load_userdict(\"jieba_txt/userdict.txt\")\n",
    "stopwordset = set()\n",
    "with open('jieba_txt/stop_words.txt','r',encoding='utf-8') as sw:\n",
    "    for line in sw:\n",
    "        stopwordset.add(line.strip('\\n'))\n",
    "        \n",
    "chars = set(' abcdefghijklmnopqrstuvwxyz0123456789()?@？!$,~:.。，-_&=/􀆿\\r\\n')\n",
    "for c in chars:\n",
    "    stopwordset.add(c)"
   ]
  },
  {
   "cell_type": "code",
   "execution_count": 31,
   "metadata": {},
   "outputs": [],
   "source": [
    "# stopwordset"
   ]
  },
  {
   "cell_type": "code",
   "execution_count": 29,
   "metadata": {},
   "outputs": [],
   "source": [
    "from gensim import models\n",
    "import gensim\n",
    "sentences = models.word2vec.LineSentence(\"corpusSegDone.txt\")\n",
    "model = models.word2vec.Word2Vec(sentences, size=1, window=5, min_count=5, workers=1)"
   ]
  },
  {
   "cell_type": "code",
   "execution_count": 111,
   "metadata": {},
   "outputs": [
    {
     "data": {
      "text/plain": [
       "12691"
      ]
     },
     "execution_count": 111,
     "metadata": {},
     "output_type": "execute_result"
    }
   ],
   "source": [
    "length = len(grouped_data)\n",
    "length"
   ]
  },
  {
   "cell_type": "code",
   "execution_count": 112,
   "metadata": {},
   "outputs": [
    {
     "name": "stderr",
     "output_type": "stream",
     "text": [
      "Building prefix dict from /home/tp6han/gp_new/jieba_txt/dict.txt.big.txt ...\n",
      "DEBUG:jieba:Building prefix dict from /home/tp6han/gp_new/jieba_txt/dict.txt.big.txt ...\n",
      "Loading model from cache /tmp/jieba.u0ddb98113e9461fac3a7658d9e24e45e.cache\n",
      "DEBUG:jieba:Loading model from cache /tmp/jieba.u0ddb98113e9461fac3a7658d9e24e45e.cache\n",
      "Loading model cost 1.569 seconds.\n",
      "DEBUG:jieba:Loading model cost 1.569 seconds.\n",
      "Prefix dict has been built succesfully.\n",
      "DEBUG:jieba:Prefix dict has been built succesfully.\n"
     ]
    }
   ],
   "source": [
    "top10_vector = np.zeros(shape=(length,10))\n",
    "import operator\n",
    "jieba.set_dictionary('jieba_txt/dict.txt.big.txt')\n",
    "jieba.load_userdict(\"jieba_txt/userdict.txt\")\n",
    "for i in range(length):\n",
    "    og_dict = dict()\n",
    "    for j in range(len(grouped_data.iloc[i][1])):\n",
    "        seglist = jieba.cut((grouped_data.iloc[i][1])[j])\n",
    "        for word in seglist:\n",
    "            if word not in stopwordset:\n",
    "                if not word in og_dict.keys():\n",
    "                    if word == \" \":\n",
    "                        continue\n",
    "                    og_dict[word] = 1\n",
    "                else:\n",
    "                    og_dict[word] = int(og_dict[word]) + 1\n",
    "    a = sorted(og_dict.items(), key=operator.itemgetter(1),reverse=True)\n",
    "#     print(a)\n",
    "    \n",
    "    row = np.zeros(shape=(1,10))\n",
    "    \n",
    "    if len(a) >= 10:\n",
    "        for x in range(10):\n",
    "            if a[x][0] in model:\n",
    "                show = float(model[a[x][0]])\n",
    "#                 print(show)\n",
    "                row[0][x] = show\n",
    "    else:\n",
    "        for x in range(len(a)):\n",
    "#             print(a[x]) \n",
    "            if a[x][0] in model:\n",
    "                show = float(model[a[x][0]])\n",
    "#                 print(show)\n",
    "                row[0][x] = show\n",
    "#     print(row)\n",
    "    top10_vector[i] = row\n",
    "#     print(\"\\n\\n\")"
   ]
  },
  {
   "cell_type": "code",
   "execution_count": 113,
   "metadata": {},
   "outputs": [
    {
     "data": {
      "text/plain": [
       "(12691, 10)"
      ]
     },
     "execution_count": 113,
     "metadata": {},
     "output_type": "execute_result"
    }
   ],
   "source": [
    "top10_vector.shape\n"
   ]
  },
  {
   "cell_type": "markdown",
   "metadata": {},
   "source": [
    "# k-means clustering"
   ]
  },
  {
   "cell_type": "code",
   "execution_count": 114,
   "metadata": {},
   "outputs": [
    {
     "name": "stdout",
     "output_type": "stream",
     "text": [
      "分群結果 前10：\n",
      "[0 2 2 2 0 0 2 0 0 2]\n",
      "---\n"
     ]
    }
   ],
   "source": [
    "from sklearn import cluster, datasets\n",
    "\n",
    "# KMeans 演算法\n",
    "kmeans_fit = cluster.KMeans(n_clusters = 3,random_state=1170).fit(top10_vector)\n",
    "\n",
    "# 印出分群結果\n",
    "cluster_labels = kmeans_fit.labels_\n",
    "print(\"分群結果 前10：\")\n",
    "print(cluster_labels[:10])\n",
    "print(\"---\")"
   ]
  },
  {
   "cell_type": "code",
   "execution_count": 115,
   "metadata": {},
   "outputs": [
    {
     "data": {
      "text/plain": [
       "12691"
      ]
     },
     "execution_count": 115,
     "metadata": {},
     "output_type": "execute_result"
    }
   ],
   "source": [
    "len(cluster_labels)"
   ]
  },
  {
   "cell_type": "code",
   "execution_count": 116,
   "metadata": {},
   "outputs": [
    {
     "data": {
      "text/plain": [
       "{0: 5775, 1: 2434, 2: 4482}"
      ]
     },
     "execution_count": 116,
     "metadata": {},
     "output_type": "execute_result"
    }
   ],
   "source": [
    "unique, counts = np.unique(cluster_labels, return_counts=True)\n",
    "dict(zip(unique, counts))"
   ]
  },
  {
   "cell_type": "code",
   "execution_count": 117,
   "metadata": {},
   "outputs": [],
   "source": [
    "t = grouped_data\n",
    "t['category'] = cluster_labels"
   ]
  },
  {
   "cell_type": "code",
   "execution_count": 127,
   "metadata": {},
   "outputs": [],
   "source": [
    "t = t.sort_values(by='category')\n",
    "# t = t.drop('from',1)"
   ]
  },
  {
   "cell_type": "code",
   "execution_count": 128,
   "metadata": {},
   "outputs": [
    {
     "data": {
      "text/html": [
       "<div>\n",
       "<style scoped>\n",
       "    .dataframe tbody tr th:only-of-type {\n",
       "        vertical-align: middle;\n",
       "    }\n",
       "\n",
       "    .dataframe tbody tr th {\n",
       "        vertical-align: top;\n",
       "    }\n",
       "\n",
       "    .dataframe thead th {\n",
       "        text-align: right;\n",
       "    }\n",
       "</style>\n",
       "<table border=\"1\" class=\"dataframe\">\n",
       "  <thead>\n",
       "    <tr style=\"text-align: right;\">\n",
       "      <th></th>\n",
       "      <th>text</th>\n",
       "      <th>category</th>\n",
       "    </tr>\n",
       "  </thead>\n",
       "  <tbody>\n",
       "    <tr>\n",
       "      <th>0</th>\n",
       "      <td>[嗨嗨, 安安, 幾歲呢, 我也是, 😂😂, 我男生, 嗨嗨, 我男生😂😂, 嗨嗨, 欸欸不...</td>\n",
       "      <td>0</td>\n",
       "    </tr>\n",
       "    <tr>\n",
       "      <th>1</th>\n",
       "      <td>[嗨囉！, 掰掰, 😂😂😂😂😂, 砍撒哈米達, 😂😂😂😂, 嗨囉你好嗎？, 你是誰？, 對啊...</td>\n",
       "      <td>0</td>\n",
       "    </tr>\n",
       "    <tr>\n",
       "      <th>2</th>\n",
       "      <td>[嗨, 對啊, 我剛剛用賴的, 結果不行, 哈哈哈, 我正要打!, 感覺蠻好玩的, 我第一個...</td>\n",
       "      <td>0</td>\n",
       "    </tr>\n",
       "    <tr>\n",
       "      <th>3</th>\n",
       "      <td>[嗨, 今天上熱門那篇嗎, 不然完全沒聽過欸, 你有看到我哥婚前偷吃那個嗎, 感覺沒有交代的...</td>\n",
       "      <td>0</td>\n",
       "    </tr>\n",
       "    <tr>\n",
       "      <th>4</th>\n",
       "      <td>[你這個壞蛋, 可是我已經當真了, 難過, 💔💔💔, 😂😂😂, 有, 你當我不是人哦, 壞蛋...</td>\n",
       "      <td>0</td>\n",
       "    </tr>\n",
       "  </tbody>\n",
       "</table>\n",
       "</div>"
      ],
      "text/plain": [
       "                                                text  category\n",
       "0  [嗨嗨, 安安, 幾歲呢, 我也是, 😂😂, 我男生, 嗨嗨, 我男生😂😂, 嗨嗨, 欸欸不...         0\n",
       "1  [嗨囉！, 掰掰, 😂😂😂😂😂, 砍撒哈米達, 😂😂😂😂, 嗨囉你好嗎？, 你是誰？, 對啊...         0\n",
       "2  [嗨, 對啊, 我剛剛用賴的, 結果不行, 哈哈哈, 我正要打!, 感覺蠻好玩的, 我第一個...         0\n",
       "3  [嗨, 今天上熱門那篇嗎, 不然完全沒聽過欸, 你有看到我哥婚前偷吃那個嗎, 感覺沒有交代的...         0\n",
       "4  [你這個壞蛋, 可是我已經當真了, 難過, 💔💔💔, 😂😂😂, 有, 你當我不是人哦, 壞蛋...         0"
      ]
     },
     "execution_count": 128,
     "metadata": {},
     "output_type": "execute_result"
    }
   ],
   "source": [
    "t = t.reset_index(drop=True)\n",
    "t.head()"
   ]
  },
  {
   "cell_type": "code",
   "execution_count": 131,
   "metadata": {},
   "outputs": [],
   "source": [
    "t.to_csv('../data/k_means_result.csv',encoding='utf-8-sig')"
   ]
  },
  {
   "cell_type": "code",
   "execution_count": 104,
   "metadata": {},
   "outputs": [
    {
     "data": {
      "text/plain": [
       "<pandas.core.groupby.DataFrameGroupBy object at 0x7f7200dec198>"
      ]
     },
     "execution_count": 104,
     "metadata": {},
     "output_type": "execute_result"
    }
   ],
   "source": [
    "aaa = t.drop('from',1)\n",
    "aaa = aaa.groupby('category')\n",
    "# aaa"
   ]
  },
  {
   "cell_type": "code",
   "execution_count": 107,
   "metadata": {},
   "outputs": [],
   "source": [
    "aaa = aaa.agg({'text': 'sum'})"
   ]
  },
  {
   "cell_type": "code",
   "execution_count": null,
   "metadata": {},
   "outputs": [],
   "source": []
  }
 ],
 "metadata": {
  "kernelspec": {
   "display_name": "Python 3",
   "language": "python",
   "name": "python3"
  },
  "language_info": {
   "codemirror_mode": {
    "name": "ipython",
    "version": 3
   },
   "file_extension": ".py",
   "mimetype": "text/x-python",
   "name": "python",
   "nbconvert_exporter": "python",
   "pygments_lexer": "ipython3",
   "version": "3.5.2"
  }
 },
 "nbformat": 4,
 "nbformat_minor": 2
}
