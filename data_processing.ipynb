{
 "cells": [
  {
   "cell_type": "code",
   "execution_count": 1,
   "metadata": {},
   "outputs": [],
   "source": [
    "import pandas as pd\n",
    "from hanziconv import HanziConv\n",
    "\n",
    "import jieba\n",
    "import jieba.posseg as pseg\n",
    "import jieba.analyse"
   ]
  },
  {
   "cell_type": "code",
   "execution_count": 2,
   "metadata": {},
   "outputs": [],
   "source": [
    "df = pd.read_csv('../data/text.csv',dtype={'time':int})"
   ]
  },
  {
   "cell_type": "code",
   "execution_count": 3,
   "metadata": {},
   "outputs": [
    {
     "data": {
      "text/plain": [
       "from    object\n",
       "to      object\n",
       "text    object\n",
       "room    object\n",
       "time     int64\n",
       "dtype: object"
      ]
     },
     "execution_count": 3,
     "metadata": {},
     "output_type": "execute_result"
    }
   ],
   "source": [
    "df.dtypes"
   ]
  },
  {
   "cell_type": "markdown",
   "metadata": {},
   "source": [
    "### 去掉空值欄位"
   ]
  },
  {
   "cell_type": "code",
   "execution_count": 4,
   "metadata": {},
   "outputs": [
    {
     "data": {
      "text/plain": [
       "from    30348617\n",
       "to      30348617\n",
       "text    30348617\n",
       "room    30348617\n",
       "time    30348617\n",
       "dtype: int64"
      ]
     },
     "execution_count": 4,
     "metadata": {},
     "output_type": "execute_result"
    }
   ],
   "source": [
    "df_change = df.dropna(how='any',axis=0) \n",
    "df_change.count()"
   ]
  },
  {
   "cell_type": "code",
   "execution_count": 5,
   "metadata": {},
   "outputs": [],
   "source": [
    "df_change = df_change.reset_index(drop=True)"
   ]
  },
  {
   "cell_type": "code",
   "execution_count": 6,
   "metadata": {},
   "outputs": [
    {
     "data": {
      "text/html": [
       "<div>\n",
       "<style scoped>\n",
       "    .dataframe tbody tr th:only-of-type {\n",
       "        vertical-align: middle;\n",
       "    }\n",
       "\n",
       "    .dataframe tbody tr th {\n",
       "        vertical-align: top;\n",
       "    }\n",
       "\n",
       "    .dataframe thead th {\n",
       "        text-align: right;\n",
       "    }\n",
       "</style>\n",
       "<table border=\"1\" class=\"dataframe\">\n",
       "  <thead>\n",
       "    <tr style=\"text-align: right;\">\n",
       "      <th></th>\n",
       "      <th>from</th>\n",
       "      <th>to</th>\n",
       "      <th>text</th>\n",
       "      <th>room</th>\n",
       "      <th>time</th>\n",
       "    </tr>\n",
       "  </thead>\n",
       "  <tbody>\n",
       "    <tr>\n",
       "      <th>0</th>\n",
       "      <td>ud4097fbb4471c8c54512814bf0182e03</td>\n",
       "      <td>u84fa1e46e99df373e0f978c2ba274f9a</td>\n",
       "      <td>wd</td>\n",
       "      <td>8aee77a7-1d90-4d0f-b3c3-3f7b94a90e36</td>\n",
       "      <td>1471639945495</td>\n",
       "    </tr>\n",
       "    <tr>\n",
       "      <th>1</th>\n",
       "      <td>ud4097fbb4471c8c54512814bf0182e03</td>\n",
       "      <td>u96e826dccd3c9db56d684a5ddffc3154</td>\n",
       "      <td>嗨嗨</td>\n",
       "      <td>fe214cfc-22d1-4736-92e7-d133190142b8</td>\n",
       "      <td>1471643281086</td>\n",
       "    </tr>\n",
       "    <tr>\n",
       "      <th>2</th>\n",
       "      <td>u96e826dccd3c9db56d684a5ddffc3154</td>\n",
       "      <td>ud4097fbb4471c8c54512814bf0182e03</td>\n",
       "      <td>蛤？</td>\n",
       "      <td>fe214cfc-22d1-4736-92e7-d133190142b8</td>\n",
       "      <td>1471643283093</td>\n",
       "    </tr>\n",
       "    <tr>\n",
       "      <th>3</th>\n",
       "      <td>ud4097fbb4471c8c54512814bf0182e03</td>\n",
       "      <td>u96e826dccd3c9db56d684a5ddffc3154</td>\n",
       "      <td>你是第二個使用者ＱＱ</td>\n",
       "      <td>fe214cfc-22d1-4736-92e7-d133190142b8</td>\n",
       "      <td>1471643295941</td>\n",
       "    </tr>\n",
       "    <tr>\n",
       "      <th>4</th>\n",
       "      <td>u96e826dccd3c9db56d684a5ddffc3154</td>\n",
       "      <td>ud4097fbb4471c8c54512814bf0182e03</td>\n",
       "      <td>哈哈哈哈哈哈哈</td>\n",
       "      <td>fe214cfc-22d1-4736-92e7-d133190142b8</td>\n",
       "      <td>1471643303714</td>\n",
       "    </tr>\n",
       "  </tbody>\n",
       "</table>\n",
       "</div>"
      ],
      "text/plain": [
       "                                from                                 to  \\\n",
       "0  ud4097fbb4471c8c54512814bf0182e03  u84fa1e46e99df373e0f978c2ba274f9a   \n",
       "1  ud4097fbb4471c8c54512814bf0182e03  u96e826dccd3c9db56d684a5ddffc3154   \n",
       "2  u96e826dccd3c9db56d684a5ddffc3154  ud4097fbb4471c8c54512814bf0182e03   \n",
       "3  ud4097fbb4471c8c54512814bf0182e03  u96e826dccd3c9db56d684a5ddffc3154   \n",
       "4  u96e826dccd3c9db56d684a5ddffc3154  ud4097fbb4471c8c54512814bf0182e03   \n",
       "\n",
       "         text                                  room           time  \n",
       "0          wd  8aee77a7-1d90-4d0f-b3c3-3f7b94a90e36  1471639945495  \n",
       "1          嗨嗨  fe214cfc-22d1-4736-92e7-d133190142b8  1471643281086  \n",
       "2          蛤？  fe214cfc-22d1-4736-92e7-d133190142b8  1471643283093  \n",
       "3  你是第二個使用者ＱＱ  fe214cfc-22d1-4736-92e7-d133190142b8  1471643295941  \n",
       "4     哈哈哈哈哈哈哈  fe214cfc-22d1-4736-92e7-d133190142b8  1471643303714  "
      ]
     },
     "execution_count": 6,
     "metadata": {},
     "output_type": "execute_result"
    }
   ],
   "source": [
    "df_change.head()"
   ]
  },
  {
   "cell_type": "markdown",
   "metadata": {},
   "source": [
    "### 清除系統使用上的文字"
   ]
  },
  {
   "cell_type": "code",
   "execution_count": 7,
   "metadata": {},
   "outputs": [
    {
     "name": "stdout",
     "output_type": "stream",
     "text": [
      "CPU times: user 9min, sys: 18.1 s, total: 9min 18s\n",
      "Wall time: 9min 18s\n"
     ]
    }
   ],
   "source": [
    "%%time\n",
    "system_text = [\"http|Britain\", \"0011\", \"0022\", \"0055\", \"0088\",\"對方已離開聊天室\",\"我要配對\",\"Whosdiary 目前不支援此功能\", \\\n",
    "              \"Whosdiary關心您\", \"Whosdiary 目前不支援貼圖功能\",\"配對成功，您與陌生人連線了，\",\\\n",
    "              \"您與久未聯絡的好友連線了，可以開始聊天囉！\",\"您與陌生人連線了，可以開始聊天囉！\",\"Whosdiary 祝您聊天愉快\",\\\n",
    "              \"Whosdiary 目前不支援說話功能\", \"Whosdiary 目前不支援文字功能\", \"Whosdiary 誰的日記」隨機聊\",\\\n",
    "              \"Whosdiary 目前不支援傳圖功能\",\"將您與陌生人隨機配對\", \"telegram.me\",\"配對中，請稍候\",\"系統故障\",\\\n",
    "              \"尚未加入聊天室\", \"目前線上人數\", \"已配對的聊天室\", \"目前不支援\", \"00leave\",\"00add\"]\n",
    "              \n",
    "for i in range(len(system_text)):\n",
    "    df_change = df_change[df_change['text'].str.contains(system_text[i])== False]\n",
    "    \n",
    "df_change = df_change.reset_index(drop=True)"
   ]
  },
  {
   "cell_type": "code",
   "execution_count": 8,
   "metadata": {},
   "outputs": [
    {
     "data": {
      "text/plain": [
       "28275412"
      ]
     },
     "execution_count": 8,
     "metadata": {},
     "output_type": "execute_result"
    }
   ],
   "source": [
    "len(df_change)"
   ]
  },
  {
   "cell_type": "code",
   "execution_count": null,
   "metadata": {},
   "outputs": [],
   "source": [
    "df_change.to_csv(\"../data/processed.csv\", index = False)"
   ]
  },
  {
   "cell_type": "markdown",
   "metadata": {},
   "source": [
    "# 以後可以從這裡開始"
   ]
  },
  {
   "cell_type": "code",
   "execution_count": 5,
   "metadata": {},
   "outputs": [
    {
     "name": "stderr",
     "output_type": "stream",
     "text": [
      "/home/tp6han/.local/lib/python3.5/site-packages/IPython/core/interactiveshell.py:2728: DtypeWarning: Columns (1,2,3) have mixed types. Specify dtype option on import or set low_memory=False.\n",
      "  interactivity=interactivity, compiler=compiler, result=result)\n"
     ]
    }
   ],
   "source": [
    "# df_change.to_csv(\"../data/processed.csv\", index= False) \n",
    "df_change = pd.read_csv('../data/processed.csv')"
   ]
  },
  {
   "cell_type": "code",
   "execution_count": 6,
   "metadata": {},
   "outputs": [
    {
     "data": {
      "text/plain": [
       "from    29233494\n",
       "to      28971399\n",
       "text    28971399\n",
       "room    28275265\n",
       "time    28275265\n",
       "dtype: int64"
      ]
     },
     "execution_count": 6,
     "metadata": {},
     "output_type": "execute_result"
    }
   ],
   "source": [
    "df_change.count()"
   ]
  },
  {
   "cell_type": "code",
   "execution_count": 11,
   "metadata": {},
   "outputs": [
    {
     "data": {
      "text/html": [
       "<div>\n",
       "<style scoped>\n",
       "    .dataframe tbody tr th:only-of-type {\n",
       "        vertical-align: middle;\n",
       "    }\n",
       "\n",
       "    .dataframe tbody tr th {\n",
       "        vertical-align: top;\n",
       "    }\n",
       "\n",
       "    .dataframe thead th {\n",
       "        text-align: right;\n",
       "    }\n",
       "</style>\n",
       "<table border=\"1\" class=\"dataframe\">\n",
       "  <thead>\n",
       "    <tr style=\"text-align: right;\">\n",
       "      <th></th>\n",
       "      <th>from</th>\n",
       "      <th>to</th>\n",
       "      <th>text</th>\n",
       "      <th>room</th>\n",
       "      <th>time</th>\n",
       "    </tr>\n",
       "  </thead>\n",
       "  <tbody>\n",
       "    <tr>\n",
       "      <th>0</th>\n",
       "      <td>ud4097fbb4471c8c54512814bf0182e03</td>\n",
       "      <td>u84fa1e46e99df373e0f978c2ba274f9a</td>\n",
       "      <td>wd</td>\n",
       "      <td>8aee77a7-1d90-4d0f-b3c3-3f7b94a90e36</td>\n",
       "      <td>1.471640e+12</td>\n",
       "    </tr>\n",
       "    <tr>\n",
       "      <th>1</th>\n",
       "      <td>ud4097fbb4471c8c54512814bf0182e03</td>\n",
       "      <td>u96e826dccd3c9db56d684a5ddffc3154</td>\n",
       "      <td>嗨嗨</td>\n",
       "      <td>fe214cfc-22d1-4736-92e7-d133190142b8</td>\n",
       "      <td>1.471643e+12</td>\n",
       "    </tr>\n",
       "    <tr>\n",
       "      <th>2</th>\n",
       "      <td>u96e826dccd3c9db56d684a5ddffc3154</td>\n",
       "      <td>ud4097fbb4471c8c54512814bf0182e03</td>\n",
       "      <td>蛤？</td>\n",
       "      <td>fe214cfc-22d1-4736-92e7-d133190142b8</td>\n",
       "      <td>1.471643e+12</td>\n",
       "    </tr>\n",
       "    <tr>\n",
       "      <th>3</th>\n",
       "      <td>ud4097fbb4471c8c54512814bf0182e03</td>\n",
       "      <td>u96e826dccd3c9db56d684a5ddffc3154</td>\n",
       "      <td>你是第二個使用者ＱＱ</td>\n",
       "      <td>fe214cfc-22d1-4736-92e7-d133190142b8</td>\n",
       "      <td>1.471643e+12</td>\n",
       "    </tr>\n",
       "    <tr>\n",
       "      <th>4</th>\n",
       "      <td>u96e826dccd3c9db56d684a5ddffc3154</td>\n",
       "      <td>ud4097fbb4471c8c54512814bf0182e03</td>\n",
       "      <td>哈哈哈哈哈哈哈</td>\n",
       "      <td>fe214cfc-22d1-4736-92e7-d133190142b8</td>\n",
       "      <td>1.471643e+12</td>\n",
       "    </tr>\n",
       "    <tr>\n",
       "      <th>5</th>\n",
       "      <td>u96e826dccd3c9db56d684a5ddffc3154</td>\n",
       "      <td>ud4097fbb4471c8c54512814bf0182e03</td>\n",
       "      <td>這是限定版嗎</td>\n",
       "      <td>fe214cfc-22d1-4736-92e7-d133190142b8</td>\n",
       "      <td>1.471643e+12</td>\n",
       "    </tr>\n",
       "    <tr>\n",
       "      <th>6</th>\n",
       "      <td>ud4097fbb4471c8c54512814bf0182e03</td>\n",
       "      <td>u96e826dccd3c9db56d684a5ddffc3154</td>\n",
       "      <td>什麼限定版？</td>\n",
       "      <td>fe214cfc-22d1-4736-92e7-d133190142b8</td>\n",
       "      <td>1.471643e+12</td>\n",
       "    </tr>\n",
       "    <tr>\n",
       "      <th>7</th>\n",
       "      <td>u96e826dccd3c9db56d684a5ddffc3154</td>\n",
       "      <td>ud4097fbb4471c8c54512814bf0182e03</td>\n",
       "      <td>賴限定？</td>\n",
       "      <td>fe214cfc-22d1-4736-92e7-d133190142b8</td>\n",
       "      <td>1.471643e+12</td>\n",
       "    </tr>\n",
       "    <tr>\n",
       "      <th>8</th>\n",
       "      <td>ud4097fbb4471c8c54512814bf0182e03</td>\n",
       "      <td>u96e826dccd3c9db56d684a5ddffc3154</td>\n",
       "      <td>等我睡醒再來寫fb版本</td>\n",
       "      <td>fe214cfc-22d1-4736-92e7-d133190142b8</td>\n",
       "      <td>1.471643e+12</td>\n",
       "    </tr>\n",
       "    <tr>\n",
       "      <th>9</th>\n",
       "      <td>u96e826dccd3c9db56d684a5ddffc3154</td>\n",
       "      <td>ud4097fbb4471c8c54512814bf0182e03</td>\n",
       "      <td>賴才能用？</td>\n",
       "      <td>fe214cfc-22d1-4736-92e7-d133190142b8</td>\n",
       "      <td>1.471643e+12</td>\n",
       "    </tr>\n",
       "  </tbody>\n",
       "</table>\n",
       "</div>"
      ],
      "text/plain": [
       "                                from                                 to  \\\n",
       "0  ud4097fbb4471c8c54512814bf0182e03  u84fa1e46e99df373e0f978c2ba274f9a   \n",
       "1  ud4097fbb4471c8c54512814bf0182e03  u96e826dccd3c9db56d684a5ddffc3154   \n",
       "2  u96e826dccd3c9db56d684a5ddffc3154  ud4097fbb4471c8c54512814bf0182e03   \n",
       "3  ud4097fbb4471c8c54512814bf0182e03  u96e826dccd3c9db56d684a5ddffc3154   \n",
       "4  u96e826dccd3c9db56d684a5ddffc3154  ud4097fbb4471c8c54512814bf0182e03   \n",
       "5  u96e826dccd3c9db56d684a5ddffc3154  ud4097fbb4471c8c54512814bf0182e03   \n",
       "6  ud4097fbb4471c8c54512814bf0182e03  u96e826dccd3c9db56d684a5ddffc3154   \n",
       "7  u96e826dccd3c9db56d684a5ddffc3154  ud4097fbb4471c8c54512814bf0182e03   \n",
       "8  ud4097fbb4471c8c54512814bf0182e03  u96e826dccd3c9db56d684a5ddffc3154   \n",
       "9  u96e826dccd3c9db56d684a5ddffc3154  ud4097fbb4471c8c54512814bf0182e03   \n",
       "\n",
       "          text                                  room          time  \n",
       "0           wd  8aee77a7-1d90-4d0f-b3c3-3f7b94a90e36  1.471640e+12  \n",
       "1           嗨嗨  fe214cfc-22d1-4736-92e7-d133190142b8  1.471643e+12  \n",
       "2           蛤？  fe214cfc-22d1-4736-92e7-d133190142b8  1.471643e+12  \n",
       "3   你是第二個使用者ＱＱ  fe214cfc-22d1-4736-92e7-d133190142b8  1.471643e+12  \n",
       "4      哈哈哈哈哈哈哈  fe214cfc-22d1-4736-92e7-d133190142b8  1.471643e+12  \n",
       "5       這是限定版嗎  fe214cfc-22d1-4736-92e7-d133190142b8  1.471643e+12  \n",
       "6       什麼限定版？  fe214cfc-22d1-4736-92e7-d133190142b8  1.471643e+12  \n",
       "7         賴限定？  fe214cfc-22d1-4736-92e7-d133190142b8  1.471643e+12  \n",
       "8  等我睡醒再來寫fb版本  fe214cfc-22d1-4736-92e7-d133190142b8  1.471643e+12  \n",
       "9        賴才能用？  fe214cfc-22d1-4736-92e7-d133190142b8  1.471643e+12  "
      ]
     },
     "execution_count": 11,
     "metadata": {},
     "output_type": "execute_result"
    }
   ],
   "source": [
    "df_change.head(10)"
   ]
  },
  {
   "cell_type": "code",
   "execution_count": 8,
   "metadata": {},
   "outputs": [
    {
     "data": {
      "text/plain": [
       "29233557"
      ]
     },
     "execution_count": 8,
     "metadata": {},
     "output_type": "execute_result"
    }
   ],
   "source": [
    "len(df_change)"
   ]
  },
  {
   "cell_type": "markdown",
   "metadata": {},
   "source": [
    "## 斷字斷詞丟進 word2vec訓練"
   ]
  },
  {
   "cell_type": "code",
   "execution_count": 5,
   "metadata": {},
   "outputs": [],
   "source": [
    "stopwordset = set()\n",
    "with open('jieba_txt/stop_words.txt','r',encoding='utf-8') as sw:\n",
    "    for line in sw:\n",
    "        stopwordset.add(line.strip('\\n'))\n",
    "# stopwordset\n",
    "chars = set(' abcdefghijklmnopqrstuvwxyz0123456789()?!$,:.。，-_&=/􀆿\\r\\n')\n",
    "for c in chars:\n",
    "    stopwordset.add(c)"
   ]
  },
  {
   "cell_type": "code",
   "execution_count": 6,
   "metadata": {},
   "outputs": [],
   "source": [
    "fileTrainSeg = []"
   ]
  },
  {
   "cell_type": "code",
   "execution_count": 7,
   "metadata": {},
   "outputs": [
    {
     "name": "stderr",
     "output_type": "stream",
     "text": [
      "Building prefix dict from /home/tp6han/gp_new/jieba_txt/dict.txt.big.txt ...\n",
      "Loading model from cache /tmp/jieba.u0ddb98113e9461fac3a7658d9e24e45e.cache\n",
      "Loading model cost 1.446 seconds.\n",
      "Prefix dict has been built succesfully.\n"
     ]
    },
    {
     "name": "stdout",
     "output_type": "stream",
     "text": [
      "0\n",
      "100000\n",
      "200000\n",
      "300000\n",
      "400000\n",
      "500000\n",
      "600000\n",
      "700000\n",
      "800000\n",
      "900000\n",
      "1000000\n",
      "1100000\n",
      "1200000\n",
      "1300000\n",
      "1400000\n",
      "1500000\n",
      "1600000\n",
      "1700000\n",
      "1800000\n",
      "1900000\n",
      "2000000\n",
      "2100000\n",
      "2200000\n",
      "2300000\n",
      "2400000\n",
      "2500000\n",
      "2600000\n",
      "2700000\n",
      "2800000\n",
      "2900000\n",
      "3000000\n",
      "3100000\n",
      "3200000\n",
      "3300000\n",
      "3400000\n",
      "3500000\n",
      "3600000\n",
      "3700000\n",
      "3800000\n",
      "3900000\n",
      "4000000\n",
      "4100000\n",
      "4200000\n",
      "4300000\n",
      "4400000\n",
      "4500000\n",
      "4600000\n",
      "4700000\n",
      "4800000\n",
      "4900000\n",
      "5000000\n",
      "5100000\n",
      "5200000\n",
      "5300000\n",
      "5400000\n",
      "5500000\n",
      "5600000\n",
      "5700000\n",
      "5800000\n",
      "5900000\n",
      "6000000\n",
      "6100000\n",
      "6200000\n",
      "6300000\n",
      "6400000\n",
      "6500000\n",
      "6600000\n",
      "6700000\n",
      "6800000\n",
      "6900000\n",
      "7000000\n",
      "7100000\n",
      "7200000\n",
      "7300000\n",
      "7400000\n",
      "7500000\n",
      "7600000\n",
      "7700000\n",
      "7800000\n",
      "7900000\n",
      "8000000\n",
      "8100000\n",
      "8200000\n",
      "8300000\n",
      "8400000\n",
      "8500000\n",
      "8600000\n",
      "8700000\n",
      "8800000\n",
      "8900000\n",
      "9000000\n",
      "9100000\n",
      "9200000\n",
      "9300000\n",
      "9400000\n",
      "9500000\n",
      "9600000\n",
      "9700000\n",
      "9800000\n",
      "9900000\n",
      "10000000\n",
      "10100000\n",
      "10200000\n",
      "10300000\n",
      "10400000\n",
      "10500000\n",
      "10600000\n",
      "10700000\n",
      "10800000\n",
      "10900000\n",
      "11000000\n",
      "11100000\n",
      "11200000\n",
      "11300000\n",
      "11400000\n",
      "11500000\n",
      "11600000\n",
      "11700000\n",
      "11800000\n",
      "11900000\n",
      "12000000\n",
      "12100000\n",
      "12200000\n",
      "12300000\n",
      "12400000\n",
      "12500000\n",
      "12600000\n",
      "12700000\n",
      "12800000\n",
      "12900000\n",
      "13000000\n",
      "13100000\n",
      "13200000\n",
      "13300000\n",
      "13400000\n",
      "13500000\n",
      "13600000\n",
      "13700000\n",
      "13800000\n",
      "13900000\n",
      "14000000\n",
      "14100000\n",
      "14200000\n",
      "14300000\n",
      "14400000\n",
      "14500000\n",
      "14600000\n",
      "14700000\n",
      "14800000\n",
      "14900000\n",
      "15000000\n",
      "15100000\n",
      "15200000\n",
      "15300000\n",
      "15400000\n",
      "15500000\n",
      "15600000\n",
      "15700000\n",
      "15800000\n",
      "15900000\n",
      "16000000\n",
      "16100000\n",
      "16200000\n",
      "16300000\n",
      "16400000\n",
      "16500000\n",
      "16600000\n",
      "16700000\n",
      "16800000\n",
      "16900000\n",
      "17000000\n",
      "17100000\n",
      "17200000\n",
      "17300000\n",
      "17400000\n",
      "17500000\n",
      "17600000\n",
      "17700000\n",
      "17800000\n",
      "17900000\n",
      "18000000\n",
      "18100000\n",
      "18200000\n",
      "18300000\n",
      "18400000\n",
      "18500000\n",
      "18600000\n",
      "18700000\n",
      "18800000\n",
      "18900000\n",
      "19000000\n",
      "19100000\n",
      "19200000\n",
      "19300000\n",
      "19400000\n",
      "19500000\n",
      "19600000\n",
      "19700000\n",
      "19800000\n",
      "19900000\n",
      "20000000\n",
      "20100000\n",
      "20200000\n",
      "20300000\n",
      "20400000\n",
      "20500000\n",
      "20600000\n",
      "20700000\n",
      "20800000\n",
      "20900000\n",
      "21000000\n",
      "21100000\n",
      "21200000\n",
      "21300000\n",
      "21400000\n",
      "21500000\n",
      "21600000\n",
      "21700000\n",
      "21800000\n",
      "21900000\n",
      "22000000\n",
      "22100000\n",
      "22200000\n",
      "22300000\n",
      "22400000\n",
      "22500000\n",
      "22600000\n",
      "22700000\n",
      "22800000\n",
      "22900000\n",
      "23000000\n",
      "23100000\n",
      "23200000\n",
      "23300000\n",
      "23400000\n",
      "23500000\n",
      "23600000\n",
      "23700000\n",
      "23800000\n",
      "23900000\n",
      "24000000\n",
      "24100000\n",
      "24200000\n",
      "24300000\n",
      "24400000\n",
      "24500000\n",
      "24600000\n",
      "24700000\n",
      "24800000\n",
      "24900000\n",
      "25000000\n",
      "25100000\n",
      "25200000\n",
      "25300000\n",
      "25400000\n",
      "25500000\n",
      "25600000\n",
      "25700000\n",
      "25800000\n",
      "25900000\n",
      "26000000\n",
      "26100000\n",
      "26200000\n",
      "26300000\n",
      "26400000\n",
      "26500000\n",
      "26600000\n",
      "26700000\n",
      "26800000\n",
      "26900000\n",
      "27000000\n",
      "27100000\n",
      "27200000\n",
      "27300000\n",
      "27400000\n",
      "27500000\n",
      "27600000\n",
      "27700000\n",
      "27800000\n",
      "27900000\n",
      "28000000\n",
      "28100000\n",
      "28200000\n",
      "28300000\n",
      "28400000\n",
      "28500000\n",
      "28600000\n",
      "28700000\n",
      "28800000\n",
      "28900000\n",
      "29000000\n",
      "29100000\n",
      "29200000\n"
     ]
    }
   ],
   "source": [
    "import jieba\n",
    "import jieba.posseg as pseg\n",
    "import jieba.analyse\n",
    "jieba.set_dictionary('jieba_txt/dict.txt.big.txt')\n",
    "jieba.load_userdict(\"jieba_txt/userdict.txt\")\n",
    "\n",
    "for i in range(len(df_change)):\n",
    "    seg_list = jieba.cut(df_change['text'][i])  # 默认是精确模式\n",
    "    fileTrainSeg.append([' '.join(list(jieba.cut(str(df_change['text'][i]),cut_all=False)))])\n",
    "    if i % 100000 == 0 :\n",
    "        print(i)"
   ]
  },
  {
   "cell_type": "code",
   "execution_count": 10,
   "metadata": {},
   "outputs": [],
   "source": [
    "fileSegWordDonePath ='../data/corpusSegDone.txt'\n",
    "with open(fileSegWordDonePath,'wb') as fW:\n",
    "    for i in range(len(fileTrainSeg)):\n",
    "        fW.write(str(fileTrainSeg[i][0]).encode('utf-8'))\n",
    "        fW.write('\\n'.encode('utf-8'))"
   ]
  },
  {
   "cell_type": "code",
   "execution_count": 10,
   "metadata": {},
   "outputs": [],
   "source": [
    "# df_change = df_change[df_change['text'].str.contains(\"0011\")== False]\n",
    "\n",
    "# df_million = df_change[1000000:2000000]"
   ]
  },
  {
   "cell_type": "code",
   "execution_count": 11,
   "metadata": {},
   "outputs": [],
   "source": [
    "# df_million.to_csv(\"../data/df2_million.csv\")"
   ]
  },
  {
   "cell_type": "markdown",
   "metadata": {},
   "source": [
    "## transform time"
   ]
  },
  {
   "cell_type": "code",
   "execution_count": 11,
   "metadata": {},
   "outputs": [],
   "source": [
    "# from datetime import datetime\n",
    "# for index, row in df.iterrows():\n",
    "#     a = datetime.fromtimestamp(int(row.time/1000.0)).strftime('%Y-%m-%d %H:%M:%S')\n",
    "#     row.time = a\n",
    "#     if index%500000 ==0 :\n",
    "#         print(index)"
   ]
  },
  {
   "cell_type": "code",
   "execution_count": 11,
   "metadata": {},
   "outputs": [
    {
     "data": {
      "text/html": [
       "<div>\n",
       "<style scoped>\n",
       "    .dataframe tbody tr th:only-of-type {\n",
       "        vertical-align: middle;\n",
       "    }\n",
       "\n",
       "    .dataframe tbody tr th {\n",
       "        vertical-align: top;\n",
       "    }\n",
       "\n",
       "    .dataframe thead th {\n",
       "        text-align: right;\n",
       "    }\n",
       "</style>\n",
       "<table border=\"1\" class=\"dataframe\">\n",
       "  <thead>\n",
       "    <tr style=\"text-align: right;\">\n",
       "      <th></th>\n",
       "      <th>from</th>\n",
       "      <th>to</th>\n",
       "      <th>text</th>\n",
       "      <th>room</th>\n",
       "      <th>time</th>\n",
       "    </tr>\n",
       "  </thead>\n",
       "  <tbody>\n",
       "    <tr>\n",
       "      <th>0</th>\n",
       "      <td>ud4097fbb4471c8c54512814bf0182e03</td>\n",
       "      <td>u84fa1e46e99df373e0f978c2ba274f9a</td>\n",
       "      <td>wd</td>\n",
       "      <td>8aee77a7-1d90-4d0f-b3c3-3f7b94a90e36</td>\n",
       "      <td>1.471640e+12</td>\n",
       "    </tr>\n",
       "    <tr>\n",
       "      <th>1</th>\n",
       "      <td>ud4097fbb4471c8c54512814bf0182e03</td>\n",
       "      <td>u96e826dccd3c9db56d684a5ddffc3154</td>\n",
       "      <td>嗨嗨</td>\n",
       "      <td>fe214cfc-22d1-4736-92e7-d133190142b8</td>\n",
       "      <td>1.471643e+12</td>\n",
       "    </tr>\n",
       "    <tr>\n",
       "      <th>2</th>\n",
       "      <td>u96e826dccd3c9db56d684a5ddffc3154</td>\n",
       "      <td>ud4097fbb4471c8c54512814bf0182e03</td>\n",
       "      <td>蛤？</td>\n",
       "      <td>fe214cfc-22d1-4736-92e7-d133190142b8</td>\n",
       "      <td>1.471643e+12</td>\n",
       "    </tr>\n",
       "    <tr>\n",
       "      <th>3</th>\n",
       "      <td>ud4097fbb4471c8c54512814bf0182e03</td>\n",
       "      <td>u96e826dccd3c9db56d684a5ddffc3154</td>\n",
       "      <td>你是第二個使用者ＱＱ</td>\n",
       "      <td>fe214cfc-22d1-4736-92e7-d133190142b8</td>\n",
       "      <td>1.471643e+12</td>\n",
       "    </tr>\n",
       "    <tr>\n",
       "      <th>4</th>\n",
       "      <td>u96e826dccd3c9db56d684a5ddffc3154</td>\n",
       "      <td>ud4097fbb4471c8c54512814bf0182e03</td>\n",
       "      <td>哈哈哈哈哈哈哈</td>\n",
       "      <td>fe214cfc-22d1-4736-92e7-d133190142b8</td>\n",
       "      <td>1.471643e+12</td>\n",
       "    </tr>\n",
       "  </tbody>\n",
       "</table>\n",
       "</div>"
      ],
      "text/plain": [
       "                                from                                 to  \\\n",
       "0  ud4097fbb4471c8c54512814bf0182e03  u84fa1e46e99df373e0f978c2ba274f9a   \n",
       "1  ud4097fbb4471c8c54512814bf0182e03  u96e826dccd3c9db56d684a5ddffc3154   \n",
       "2  u96e826dccd3c9db56d684a5ddffc3154  ud4097fbb4471c8c54512814bf0182e03   \n",
       "3  ud4097fbb4471c8c54512814bf0182e03  u96e826dccd3c9db56d684a5ddffc3154   \n",
       "4  u96e826dccd3c9db56d684a5ddffc3154  ud4097fbb4471c8c54512814bf0182e03   \n",
       "\n",
       "         text                                  room          time  \n",
       "0          wd  8aee77a7-1d90-4d0f-b3c3-3f7b94a90e36  1.471640e+12  \n",
       "1          嗨嗨  fe214cfc-22d1-4736-92e7-d133190142b8  1.471643e+12  \n",
       "2          蛤？  fe214cfc-22d1-4736-92e7-d133190142b8  1.471643e+12  \n",
       "3  你是第二個使用者ＱＱ  fe214cfc-22d1-4736-92e7-d133190142b8  1.471643e+12  \n",
       "4     哈哈哈哈哈哈哈  fe214cfc-22d1-4736-92e7-d133190142b8  1.471643e+12  "
      ]
     },
     "execution_count": 11,
     "metadata": {},
     "output_type": "execute_result"
    }
   ],
   "source": [
    "df.head()"
   ]
  },
  {
   "cell_type": "code",
   "execution_count": null,
   "metadata": {},
   "outputs": [],
   "source": [
    "df_small.head()"
   ]
  },
  {
   "cell_type": "code",
   "execution_count": null,
   "metadata": {},
   "outputs": [],
   "source": [
    "from datetime import datetime\n",
    "%timeit  a = datetime.fromtimestamp(1471639945495.0/1000.0).strftime('%Y-%m-%d %H:%M:%S')\n",
    "type(a)\n",
    "a"
   ]
  },
  {
   "cell_type": "code",
   "execution_count": null,
   "metadata": {},
   "outputs": [],
   "source": []
  }
 ],
 "metadata": {
  "kernelspec": {
   "display_name": "Python 3",
   "language": "python",
   "name": "python3"
  },
  "language_info": {
   "codemirror_mode": {
    "name": "ipython",
    "version": 3
   },
   "file_extension": ".py",
   "mimetype": "text/x-python",
   "name": "python",
   "nbconvert_exporter": "python",
   "pygments_lexer": "ipython3",
   "version": "3.5.2"
  }
 },
 "nbformat": 4,
 "nbformat_minor": 2
}
