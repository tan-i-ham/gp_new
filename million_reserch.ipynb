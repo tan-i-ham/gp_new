{
 "cells": [
  {
   "cell_type": "code",
   "execution_count": 1,
   "metadata": {},
   "outputs": [],
   "source": [
    "import pandas as pd\n",
    "import numpy as np\n",
    "import operator\n",
    "from collections import defaultdict"
   ]
  },
  {
   "cell_type": "code",
   "execution_count": 4,
   "metadata": {},
   "outputs": [
    {
     "ename": "ValueError",
     "evalue": "labels ['Unnamed: 0'] not contained in axis",
     "output_type": "error",
     "traceback": [
      "\u001b[0;31m---------------------------------------------------------------------------\u001b[0m",
      "\u001b[0;31mValueError\u001b[0m                                Traceback (most recent call last)",
      "\u001b[0;32m<ipython-input-4-fb92c0132f8e>\u001b[0m in \u001b[0;36m<module>\u001b[0;34m()\u001b[0m\n\u001b[1;32m      3\u001b[0m \u001b[0;34m\u001b[0m\u001b[0m\n\u001b[1;32m      4\u001b[0m \u001b[0mdf\u001b[0m \u001b[0;34m=\u001b[0m \u001b[0mdf\u001b[0m\u001b[0;34m.\u001b[0m\u001b[0mdropna\u001b[0m\u001b[0;34m(\u001b[0m\u001b[0maxis\u001b[0m\u001b[0;34m=\u001b[0m\u001b[0;36m0\u001b[0m\u001b[0;34m)\u001b[0m\u001b[0;34m\u001b[0m\u001b[0m\n\u001b[0;32m----> 5\u001b[0;31m \u001b[0mdf\u001b[0m \u001b[0;34m=\u001b[0m \u001b[0mdf\u001b[0m\u001b[0;34m.\u001b[0m\u001b[0mdrop\u001b[0m\u001b[0;34m(\u001b[0m\u001b[0;34m'Unnamed: 0'\u001b[0m\u001b[0;34m,\u001b[0m \u001b[0;36m1\u001b[0m\u001b[0;34m)\u001b[0m\u001b[0;34m\u001b[0m\u001b[0m\n\u001b[0m\u001b[1;32m      6\u001b[0m \u001b[0mprint\u001b[0m\u001b[0;34m(\u001b[0m\u001b[0;34m'有{}筆對話'\u001b[0m\u001b[0;34m.\u001b[0m\u001b[0mformat\u001b[0m\u001b[0;34m(\u001b[0m\u001b[0mlen\u001b[0m\u001b[0;34m(\u001b[0m\u001b[0mdf\u001b[0m\u001b[0;34m)\u001b[0m\u001b[0;34m)\u001b[0m\u001b[0;34m)\u001b[0m\u001b[0;34m\u001b[0m\u001b[0m\n",
      "\u001b[0;32m/usr/local/lib/python3.5/dist-packages/pandas/core/generic.py\u001b[0m in \u001b[0;36mdrop\u001b[0;34m(self, labels, axis, index, columns, level, inplace, errors)\u001b[0m\n\u001b[1;32m   2528\u001b[0m         \u001b[0;32mfor\u001b[0m \u001b[0maxis\u001b[0m\u001b[0;34m,\u001b[0m \u001b[0mlabels\u001b[0m \u001b[0;32min\u001b[0m \u001b[0maxes\u001b[0m\u001b[0;34m.\u001b[0m\u001b[0mitems\u001b[0m\u001b[0;34m(\u001b[0m\u001b[0;34m)\u001b[0m\u001b[0;34m:\u001b[0m\u001b[0;34m\u001b[0m\u001b[0m\n\u001b[1;32m   2529\u001b[0m             \u001b[0;32mif\u001b[0m \u001b[0mlabels\u001b[0m \u001b[0;32mis\u001b[0m \u001b[0;32mnot\u001b[0m \u001b[0;32mNone\u001b[0m\u001b[0;34m:\u001b[0m\u001b[0;34m\u001b[0m\u001b[0m\n\u001b[0;32m-> 2530\u001b[0;31m                 \u001b[0mobj\u001b[0m \u001b[0;34m=\u001b[0m \u001b[0mobj\u001b[0m\u001b[0;34m.\u001b[0m\u001b[0m_drop_axis\u001b[0m\u001b[0;34m(\u001b[0m\u001b[0mlabels\u001b[0m\u001b[0;34m,\u001b[0m \u001b[0maxis\u001b[0m\u001b[0;34m,\u001b[0m \u001b[0mlevel\u001b[0m\u001b[0;34m=\u001b[0m\u001b[0mlevel\u001b[0m\u001b[0;34m,\u001b[0m \u001b[0merrors\u001b[0m\u001b[0;34m=\u001b[0m\u001b[0merrors\u001b[0m\u001b[0;34m)\u001b[0m\u001b[0;34m\u001b[0m\u001b[0m\n\u001b[0m\u001b[1;32m   2531\u001b[0m \u001b[0;34m\u001b[0m\u001b[0m\n\u001b[1;32m   2532\u001b[0m         \u001b[0;32mif\u001b[0m \u001b[0minplace\u001b[0m\u001b[0;34m:\u001b[0m\u001b[0;34m\u001b[0m\u001b[0m\n",
      "\u001b[0;32m/usr/local/lib/python3.5/dist-packages/pandas/core/generic.py\u001b[0m in \u001b[0;36m_drop_axis\u001b[0;34m(self, labels, axis, level, errors)\u001b[0m\n\u001b[1;32m   2560\u001b[0m                 \u001b[0mnew_axis\u001b[0m \u001b[0;34m=\u001b[0m \u001b[0maxis\u001b[0m\u001b[0;34m.\u001b[0m\u001b[0mdrop\u001b[0m\u001b[0;34m(\u001b[0m\u001b[0mlabels\u001b[0m\u001b[0;34m,\u001b[0m \u001b[0mlevel\u001b[0m\u001b[0;34m=\u001b[0m\u001b[0mlevel\u001b[0m\u001b[0;34m,\u001b[0m \u001b[0merrors\u001b[0m\u001b[0;34m=\u001b[0m\u001b[0merrors\u001b[0m\u001b[0;34m)\u001b[0m\u001b[0;34m\u001b[0m\u001b[0m\n\u001b[1;32m   2561\u001b[0m             \u001b[0;32melse\u001b[0m\u001b[0;34m:\u001b[0m\u001b[0;34m\u001b[0m\u001b[0m\n\u001b[0;32m-> 2562\u001b[0;31m                 \u001b[0mnew_axis\u001b[0m \u001b[0;34m=\u001b[0m \u001b[0maxis\u001b[0m\u001b[0;34m.\u001b[0m\u001b[0mdrop\u001b[0m\u001b[0;34m(\u001b[0m\u001b[0mlabels\u001b[0m\u001b[0;34m,\u001b[0m \u001b[0merrors\u001b[0m\u001b[0;34m=\u001b[0m\u001b[0merrors\u001b[0m\u001b[0;34m)\u001b[0m\u001b[0;34m\u001b[0m\u001b[0m\n\u001b[0m\u001b[1;32m   2563\u001b[0m             \u001b[0mdropped\u001b[0m \u001b[0;34m=\u001b[0m \u001b[0mself\u001b[0m\u001b[0;34m.\u001b[0m\u001b[0mreindex\u001b[0m\u001b[0;34m(\u001b[0m\u001b[0;34m**\u001b[0m\u001b[0;34m{\u001b[0m\u001b[0maxis_name\u001b[0m\u001b[0;34m:\u001b[0m \u001b[0mnew_axis\u001b[0m\u001b[0;34m}\u001b[0m\u001b[0;34m)\u001b[0m\u001b[0;34m\u001b[0m\u001b[0m\n\u001b[1;32m   2564\u001b[0m             \u001b[0;32mtry\u001b[0m\u001b[0;34m:\u001b[0m\u001b[0;34m\u001b[0m\u001b[0m\n",
      "\u001b[0;32m/usr/local/lib/python3.5/dist-packages/pandas/core/indexes/base.py\u001b[0m in \u001b[0;36mdrop\u001b[0;34m(self, labels, errors)\u001b[0m\n\u001b[1;32m   3739\u001b[0m             \u001b[0;32mif\u001b[0m \u001b[0merrors\u001b[0m \u001b[0;34m!=\u001b[0m \u001b[0;34m'ignore'\u001b[0m\u001b[0;34m:\u001b[0m\u001b[0;34m\u001b[0m\u001b[0m\n\u001b[1;32m   3740\u001b[0m                 raise ValueError('labels %s not contained in axis' %\n\u001b[0;32m-> 3741\u001b[0;31m                                  labels[mask])\n\u001b[0m\u001b[1;32m   3742\u001b[0m             \u001b[0mindexer\u001b[0m \u001b[0;34m=\u001b[0m \u001b[0mindexer\u001b[0m\u001b[0;34m[\u001b[0m\u001b[0;34m~\u001b[0m\u001b[0mmask\u001b[0m\u001b[0;34m]\u001b[0m\u001b[0;34m\u001b[0m\u001b[0m\n\u001b[1;32m   3743\u001b[0m         \u001b[0;32mreturn\u001b[0m \u001b[0mself\u001b[0m\u001b[0;34m.\u001b[0m\u001b[0mdelete\u001b[0m\u001b[0;34m(\u001b[0m\u001b[0mindexer\u001b[0m\u001b[0;34m)\u001b[0m\u001b[0;34m\u001b[0m\u001b[0m\n",
      "\u001b[0;31mValueError\u001b[0m: labels ['Unnamed: 0'] not contained in axis"
     ]
    }
   ],
   "source": [
    "df = pd.read_csv(open('../data/processed.csv'), low_memory=False)\n",
    "df = df[df['text'].str.contains(\"00leave\")== False]\n",
    "\n",
    "df = df.dropna(axis=0)\n",
    "# df = df.drop('Unnamed: 0', 1)\n",
    "print('有{}筆對話'.format(len(df)))"
   ]
  },
  {
   "cell_type": "code",
   "execution_count": 5,
   "metadata": {},
   "outputs": [
    {
     "name": "stdout",
     "output_type": "stream",
     "text": [
      "有28275265筆對話\n"
     ]
    }
   ],
   "source": [
    "print('有{}筆對話'.format(len(df)))"
   ]
  },
  {
   "cell_type": "code",
   "execution_count": 8,
   "metadata": {},
   "outputs": [],
   "source": [
    "df2 = df.copy()"
   ]
  },
  {
   "cell_type": "code",
   "execution_count": null,
   "metadata": {},
   "outputs": [],
   "source": [
    "df = df[df['text'].str.contains(\"00add\")== False]"
   ]
  },
  {
   "cell_type": "code",
   "execution_count": 11,
   "metadata": {},
   "outputs": [],
   "source": [
    "df = df.reset_index(drop=True)"
   ]
  },
  {
   "cell_type": "code",
   "execution_count": 10,
   "metadata": {},
   "outputs": [
    {
     "data": {
      "text/plain": [
       "from    28275265\n",
       "to      28275265\n",
       "text    28275265\n",
       "room    28275265\n",
       "time    28275265\n",
       "dtype: int64"
      ]
     },
     "execution_count": 10,
     "metadata": {},
     "output_type": "execute_result"
    }
   ],
   "source": [
    "df.count()"
   ]
  },
  {
   "cell_type": "code",
   "execution_count": 13,
   "metadata": {},
   "outputs": [],
   "source": [
    "df =df.head(100000)"
   ]
  },
  {
   "cell_type": "markdown",
   "metadata": {},
   "source": [
    "## Groupby by 'from' column "
   ]
  },
  {
   "cell_type": "code",
   "execution_count": 14,
   "metadata": {},
   "outputs": [
    {
     "name": "stdout",
     "output_type": "stream",
     "text": [
      "have 1089 users\n"
     ]
    }
   ],
   "source": [
    "grouped_data = df.groupby('from')['text'].apply(list).reset_index()\n",
    "print('have {} users'.format(len(grouped_data)))"
   ]
  },
  {
   "cell_type": "code",
   "execution_count": null,
   "metadata": {},
   "outputs": [],
   "source": [
    "# df.loc[df['from'] == 'ud4097fbb4471c8c54512814bf0182e03']"
   ]
  },
  {
   "cell_type": "code",
   "execution_count": 15,
   "metadata": {},
   "outputs": [
    {
     "data": {
      "text/html": [
       "<div>\n",
       "<style scoped>\n",
       "    .dataframe tbody tr th:only-of-type {\n",
       "        vertical-align: middle;\n",
       "    }\n",
       "\n",
       "    .dataframe tbody tr th {\n",
       "        vertical-align: top;\n",
       "    }\n",
       "\n",
       "    .dataframe thead th {\n",
       "        text-align: right;\n",
       "    }\n",
       "</style>\n",
       "<table border=\"1\" class=\"dataframe\">\n",
       "  <thead>\n",
       "    <tr style=\"text-align: right;\">\n",
       "      <th></th>\n",
       "      <th>from</th>\n",
       "      <th>text</th>\n",
       "    </tr>\n",
       "  </thead>\n",
       "  <tbody>\n",
       "    <tr>\n",
       "      <th>0</th>\n",
       "      <td>1000970273334199</td>\n",
       "      <td>[找不到阿, 安安, 你有打LOL嗎, 好吧，可以帶我嗎, 安安, 凸, Sor, 嗯, 約...</td>\n",
       "    </tr>\n",
       "    <tr>\n",
       "      <th>1</th>\n",
       "      <td>1001070263323689</td>\n",
       "      <td>[!?, 唐寶寶, 你那麼愛慕他ㄇ, 嗨, 先問問您期望本人的性別是?, 了解, 我是男的,...</td>\n",
       "    </tr>\n",
       "    <tr>\n",
       "      <th>2</th>\n",
       "      <td>1001967239901904</td>\n",
       "      <td>[早, 在床上發懶, 爆, 斷, 魂, 你在暗諷綠藻嘛, 壞, 話說我好餓ㄛ, 窩不要這個q...</td>\n",
       "    </tr>\n",
       "    <tr>\n",
       "      <th>3</th>\n",
       "      <td>1003172849781848</td>\n",
       "      <td>[甲, 你要做我的0？, 人生勝利組是不會來玩這個的, 你一定不是c銘, 也不是業王, 葉你...</td>\n",
       "    </tr>\n",
       "    <tr>\n",
       "      <th>4</th>\n",
       "      <td>1003929993039131</td>\n",
       "      <td>[吃噓, 肥宅早, 我們不是場外人, 場外ㄈㄓ, 我沒用了, 安安, 是喔, 場外ㄈㄓ嗎, ...</td>\n",
       "    </tr>\n",
       "  </tbody>\n",
       "</table>\n",
       "</div>"
      ],
      "text/plain": [
       "               from                                               text\n",
       "0  1000970273334199  [找不到阿, 安安, 你有打LOL嗎, 好吧，可以帶我嗎, 安安, 凸, Sor, 嗯, 約...\n",
       "1  1001070263323689  [!?, 唐寶寶, 你那麼愛慕他ㄇ, 嗨, 先問問您期望本人的性別是?, 了解, 我是男的,...\n",
       "2  1001967239901904  [早, 在床上發懶, 爆, 斷, 魂, 你在暗諷綠藻嘛, 壞, 話說我好餓ㄛ, 窩不要這個q...\n",
       "3  1003172849781848  [甲, 你要做我的0？, 人生勝利組是不會來玩這個的, 你一定不是c銘, 也不是業王, 葉你...\n",
       "4  1003929993039131  [吃噓, 肥宅早, 我們不是場外人, 場外ㄈㄓ, 我沒用了, 安安, 是喔, 場外ㄈㄓ嗎, ..."
      ]
     },
     "execution_count": 15,
     "metadata": {},
     "output_type": "execute_result"
    }
   ],
   "source": [
    "grouped_data.head()\n",
    "# type(grouped_data.text[0])"
   ]
  },
  {
   "cell_type": "code",
   "execution_count": 16,
   "metadata": {},
   "outputs": [
    {
     "name": "stdout",
     "output_type": "stream",
     "text": [
      "id為 1000970273334199 的使用者傳送的訊息 ：['找不到阿', '安安', '你有打LOL嗎', '好吧，可以帶我嗎', '安安', '凸', 'Sor', '嗯', '約哪', '有啊', '你先約的啊', '喔', '我懶的打了', '皮米屌', '這你嗎？', '魏癢癢', '哪裡人?', '住哪裡啦？', '超癢', '哪裡人?', '好遠', '其實還好', '新竹', '龍潭?', 'ㄏㄅㄨㄐㄅㄌㄗㄋ', '三小', '幹又ㄋ', '掰掰', '凹?', '凸sor']\n"
     ]
    }
   ],
   "source": [
    "print('id為 {} 的使用者傳送的訊息 ：{}'.format(grouped_data.iloc[0][0],grouped_data.iloc[0][1]))"
   ]
  },
  {
   "cell_type": "markdown",
   "metadata": {},
   "source": [
    "## set stop word"
   ]
  },
  {
   "cell_type": "code",
   "execution_count": 36,
   "metadata": {},
   "outputs": [],
   "source": [
    "import jieba\n",
    "import jieba.posseg as pseg\n",
    "import jieba.analyse\n",
    "\n",
    "stopwordset = set()\n",
    "with open('jieba_txt/stop_words.txt','r',encoding='utf-8') as sw:\n",
    "    for line in sw:\n",
    "        stopwordset.add(line.strip('\\n'))\n",
    "        \n",
    "chars = set(' abcdefghijklmnopqrstuvwxyz0123456789()?@？!$,~:.。，-_&=/􀆿\\r\\n')\n",
    "for c in chars:\n",
    "    stopwordset.add(c)"
   ]
  },
  {
   "cell_type": "code",
   "execution_count": 22,
   "metadata": {},
   "outputs": [],
   "source": [
    "import logging\n",
    "import jieba"
   ]
  },
  {
   "cell_type": "code",
   "execution_count": 91,
   "metadata": {},
   "outputs": [],
   "source": [
    "fileTrainSeg = []"
   ]
  },
  {
   "cell_type": "code",
   "execution_count": 92,
   "metadata": {},
   "outputs": [],
   "source": [
    "for i in range((len(df))):\n",
    "    seglist = jieba.cut(df['text'][i])  \n",
    "#     print(\" \".join(seglist))\n",
    "    fileTrainSeg.append([\" \".join(list(jieba.cut(df['text'][i])))])"
   ]
  },
  {
   "cell_type": "code",
   "execution_count": 94,
   "metadata": {},
   "outputs": [],
   "source": [
    "fileSegWordDonePath ='../data/seperate_done.txt'\n",
    "with open(fileSegWordDonePath,'w') as fW:\n",
    "    for i in range(len(fileTrainSeg)):\n",
    "        fW.write(fileTrainSeg[i][0])\n",
    "        fW.write('\\n')"
   ]
  },
  {
   "cell_type": "markdown",
   "metadata": {},
   "source": [
    "## 載入分詞檔做訓練"
   ]
  },
  {
   "cell_type": "code",
   "execution_count": 95,
   "metadata": {},
   "outputs": [
    {
     "name": "stderr",
     "output_type": "stream",
     "text": [
      "2017-12-23 03:03:53,308 : INFO : 'pattern' package not found; tag filters are not available for English\n",
      "2017-12-23 03:03:53,313 : WARNING : consider setting layer size to a multiple of 4 for greater performance\n",
      "2017-12-23 03:03:53,313 : INFO : collecting all words and their counts\n",
      "2017-12-23 03:03:53,316 : INFO : PROGRESS: at sentence #0, processed 0 words, keeping 0 word types\n",
      "2017-12-23 03:03:53,454 : INFO : collected 25918 word types from a corpus of 378621 raw words and 38 sentences\n",
      "2017-12-23 03:03:53,455 : INFO : Loading a fresh vocabulary\n",
      "2017-12-23 03:03:53,481 : INFO : min_count=5 retains 4650 unique words (17% of original 25918, drops 21268)\n",
      "2017-12-23 03:03:53,482 : INFO : min_count=5 leaves 336751 word corpus (88% of original 378621, drops 41870)\n",
      "2017-12-23 03:03:53,502 : INFO : deleting the raw counts dictionary of 25918 items\n",
      "2017-12-23 03:03:53,504 : INFO : sample=0.001 downsamples 65 most-common words\n",
      "2017-12-23 03:03:53,505 : INFO : downsampling leaves estimated 255024 word corpus (75.7% of prior 336751)\n",
      "2017-12-23 03:03:53,506 : INFO : estimated required memory for 4650 words and 10 dimensions: 2697000 bytes\n",
      "2017-12-23 03:03:53,519 : INFO : resetting layer weights\n",
      "2017-12-23 03:03:53,581 : INFO : training model with 3 workers on 4650 vocabulary and 10 features, using sg=0 hs=0 sample=0.001 negative=5 window=5\n",
      "2017-12-23 03:03:54,552 : INFO : worker thread finished; awaiting finish of 2 more threads\n",
      "2017-12-23 03:03:54,554 : INFO : worker thread finished; awaiting finish of 1 more threads\n",
      "2017-12-23 03:03:54,558 : INFO : worker thread finished; awaiting finish of 0 more threads\n",
      "2017-12-23 03:03:54,559 : INFO : training on 1893105 raw words (1275773 effective words) took 1.0s, 1308088 effective words/s\n",
      "2017-12-23 03:03:54,561 : INFO : saving Word2Vec object under med250.model.bin, separately None\n",
      "2017-12-23 03:03:54,563 : INFO : not storing attribute syn0norm\n",
      "2017-12-23 03:03:54,564 : INFO : not storing attribute cum_table\n",
      "2017-12-23 03:03:54,578 : INFO : saved med250.model.bin\n"
     ]
    }
   ],
   "source": [
    "from gensim.models import word2vec\n",
    "import logging\n",
    "\n",
    "def vec():\n",
    "\n",
    "    logging.basicConfig(format='%(asctime)s : %(levelname)s : %(message)s', level=logging.INFO)\n",
    "    sentences = word2vec.Text8Corpus(\"../data/seperate_done.txt\")\n",
    "    model = word2vec.Word2Vec(sentences, size=10)\n",
    "\n",
    "    # Save our model.\n",
    "    model.save(\"med250.model.bin\")\n",
    "\n",
    "    # To load a model.\n",
    "    # model = word2vec.Word2Vec.load(\"your_model.bin\")\n",
    "    \n",
    "vec()"
   ]
  },
  {
   "cell_type": "code",
   "execution_count": 15,
   "metadata": {},
   "outputs": [],
   "source": [
    "# from gensim import models\n",
    "# import gensim\n",
    "# sentences = models.word2vec.LineSentence(\"../data/small_model.txt\")\n",
    "# model = models.word2vec.Word2Vec(sentences, size=10, window=5, min_count=5, workers=1)"
   ]
  },
  {
   "cell_type": "code",
   "execution_count": 96,
   "metadata": {},
   "outputs": [
    {
     "data": {
      "text/plain": [
       "1089"
      ]
     },
     "execution_count": 96,
     "metadata": {},
     "output_type": "execute_result"
    }
   ],
   "source": [
    "length = len(grouped_data)\n",
    "length"
   ]
  },
  {
   "cell_type": "code",
   "execution_count": 99,
   "metadata": {},
   "outputs": [
    {
     "name": "stderr",
     "output_type": "stream",
     "text": [
      "2017-12-23 03:05:48,461 : INFO : loading Word2Vec object from med250.model.bin\n",
      "2017-12-23 03:05:48,475 : INFO : loading wv recursively from med250.model.bin.wv.* with mmap=None\n",
      "2017-12-23 03:05:48,477 : INFO : setting ignored attribute syn0norm to None\n",
      "2017-12-23 03:05:48,478 : INFO : setting ignored attribute cum_table to None\n",
      "2017-12-23 03:05:48,479 : INFO : loaded med250.model.bin\n"
     ]
    }
   ],
   "source": [
    "model = word2vec.Word2Vec.load(\"med250.model.bin\")"
   ]
  },
  {
   "cell_type": "code",
   "execution_count": 102,
   "metadata": {},
   "outputs": [
    {
     "data": {
      "text/plain": [
       "array([-1.77673686, -0.01865516, -2.17800283, -0.50967389, -0.63324803,\n",
       "       -1.28513396, -0.06545687,  0.9026472 , -1.61018419,  0.11806323], dtype=float32)"
      ]
     },
     "execution_count": 102,
     "metadata": {},
     "output_type": "execute_result"
    }
   ],
   "source": [
    "model.wv['我']\n"
   ]
  },
  {
   "cell_type": "code",
   "execution_count": 117,
   "metadata": {},
   "outputs": [
    {
     "name": "stderr",
     "output_type": "stream",
     "text": [
      "Building prefix dict from /home/tp6han/gp_new/jieba_txt/dict.txt.big.txt ...\n",
      "2017-12-23 03:22:12,810 : DEBUG : Building prefix dict from /home/tp6han/gp_new/jieba_txt/dict.txt.big.txt ...\n",
      "Loading model from cache /tmp/jieba.u0ddb98113e9461fac3a7658d9e24e45e.cache\n",
      "2017-12-23 03:22:12,812 : DEBUG : Loading model from cache /tmp/jieba.u0ddb98113e9461fac3a7658d9e24e45e.cache\n",
      "Loading model cost 1.564 seconds.\n",
      "2017-12-23 03:22:14,376 : DEBUG : Loading model cost 1.564 seconds.\n",
      "Prefix dict has been built succesfully.\n",
      "2017-12-23 03:22:14,378 : DEBUG : Prefix dict has been built succesfully.\n"
     ]
    }
   ],
   "source": [
    "top10_vector = np.zeros(shape=(length,10))\n",
    "jieba.set_dictionary('jieba_txt/dict.txt.big.txt')\n",
    "jieba.load_userdict(\"jieba_txt/userdict.txt\")\n",
    "\n",
    "for i in range(length):\n",
    "    frequency = defaultdict(int)\n",
    "    for j in range(len(grouped_data.iloc[i][1])):\n",
    "        seglist = jieba.cut((grouped_data.iloc[i][1])[j])\n",
    "        texts = [word for word in seglist if word not in stopwordset]\n",
    "        for text in texts:\n",
    "            frequency[text] += 1\n",
    "            \n",
    "    a = sorted(frequency.items(), key=operator.itemgetter(1),reverse=True)\n",
    "    row = np.zeros(shape=(1,10))\n",
    "    vec = np.zeros(shape=(10,10))\n",
    "\n",
    "    r = 10 if len(a) >= 10 else len(a)\n",
    "    \n",
    "    for x in range(r):\n",
    "        if a[x][0] in model:\n",
    "            show = model.wv[a[x][0]]\n",
    "#             print(show)\n",
    "        else:\n",
    "            show = np.zeros(shape=(1,10))\n",
    "        vec[x] = show\n",
    "    top10_vector[i] = np.sum(vec,axis=0)"
   ]
  },
  {
   "cell_type": "code",
   "execution_count": 118,
   "metadata": {},
   "outputs": [
    {
     "data": {
      "text/plain": [
       "(1089, 10)"
      ]
     },
     "execution_count": 118,
     "metadata": {},
     "output_type": "execute_result"
    }
   ],
   "source": [
    "top10_vector.shape"
   ]
  },
  {
   "cell_type": "code",
   "execution_count": 121,
   "metadata": {},
   "outputs": [
    {
     "data": {
      "text/plain": [
       "array([[ -1.55475231e+01,   1.33039861e+00,  -1.67596185e+01,\n",
       "          1.28056386e+00,  -8.17674989e+00,  -4.66774284e+00,\n",
       "         -4.85303497e+00,   5.28552514e+00,  -1.76169015e+01,\n",
       "          1.52367278e+01],\n",
       "       [ -1.34475759e+01,   9.04911076e-01,  -1.93404279e+01,\n",
       "         -2.41772740e+00,  -5.60826528e+00,  -1.34217998e+01,\n",
       "          7.00256024e+00,   6.67532852e+00,  -1.35000029e+01,\n",
       "          9.47472851e+00],\n",
       "       [ -1.27298579e+01,   1.67615626e+00,  -1.81523109e+01,\n",
       "         -3.39368605e+00,  -8.05392225e+00,  -1.38386394e+01,\n",
       "          2.06732383e+00,   8.43027118e+00,  -1.75969543e+01,\n",
       "          7.39797142e+00],\n",
       "       [ -1.27891113e+01,  -2.57086130e-02,  -1.69530688e+01,\n",
       "         -3.96647520e+00,  -9.27212630e+00,  -1.30951231e+01,\n",
       "          5.83409508e+00,   8.64753144e+00,  -1.61800740e+01,\n",
       "          1.05129326e+01],\n",
       "       [ -1.45905932e+01,   7.64580049e+00,  -7.63335931e+00,\n",
       "         -4.26557828e+00,  -9.11364672e+00,  -9.26516009e+00,\n",
       "         -8.09108712e+00,   1.79051005e+01,  -2.26222263e+01,\n",
       "          2.10746799e+01],\n",
       "       [ -1.24949495e+01,   7.94812903e-01,  -2.07817917e+01,\n",
       "          9.64011669e-01,  -1.13488585e+00,  -7.67499329e+00,\n",
       "         -2.93061048e-01,   6.89601228e+00,  -1.58596617e+01,\n",
       "          1.03860926e+01],\n",
       "       [ -1.58224700e+01,   1.34947991e+00,  -1.91874685e+01,\n",
       "         -5.54391444e+00,  -6.58841698e+00,  -9.87497470e+00,\n",
       "          7.92182337e+00,   9.93075711e+00,  -1.70351399e+01,\n",
       "          9.53978710e+00],\n",
       "       [ -1.34877739e+01,  -4.47047370e-01,  -1.83482176e+01,\n",
       "         -4.65149194e+00,  -4.09216791e+00,  -1.48999867e+01,\n",
       "          3.35036674e+00,   6.86041388e+00,  -1.30846814e+01,\n",
       "          7.76831318e+00],\n",
       "       [ -4.86241668e+00,  -2.99669847e-01,  -9.21567333e+00,\n",
       "         -1.07981048e+00,  -7.89904326e-01,  -6.55465931e+00,\n",
       "          6.90863546e-01,   4.47305417e+00,  -3.31878948e+00,\n",
       "          6.28672826e+00],\n",
       "       [ -1.44640906e+01,   6.90248922e-01,  -2.04736649e+01,\n",
       "         -4.96511194e+00,  -9.28977722e+00,  -1.70914373e+01,\n",
       "          9.46481759e+00,   6.61767001e+00,  -1.58262542e+01,\n",
       "          7.21512863e+00],\n",
       "       [  0.00000000e+00,   0.00000000e+00,   0.00000000e+00,\n",
       "          0.00000000e+00,   0.00000000e+00,   0.00000000e+00,\n",
       "          0.00000000e+00,   0.00000000e+00,   0.00000000e+00,\n",
       "          0.00000000e+00],\n",
       "       [ -1.38484502e+00,  -6.15420900e-02,  -1.99897593e+00,\n",
       "          1.53173002e-01,  -4.84360605e-01,  -1.66189218e+00,\n",
       "          3.59905809e-02,   2.08964807e+00,  -5.89444384e-01,\n",
       "          1.71939826e+00],\n",
       "       [ -1.73856936e+01,   8.75061709e+00,  -1.13325936e+01,\n",
       "         -2.39530068e+00,  -6.91930597e+00,  -1.09793402e+01,\n",
       "         -1.05901393e+01,   9.32379307e+00,  -1.89774291e+01,\n",
       "          2.23947440e+01],\n",
       "       [ -8.91332534e+00,   5.89539406e+00,  -1.09264766e+01,\n",
       "         -5.69914677e+00,  -9.79178257e+00,  -1.02762241e+01,\n",
       "         -1.06369404e+01,   1.28008350e+01,  -9.16639437e+00,\n",
       "          1.20875328e+01],\n",
       "       [ -3.80058551e+00,   3.56981516e+00,  -3.78025353e-01,\n",
       "         -1.76711494e+00,  -4.99706626e+00,   2.34226465e-01,\n",
       "         -2.76540892e+00,   3.64267357e+00,  -3.72639257e+00,\n",
       "          7.15661299e+00],\n",
       "       [ -3.15755482e+00,  -2.53811615e+00,  -4.78823695e+00,\n",
       "          2.61424077e+00,  -1.14568977e+00,  -3.80048238e+00,\n",
       "         -1.21599657e+00,   5.39645027e+00,   2.68440351e+00,\n",
       "          5.60266665e+00],\n",
       "       [ -1.06879242e+01,  -8.81170347e-01,  -1.62853150e+01,\n",
       "         -1.55694424e+00,  -8.39916544e+00,  -1.21687088e+01,\n",
       "          9.14788437e+00,   3.38608456e+00,  -8.14880675e+00,\n",
       "          3.95023899e+00],\n",
       "       [ -1.23475605e+01,   4.12918259e-01,  -1.98179176e+01,\n",
       "         -3.93939645e+00,  -6.30010672e+00,  -1.44065961e+01,\n",
       "          7.22042483e+00,   9.00518468e+00,  -1.30904202e+01,\n",
       "          5.03225412e+00],\n",
       "       [ -3.81342649e+00,   9.77331080e-01,  -2.39143899e+00,\n",
       "         -1.86939974e+00,  -5.65132666e+00,  -6.13690042e+00,\n",
       "         -2.11410856e+00,   2.84557611e+00,  -2.60627478e+00,\n",
       "          2.14125389e+00],\n",
       "       [ -1.24461339e+01,   6.43033822e+00,  -1.69739571e+01,\n",
       "          2.68176318e+00,   9.72354006e-01,  -1.43171062e+01,\n",
       "         -3.87797033e+00,   9.26610506e+00,  -9.73572724e+00,\n",
       "          3.51127837e+00],\n",
       "       [ -1.01151108e+01,   3.19218649e+00,  -1.06837327e+01,\n",
       "          5.35447452e-01,  -6.58581286e+00,  -9.01513325e+00,\n",
       "         -2.71881206e+00,   1.48725197e+01,  -1.52498739e+01,\n",
       "          1.72942932e+01],\n",
       "       [ -2.97482464e+00,  -5.88342927e-01,  -4.73384452e+00,\n",
       "          5.46316542e-01,  -4.13122408e-01,  -4.13053364e+00,\n",
       "          1.09684184e+00,   1.84663774e+00,  -1.54868110e+00,\n",
       "          7.92098731e-01],\n",
       "       [ -3.93700984e+00,   4.74844847e+00,  -7.12175089e+00,\n",
       "          6.35356377e-02,  -2.58116152e+00,  -8.62871584e+00,\n",
       "         -7.57034631e-01,   9.27195787e+00,  -8.27185173e+00,\n",
       "          9.01723182e+00],\n",
       "       [ -3.97400706e+00,   3.43322802e+00,  -6.30788088e-01,\n",
       "         -1.63692963e+00,  -5.10515917e+00,   4.39855754e-02,\n",
       "         -2.83451574e+00,   3.95216142e+00,  -3.71709475e+00,\n",
       "          7.26690049e+00],\n",
       "       [ -1.18804371e+01,   1.16862056e+01,  -1.05121140e+01,\n",
       "         -3.20640603e+00,  -1.09555177e+01,  -9.67302188e+00,\n",
       "         -1.17137664e+01,   1.40241699e+01,  -1.34178068e+01,\n",
       "          1.83075303e+01],\n",
       "       [ -6.48149121e+00,   1.22511593e+00,  -1.24539418e+01,\n",
       "          1.07239347e+00,   4.78412211e-01,  -3.96915743e+00,\n",
       "         -2.95561403e+00,   2.76820576e+00,  -8.99703252e+00,\n",
       "          7.27090885e+00],\n",
       "       [ -7.10535961e+00,   1.08048201e+01,  -1.17785237e+01,\n",
       "         -1.84957657e+00,  -1.34554100e+01,  -1.02064118e+01,\n",
       "         -3.95718075e+00,   1.61612724e+01,  -1.94469041e+01,\n",
       "          2.21731356e+01],\n",
       "       [ -1.14878109e+01,  -1.43012685e+00,  -1.72992512e+01,\n",
       "         -2.05184660e+00,  -6.99799198e+00,  -1.46046654e+01,\n",
       "          5.89502672e+00,   1.05755511e+01,  -1.15487472e+01,\n",
       "          4.15657943e+00],\n",
       "       [ -4.91633683e+00,   2.42159290e+00,  -6.42849612e+00,\n",
       "         -1.37172242e+00,  -2.65029660e+00,  -4.83084720e+00,\n",
       "          1.89363493e+00,   2.40817505e+00,  -3.22392496e+00,\n",
       "          4.37887043e+00],\n",
       "       [ -1.18298659e+01,   6.82454241e+00,  -9.13270146e+00,\n",
       "         -7.03977431e+00,  -1.40464609e+01,  -4.10741949e+00,\n",
       "         -4.99216278e+00,   2.07624033e+01,  -1.70485878e+01,\n",
       "          1.74529692e+01],\n",
       "       [ -9.14287151e+00,   3.40709732e+00,  -1.94607048e+01,\n",
       "         -3.85916445e-01,  -2.12460057e+00,  -1.36315499e+01,\n",
       "          3.33355360e+00,   7.11287107e+00,  -1.14462277e+01,\n",
       "          6.48864266e+00],\n",
       "       [ -5.46543559e+00,   1.18620677e+00,  -1.12416771e+01,\n",
       "          7.55844392e-01,  -3.49155011e+00,  -8.78289802e+00,\n",
       "         -3.69113784e+00,   1.07398524e+01,  -8.60666496e+00,\n",
       "          7.34742197e+00],\n",
       "       [ -4.16764828e+00,  -4.57474493e+00,  -5.68247689e+00,\n",
       "          4.91713864e+00,  -1.17983155e+00,  -6.71849757e+00,\n",
       "         -1.14766321e+00,   5.73624806e+00,   6.15845412e+00,\n",
       "          6.56688550e+00],\n",
       "       [ -1.12386122e+01,   2.91602308e+00,  -1.01403771e+01,\n",
       "         -3.31747115e+00,  -3.75058552e+00,  -7.29898846e+00,\n",
       "         -9.17163115e-01,   1.23709788e+01,  -1.55338684e+01,\n",
       "          1.41919709e+01],\n",
       "       [ -1.14366850e+01,   7.44236824e+00,  -1.43672494e+01,\n",
       "         -2.35702309e+00,  -1.18451241e+01,  -1.82128530e+01,\n",
       "         -1.80109255e-01,   7.86462554e+00,  -1.77034441e+01,\n",
       "          9.69636451e+00],\n",
       "       [ -1.09114288e+01,   2.13726251e+00,  -1.17455351e+01,\n",
       "         -2.51302246e-01,  -2.18101494e-01,  -1.08312828e+01,\n",
       "         -9.78786654e+00,   1.41308571e+01,  -1.85245442e+01,\n",
       "          1.62721799e+01],\n",
       "       [ -1.58767675e+01,   5.30854894e+00,  -1.71674628e+01,\n",
       "         -3.94493310e+00,  -8.71374791e+00,  -4.40715489e+00,\n",
       "         -3.63163745e+00,   8.83405693e+00,  -1.76189334e+01,\n",
       "          1.76138586e+01],\n",
       "       [ -1.59862504e+01,   3.98621904e-02,  -1.71815895e+01,\n",
       "         -4.75339922e+00,  -7.43410355e+00,  -9.74451804e+00,\n",
       "          2.86067082e+00,   7.11984714e+00,  -1.51419948e+01,\n",
       "          1.24493282e+01],\n",
       "       [ -6.50367618e-01,   8.67518365e-01,  -1.81371033e+00,\n",
       "          2.44234055e-01,  -3.70824426e-01,  -2.10995245e+00,\n",
       "         -4.76316214e-01,   9.22393858e-01,  -2.07755852e+00,\n",
       "          9.56268430e-01],\n",
       "       [ -1.32720473e+01,  -2.54170315e+00,  -1.98734125e+01,\n",
       "         -8.52879928e-01,  -3.95015149e+00,  -7.28119086e+00,\n",
       "          5.99171437e-01,   9.83766919e+00,  -1.56337707e+01,\n",
       "          7.81428288e+00],\n",
       "       [ -4.13059741e-01,  -2.25843146e-01,  -7.88018346e-01,\n",
       "          1.05227277e-01,  -3.43749642e-01,  -7.67330885e-01,\n",
       "         -7.85059258e-02,   7.40930378e-01,   5.52982762e-02,\n",
       "          6.76777422e-01],\n",
       "       [ -8.62905379e+00,   2.17574275e+00,  -1.69244072e+01,\n",
       "         -1.80251825e+00,  -9.75300272e+00,  -1.10956264e+01,\n",
       "          3.07874172e+00,   1.07414988e+01,  -1.36953893e+01,\n",
       "          9.81725278e+00],\n",
       "       [ -8.07258867e+00,   6.57426610e+00,  -1.67017800e+01,\n",
       "         -7.18114920e-01,  -4.90179531e+00,  -1.54693376e+01,\n",
       "          1.40532837e+00,   1.38214397e+01,  -1.74505649e+01,\n",
       "          1.03637412e+01],\n",
       "       [ -1.39488174e+01,   2.19879398e+00,  -5.67716843e+00,\n",
       "         -1.89779082e+00,  -9.42922639e+00,  -8.63429032e+00,\n",
       "         -5.50149501e+00,   7.88641785e+00,  -1.02221043e+01,\n",
       "          1.18482382e+01],\n",
       "       [ -1.06813818e+01,  -9.76079915e-01,  -1.51668361e+01,\n",
       "         -2.70170275e+00,  -9.69596007e+00,  -8.34909406e+00,\n",
       "         -8.67961720e-01,   1.17508999e+01,  -1.46529076e+01,\n",
       "          7.29652131e+00],\n",
       "       [ -4.09378728e+00,  -1.00596690e+00,  -1.26071446e+01,\n",
       "          1.43502687e+00,  -3.64372210e-01,  -8.53702062e+00,\n",
       "          1.53816547e+00,   8.17749986e+00,  -7.40451252e+00,\n",
       "          5.22605884e+00],\n",
       "       [ -1.08323288e+01,  -2.83294610e+00,  -2.01427219e+01,\n",
       "         -9.89506537e-01,  -7.21509461e+00,  -1.41154874e+01,\n",
       "          1.09658450e+01,   5.78871920e+00,  -9.52749194e+00,\n",
       "          1.61563858e+00],\n",
       "       [ -9.21002308e+00,  -1.00315791e+00,  -2.28100695e+01,\n",
       "          2.84395792e+00,  -4.11774784e-01,  -8.82785690e+00,\n",
       "         -3.41284245e-01,   6.63307011e+00,  -1.48700221e+01,\n",
       "          1.06403838e+01],\n",
       "       [ -1.46865066e+01,  -6.50822625e-01,  -1.89454206e+01,\n",
       "         -4.07097583e+00,  -4.89258987e+00,  -1.37801763e+01,\n",
       "          6.77582751e+00,   4.75303178e+00,  -9.16488555e+00,\n",
       "          4.01020197e+00],\n",
       "       [ -1.04203753e+01,   1.37670510e+00,  -7.69416159e+00,\n",
       "          1.73150523e+00,  -4.97910313e+00,  -6.89402196e+00,\n",
       "         -9.50077513e+00,   6.46123680e+00,  -1.27454858e+01,\n",
       "          1.03167253e+01],\n",
       "       [ -1.21233881e+01,   1.97610010e+00,  -8.17343193e+00,\n",
       "          3.13676828e+00,  -5.28196639e+00,  -6.06142369e+00,\n",
       "         -6.61386682e+00,   5.89932941e+00,  -1.24443234e+01,\n",
       "          1.96478629e+01],\n",
       "       [ -1.05235409e+01,  -6.99451591e+00,  -1.37512890e+01,\n",
       "          6.60061495e+00,  -5.61793584e+00,  -1.43479925e+01,\n",
       "         -8.41353729e+00,   1.71101758e+01,   1.07801122e+01,\n",
       "          1.41221348e+01],\n",
       "       [ -1.39353213e+01,   2.70240040e+00,  -1.33316290e+01,\n",
       "          1.11346075e+00,  -4.53186061e+00,  -6.60849826e+00,\n",
       "         -9.03073421e+00,   8.62972732e+00,  -1.87133952e+01,\n",
       "          1.96283481e+01],\n",
       "       [ -9.54459582e+00,  -7.78543174e-01,  -1.77204942e+01,\n",
       "         -8.79332144e-01,  -5.23359854e+00,  -1.15971737e+01,\n",
       "          4.69560664e+00,   8.47286353e+00,  -1.26781685e+01,\n",
       "          5.83612630e+00],\n",
       "       [ -1.06920996e+01,   7.07577599e+00,  -1.78434434e+01,\n",
       "         -2.96558664e+00,  -5.92461319e+00,  -1.43969167e+01,\n",
       "          2.29266650e+00,   8.15050924e+00,  -1.28140291e+01,\n",
       "          1.08494730e+01],\n",
       "       [ -1.22232139e+01,   2.66913344e+00,  -1.70061820e+01,\n",
       "         -3.26018156e+00,  -6.58118422e+00,  -1.44715852e+01,\n",
       "         -8.48940611e-01,   7.96985644e+00,  -1.51086484e+01,\n",
       "          9.68245514e+00],\n",
       "       [ -7.65134591e+00,   5.50832553e+00,  -1.54579108e+01,\n",
       "          1.13726179e+00,  -3.27942265e+00,  -1.13175163e+01,\n",
       "         -5.03373592e+00,   1.05494329e+01,  -1.44780614e+01,\n",
       "          1.44633559e+01],\n",
       "       [ -1.33655137e+01,   2.36724724e+00,  -1.67750354e+01,\n",
       "          6.51423097e+00,  -3.97455193e-01,  -1.08757376e+01,\n",
       "         -1.32644707e+01,   4.04291975e+00,  -1.91841128e+01,\n",
       "          1.55129736e+01],\n",
       "       [ -6.73533449e+00,   4.26164411e+00,  -1.59169140e+01,\n",
       "         -1.86304603e-01,  -2.79437512e+00,  -1.08878665e+01,\n",
       "          4.39630815e+00,   7.93933684e+00,  -1.22474750e+01,\n",
       "          7.21608551e+00],\n",
       "       [ -1.16100262e+01,   4.84194163e+00,  -1.84526947e+01,\n",
       "         -9.28891011e-01,  -6.27269876e+00,  -1.11602321e+01,\n",
       "         -1.28653530e+01,   8.34019116e+00,  -1.87788689e+01,\n",
       "          1.41682172e+01],\n",
       "       [ -2.41629303e-01,   8.86011273e-02,  -8.74973834e-01,\n",
       "          4.31042910e-01,  -3.65564853e-01,  -7.65753686e-01,\n",
       "         -8.13653693e-02,   1.21017635e+00,  -5.80502212e-01,\n",
       "          1.60986376e+00],\n",
       "       [ -7.05485697e+00,  -2.24235089e+00,  -9.92954257e+00,\n",
       "         -1.22183658e+00,  -3.68093149e+00,  -7.84135556e+00,\n",
       "          2.35576283e+00,   6.35336214e+00,  -5.24648623e+00,\n",
       "          3.64327394e+00],\n",
       "       [ -6.87009227e+00,   6.76303944e+00,  -2.11181231e+01,\n",
       "          4.39829037e-01,  -6.56970023e+00,  -1.86124350e+01,\n",
       "         -1.15222160e+01,   7.80264460e+00,  -1.59141105e+01,\n",
       "          1.25513318e+01],\n",
       "       [ -8.91530091e+00,   4.40772700e+00,  -1.29878064e+01,\n",
       "          6.46791436e-01,  -7.07952799e+00,  -9.24419597e+00,\n",
       "         -2.80501463e+00,   1.19975560e+01,  -1.42374587e+01,\n",
       "          1.40561850e+01],\n",
       "       [ -1.05004490e+01,   4.97584422e-01,  -2.33894199e+01,\n",
       "         -2.17840025e+00,  -5.90161555e+00,  -1.93947033e+01,\n",
       "          7.34734499e+00,   4.55027208e+00,  -1.44385142e+01,\n",
       "          4.41761436e+00],\n",
       "       [ -1.35292043e+01,   3.95687582e+00,  -7.39152578e+00,\n",
       "          4.46359545e+00,  -9.70102169e+00,  -1.22232029e+01,\n",
       "         -1.16635734e+01,   8.93313739e+00,  -1.73763717e+01,\n",
       "          1.26265668e+01],\n",
       "       [ -1.35108171e+01,   2.17755917e+00,  -1.09820495e+01,\n",
       "         -3.15482619e+00,  -5.99708671e+00,  -1.18004818e+01,\n",
       "         -6.70468320e+00,   9.97463106e+00,  -1.33509083e+01,\n",
       "          1.43172453e+01],\n",
       "       [ -1.26285982e+01,  -4.16495584e-01,  -1.63002826e+01,\n",
       "         -3.50501133e+00,  -6.55731648e+00,  -1.25039085e+01,\n",
       "          2.30325726e+00,   8.27245679e+00,  -1.47023023e+01,\n",
       "          6.76674995e+00],\n",
       "       [ -7.79381406e+00,   4.12754815e+00,  -1.01211921e+01,\n",
       "         -8.74808649e-01,  -5.20228540e+00,  -7.91429652e+00,\n",
       "         -9.26924247e-01,   1.52561837e+01,  -1.35255144e+01,\n",
       "          1.29515253e+01],\n",
       "       [ -4.74809572e-01,   7.89689188e-01,  -1.69479303e+01,\n",
       "          3.72751391e+00,  -1.04139905e+01,  -1.43358680e+01,\n",
       "         -3.51073595e+00,   7.05559236e+00,  -1.12143708e+01,\n",
       "          1.88015023e+01],\n",
       "       [ -9.26196519e+00,   4.37939663e+00,  -1.44339926e+01,\n",
       "         -1.91059393e+00,  -8.09418377e+00,  -8.60275358e+00,\n",
       "         -5.78323833e+00,   1.09958655e+01,  -9.90398090e+00,\n",
       "          1.51363841e+01],\n",
       "       [ -5.02973935e+00,   3.88424588e+00,  -1.54369368e+01,\n",
       "          2.88429603e+00,  -5.12620266e+00,  -1.25047926e+01,\n",
       "         -5.39651704e+00,   4.85617629e+00,  -8.93150427e+00,\n",
       "          9.33644605e+00],\n",
       "       [  0.00000000e+00,   0.00000000e+00,   0.00000000e+00,\n",
       "          0.00000000e+00,   0.00000000e+00,   0.00000000e+00,\n",
       "          0.00000000e+00,   0.00000000e+00,   0.00000000e+00,\n",
       "          0.00000000e+00],\n",
       "       [ -1.22941164e+01,   4.28218351e+00,  -1.13248181e+01,\n",
       "         -4.31768506e+00,  -9.07666332e+00,  -8.41532660e+00,\n",
       "         -7.67561693e-01,   8.69191988e+00,  -7.65954139e+00,\n",
       "          1.31046494e+01],\n",
       "       [ -1.41705621e+01,   3.13680869e+00,  -1.10459292e+01,\n",
       "         -1.49944352e+00,  -6.03122362e+00,  -5.86627099e+00,\n",
       "         -3.08741483e+00,   1.26402070e+01,  -1.74197853e+01,\n",
       "          1.67495318e+01],\n",
       "       [ -9.86645062e+00,   3.98505894e+00,  -1.93205619e+01,\n",
       "         -4.22031940e+00,  -5.94615071e+00,  -1.43810620e+01,\n",
       "          3.49483044e+00,   1.03691268e+01,  -1.64763078e+01,\n",
       "          1.01611635e+01],\n",
       "       [ -5.63208815e+00,   5.55744070e+00,  -7.99975228e+00,\n",
       "         -1.87100033e+00,  -3.14232081e+00,  -7.74584699e+00,\n",
       "          2.18921463e+00,   5.40734770e+00,  -6.28101239e+00,\n",
       "          1.06749459e+01],\n",
       "       [ -1.11974517e+01,   2.35017264e+00,  -2.33578284e+01,\n",
       "          6.20513861e+00,  -5.98054823e+00,  -9.59045557e+00,\n",
       "         -1.30561788e+01,   4.95871970e+00,  -2.06184303e+01,\n",
       "          1.31210792e+01],\n",
       "       [ -2.09961128e+00,  -8.30494106e-01,  -3.96096826e+00,\n",
       "          5.94252221e-01,  -9.46365640e-01,  -2.81779557e+00,\n",
       "          6.27714935e-01,   2.37680984e+00,  -1.13571187e+00,\n",
       "          1.65413570e+00],\n",
       "       [ -1.65386377e+01,   6.57163606e+00,  -1.50809661e+01,\n",
       "         -9.36578900e-01,  -5.20910989e+00,  -1.27485449e+01,\n",
       "         -4.64991860e+00,   6.86307054e+00,  -1.95347632e+01,\n",
       "          1.75121484e+01],\n",
       "       [ -7.14050862e+00,   3.92178920e+00,  -8.57975757e+00,\n",
       "         -1.37483706e+00,  -4.58697599e+00,  -5.87239999e+00,\n",
       "         -1.84508325e+00,   1.44896835e+01,  -1.07204001e+01,\n",
       "          1.32292878e+01],\n",
       "       [ -4.48069632e-01,   2.73390031e+00,  -5.65642357e-01,\n",
       "          5.81233688e-02,  -1.56528604e+00,  -2.23516941e+00,\n",
       "         -8.02120805e-01,   2.33966994e+00,  -2.53512001e+00,\n",
       "          2.46949792e+00],\n",
       "       [ -7.77014616e+00,  -2.45966301e+00,  -1.52501954e+01,\n",
       "          2.27395993e+00,  -4.49500866e-01,  -2.57330763e+00,\n",
       "         -1.70385117e+00,   4.34305325e+00,  -7.23217043e+00,\n",
       "          1.01032414e+01],\n",
       "       [ -9.60082260e+00,   1.15571340e+00,  -1.22288162e+01,\n",
       "          7.56978661e-01,  -8.00776362e+00,  -1.08077963e+01,\n",
       "         -2.22471083e+00,   1.16169809e+01,  -1.62607227e+01,\n",
       "          1.25456671e+01],\n",
       "       [  4.57733780e-01,   1.35609233e+00,  -1.43411708e+00,\n",
       "          1.01788414e+00,   3.50653827e-02,  -4.85286921e-01,\n",
       "         -1.30978012e+00,   1.98198593e+00,  -1.91188574e+00,\n",
       "          3.16730070e+00],\n",
       "       [ -1.15544577e+01,  -8.43657769e-01,  -2.62555391e+01,\n",
       "         -1.81635385e+00,  -1.48158377e+00,  -1.18711594e+01,\n",
       "          1.22681662e+00,   4.55040461e+00,  -1.48967342e+01,\n",
       "          8.46510176e+00],\n",
       "       [ -7.42771428e+00,  -9.04584234e-01,  -6.85804051e+00,\n",
       "         -1.77355707e-01,  -2.60106954e+00,  -5.16979393e+00,\n",
       "          2.72875921e+00,   7.46498922e+00,  -3.07041247e+00,\n",
       "          9.12472865e+00],\n",
       "       [ -1.46373371e+01,   6.14814369e+00,  -1.17706447e+01,\n",
       "         -4.12272753e+00,  -8.02506109e+00,  -8.32998854e+00,\n",
       "          7.38548478e-01,   1.02681756e+01,  -1.02510124e+01,\n",
       "          1.39109243e+01],\n",
       "       [ -9.61766192e+00,   1.20771002e+01,  -1.30206438e+01,\n",
       "         -4.05292136e+00,  -1.10251091e+01,  -4.77065651e+00,\n",
       "         -7.28097247e+00,   1.72232139e+01,  -2.07340036e+01,\n",
       "          2.64009303e+01],\n",
       "       [ -1.29233353e+01,   4.82070997e-01,  -1.82090933e+01,\n",
       "         -2.74853805e+00,  -3.31392046e+00,  -1.15768191e+01,\n",
       "          1.94597374e+00,   5.65607023e+00,  -1.45139666e+01,\n",
       "          9.62489243e+00],\n",
       "       [ -5.46014684e+00,  -2.47795954e+00,  -5.68864882e+00,\n",
       "         -2.21364971e+00,  -3.32114100e+00,  -3.76015437e+00,\n",
       "          2.56080529e+00,   1.93895909e+00,  -2.95323902e+00,\n",
       "          1.41530335e-01],\n",
       "       [ -1.34773275e+01,   2.43471537e+00,  -8.74765393e+00,\n",
       "         -6.17117258e+00,  -6.66543387e+00,  -6.75522289e+00,\n",
       "          2.05522175e+00,   1.34183725e+01,  -1.57246747e+01,\n",
       "          1.34853242e+01],\n",
       "       [ -1.32314158e+01,  -3.00433907e+00,  -1.32868275e+01,\n",
       "         -2.35398478e+00,  -7.15961306e+00,  -9.39011422e+00,\n",
       "          6.24406432e+00,   7.97612134e+00,  -9.17582351e+00,\n",
       "          2.66866735e+00],\n",
       "       [ -7.44897813e+00,   3.40685703e+00,  -1.16698343e+01,\n",
       "          6.66899720e-01,  -2.85587851e+00,  -9.91425271e+00,\n",
       "          2.35601139e+00,   3.99367186e+00,  -6.29004566e+00,\n",
       "          5.32741548e+00],\n",
       "       [ -2.11402830e+01,   5.24587665e+00,  -8.73868325e+00,\n",
       "         -1.32763720e+00,   2.23777198e+00,  -2.05521267e+00,\n",
       "         -8.33623616e+00,   1.44393235e+01,  -1.40202888e+01,\n",
       "          1.37306612e+01],\n",
       "       [ -1.34666643e+01,   3.15040150e+00,  -1.52278213e+01,\n",
       "         -1.67223342e+00,  -6.82019211e+00,  -9.06886485e+00,\n",
       "          2.49794553e+00,   1.09975856e+01,  -1.57296824e+01,\n",
       "          1.07574153e+01],\n",
       "       [ -1.05492535e+01,   2.42221017e+00,  -2.13569983e+01,\n",
       "         -3.97745892e+00,  -5.30867959e+00,  -1.48097370e+01,\n",
       "          3.26863978e+00,   7.07774335e+00,  -1.34151411e+01,\n",
       "          8.49883303e+00],\n",
       "       [ -1.11998452e+01,   1.24532947e+00,  -1.57903752e+01,\n",
       "         -2.87768564e+00,  -4.24797538e+00,  -1.15972626e+01,\n",
       "          4.02185128e+00,   5.39800483e+00,  -7.43346733e+00,\n",
       "          8.94724557e+00],\n",
       "       [  0.00000000e+00,   0.00000000e+00,   0.00000000e+00,\n",
       "          0.00000000e+00,   0.00000000e+00,   0.00000000e+00,\n",
       "          0.00000000e+00,   0.00000000e+00,   0.00000000e+00,\n",
       "          0.00000000e+00],\n",
       "       [ -1.43506149e+00,   1.53054687e+00,  -2.38930351e+00,\n",
       "          4.27821916e-01,  -8.03110451e-01,  -4.82592854e+00,\n",
       "         -3.03549693e-01,   4.28856254e+00,  -3.04714653e+00,\n",
       "          4.16425374e+00]])"
      ]
     },
     "execution_count": 121,
     "metadata": {},
     "output_type": "execute_result"
    }
   ],
   "source": [
    "top10_vector[:100]"
   ]
  },
  {
   "cell_type": "markdown",
   "metadata": {},
   "source": [
    "# k-means clustering"
   ]
  },
  {
   "cell_type": "code",
   "execution_count": 123,
   "metadata": {},
   "outputs": [
    {
     "name": "stdout",
     "output_type": "stream",
     "text": [
      "分群結果 前10：\n",
      "[2 1 1 1 2 1 1 1 0 1]\n",
      "---\n"
     ]
    }
   ],
   "source": [
    "from sklearn import cluster, datasets\n",
    "\n",
    "# KMeans 演算法\n",
    "kmeans_fit = cluster.KMeans(n_clusters = 3,random_state=1170).fit(top10_vector)\n",
    "\n",
    "# 印出分群結果\n",
    "cluster_labels = kmeans_fit.labels_\n",
    "print(\"分群結果 前10：\")\n",
    "print(cluster_labels[:10])\n",
    "print(\"---\")"
   ]
  },
  {
   "cell_type": "code",
   "execution_count": 124,
   "metadata": {},
   "outputs": [
    {
     "data": {
      "text/plain": [
       "1089"
      ]
     },
     "execution_count": 124,
     "metadata": {},
     "output_type": "execute_result"
    }
   ],
   "source": [
    "len(cluster_labels)"
   ]
  },
  {
   "cell_type": "code",
   "execution_count": 125,
   "metadata": {},
   "outputs": [
    {
     "data": {
      "text/plain": [
       "{0: 239, 1: 425, 2: 425}"
      ]
     },
     "execution_count": 125,
     "metadata": {},
     "output_type": "execute_result"
    }
   ],
   "source": [
    "unique, counts = np.unique(cluster_labels, return_counts=True)\n",
    "dict(zip(unique, counts))"
   ]
  },
  {
   "cell_type": "code",
   "execution_count": null,
   "metadata": {},
   "outputs": [],
   "source": []
  },
  {
   "cell_type": "code",
   "execution_count": 126,
   "metadata": {},
   "outputs": [],
   "source": [
    "cluster_done = grouped_data\n",
    "cluster_done['category'] = cluster_labels"
   ]
  },
  {
   "cell_type": "code",
   "execution_count": 127,
   "metadata": {},
   "outputs": [],
   "source": [
    "cluster_done = cluster_done.sort_values(by='category')\n",
    "# t = t.drop('from',1)"
   ]
  },
  {
   "cell_type": "code",
   "execution_count": 128,
   "metadata": {},
   "outputs": [
    {
     "data": {
      "text/html": [
       "<div>\n",
       "<style scoped>\n",
       "    .dataframe tbody tr th:only-of-type {\n",
       "        vertical-align: middle;\n",
       "    }\n",
       "\n",
       "    .dataframe tbody tr th {\n",
       "        vertical-align: top;\n",
       "    }\n",
       "\n",
       "    .dataframe thead th {\n",
       "        text-align: right;\n",
       "    }\n",
       "</style>\n",
       "<table border=\"1\" class=\"dataframe\">\n",
       "  <thead>\n",
       "    <tr style=\"text-align: right;\">\n",
       "      <th></th>\n",
       "      <th>from</th>\n",
       "      <th>text</th>\n",
       "      <th>category</th>\n",
       "    </tr>\n",
       "  </thead>\n",
       "  <tbody>\n",
       "    <tr>\n",
       "      <th>0</th>\n",
       "      <td>1209466565772041</td>\n",
       "      <td>[@@, 嘿, 尼哥]</td>\n",
       "      <td>0</td>\n",
       "    </tr>\n",
       "    <tr>\n",
       "      <th>1</th>\n",
       "      <td>u45090d416a11dc11247806b93868c878</td>\n",
       "      <td>[？？？？？？, 有吧, 好神奇的功能, 你覺得呢]</td>\n",
       "      <td>0</td>\n",
       "    </tr>\n",
       "    <tr>\n",
       "      <th>2</th>\n",
       "      <td>u4651015fc4e3c0006c25c6417b4c6708</td>\n",
       "      <td>[哈囉, 呃, 哈囉]</td>\n",
       "      <td>0</td>\n",
       "    </tr>\n",
       "    <tr>\n",
       "      <th>3</th>\n",
       "      <td>u465bc401e917e682dacc95f78d48bcb2</td>\n",
       "      <td>[幹, 如何 要做愛嗎, 我叫王希銘, 借錢要還 誰還要借, 你真的是女生喔= =, 我也是...</td>\n",
       "      <td>0</td>\n",
       "    </tr>\n",
       "    <tr>\n",
       "      <th>4</th>\n",
       "      <td>1251358191561599</td>\n",
       "      <td>[Hi]</td>\n",
       "      <td>0</td>\n",
       "    </tr>\n",
       "  </tbody>\n",
       "</table>\n",
       "</div>"
      ],
      "text/plain": [
       "                                from  \\\n",
       "0                   1209466565772041   \n",
       "1  u45090d416a11dc11247806b93868c878   \n",
       "2  u4651015fc4e3c0006c25c6417b4c6708   \n",
       "3  u465bc401e917e682dacc95f78d48bcb2   \n",
       "4                   1251358191561599   \n",
       "\n",
       "                                                text  category  \n",
       "0                                        [@@, 嘿, 尼哥]         0  \n",
       "1                         [？？？？？？, 有吧, 好神奇的功能, 你覺得呢]         0  \n",
       "2                                        [哈囉, 呃, 哈囉]         0  \n",
       "3  [幹, 如何 要做愛嗎, 我叫王希銘, 借錢要還 誰還要借, 你真的是女生喔= =, 我也是...         0  \n",
       "4                                               [Hi]         0  "
      ]
     },
     "execution_count": 128,
     "metadata": {},
     "output_type": "execute_result"
    }
   ],
   "source": [
    "cluster_done = cluster_done.reset_index(drop=True)\n",
    "cluster_done.head()"
   ]
  },
  {
   "cell_type": "code",
   "execution_count": 129,
   "metadata": {},
   "outputs": [
    {
     "data": {
      "text/plain": [
       "from        1089\n",
       "text        1089\n",
       "category    1089\n",
       "dtype: int64"
      ]
     },
     "execution_count": 129,
     "metadata": {},
     "output_type": "execute_result"
    }
   ],
   "source": [
    "cluster_done.count()\n",
    "# small_clustered = cluster_done[6000:6300].reset_index(drop=True)"
   ]
  },
  {
   "cell_type": "code",
   "execution_count": 130,
   "metadata": {},
   "outputs": [],
   "source": [
    "cluster_done.to_csv('../data/k_means_result2.csv',encoding='utf-8-sig',index=False)"
   ]
  },
  {
   "cell_type": "markdown",
   "metadata": {},
   "source": [
    "## make dictionary = { from : category }"
   ]
  },
  {
   "cell_type": "code",
   "execution_count": 131,
   "metadata": {},
   "outputs": [],
   "source": [
    "from_category = {}\n",
    "for i, row in cluster_done.iterrows():\n",
    "    from_category[row['from']] = row['category']"
   ]
  },
  {
   "cell_type": "code",
   "execution_count": 132,
   "metadata": {},
   "outputs": [
    {
     "data": {
      "text/plain": [
       "1089"
      ]
     },
     "execution_count": 132,
     "metadata": {},
     "output_type": "execute_result"
    }
   ],
   "source": [
    "len(from_category)"
   ]
  },
  {
   "cell_type": "markdown",
   "metadata": {},
   "source": [
    "## groupby room "
   ]
  },
  {
   "cell_type": "code",
   "execution_count": 133,
   "metadata": {},
   "outputs": [],
   "source": [
    "df2 = df.copy()\n",
    "df2 = df2.drop(['time','to'], axis=1)"
   ]
  },
  {
   "cell_type": "code",
   "execution_count": 134,
   "metadata": {},
   "outputs": [],
   "source": [
    "df2['category'] = df2['from'].map(from_category)"
   ]
  },
  {
   "cell_type": "code",
   "execution_count": 135,
   "metadata": {},
   "outputs": [
    {
     "data": {
      "text/plain": [
       "from        100000\n",
       "text        100000\n",
       "room        100000\n",
       "category    100000\n",
       "dtype: int64"
      ]
     },
     "execution_count": 135,
     "metadata": {},
     "output_type": "execute_result"
    }
   ],
   "source": [
    "df2.head()\n",
    "df2 = df2.dropna(axis=0)\n",
    "df2.count()\n"
   ]
  },
  {
   "cell_type": "code",
   "execution_count": 136,
   "metadata": {},
   "outputs": [
    {
     "data": {
      "text/html": [
       "<div>\n",
       "<style scoped>\n",
       "    .dataframe tbody tr th:only-of-type {\n",
       "        vertical-align: middle;\n",
       "    }\n",
       "\n",
       "    .dataframe tbody tr th {\n",
       "        vertical-align: top;\n",
       "    }\n",
       "\n",
       "    .dataframe thead th {\n",
       "        text-align: right;\n",
       "    }\n",
       "</style>\n",
       "<table border=\"1\" class=\"dataframe\">\n",
       "  <thead>\n",
       "    <tr style=\"text-align: right;\">\n",
       "      <th></th>\n",
       "      <th>from</th>\n",
       "      <th>text</th>\n",
       "      <th>room</th>\n",
       "      <th>category</th>\n",
       "    </tr>\n",
       "  </thead>\n",
       "  <tbody>\n",
       "    <tr>\n",
       "      <th>0</th>\n",
       "      <td>ud4097fbb4471c8c54512814bf0182e03</td>\n",
       "      <td>wd</td>\n",
       "      <td>8aee77a7-1d90-4d0f-b3c3-3f7b94a90e36</td>\n",
       "      <td>1</td>\n",
       "    </tr>\n",
       "    <tr>\n",
       "      <th>1</th>\n",
       "      <td>ud4097fbb4471c8c54512814bf0182e03</td>\n",
       "      <td>嗨嗨</td>\n",
       "      <td>fe214cfc-22d1-4736-92e7-d133190142b8</td>\n",
       "      <td>1</td>\n",
       "    </tr>\n",
       "    <tr>\n",
       "      <th>2</th>\n",
       "      <td>u96e826dccd3c9db56d684a5ddffc3154</td>\n",
       "      <td>蛤？</td>\n",
       "      <td>fe214cfc-22d1-4736-92e7-d133190142b8</td>\n",
       "      <td>1</td>\n",
       "    </tr>\n",
       "    <tr>\n",
       "      <th>3</th>\n",
       "      <td>ud4097fbb4471c8c54512814bf0182e03</td>\n",
       "      <td>你是第二個使用者ＱＱ</td>\n",
       "      <td>fe214cfc-22d1-4736-92e7-d133190142b8</td>\n",
       "      <td>1</td>\n",
       "    </tr>\n",
       "    <tr>\n",
       "      <th>4</th>\n",
       "      <td>u96e826dccd3c9db56d684a5ddffc3154</td>\n",
       "      <td>哈哈哈哈哈哈哈</td>\n",
       "      <td>fe214cfc-22d1-4736-92e7-d133190142b8</td>\n",
       "      <td>1</td>\n",
       "    </tr>\n",
       "  </tbody>\n",
       "</table>\n",
       "</div>"
      ],
      "text/plain": [
       "                                from        text  \\\n",
       "0  ud4097fbb4471c8c54512814bf0182e03          wd   \n",
       "1  ud4097fbb4471c8c54512814bf0182e03          嗨嗨   \n",
       "2  u96e826dccd3c9db56d684a5ddffc3154          蛤？   \n",
       "3  ud4097fbb4471c8c54512814bf0182e03  你是第二個使用者ＱＱ   \n",
       "4  u96e826dccd3c9db56d684a5ddffc3154     哈哈哈哈哈哈哈   \n",
       "\n",
       "                                   room  category  \n",
       "0  8aee77a7-1d90-4d0f-b3c3-3f7b94a90e36         1  \n",
       "1  fe214cfc-22d1-4736-92e7-d133190142b8         1  \n",
       "2  fe214cfc-22d1-4736-92e7-d133190142b8         1  \n",
       "3  fe214cfc-22d1-4736-92e7-d133190142b8         1  \n",
       "4  fe214cfc-22d1-4736-92e7-d133190142b8         1  "
      ]
     },
     "execution_count": 136,
     "metadata": {},
     "output_type": "execute_result"
    }
   ],
   "source": [
    "df2.head()"
   ]
  },
  {
   "cell_type": "code",
   "execution_count": null,
   "metadata": {},
   "outputs": [],
   "source": []
  },
  {
   "cell_type": "code",
   "execution_count": 137,
   "metadata": {},
   "outputs": [],
   "source": [
    "p1 = df2.groupby('room')['from'].aggregate(lambda x: set(x)).reset_index()\n",
    "p2 = df2.groupby('room')['category'].aggregate(lambda x: set(x)).reset_index()\n",
    "c = df2.groupby('room')['text'].agg(['count']).reset_index()\n",
    "t = df2.groupby('room')['text'].apply(list).reset_index()"
   ]
  },
  {
   "cell_type": "code",
   "execution_count": 138,
   "metadata": {},
   "outputs": [
    {
     "name": "stdout",
     "output_type": "stream",
     "text": [
      "have 4580 4580 rooms\n"
     ]
    }
   ],
   "source": [
    "print('have {} {} rooms'.format(len(p1),len(p2)))"
   ]
  },
  {
   "cell_type": "markdown",
   "metadata": {},
   "source": [
    "## new df  group by room"
   ]
  },
  {
   "cell_type": "code",
   "execution_count": 139,
   "metadata": {},
   "outputs": [],
   "source": [
    "room_grouped = pd.concat([p1,p2['category'],c['count'],t['text']],axis=1)"
   ]
  },
  {
   "cell_type": "code",
   "execution_count": 140,
   "metadata": {},
   "outputs": [
    {
     "data": {
      "text/plain": [
       "Index(['room', 'from', 'category', 'count', 'text'], dtype='object')"
      ]
     },
     "execution_count": 140,
     "metadata": {},
     "output_type": "execute_result"
    }
   ],
   "source": [
    "room_grouped.columns"
   ]
  },
  {
   "cell_type": "code",
   "execution_count": 141,
   "metadata": {},
   "outputs": [
    {
     "data": {
      "text/html": [
       "<div>\n",
       "<style scoped>\n",
       "    .dataframe tbody tr th:only-of-type {\n",
       "        vertical-align: middle;\n",
       "    }\n",
       "\n",
       "    .dataframe tbody tr th {\n",
       "        vertical-align: top;\n",
       "    }\n",
       "\n",
       "    .dataframe thead th {\n",
       "        text-align: right;\n",
       "    }\n",
       "</style>\n",
       "<table border=\"1\" class=\"dataframe\">\n",
       "  <thead>\n",
       "    <tr style=\"text-align: right;\">\n",
       "      <th></th>\n",
       "      <th>room</th>\n",
       "      <th>from</th>\n",
       "      <th>category</th>\n",
       "      <th>count</th>\n",
       "      <th>text</th>\n",
       "    </tr>\n",
       "  </thead>\n",
       "  <tbody>\n",
       "    <tr>\n",
       "      <th>0</th>\n",
       "      <td>0005ce30-1ab7-4b4f-8861-684a88e4f94b</td>\n",
       "      <td>{954276064700164, 1020089304775462}</td>\n",
       "      <td>{1}</td>\n",
       "      <td>175</td>\n",
       "      <td>[我不給ㄩ, 我也沒ㄩ你啊, 到處都是什麼霸主的, 那是什麼, 晚上一直聽到, 不知道, 感...</td>\n",
       "    </tr>\n",
       "    <tr>\n",
       "      <th>1</th>\n",
       "      <td>001b9df7-c22b-4f8a-be3a-403aaffb6bf0</td>\n",
       "      <td>{u6dbd49530b86288633b4cb1b3deea5be, 1071753506...</td>\n",
       "      <td>{1, 2}</td>\n",
       "      <td>17</td>\n",
       "      <td>[嗨, 小妹今年12歲&gt;&lt;, 我今年15, 是哥哥嗎？, 是呀~, 約嗎, 不約喔~, 能交...</td>\n",
       "    </tr>\n",
       "    <tr>\n",
       "      <th>2</th>\n",
       "      <td>0037b4bb-7eab-4edd-ac43-02be91706b6e</td>\n",
       "      <td>{ue71379d634d1bb1046832b7c0a4326f1, u04c05fef9...</td>\n",
       "      <td>{1, 2}</td>\n",
       "      <td>78</td>\n",
       "      <td>[ㄢㄢ, ㄩㄇ, 登能, ㄩ你老木, 你4誰, 先做愛, 小名如何稱呼, 在問我4誰, 做愛...</td>\n",
       "    </tr>\n",
       "    <tr>\n",
       "      <th>3</th>\n",
       "      <td>0040db15-e65e-4873-8e20-163eedd8c5d6</td>\n",
       "      <td>{u9d5f483d81a1cc9bc133616d5d916187, ub37a5cdfc...</td>\n",
       "      <td>{2}</td>\n",
       "      <td>4</td>\n",
       "      <td>[ㄢㄢ, 安 咩休幹某, 又你, 滾]</td>\n",
       "    </tr>\n",
       "    <tr>\n",
       "      <th>4</th>\n",
       "      <td>004cc3ae-22e7-4df5-b24a-1b731db5ac39</td>\n",
       "      <td>{1377818128910140, 1269009779778365}</td>\n",
       "      <td>{2}</td>\n",
       "      <td>3</td>\n",
       "      <td>[晚安阿, 那麼晚了，ㄩㄇ, 約浪漫嗎]</td>\n",
       "    </tr>\n",
       "  </tbody>\n",
       "</table>\n",
       "</div>"
      ],
      "text/plain": [
       "                                   room  \\\n",
       "0  0005ce30-1ab7-4b4f-8861-684a88e4f94b   \n",
       "1  001b9df7-c22b-4f8a-be3a-403aaffb6bf0   \n",
       "2  0037b4bb-7eab-4edd-ac43-02be91706b6e   \n",
       "3  0040db15-e65e-4873-8e20-163eedd8c5d6   \n",
       "4  004cc3ae-22e7-4df5-b24a-1b731db5ac39   \n",
       "\n",
       "                                                from category  count  \\\n",
       "0                {954276064700164, 1020089304775462}      {1}    175   \n",
       "1  {u6dbd49530b86288633b4cb1b3deea5be, 1071753506...   {1, 2}     17   \n",
       "2  {ue71379d634d1bb1046832b7c0a4326f1, u04c05fef9...   {1, 2}     78   \n",
       "3  {u9d5f483d81a1cc9bc133616d5d916187, ub37a5cdfc...      {2}      4   \n",
       "4               {1377818128910140, 1269009779778365}      {2}      3   \n",
       "\n",
       "                                                text  \n",
       "0  [我不給ㄩ, 我也沒ㄩ你啊, 到處都是什麼霸主的, 那是什麼, 晚上一直聽到, 不知道, 感...  \n",
       "1  [嗨, 小妹今年12歲><, 我今年15, 是哥哥嗎？, 是呀~, 約嗎, 不約喔~, 能交...  \n",
       "2  [ㄢㄢ, ㄩㄇ, 登能, ㄩ你老木, 你4誰, 先做愛, 小名如何稱呼, 在問我4誰, 做愛...  \n",
       "3                                [ㄢㄢ, 安 咩休幹某, 又你, 滾]  \n",
       "4                               [晚安阿, 那麼晚了，ㄩㄇ, 約浪漫嗎]  "
      ]
     },
     "execution_count": 141,
     "metadata": {},
     "output_type": "execute_result"
    }
   ],
   "source": [
    "room_grouped.head()"
   ]
  },
  {
   "cell_type": "markdown",
   "metadata": {},
   "source": [
    "## delete the row (room) which has only one user "
   ]
  },
  {
   "cell_type": "code",
   "execution_count": 142,
   "metadata": {},
   "outputs": [],
   "source": [
    "for index, row in room_grouped.iterrows():\n",
    "    l = len(row['from'])\n",
    "    if l == 1 :\n",
    "        room_grouped.drop(index, inplace=True)"
   ]
  },
  {
   "cell_type": "code",
   "execution_count": 143,
   "metadata": {},
   "outputs": [
    {
     "data": {
      "text/plain": [
       "room        3986\n",
       "from        3986\n",
       "category    3986\n",
       "count       3986\n",
       "text        3986\n",
       "dtype: int64"
      ]
     },
     "execution_count": 143,
     "metadata": {},
     "output_type": "execute_result"
    }
   ],
   "source": [
    "room_grouped.count()"
   ]
  },
  {
   "cell_type": "code",
   "execution_count": 144,
   "metadata": {},
   "outputs": [
    {
     "data": {
      "text/html": [
       "<div>\n",
       "<style scoped>\n",
       "    .dataframe tbody tr th:only-of-type {\n",
       "        vertical-align: middle;\n",
       "    }\n",
       "\n",
       "    .dataframe tbody tr th {\n",
       "        vertical-align: top;\n",
       "    }\n",
       "\n",
       "    .dataframe thead th {\n",
       "        text-align: right;\n",
       "    }\n",
       "</style>\n",
       "<table border=\"1\" class=\"dataframe\">\n",
       "  <thead>\n",
       "    <tr style=\"text-align: right;\">\n",
       "      <th></th>\n",
       "      <th>room</th>\n",
       "      <th>from</th>\n",
       "      <th>category</th>\n",
       "      <th>count</th>\n",
       "      <th>text</th>\n",
       "    </tr>\n",
       "  </thead>\n",
       "  <tbody>\n",
       "    <tr>\n",
       "      <th>0</th>\n",
       "      <td>0005ce30-1ab7-4b4f-8861-684a88e4f94b</td>\n",
       "      <td>{954276064700164, 1020089304775462}</td>\n",
       "      <td>{1}</td>\n",
       "      <td>175</td>\n",
       "      <td>[我不給ㄩ, 我也沒ㄩ你啊, 到處都是什麼霸主的, 那是什麼, 晚上一直聽到, 不知道, 感...</td>\n",
       "    </tr>\n",
       "    <tr>\n",
       "      <th>1</th>\n",
       "      <td>001b9df7-c22b-4f8a-be3a-403aaffb6bf0</td>\n",
       "      <td>{u6dbd49530b86288633b4cb1b3deea5be, 1071753506...</td>\n",
       "      <td>{1, 2}</td>\n",
       "      <td>17</td>\n",
       "      <td>[嗨, 小妹今年12歲&gt;&lt;, 我今年15, 是哥哥嗎？, 是呀~, 約嗎, 不約喔~, 能交...</td>\n",
       "    </tr>\n",
       "    <tr>\n",
       "      <th>2</th>\n",
       "      <td>0037b4bb-7eab-4edd-ac43-02be91706b6e</td>\n",
       "      <td>{ue71379d634d1bb1046832b7c0a4326f1, u04c05fef9...</td>\n",
       "      <td>{1, 2}</td>\n",
       "      <td>78</td>\n",
       "      <td>[ㄢㄢ, ㄩㄇ, 登能, ㄩ你老木, 你4誰, 先做愛, 小名如何稱呼, 在問我4誰, 做愛...</td>\n",
       "    </tr>\n",
       "    <tr>\n",
       "      <th>3</th>\n",
       "      <td>0040db15-e65e-4873-8e20-163eedd8c5d6</td>\n",
       "      <td>{u9d5f483d81a1cc9bc133616d5d916187, ub37a5cdfc...</td>\n",
       "      <td>{2}</td>\n",
       "      <td>4</td>\n",
       "      <td>[ㄢㄢ, 安 咩休幹某, 又你, 滾]</td>\n",
       "    </tr>\n",
       "    <tr>\n",
       "      <th>4</th>\n",
       "      <td>004cc3ae-22e7-4df5-b24a-1b731db5ac39</td>\n",
       "      <td>{1377818128910140, 1269009779778365}</td>\n",
       "      <td>{2}</td>\n",
       "      <td>3</td>\n",
       "      <td>[晚安阿, 那麼晚了，ㄩㄇ, 約浪漫嗎]</td>\n",
       "    </tr>\n",
       "  </tbody>\n",
       "</table>\n",
       "</div>"
      ],
      "text/plain": [
       "                                   room  \\\n",
       "0  0005ce30-1ab7-4b4f-8861-684a88e4f94b   \n",
       "1  001b9df7-c22b-4f8a-be3a-403aaffb6bf0   \n",
       "2  0037b4bb-7eab-4edd-ac43-02be91706b6e   \n",
       "3  0040db15-e65e-4873-8e20-163eedd8c5d6   \n",
       "4  004cc3ae-22e7-4df5-b24a-1b731db5ac39   \n",
       "\n",
       "                                                from category  count  \\\n",
       "0                {954276064700164, 1020089304775462}      {1}    175   \n",
       "1  {u6dbd49530b86288633b4cb1b3deea5be, 1071753506...   {1, 2}     17   \n",
       "2  {ue71379d634d1bb1046832b7c0a4326f1, u04c05fef9...   {1, 2}     78   \n",
       "3  {u9d5f483d81a1cc9bc133616d5d916187, ub37a5cdfc...      {2}      4   \n",
       "4               {1377818128910140, 1269009779778365}      {2}      3   \n",
       "\n",
       "                                                text  \n",
       "0  [我不給ㄩ, 我也沒ㄩ你啊, 到處都是什麼霸主的, 那是什麼, 晚上一直聽到, 不知道, 感...  \n",
       "1  [嗨, 小妹今年12歲><, 我今年15, 是哥哥嗎？, 是呀~, 約嗎, 不約喔~, 能交...  \n",
       "2  [ㄢㄢ, ㄩㄇ, 登能, ㄩ你老木, 你4誰, 先做愛, 小名如何稱呼, 在問我4誰, 做愛...  \n",
       "3                                [ㄢㄢ, 安 咩休幹某, 又你, 滾]  \n",
       "4                               [晚安阿, 那麼晚了，ㄩㄇ, 約浪漫嗎]  "
      ]
     },
     "execution_count": 144,
     "metadata": {},
     "output_type": "execute_result"
    }
   ],
   "source": [
    "room_grouped.head()"
   ]
  },
  {
   "cell_type": "markdown",
   "metadata": {},
   "source": [
    "### 每間聊天室平均聊幾句"
   ]
  },
  {
   "cell_type": "code",
   "execution_count": 145,
   "metadata": {},
   "outputs": [
    {
     "data": {
      "text/plain": [
       "24.837932764676367"
      ]
     },
     "execution_count": 145,
     "metadata": {},
     "output_type": "execute_result"
    }
   ],
   "source": [
    "room_grouped['count'].mean()"
   ]
  },
  {
   "cell_type": "markdown",
   "metadata": {},
   "source": [
    "# 證明分群有意義"
   ]
  },
  {
   "cell_type": "markdown",
   "metadata": {},
   "source": [
    "## 1. 同一群的使用者平均聊天句數比不同群的使用者平均聊天句數還多"
   ]
  },
  {
   "cell_type": "code",
   "execution_count": 146,
   "metadata": {},
   "outputs": [],
   "source": [
    "same_cat_count = 0\n",
    "all_text = 0\n",
    "other_user = 0\n",
    "other_all_text = 0\n",
    "for index, row in room_grouped.iterrows():\n",
    "    l = len(row['category'])\n",
    "    t_len = len(row['text'])\n",
    "# same cluster\n",
    "    if l == 1:\n",
    "        same_cat_count+=1\n",
    "        all_text+=t_len\n",
    "# different cluster\n",
    "    else:\n",
    "        other_user+=1\n",
    "        other_all_text+=t_len"
   ]
  },
  {
   "cell_type": "code",
   "execution_count": 147,
   "metadata": {},
   "outputs": [
    {
     "name": "stdout",
     "output_type": "stream",
     "text": [
      "同一群的使用者有 2022 組, 平均聊天句數 : 27.69634025717112\n",
      "不同群的使用者有 1964 組, 平均聊天句數 : 21.89511201629328\n"
     ]
    }
   ],
   "source": [
    "print('同一群的使用者有 {} 組, 平均聊天句數 : {}'.format(same_cat_count,all_text/same_cat_count))\n",
    "print('不同群的使用者有 {} 組, 平均聊天句數 : {}'.format(other_user ,other_all_text/other_user))"
   ]
  },
  {
   "cell_type": "markdown",
   "metadata": {},
   "source": [
    "## 2. 聊天句數超過 1000 句的使用者，同群的有幾組"
   ]
  },
  {
   "cell_type": "code",
   "execution_count": 155,
   "metadata": {},
   "outputs": [],
   "source": [
    "gt1000 = room_grouped[room_grouped['count']>50]"
   ]
  },
  {
   "cell_type": "code",
   "execution_count": 156,
   "metadata": {},
   "outputs": [],
   "source": [
    "gt1000_same_cat = 0\n",
    "for i, row in gt1000.iterrows():\n",
    "    l = len(row['category'])\n",
    "    if l == 1:\n",
    "        gt1000_same_cat+=1"
   ]
  },
  {
   "cell_type": "code",
   "execution_count": 157,
   "metadata": {},
   "outputs": [
    {
     "name": "stdout",
     "output_type": "stream",
     "text": [
      "共有 412 組，同類的有 231 組\n"
     ]
    }
   ],
   "source": [
    "print('共有 {} 組，同類的有 {} 組'.format(len(gt1000),gt1000_same_cat))"
   ]
  },
  {
   "cell_type": "code",
   "execution_count": 158,
   "metadata": {},
   "outputs": [],
   "source": [
    "import matplotlib.pyplot as plt\n",
    "%matplotlib inline"
   ]
  },
  {
   "cell_type": "code",
   "execution_count": 22,
   "metadata": {},
   "outputs": [],
   "source": [
    "t.to_csv('../data/k_means_result.csv',encoding='utf-8-sig')"
   ]
  }
 ],
 "metadata": {
  "kernelspec": {
   "display_name": "Python 3",
   "language": "python",
   "name": "python3"
  },
  "language_info": {
   "codemirror_mode": {
    "name": "ipython",
    "version": 3
   },
   "file_extension": ".py",
   "mimetype": "text/x-python",
   "name": "python",
   "nbconvert_exporter": "python",
   "pygments_lexer": "ipython3",
   "version": "3.5.2"
  }
 },
 "nbformat": 4,
 "nbformat_minor": 2
}
