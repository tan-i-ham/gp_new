{
 "cells": [
  {
   "cell_type": "code",
   "execution_count": 1,
   "metadata": {},
   "outputs": [],
   "source": [
    "import pandas as pd\n",
    "import numpy as np"
   ]
  },
  {
   "cell_type": "code",
   "execution_count": 44,
   "metadata": {},
   "outputs": [
    {
     "name": "stderr",
     "output_type": "stream",
     "text": [
      "/home/tp6han/.local/lib/python3.5/site-packages/IPython/core/interactiveshell.py:2728: DtypeWarning: Columns (0) have mixed types. Specify dtype option on import or set low_memory=False.\n",
      "  interactivity=interactivity, compiler=compiler, result=result)\n"
     ]
    },
    {
     "name": "stdout",
     "output_type": "stream",
     "text": [
      "有1000000筆對話\n"
     ]
    }
   ],
   "source": [
    "df = pd.read_csv(open('../data/df_million.csv'))\n",
    "df = df[df['text'].str.contains(\"https|Britain\")== False]\n",
    "df = df.drop('Unnamed: 0', 1)\n",
    "print('有{}筆對話'.format(len(df)))"
   ]
  },
  {
   "cell_type": "code",
   "execution_count": 45,
   "metadata": {},
   "outputs": [
    {
     "name": "stdout",
     "output_type": "stream",
     "text": [
      "有999368筆對話\n"
     ]
    }
   ],
   "source": [
    "df = df[df['text'].str.contains(\"00add|Britain\")== False]\n",
    "print('有{}筆對話'.format(len(df)))"
   ]
  },
  {
   "cell_type": "code",
   "execution_count": 46,
   "metadata": {},
   "outputs": [
    {
     "name": "stdout",
     "output_type": "stream",
     "text": [
      "有999314筆對話\n"
     ]
    }
   ],
   "source": [
    "df = df[df['text'].str.contains(\"對方已離開聊天室\")== False]\n",
    "df = df[df['text'].str.contains(\"我要配對\")== False]\n",
    "print('有{}筆對話'.format(len(df)))"
   ]
  },
  {
   "cell_type": "code",
   "execution_count": 70,
   "metadata": {},
   "outputs": [
    {
     "name": "stdout",
     "output_type": "stream",
     "text": [
      "有997023筆對話\n"
     ]
    }
   ],
   "source": [
    "df = df[df['text'].str.contains(\"Whosdiary 目前不支援此功能\")== False]\n",
    "df = df[df['text'].str.contains(\"Whosdiary關心您\")== False]\n",
    "df = df[df['text'].str.contains(\"Whosdiary 目前不支援貼圖功能\")== False]\n",
    "df = df[df['text'].str.contains(\"配對成功，您與陌生人連線了，\")== False]\n",
    "df = df[df['text'].str.contains(\"您與久未聯絡的好友連線了，可以開始聊天囉！\")== False]\n",
    "df = df[df['text'].str.contains(\"您與陌生人連線了，可以開始聊天囉！\")== False]\n",
    "df = df[df['text'].str.contains(\"Whosdiary 祝您聊天愉快\")== False]\n",
    "\n",
    "print('有{}筆對話'.format(len(df)))"
   ]
  },
  {
   "cell_type": "code",
   "execution_count": 87,
   "metadata": {},
   "outputs": [
    {
     "name": "stdout",
     "output_type": "stream",
     "text": [
      "有996996筆對話\n"
     ]
    }
   ],
   "source": [
    "df = df[df['text'].str.contains(\"Whosdiary 目前不支援說話功能\")== False]\n",
    "df = df[df['text'].str.contains(\"Whosdiary 目前不支援文字功能\")== False]\n",
    "df = df[df['text'].str.contains(\"Whosdiary 誰的日記」隨機聊\")== False]\n",
    "df = df[df['text'].str.contains(\"Whosdiary 目前不支援傳圖功能\")== False]\n",
    "df = df[df['text'].str.contains(\"將您與陌生人隨機配對\")== False]\n",
    "df = df[df['text'].str.contains(\"telegram.me\")== False]\n",
    "\n",
    "\n",
    "print('有{}筆對話'.format(len(df)))"
   ]
  },
  {
   "cell_type": "code",
   "execution_count": 118,
   "metadata": {},
   "outputs": [
    {
     "name": "stdout",
     "output_type": "stream",
     "text": [
      "有996924筆對話\n"
     ]
    }
   ],
   "source": [
    "df = df[df['text'].str.contains(\"配對中，請稍候\")== False]\n",
    "df = df[df['text'].str.contains(\"系統故障\")== False]\n",
    "df = df[df['text'].str.contains(\"請稍候\")== False]\n",
    "df = df[df['text'].str.contains(\"目前線上人數\")== False]\n",
    "df = df[df['text'].str.contains(\"尚未加入聊天室\")== False]\n",
    "df = df[df['text'].str.contains(\"已配對的聊天室\")== False]\n",
    "df = df[df['text'].str.contains(\"目前不支援\")== False]\n",
    "\n",
    "\n",
    "print('有{}筆對話'.format(len(df)))"
   ]
  },
  {
   "cell_type": "code",
   "execution_count": null,
   "metadata": {},
   "outputs": [],
   "source": [
    "df = df[df['text'].str.contains(\"目前不支援\")== False]\n",
    "print('有{}筆對話'.format(len(df)))"
   ]
  },
  {
   "cell_type": "code",
   "execution_count": 113,
   "metadata": {},
   "outputs": [],
   "source": [
    "df = df.reset_index(drop=True)"
   ]
  },
  {
   "cell_type": "code",
   "execution_count": 124,
   "metadata": {},
   "outputs": [
    {
     "data": {
      "text/html": [
       "<div>\n",
       "<style scoped>\n",
       "    .dataframe tbody tr th:only-of-type {\n",
       "        vertical-align: middle;\n",
       "    }\n",
       "\n",
       "    .dataframe tbody tr th {\n",
       "        vertical-align: top;\n",
       "    }\n",
       "\n",
       "    .dataframe thead th {\n",
       "        text-align: right;\n",
       "    }\n",
       "</style>\n",
       "<table border=\"1\" class=\"dataframe\">\n",
       "  <thead>\n",
       "    <tr style=\"text-align: right;\">\n",
       "      <th></th>\n",
       "      <th>from</th>\n",
       "      <th>to</th>\n",
       "      <th>text</th>\n",
       "      <th>room</th>\n",
       "      <th>time</th>\n",
       "    </tr>\n",
       "  </thead>\n",
       "  <tbody>\n",
       "  </tbody>\n",
       "</table>\n",
       "</div>"
      ],
      "text/plain": [
       "Empty DataFrame\n",
       "Columns: [from, to, text, room, time]\n",
       "Index: []"
      ]
     },
     "execution_count": 124,
     "metadata": {},
     "output_type": "execute_result"
    }
   ],
   "source": [
    "df[df['text'].str.contains(\"自動封鎖機制\")== True]"
   ]
  },
  {
   "cell_type": "code",
   "execution_count": null,
   "metadata": {},
   "outputs": [],
   "source": []
  }
 ],
 "metadata": {
  "kernelspec": {
   "display_name": "Python 3",
   "language": "python",
   "name": "python3"
  },
  "language_info": {
   "codemirror_mode": {
    "name": "ipython",
    "version": 3
   },
   "file_extension": ".py",
   "mimetype": "text/x-python",
   "name": "python",
   "nbconvert_exporter": "python",
   "pygments_lexer": "ipython3",
   "version": "3.5.2"
  }
 },
 "nbformat": 4,
 "nbformat_minor": 2
}
