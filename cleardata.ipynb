{
 "cells": [
  {
   "cell_type": "code",
   "execution_count": 1,
   "metadata": {},
   "outputs": [],
   "source": [
    "import pandas as pd\n",
    "from hanziconv import HanziConv\n",
    "\n",
    "import jieba\n",
    "import jieba.posseg as pseg\n",
    "import jieba.analyse"
   ]
  },
  {
   "cell_type": "code",
   "execution_count": 2,
   "metadata": {},
   "outputs": [],
   "source": [
    "df = pd.read_csv('../data/text.csv')"
   ]
  },
  {
   "cell_type": "code",
   "execution_count": 4,
   "metadata": {},
   "outputs": [
    {
     "name": "stdout",
     "output_type": "stream",
     "text": [
      "30388146\n"
     ]
    }
   ],
   "source": [
    "df.head()\n",
    "print(len(df))"
   ]
  },
  {
   "cell_type": "markdown",
   "metadata": {},
   "source": [
    "## clean data"
   ]
  },
  {
   "cell_type": "markdown",
   "metadata": {},
   "source": [
    "### 去掉空值欄位"
   ]
  },
  {
   "cell_type": "code",
   "execution_count": 11,
   "metadata": {},
   "outputs": [
    {
     "data": {
      "text/plain": [
       "30348617"
      ]
     },
     "execution_count": 11,
     "metadata": {},
     "output_type": "execute_result"
    }
   ],
   "source": [
    "df_change = df.dropna(how='any',axis=0) \n",
    "len(df_change)"
   ]
  },
  {
   "cell_type": "markdown",
   "metadata": {},
   "source": [
    "### 去掉有 https 開頭"
   ]
  },
  {
   "cell_type": "code",
   "execution_count": 13,
   "metadata": {},
   "outputs": [
    {
     "data": {
      "text/plain": [
       "29254229"
      ]
     },
     "execution_count": 13,
     "metadata": {},
     "output_type": "execute_result"
    }
   ],
   "source": [
    "df_change = df_change[df_change['text'].str.contains(\"https|Britain\")== False]\n",
    "len(df_change)"
   ]
  },
  {
   "cell_type": "code",
   "execution_count": 21,
   "metadata": {},
   "outputs": [
    {
     "data": {
      "text/plain": [
       "29184252"
      ]
     },
     "execution_count": 21,
     "metadata": {},
     "output_type": "execute_result"
    }
   ],
   "source": [
    "df_change = df_change[df_change['text'].str.contains(\"http|Britain\")== False]\n",
    "len(df_change)"
   ]
  },
  {
   "cell_type": "markdown",
   "metadata": {},
   "source": [
    "### 清除系統使用上的文字"
   ]
  },
  {
   "cell_type": "code",
   "execution_count": 14,
   "metadata": {},
   "outputs": [
    {
     "data": {
      "text/plain": [
       "29246749"
      ]
     },
     "execution_count": 14,
     "metadata": {},
     "output_type": "execute_result"
    }
   ],
   "source": [
    "mask = df_change['text'].str.contains(\"0011\")\n",
    "df_change = df_change[~mask]\n",
    "len(df_change)"
   ]
  },
  {
   "cell_type": "code",
   "execution_count": 15,
   "metadata": {},
   "outputs": [
    {
     "data": {
      "text/plain": [
       "29240114"
      ]
     },
     "execution_count": 15,
     "metadata": {},
     "output_type": "execute_result"
    }
   ],
   "source": [
    "mask = df_change['text'].str.contains(\"0088\")\n",
    "df_change = df_change[~mask]\n",
    "len(df_change)"
   ]
  },
  {
   "cell_type": "code",
   "execution_count": 27,
   "metadata": {},
   "outputs": [
    {
     "data": {
      "text/plain": [
       "29183196"
      ]
     },
     "execution_count": 27,
     "metadata": {},
     "output_type": "execute_result"
    }
   ],
   "source": [
    "mask = df_change['text'].str.contains(\"0022\")\n",
    "df_change = df_change[~mask]\n",
    "len(df_change)"
   ]
  },
  {
   "cell_type": "code",
   "execution_count": 29,
   "metadata": {},
   "outputs": [
    {
     "data": {
      "text/plain": [
       "29180990"
      ]
     },
     "execution_count": 29,
     "metadata": {},
     "output_type": "execute_result"
    }
   ],
   "source": [
    "mask = df_change['text'].str.contains(\"0055\")\n",
    "df_change = df_change[~mask]\n",
    "len(df_change)"
   ]
  },
  {
   "cell_type": "code",
   "execution_count": 35,
   "metadata": {},
   "outputs": [
    {
     "data": {
      "text/plain": [
       "28845025"
      ]
     },
     "execution_count": 35,
     "metadata": {},
     "output_type": "execute_result"
    }
   ],
   "source": [
    "mask = df_change['text'].str.contains(\"00leave\")\n",
    "df_change = df_change[~mask]\n",
    "len(df_change)"
   ]
  },
  {
   "cell_type": "code",
   "execution_count": 37,
   "metadata": {},
   "outputs": [],
   "source": [
    "df_change = df_change.reset_index(drop=True)"
   ]
  },
  {
   "cell_type": "code",
   "execution_count": 38,
   "metadata": {},
   "outputs": [],
   "source": [
    "df_million = df_change.head(1000000)"
   ]
  },
  {
   "cell_type": "code",
   "execution_count": 39,
   "metadata": {},
   "outputs": [],
   "source": [
    "df_million.to_csv(\"../data/df_million.csv\")"
   ]
  },
  {
   "cell_type": "code",
   "execution_count": null,
   "metadata": {},
   "outputs": [],
   "source": []
  },
  {
   "cell_type": "code",
   "execution_count": null,
   "metadata": {},
   "outputs": [],
   "source": []
  },
  {
   "cell_type": "markdown",
   "metadata": {},
   "source": [
    "## transform time"
   ]
  },
  {
   "cell_type": "code",
   "execution_count": 4,
   "metadata": {},
   "outputs": [
    {
     "data": {
      "text/plain": [
       "1471639945495.0"
      ]
     },
     "execution_count": 4,
     "metadata": {},
     "output_type": "execute_result"
    }
   ],
   "source": [
    "df_small['time'][0]"
   ]
  },
  {
   "cell_type": "code",
   "execution_count": 5,
   "metadata": {},
   "outputs": [
    {
     "data": {
      "text/plain": [
       "datetime.datetime(2016, 8, 19, 20, 52, 25, 495000)"
      ]
     },
     "execution_count": 5,
     "metadata": {},
     "output_type": "execute_result"
    }
   ],
   "source": [
    "from datetime import datetime\n",
    "datetime.fromtimestamp(1471639945495.0/1000.0)"
   ]
  },
  {
   "cell_type": "code",
   "execution_count": 31,
   "metadata": {},
   "outputs": [
    {
     "name": "stdout",
     "output_type": "stream",
     "text": [
      "2016-08-19 20:52:25\n",
      "2016-08-19 21:48:01\n",
      "2016-08-19 21:48:03\n",
      "2016-08-19 21:48:15\n",
      "2016-08-19 21:48:23\n",
      "2016-08-19 21:48:47\n",
      "2016-08-19 21:48:51\n",
      "2016-08-19 21:48:54\n",
      "2016-08-19 21:48:54\n",
      "2016-08-19 21:49:10\n",
      "2016-08-19 21:49:11\n",
      "2016-08-19 21:49:26\n",
      "2016-08-19 21:49:38\n",
      "2016-08-19 21:49:48\n",
      "2016-08-19 21:49:51\n",
      "2016-08-19 21:49:52\n",
      "2016-08-19 21:50:01\n",
      "2016-08-19 21:50:19\n",
      "2016-08-19 21:50:28\n",
      "2016-08-19 21:50:40\n"
     ]
    }
   ],
   "source": [
    "for i in range(len(df_small)):\n",
    "    print(datetime.fromtimestamp(int(df_small['time'][i]/1000.0)).strftime('%Y-%m-%d %H:%M:%S'))\n"
   ]
  },
  {
   "cell_type": "markdown",
   "metadata": {},
   "source": [
    "## 整理資料 清除空值及 '00leave'"
   ]
  },
  {
   "cell_type": "code",
   "execution_count": 4,
   "metadata": {},
   "outputs": [
    {
     "data": {
      "text/html": [
       "<div>\n",
       "<style scoped>\n",
       "    .dataframe tbody tr th:only-of-type {\n",
       "        vertical-align: middle;\n",
       "    }\n",
       "\n",
       "    .dataframe tbody tr th {\n",
       "        vertical-align: top;\n",
       "    }\n",
       "\n",
       "    .dataframe thead th {\n",
       "        text-align: right;\n",
       "    }\n",
       "</style>\n",
       "<table border=\"1\" class=\"dataframe\">\n",
       "  <thead>\n",
       "    <tr style=\"text-align: right;\">\n",
       "      <th></th>\n",
       "      <th>from</th>\n",
       "      <th>to</th>\n",
       "      <th>text</th>\n",
       "      <th>room</th>\n",
       "      <th>time</th>\n",
       "    </tr>\n",
       "  </thead>\n",
       "  <tbody>\n",
       "    <tr>\n",
       "      <th>0</th>\n",
       "      <td>ud4097fbb4471c8c54512814bf0182e03</td>\n",
       "      <td>u84fa1e46e99df373e0f978c2ba274f9a</td>\n",
       "      <td>wd</td>\n",
       "      <td>8aee77a7-1d90-4d0f-b3c3-3f7b94a90e36</td>\n",
       "      <td>1.471640e+12</td>\n",
       "    </tr>\n",
       "    <tr>\n",
       "      <th>1</th>\n",
       "      <td>ud4097fbb4471c8c54512814bf0182e03</td>\n",
       "      <td>u96e826dccd3c9db56d684a5ddffc3154</td>\n",
       "      <td>嗨嗨</td>\n",
       "      <td>fe214cfc-22d1-4736-92e7-d133190142b8</td>\n",
       "      <td>1.471643e+12</td>\n",
       "    </tr>\n",
       "    <tr>\n",
       "      <th>2</th>\n",
       "      <td>u96e826dccd3c9db56d684a5ddffc3154</td>\n",
       "      <td>ud4097fbb4471c8c54512814bf0182e03</td>\n",
       "      <td>蛤？</td>\n",
       "      <td>fe214cfc-22d1-4736-92e7-d133190142b8</td>\n",
       "      <td>1.471643e+12</td>\n",
       "    </tr>\n",
       "    <tr>\n",
       "      <th>3</th>\n",
       "      <td>ud4097fbb4471c8c54512814bf0182e03</td>\n",
       "      <td>u96e826dccd3c9db56d684a5ddffc3154</td>\n",
       "      <td>你是第二個使用者ＱＱ</td>\n",
       "      <td>fe214cfc-22d1-4736-92e7-d133190142b8</td>\n",
       "      <td>1.471643e+12</td>\n",
       "    </tr>\n",
       "    <tr>\n",
       "      <th>4</th>\n",
       "      <td>u96e826dccd3c9db56d684a5ddffc3154</td>\n",
       "      <td>ud4097fbb4471c8c54512814bf0182e03</td>\n",
       "      <td>哈哈哈哈哈哈哈</td>\n",
       "      <td>fe214cfc-22d1-4736-92e7-d133190142b8</td>\n",
       "      <td>1.471643e+12</td>\n",
       "    </tr>\n",
       "  </tbody>\n",
       "</table>\n",
       "</div>"
      ],
      "text/plain": [
       "                                from                                 to  \\\n",
       "0  ud4097fbb4471c8c54512814bf0182e03  u84fa1e46e99df373e0f978c2ba274f9a   \n",
       "1  ud4097fbb4471c8c54512814bf0182e03  u96e826dccd3c9db56d684a5ddffc3154   \n",
       "2  u96e826dccd3c9db56d684a5ddffc3154  ud4097fbb4471c8c54512814bf0182e03   \n",
       "3  ud4097fbb4471c8c54512814bf0182e03  u96e826dccd3c9db56d684a5ddffc3154   \n",
       "4  u96e826dccd3c9db56d684a5ddffc3154  ud4097fbb4471c8c54512814bf0182e03   \n",
       "\n",
       "         text                                  room          time  \n",
       "0          wd  8aee77a7-1d90-4d0f-b3c3-3f7b94a90e36  1.471640e+12  \n",
       "1          嗨嗨  fe214cfc-22d1-4736-92e7-d133190142b8  1.471643e+12  \n",
       "2          蛤？  fe214cfc-22d1-4736-92e7-d133190142b8  1.471643e+12  \n",
       "3  你是第二個使用者ＱＱ  fe214cfc-22d1-4736-92e7-d133190142b8  1.471643e+12  \n",
       "4     哈哈哈哈哈哈哈  fe214cfc-22d1-4736-92e7-d133190142b8  1.471643e+12  "
      ]
     },
     "execution_count": 4,
     "metadata": {},
     "output_type": "execute_result"
    }
   ],
   "source": [
    "df_small = df.head(100000)\n",
    "df_small.head()"
   ]
  },
  {
   "cell_type": "code",
   "execution_count": 16,
   "metadata": {},
   "outputs": [
    {
     "data": {
      "text/plain": [
       "from    20000\n",
       "to      20000\n",
       "text    19939\n",
       "room    20000\n",
       "time    20000\n",
       "dtype: int64"
      ]
     },
     "execution_count": 16,
     "metadata": {},
     "output_type": "execute_result"
    }
   ],
   "source": [
    "df_small.count()"
   ]
  },
  {
   "cell_type": "markdown",
   "metadata": {},
   "source": [
    "## 清除text欄位是空值的row"
   ]
  },
  {
   "cell_type": "code",
   "execution_count": 5,
   "metadata": {},
   "outputs": [],
   "source": [
    "df_small = df_small.dropna(how='any',axis=0) \n",
    "# df_small.head(10)"
   ]
  },
  {
   "cell_type": "code",
   "execution_count": 6,
   "metadata": {},
   "outputs": [],
   "source": [
    "df_small.count()\n",
    "df_small = df_small.reset_index(drop=True)\n",
    "# df_small.head(20)"
   ]
  },
  {
   "cell_type": "code",
   "execution_count": 7,
   "metadata": {},
   "outputs": [
    {
     "name": "stdout",
     "output_type": "stream",
     "text": [
      "4372\n"
     ]
    }
   ],
   "source": [
    "count = 0\n",
    "for i in range(len(df_small)):\n",
    "    if(df_small['text'][i]==\"00leave\"):\n",
    "#         print(i)\n",
    "        count+=1\n",
    "\n",
    "        \n",
    "print(count)"
   ]
  },
  {
   "cell_type": "code",
   "execution_count": 8,
   "metadata": {},
   "outputs": [
    {
     "name": "stdout",
     "output_type": "stream",
     "text": [
      "99927\n"
     ]
    }
   ],
   "source": [
    "count = 0\n",
    "for i in range(len(df_small)):\n",
    "    if(type(df_small['text'][i])!= float and df_small['text'][i].find(\"https://whosdiary.com/\")):\n",
    "#         print(i)\n",
    "        count+=1\n",
    "\n",
    "        \n",
    "print(count)"
   ]
  },
  {
   "cell_type": "markdown",
   "metadata": {},
   "source": [
    "## 清除 text 欄位是 \"00leave\" 的row"
   ]
  },
  {
   "cell_type": "code",
   "execution_count": 22,
   "metadata": {},
   "outputs": [
    {
     "name": "stdout",
     "output_type": "stream",
     "text": [
      "from    99931\n",
      "to      99931\n",
      "text    99931\n",
      "room    99931\n",
      "time    99931\n",
      "dtype: int64\n"
     ]
    }
   ],
   "source": [
    "print(df_small.count())\n",
    "df_small = df_small[ df_small['text']!=\"00leave\" ]"
   ]
  },
  {
   "cell_type": "code",
   "execution_count": 23,
   "metadata": {},
   "outputs": [
    {
     "data": {
      "text/plain": [
       "from    95559\n",
       "to      95559\n",
       "text    95559\n",
       "room    95559\n",
       "time    95559\n",
       "dtype: int64"
      ]
     },
     "execution_count": 23,
     "metadata": {},
     "output_type": "execute_result"
    }
   ],
   "source": [
    "df_small.count()"
   ]
  },
  {
   "cell_type": "code",
   "execution_count": 24,
   "metadata": {},
   "outputs": [
    {
     "data": {
      "text/plain": [
       "95559"
      ]
     },
     "execution_count": 24,
     "metadata": {},
     "output_type": "execute_result"
    }
   ],
   "source": [
    "df_small = df_small.reset_index(drop=True)\n",
    "len(df_small)\n"
   ]
  },
  {
   "cell_type": "code",
   "execution_count": 25,
   "metadata": {},
   "outputs": [
    {
     "data": {
      "text/plain": [
       "95559"
      ]
     },
     "execution_count": 25,
     "metadata": {},
     "output_type": "execute_result"
    }
   ],
   "source": [
    "len(df_small)\n",
    "# df_small['text'].isin(['https://whosdiary.com/'])"
   ]
  },
  {
   "cell_type": "markdown",
   "metadata": {},
   "source": [
    "## 清除 text 欄位是含有 'https://whosdiary' "
   ]
  },
  {
   "cell_type": "code",
   "execution_count": 26,
   "metadata": {},
   "outputs": [
    {
     "data": {
      "text/plain": [
       "95496"
      ]
     },
     "execution_count": 26,
     "metadata": {},
     "output_type": "execute_result"
    }
   ],
   "source": [
    "mask = df_small['text'].str.contains(\"https://whosdiary\")\n",
    "df_small = df_small[~mask]\n",
    "df_small = df_small.reset_index(drop=True)\n",
    "len(df_small)\n"
   ]
  },
  {
   "cell_type": "code",
   "execution_count": 27,
   "metadata": {},
   "outputs": [
    {
     "data": {
      "text/plain": [
       "93009"
      ]
     },
     "execution_count": 27,
     "metadata": {},
     "output_type": "execute_result"
    }
   ],
   "source": [
    "mask2 = df_small['text'].str.contains(\"http://whosdiary\")\n",
    "df_small = df_small[~mask2]\n",
    "len(df_small)"
   ]
  },
  {
   "cell_type": "code",
   "execution_count": 28,
   "metadata": {},
   "outputs": [],
   "source": [
    "df_small = df_small.reset_index(drop=True)"
   ]
  },
  {
   "cell_type": "code",
   "execution_count": 29,
   "metadata": {},
   "outputs": [],
   "source": [
    "df_small_output = df_small[['from','text']]"
   ]
  },
  {
   "cell_type": "code",
   "execution_count": 30,
   "metadata": {},
   "outputs": [
    {
     "data": {
      "text/plain": [
       "93009"
      ]
     },
     "execution_count": 30,
     "metadata": {},
     "output_type": "execute_result"
    }
   ],
   "source": [
    "df_small_output.head(10)\n",
    "len(df_small_output)"
   ]
  },
  {
   "cell_type": "code",
   "execution_count": 17,
   "metadata": {},
   "outputs": [],
   "source": [
    "df_small_output.to_csv(\"../data/df_small.csv\")"
   ]
  },
  {
   "cell_type": "markdown",
   "metadata": {},
   "source": [
    "# df"
   ]
  },
  {
   "cell_type": "code",
   "execution_count": 2,
   "metadata": {},
   "outputs": [],
   "source": [
    "df = pd.read_csv('data/text.csv')"
   ]
  },
  {
   "cell_type": "code",
   "execution_count": 11,
   "metadata": {},
   "outputs": [
    {
     "data": {
      "text/plain": [
       "from    30348617\n",
       "to      30348617\n",
       "text    30348617\n",
       "room    30348617\n",
       "time    30348617\n",
       "dtype: int64"
      ]
     },
     "execution_count": 11,
     "metadata": {},
     "output_type": "execute_result"
    }
   ],
   "source": [
    "df_change = df.dropna(how='any',axis=0) \n",
    "df_change.count()"
   ]
  },
  {
   "cell_type": "code",
   "execution_count": 12,
   "metadata": {},
   "outputs": [
    {
     "data": {
      "text/plain": [
       "from    30012652\n",
       "to      30012652\n",
       "text    30012652\n",
       "room    30012652\n",
       "time    30012652\n",
       "dtype: int64"
      ]
     },
     "execution_count": 12,
     "metadata": {},
     "output_type": "execute_result"
    }
   ],
   "source": [
    "df_change = df_change[ df_change['text']!=\"00leave\" ]\n",
    "df_change.count()"
   ]
  },
  {
   "cell_type": "code",
   "execution_count": 13,
   "metadata": {},
   "outputs": [
    {
     "data": {
      "text/plain": [
       "from    28918284\n",
       "to      28918284\n",
       "text    28918284\n",
       "room    28918284\n",
       "time    28918284\n",
       "dtype: int64"
      ]
     },
     "execution_count": 13,
     "metadata": {},
     "output_type": "execute_result"
    }
   ],
   "source": [
    "mask = df_change['text'].str.contains(\"https://whosdiary\")\n",
    "df_change = df_change[~mask]\n",
    "df_change.count()"
   ]
  },
  {
   "cell_type": "code",
   "execution_count": 14,
   "metadata": {},
   "outputs": [
    {
     "data": {
      "text/plain": [
       "from    28862368\n",
       "to      28862368\n",
       "text    28862368\n",
       "room    28862368\n",
       "time    28862368\n",
       "dtype: int64"
      ]
     },
     "execution_count": 14,
     "metadata": {},
     "output_type": "execute_result"
    }
   ],
   "source": [
    "mask2 = df_change['text'].str.contains(\"http://whosdiary\")\n",
    "df_change = df_change[~mask2]\n",
    "df_change = df_change.reset_index(drop=True)\n",
    "df_change.count()"
   ]
  },
  {
   "cell_type": "markdown",
   "metadata": {},
   "source": [
    "# 分析"
   ]
  },
  {
   "cell_type": "code",
   "execution_count": 31,
   "metadata": {},
   "outputs": [],
   "source": [
    "fileTrainSeg = []"
   ]
  },
  {
   "cell_type": "code",
   "execution_count": null,
   "metadata": {
    "scrolled": false
   },
   "outputs": [],
   "source": [
    "# for i in range(len(df)):\n",
    "#     seg_list = jieba.cut(df['text'][i])  # 默认是精确模式\n",
    "# #     print(\"/\".join(seg_list))\n",
    "#     fileTrainSeg.append(['/'.join(list(jieba.cut(str(df['text'][i]),cut_all=False)))])\n",
    "#     if i % 50000 == 0 :\n",
    "#         print(i)"
   ]
  },
  {
   "cell_type": "code",
   "execution_count": 7,
   "metadata": {},
   "outputs": [],
   "source": [
    "fileSegWordDonePath ='corpusSegDone.txt'\n",
    "with open(fileSegWordDonePath,'w') as fW:\n",
    "    for i in range(len(fileTrainSeg)):\n",
    "        fW.write(fileTrainSeg[i][0])\n",
    "        fW.write('\\n')\n",
    "#         print(fileTrainSeg[i][0])"
   ]
  },
  {
   "cell_type": "code",
   "execution_count": 8,
   "metadata": {},
   "outputs": [
    {
     "name": "stdout",
     "output_type": "stream",
     "text": [
      "貼圖 我 直接 關掉 Ｘ Ｄ\n"
     ]
    }
   ],
   "source": [
    "def PrintListChinese(list):\n",
    "    for i in range(len(list)):\n",
    "        print(list[i],)\n",
    "PrintListChinese(fileTrainSeg[19])"
   ]
  },
  {
   "cell_type": "code",
   "execution_count": 9,
   "metadata": {},
   "outputs": [
    {
     "name": "stdout",
     "output_type": "stream",
     "text": [
      "Starting training using file corpusSegDone.txt\n",
      "Vocab size: 158\n",
      "Words in train file: 3801\n"
     ]
    }
   ],
   "source": [
    "import word2vec\n",
    "# jieba分詞轉word2vec向量\n",
    "word2vec.word2vec('corpusSegDone.txt', 'corpusWord2Vec.bin', size=300,verbose=True)"
   ]
  },
  {
   "cell_type": "code",
   "execution_count": 10,
   "metadata": {},
   "outputs": [
    {
     "name": "stdout",
     "output_type": "stream",
     "text": [
      "[[ 0.08015626  0.08850129 -0.07670335 ..., -0.02626957 -0.03316621\n",
      "   0.0614953 ]\n",
      " [ 0.01532638 -0.05874425 -0.03078251 ...,  0.137457   -0.03374089\n",
      "  -0.11269254]\n",
      " [ 0.03876591 -0.07426252 -0.03271443 ...,  0.15078014 -0.01539938\n",
      "  -0.09851675]\n",
      " ..., \n",
      " [ 0.02416539 -0.08729621 -0.0172144  ...,  0.13408722 -0.03411518\n",
      "  -0.08747852]\n",
      " [ 0.03685596 -0.06128523 -0.0291411  ...,  0.14502333 -0.0158358\n",
      "  -0.11901269]\n",
      " [ 0.04190627 -0.05130509 -0.03530375 ...,  0.13819341 -0.04790676\n",
      "  -0.07296997]]\n"
     ]
    }
   ],
   "source": [
    "model = word2vec.load('corpusWord2Vec.bin')\n",
    "print(model.vectors)"
   ]
  },
  {
   "cell_type": "code",
   "execution_count": 11,
   "metadata": {},
   "outputs": [
    {
     "name": "stdout",
     "output_type": "stream",
     "text": [
      "</s>\n",
      "😂\n",
      "我\n",
      "你\n",
      "的\n",
      "-\n",
      "/\n",
      "是\n",
      "？\n",
      "█\n",
      "了\n",
      "啊\n",
      "哈哈哈\n",
      "有\n",
      "嗯\n",
      "喔\n",
      ":\n",
      "嗎\n",
      "好\n",
      "這個\n",
      ".\n",
      "在\n",
      "很\n",
      "▄\n"
     ]
    }
   ],
   "source": [
    "for i in range(0,24):\n",
    "    print(model.vocab[i])"
   ]
  },
  {
   "cell_type": "code",
   "execution_count": 12,
   "metadata": {},
   "outputs": [
    {
     "name": "stdout",
     "output_type": "stream",
     "text": [
      "我\n",
      "~\n",
      "就\n",
      "/\n",
      "知道\n",
      "了\n",
      "他\n",
      ".\n",
      "你\n",
      "聊天\n"
     ]
    }
   ],
   "source": [
    "model = word2vec.load('corpusWord2Vec.bin')\n",
    "indexes = model.cosine(u'在') # 此字詞有出現在corpusWord2Vec.bin當中\n",
    "for index in indexes[0]:\n",
    "    print(model.vocab[index])"
   ]
  },
  {
   "cell_type": "code",
   "execution_count": 13,
   "metadata": {},
   "outputs": [
    {
     "name": "stdout",
     "output_type": "stream",
     "text": [
      "~\n",
      "就\n",
      "/\n",
      "知道\n",
      "了\n",
      "聊天\n",
      "com\n",
      "3001\n",
      "他\n",
      ":\n"
     ]
    }
   ],
   "source": [
    "indexes = model.cosine(u'我')\n",
    "for index in indexes[0]:\n",
    "    print(model.vocab[index])"
   ]
  },
  {
   "cell_type": "code",
   "execution_count": 30,
   "metadata": {},
   "outputs": [],
   "source": [
    "index1,metrics1 = model.cosine(u'我')\n",
    "index2,metrics2 = model.cosine(u'聊天')\n",
    "index3,metrics3 = model.cosine(u'知道')\n",
    "index4,metrics4 = model.cosine(u'錢')\n",
    "index5,metrics5 = model.cosine(u'可以')"
   ]
  },
  {
   "cell_type": "code",
   "execution_count": 31,
   "metadata": {},
   "outputs": [],
   "source": [
    "import numpy as np\n",
    "index01 = np.where(model.vocab == u'我')\n",
    "index02 = np.where(model.vocab == u'聊天')\n",
    "index03 = np.where(model.vocab == u'知道')\n",
    "index04 = np.where(model.vocab == u'錢')\n",
    "index05 = np.where(model.vocab == u'可以')"
   ]
  },
  {
   "cell_type": "code",
   "execution_count": 32,
   "metadata": {},
   "outputs": [],
   "source": [
    "index1 = np.append(index1,index01)\n",
    "index2 = np.append(index2,index02)\n",
    "index3 = np.append(index3,index03)\n",
    "index4 = np.append(index4,index04)\n",
    "index5 = np.append(index5,index05)"
   ]
  },
  {
   "cell_type": "code",
   "execution_count": 33,
   "metadata": {},
   "outputs": [],
   "source": [
    "import numpy as np\n",
    "# 視覺化套件\n",
    "import matplotlib\n",
    "import matplotlib.pyplot as plt\n",
    "# 主成分因子\n",
    "from sklearn.decomposition import PCA"
   ]
  },
  {
   "cell_type": "code",
   "execution_count": 34,
   "metadata": {},
   "outputs": [],
   "source": [
    "rawWordVec = model.vectors\n",
    "# 將原本300維向量空間降為2維\n",
    "X_reduced = PCA(n_components=2).fit_transform(rawWordVec)"
   ]
  },
  {
   "cell_type": "code",
   "execution_count": 35,
   "metadata": {},
   "outputs": [
    {
     "data": {
      "image/png": "[encoded data removed]",
      "text/plain": [
       "<matplotlib.figure.Figure at 0x7f47535b4828>"
      ]
     },
     "metadata": {},
     "output_type": "display_data"
    },
    {
     "data": {
      "text/plain": [
       "<matplotlib.figure.Figure at 0x7f475353afd0>"
      ]
     },
     "metadata": {},
     "output_type": "display_data"
    }
   ],
   "source": [
    "zhfont = matplotlib.font_manager.FontProperties(fname='/home/tp6han/gp/graguation_project/wqy-microhei.ttc')\n",
    "# 畫圖\n",
    "fig = plt.figure()\n",
    "ax = fig.add_subplot(111)\n",
    " \n",
    "for i in index1:\n",
    "    ax.text(X_reduced[i][0],X_reduced[i][1],model.vocab[i], fontproperties=zhfont,color='C3')\n",
    "for i in index2:\n",
    "    ax.text(X_reduced[i][0],X_reduced[i][1],model.vocab[i], fontproperties = zhfont,color= 'C1')\n",
    "for i in index3:\n",
    "    ax.text(X_reduced[i][0],X_reduced[i][1],model.vocab[i], fontproperties=zhfont,color='C7')\n",
    "for i in index4:\n",
    "    ax.text(X_reduced[i][0],X_reduced[i][1],model.vocab[i], fontproperties=zhfont,color='C0')\n",
    "for i in index5:\n",
    "    ax.text(X_reduced[i][0],X_reduced[i][1],model.vocab[i], fontproperties=zhfont,color='C4')\n",
    "ax.axis([0,0.5,-0.2,0.6])\n",
    "plt.figure(figsize=(60,60))\n",
    "plt.show()"
   ]
  },
  {
   "cell_type": "code",
   "execution_count": null,
   "metadata": {},
   "outputs": [],
   "source": []
  }
 ],
 "metadata": {
  "kernelspec": {
   "display_name": "Python 3",
   "language": "python",
   "name": "python3"
  },
  "language_info": {
   "codemirror_mode": {
    "name": "ipython",
    "version": 3
   },
   "file_extension": ".py",
   "mimetype": "text/x-python",
   "name": "python",
   "nbconvert_exporter": "python",
   "pygments_lexer": "ipython3",
   "version": "3.5.2"
  }
 },
 "nbformat": 4,
 "nbformat_minor": 2
}
