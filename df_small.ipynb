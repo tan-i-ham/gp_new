{
 "cells": [
  {
   "cell_type": "code",
   "execution_count": 7,
   "metadata": {},
   "outputs": [],
   "source": [
    "import pandas as pd\n",
    "from hanziconv import HanziConv\n",
    "\n",
    "import jieba\n",
    "import jieba.posseg as pseg\n",
    "import jieba.analyse\n",
    "\n",
    "\n",
    "import sys\n",
    "from optparse import OptionParser\n",
    "import pprint\n",
    "from prettytable import PrettyTable"
   ]
  },
  {
   "cell_type": "code",
   "execution_count": 20,
   "metadata": {},
   "outputs": [],
   "source": [
    "df = pd.read_csv(open('../data/df_small.csv'))\n"
   ]
  },
  {
   "cell_type": "code",
   "execution_count": 21,
   "metadata": {},
   "outputs": [
    {
     "data": {
      "text/html": [
       "<div>\n",
       "<style scoped>\n",
       "    .dataframe tbody tr th:only-of-type {\n",
       "        vertical-align: middle;\n",
       "    }\n",
       "\n",
       "    .dataframe tbody tr th {\n",
       "        vertical-align: top;\n",
       "    }\n",
       "\n",
       "    .dataframe thead th {\n",
       "        text-align: right;\n",
       "    }\n",
       "</style>\n",
       "<table border=\"1\" class=\"dataframe\">\n",
       "  <thead>\n",
       "    <tr style=\"text-align: right;\">\n",
       "      <th></th>\n",
       "      <th>Unnamed: 0</th>\n",
       "      <th>from</th>\n",
       "      <th>text</th>\n",
       "    </tr>\n",
       "  </thead>\n",
       "  <tbody>\n",
       "    <tr>\n",
       "      <th>0</th>\n",
       "      <td>0</td>\n",
       "      <td>ud4097fbb4471c8c54512814bf0182e03</td>\n",
       "      <td>wd</td>\n",
       "    </tr>\n",
       "    <tr>\n",
       "      <th>1</th>\n",
       "      <td>1</td>\n",
       "      <td>ud4097fbb4471c8c54512814bf0182e03</td>\n",
       "      <td>嗨嗨</td>\n",
       "    </tr>\n",
       "    <tr>\n",
       "      <th>2</th>\n",
       "      <td>2</td>\n",
       "      <td>u96e826dccd3c9db56d684a5ddffc3154</td>\n",
       "      <td>蛤？</td>\n",
       "    </tr>\n",
       "    <tr>\n",
       "      <th>3</th>\n",
       "      <td>3</td>\n",
       "      <td>ud4097fbb4471c8c54512814bf0182e03</td>\n",
       "      <td>你是第二個使用者ＱＱ</td>\n",
       "    </tr>\n",
       "    <tr>\n",
       "      <th>4</th>\n",
       "      <td>4</td>\n",
       "      <td>u96e826dccd3c9db56d684a5ddffc3154</td>\n",
       "      <td>哈哈哈哈哈哈哈</td>\n",
       "    </tr>\n",
       "  </tbody>\n",
       "</table>\n",
       "</div>"
      ],
      "text/plain": [
       "  Unnamed: 0                               from        text\n",
       "0          0  ud4097fbb4471c8c54512814bf0182e03          wd\n",
       "1          1  ud4097fbb4471c8c54512814bf0182e03          嗨嗨\n",
       "2          2  u96e826dccd3c9db56d684a5ddffc3154          蛤？\n",
       "3          3  ud4097fbb4471c8c54512814bf0182e03  你是第二個使用者ＱＱ\n",
       "4          4  u96e826dccd3c9db56d684a5ddffc3154     哈哈哈哈哈哈哈"
      ]
     },
     "execution_count": 21,
     "metadata": {},
     "output_type": "execute_result"
    }
   ],
   "source": [
    "df.head()"
   ]
  },
  {
   "cell_type": "code",
   "execution_count": 32,
   "metadata": {},
   "outputs": [],
   "source": [
    "fileTrainSeg = []"
   ]
  },
  {
   "cell_type": "code",
   "execution_count": 33,
   "metadata": {},
   "outputs": [
    {
     "name": "stdout",
     "output_type": "stream",
     "text": [
      "0\n",
      "50000\n"
     ]
    }
   ],
   "source": [
    "for i in range(len(df)):\n",
    "    seg_list = jieba.cut(df['text'][i])  # 默认是精确模式\n",
    "#     print(\"/\".join(seg_list))\n",
    "    fileTrainSeg.append([' '.join(list(jieba.cut(str(df['text'][i]),cut_all=False)))])\n",
    "    if i % 50000 == 0 :\n",
    "        print(i)"
   ]
  },
  {
   "cell_type": "code",
   "execution_count": 34,
   "metadata": {},
   "outputs": [],
   "source": [
    "fileSegWordDonePath ='corpusSegDone.txt'\n",
    "with open(fileSegWordDonePath,'wb') as fW:\n",
    "    for i in range(len(fileTrainSeg)):\n",
    "        fW.write(str(fileTrainSeg[i][0]).encode('utf-8'))\n",
    "        fW.write('\\n'.encode('utf-8'))"
   ]
  },
  {
   "cell_type": "code",
   "execution_count": 35,
   "metadata": {},
   "outputs": [
    {
     "name": "stdout",
     "output_type": "stream",
     "text": [
      "蛤\n"
     ]
    }
   ],
   "source": [
    "def PrintListChinese(list):\n",
    "    for i in range(len(list)):\n",
    "        print(list[i],)\n",
    "PrintListChinese(fileTrainSeg[19])"
   ]
  },
  {
   "cell_type": "code",
   "execution_count": 36,
   "metadata": {},
   "outputs": [
    {
     "name": "stdout",
     "output_type": "stream",
     "text": [
      "Starting training using file corpusSegDone.txt\n",
      "Vocab size: 4440\n",
      "Words in train file: 594092\n",
      "Alpha: 0.000578  Progress: 98.02%  Words/thread/sec: 276.26k  "
     ]
    }
   ],
   "source": [
    "import word2vec\n",
    "# jieba分詞轉word2vec向量\n",
    "word2vec.word2vec('corpusSegDone.txt', 'corpusWord2Vec.bin', size=300,verbose=True)"
   ]
  },
  {
   "cell_type": "code",
   "execution_count": 37,
   "metadata": {},
   "outputs": [],
   "source": [
    "model = word2vec.load('corpusWord2Vec.bin')\n",
    "# print(model.vectors)"
   ]
  },
  {
   "cell_type": "code",
   "execution_count": 38,
   "metadata": {},
   "outputs": [
    {
     "name": "stdout",
     "output_type": "stream",
     "text": [
      "</s>\n",
      "我\n",
      "你\n",
      "/\n",
      "_\n",
      ".\n",
      "的\n",
      "是\n",
      "=\n",
      "-\n",
      "?\n",
      "神\n",
      "海\n",
      "定\n",
      "針\n",
      "？\n",
      "了\n",
      "嗎\n",
      "好\n",
      "啊\n",
      "ㄇ\n",
      "不\n",
      "↑\n",
      "←\n"
     ]
    }
   ],
   "source": [
    "for i in range(0,24):\n",
    "    print(model.vocab[i])"
   ]
  },
  {
   "cell_type": "code",
   "execution_count": 61,
   "metadata": {},
   "outputs": [
    {
     "name": "stdout",
     "output_type": "stream",
     "text": [
      "宇宙\n",
      "幸運\n",
      "真人\n",
      "高中\n",
      "大學生\n",
      "帥\n",
      "腫哥\n",
      "妳是\n",
      "問你\n",
      "高中生\n"
     ]
    }
   ],
   "source": [
    "model = word2vec.load('corpusWord2Vec.bin')\n",
    "indexes = model.cosine(u'學生') # 此字詞有出現在corpusWord2Vec.bin當中\n",
    "for index in indexes[0]:\n",
    "    print(model.vocab[index])"
   ]
  },
  {
   "cell_type": "code",
   "execution_count": 62,
   "metadata": {},
   "outputs": [
    {
     "name": "stdout",
     "output_type": "stream",
     "text": [
      "之前\n",
      "上\n",
      "工作\n",
      "想到\n",
      "只是\n",
      "時間\n",
      "他們\n",
      "po\n",
      "那麼\n",
      "其他人\n"
     ]
    }
   ],
   "source": [
    "model = word2vec.load('corpusWord2Vec.bin')\n",
    "indexes = model.cosine(u'錢') # 此字詞有出現在corpusWord2Vec.bin當中\n",
    "for index in indexes[0]:\n",
    "    print(model.vocab[index])"
   ]
  },
  {
   "cell_type": "code",
   "execution_count": 67,
   "metadata": {},
   "outputs": [
    {
     "name": "stdout",
     "output_type": "stream",
     "text": [
      "聊聊\n",
      "五分\n",
      "土城\n",
      "當\n",
      "还\n",
      "運動\n",
      "還能\n",
      "腦子\n",
      "單獨\n",
      "別想\n"
     ]
    }
   ],
   "source": [
    "model = word2vec.load('corpusWord2Vec.bin')\n",
    "indexes = model.cosine(u'交換') # 此字詞有出現在corpusWord2Vec.bin當中\n",
    "for index in indexes[0]:\n",
    "    print(model.vocab[index])"
   ]
  },
  {
   "cell_type": "code",
   "execution_count": 54,
   "metadata": {},
   "outputs": [],
   "source": [
    "index1,metrics1 = model.cosine(u'學生')\n",
    "index2,metrics2 = model.cosine(u'聊天')\n",
    "index3,metrics3 = model.cosine(u'社會')\n",
    "# index4,metrics4 = model.cosine(u'錢')\n",
    "# index5,metrics5 = model.cosine(u'可以')"
   ]
  },
  {
   "cell_type": "code",
   "execution_count": 55,
   "metadata": {},
   "outputs": [],
   "source": [
    "import numpy as np\n",
    "index01 = np.where(model.vocab == u'學生')\n",
    "index02 = np.where(model.vocab == u'聊天')\n",
    "index03 = np.where(model.vocab == u'社會')\n",
    "# index04 = np.where(model.vocab == u'錢')\n",
    "# index05 = np.where(model.vocab == u'可以')"
   ]
  },
  {
   "cell_type": "code",
   "execution_count": 56,
   "metadata": {},
   "outputs": [],
   "source": [
    "index1 = np.append(index1,index01)\n",
    "index2 = np.append(index2,index02)\n",
    "index3 = np.append(index3,index03)\n",
    "# index4 = np.append(index4,index04)\n",
    "# index5 = np.append(index5,index05)"
   ]
  },
  {
   "cell_type": "code",
   "execution_count": 57,
   "metadata": {},
   "outputs": [],
   "source": [
    "import numpy as np\n",
    "# 視覺化套件\n",
    "import matplotlib\n",
    "import matplotlib.pyplot as plt\n",
    "# 主成分因子\n",
    "from sklearn.decomposition import PCA"
   ]
  },
  {
   "cell_type": "code",
   "execution_count": 58,
   "metadata": {},
   "outputs": [],
   "source": [
    "rawWordVec = model.vectors\n",
    "# 將原本300維向量空間降為2維\n",
    "X_reduced = PCA(n_components=2).fit_transform(rawWordVec)"
   ]
  },
  {
   "cell_type": "code",
   "execution_count": 60,
   "metadata": {},
   "outputs": [
    {
     "data": {
      "image/png": "[encoded data removed]",
      "text/plain": [
       "<matplotlib.figure.Figure at 0x7f6908cc90b8>"
      ]
     },
     "metadata": {},
     "output_type": "display_data"
    },
    {
     "data": {
      "text/plain": [
       "<matplotlib.figure.Figure at 0x7f6908c48470>"
      ]
     },
     "metadata": {},
     "output_type": "display_data"
    }
   ],
   "source": [
    "zhfont = matplotlib.font_manager.FontProperties(fname='wqy-microhei.ttc')\n",
    "# 畫圖\n",
    "fig = plt.figure()\n",
    "ax = fig.add_subplot(111)\n",
    " \n",
    "for i in index1:\n",
    "    ax.text(X_reduced[i][0],X_reduced[i][1],model.vocab[i], fontproperties=zhfont,color='C3')\n",
    "for i in index2:\n",
    "    ax.text(X_reduced[i][0],X_reduced[i][1],model.vocab[i], fontproperties = zhfont,color= 'C1')\n",
    "for i in index3:\n",
    "    ax.text(X_reduced[i][0],X_reduced[i][1],model.vocab[i], fontproperties=zhfont,color='C7')\n",
    "# for i in index4:\n",
    "#     ax.text(X_reduced[i][0],X_reduced[i][1],model.vocab[i], fontproperties=zhfont,color='C0')\n",
    "# for i in index5:\n",
    "#     ax.text(X_reduced[i][0],X_reduced[i][1],model.vocab[i], fontproperties=zhfont,color='C4')\n",
    "ax.axis([0,0.5,-0.2,0.6])\n",
    "plt.figure(figsize=(100,100))\n",
    "plt.show()"
   ]
  },
  {
   "cell_type": "code",
   "execution_count": null,
   "metadata": {},
   "outputs": [],
   "source": []
  },
  {
   "cell_type": "code",
   "execution_count": 12,
   "metadata": {},
   "outputs": [],
   "source": [
    "def loadjieba():\n",
    "  # 使用繁體中文詞庫\n",
    "  jieba.set_dictionary('jieba_txt/dict.txt.big.txt')\n",
    "  # 將自定義詞庫加進來\n",
    "  jieba.load_userdict(\"jieba_txt/userdict.txt\") \n",
    "  # 停用詞\n",
    "  jieba.analyse.set_stop_words(\"jieba_txt/stop_words.txt\")\n",
    "  jieba.analyse.set_idf_path(\"jieba_txt/idf.txt.big.txt\")\n",
    "\n",
    "  # input_file = open(filename, 'r', encoding = utf8())\n",
    "\n",
    "# def cutandcount(filename):\n",
    "#   content = open(filename, 'rb').read()\n",
    "#   seglist = jieba.cut(content, cut_all=False)\n",
    "#   chars = set(' 0123456789()$,:.。，/􀆿\\r\\n')\n",
    "\n",
    "\n",
    "# # 原本在字典裡的 斷詞 ＆ 頻率\n",
    "# # 讀入 og_dict\n",
    "#   with open('newdict.txt','rt') as f:\n",
    "#     for line in f:\n",
    "#       k = line.split('\\t')[0]\n",
    "#       v = line.split('\\t')[1][:-1]\n",
    "      \n",
    "#       if k in og_dict.keys():\n",
    "#         og_dict[k] = v+1\n",
    "#       else:\n",
    "#         og_dict[k] = v\n",
    "\n",
    "\n",
    "# # 斷新的文字檔之後，把新的詞加入並把頻率設成 1\n",
    "# # 舊的詞在 value +1\n",
    "#   for word in seglist:\n",
    "#     if any((c in chars) for c in word):\n",
    "#       continue\n",
    "#     else:\n",
    "#       if not word in og_dict.keys():\n",
    "#         og_dict[word] = 1\n",
    "#       else:\n",
    "#         og_dict[word] = int(og_dict[word]) + 1\n",
    "\n",
    "#   print('it is NEW DATA !!!!!'+str(og_dict)+'!!!!')\n",
    "\n",
    "#   with open('newdict.txt','w') as f:\n",
    "#       for k,v in og_dict.items():\n",
    "#         f.write(k+'\\t'+str(v)+'\\n')\n",
    "\n"
   ]
  },
  {
   "cell_type": "code",
   "execution_count": 84,
   "metadata": {},
   "outputs": [],
   "source": [
    "grouped_data = df.groupby('from')['text'].apply(lambda x: \"{%s}\" % ', '.join(x))"
   ]
  },
  {
   "cell_type": "code",
   "execution_count": 85,
   "metadata": {},
   "outputs": [
    {
     "data": {
      "text/plain": [
       "1019"
      ]
     },
     "execution_count": 85,
     "metadata": {},
     "output_type": "execute_result"
    }
   ],
   "source": [
    "len(grouped_data)"
   ]
  },
  {
   "cell_type": "code",
   "execution_count": null,
   "metadata": {},
   "outputs": [],
   "source": []
  }
 ],
 "metadata": {
  "kernelspec": {
   "display_name": "Python 3",
   "language": "python",
   "name": "python3"
  },
  "language_info": {
   "codemirror_mode": {
    "name": "ipython",
    "version": 3
   },
   "file_extension": ".py",
   "mimetype": "text/x-python",
   "name": "python",
   "nbconvert_exporter": "python",
   "pygments_lexer": "ipython3",
   "version": "3.5.2"
  }
 },
 "nbformat": 4,
 "nbformat_minor": 2
}
