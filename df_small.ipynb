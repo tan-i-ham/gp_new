{
 "cells": [
  {
   "cell_type": "code",
   "execution_count": 1,
   "metadata": {},
   "outputs": [],
   "source": [
    "import pandas as pd\n",
    "from hanziconv import HanziConv\n",
    "\n",
    "import jieba\n",
    "import jieba.posseg as pseg\n",
    "import jieba.analyse\n",
    "\n",
    "\n",
    "import sys\n",
    "from optparse import OptionParser\n",
    "import pprint\n",
    "from prettytable import PrettyTable"
   ]
  },
  {
   "cell_type": "code",
   "execution_count": 30,
   "metadata": {},
   "outputs": [],
   "source": [
    "df = pd.read_csv(open('../data/df_small.csv'))\n"
   ]
  },
  {
   "cell_type": "code",
   "execution_count": 21,
   "metadata": {},
   "outputs": [
    {
     "data": {
      "text/html": [
       "<div>\n",
       "<style scoped>\n",
       "    .dataframe tbody tr th:only-of-type {\n",
       "        vertical-align: middle;\n",
       "    }\n",
       "\n",
       "    .dataframe tbody tr th {\n",
       "        vertical-align: top;\n",
       "    }\n",
       "\n",
       "    .dataframe thead th {\n",
       "        text-align: right;\n",
       "    }\n",
       "</style>\n",
       "<table border=\"1\" class=\"dataframe\">\n",
       "  <thead>\n",
       "    <tr style=\"text-align: right;\">\n",
       "      <th></th>\n",
       "      <th>Unnamed: 0</th>\n",
       "      <th>from</th>\n",
       "      <th>text</th>\n",
       "    </tr>\n",
       "  </thead>\n",
       "  <tbody>\n",
       "    <tr>\n",
       "      <th>0</th>\n",
       "      <td>0</td>\n",
       "      <td>ud4097fbb4471c8c54512814bf0182e03</td>\n",
       "      <td>wd</td>\n",
       "    </tr>\n",
       "    <tr>\n",
       "      <th>1</th>\n",
       "      <td>1</td>\n",
       "      <td>ud4097fbb4471c8c54512814bf0182e03</td>\n",
       "      <td>嗨嗨</td>\n",
       "    </tr>\n",
       "    <tr>\n",
       "      <th>2</th>\n",
       "      <td>2</td>\n",
       "      <td>u96e826dccd3c9db56d684a5ddffc3154</td>\n",
       "      <td>蛤？</td>\n",
       "    </tr>\n",
       "    <tr>\n",
       "      <th>3</th>\n",
       "      <td>3</td>\n",
       "      <td>ud4097fbb4471c8c54512814bf0182e03</td>\n",
       "      <td>你是第二個使用者ＱＱ</td>\n",
       "    </tr>\n",
       "    <tr>\n",
       "      <th>4</th>\n",
       "      <td>4</td>\n",
       "      <td>u96e826dccd3c9db56d684a5ddffc3154</td>\n",
       "      <td>哈哈哈哈哈哈哈</td>\n",
       "    </tr>\n",
       "  </tbody>\n",
       "</table>\n",
       "</div>"
      ],
      "text/plain": [
       "  Unnamed: 0                               from        text\n",
       "0          0  ud4097fbb4471c8c54512814bf0182e03          wd\n",
       "1          1  ud4097fbb4471c8c54512814bf0182e03          嗨嗨\n",
       "2          2  u96e826dccd3c9db56d684a5ddffc3154          蛤？\n",
       "3          3  ud4097fbb4471c8c54512814bf0182e03  你是第二個使用者ＱＱ\n",
       "4          4  u96e826dccd3c9db56d684a5ddffc3154     哈哈哈哈哈哈哈"
      ]
     },
     "execution_count": 21,
     "metadata": {},
     "output_type": "execute_result"
    }
   ],
   "source": [
    "df.head()"
   ]
  },
  {
   "cell_type": "code",
   "execution_count": 32,
   "metadata": {},
   "outputs": [],
   "source": [
    "fileTrainSeg = []"
   ]
  },
  {
   "cell_type": "code",
   "execution_count": 33,
   "metadata": {},
   "outputs": [
    {
     "name": "stdout",
     "output_type": "stream",
     "text": [
      "0\n",
      "50000\n"
     ]
    }
   ],
   "source": [
    "for i in range(len(df)):\n",
    "    seg_list = jieba.cut(df['text'][i])  # 默认是精确模式\n",
    "#     print(\"/\".join(seg_list))\n",
    "    fileTrainSeg.append([' '.join(list(jieba.cut(str(df['text'][i]),cut_all=False)))])\n",
    "    if i % 50000 == 0 :\n",
    "        print(i)"
   ]
  },
  {
   "cell_type": "code",
   "execution_count": 34,
   "metadata": {},
   "outputs": [],
   "source": [
    "fileSegWordDonePath ='corpusSegDone.txt'\n",
    "with open(fileSegWordDonePath,'wb') as fW:\n",
    "    for i in range(len(fileTrainSeg)):\n",
    "        fW.write(str(fileTrainSeg[i][0]).encode('utf-8'))\n",
    "        fW.write('\\n'.encode('utf-8'))"
   ]
  },
  {
   "cell_type": "code",
   "execution_count": 35,
   "metadata": {},
   "outputs": [
    {
     "name": "stdout",
     "output_type": "stream",
     "text": [
      "蛤\n"
     ]
    }
   ],
   "source": [
    "def PrintListChinese(list):\n",
    "    for i in range(len(list)):\n",
    "        print(list[i],)\n",
    "PrintListChinese(fileTrainSeg[19])"
   ]
  },
  {
   "cell_type": "code",
   "execution_count": 36,
   "metadata": {},
   "outputs": [
    {
     "name": "stdout",
     "output_type": "stream",
     "text": [
      "Starting training using file corpusSegDone.txt\n",
      "Vocab size: 4440\n",
      "Words in train file: 594092\n",
      "Alpha: 0.000578  Progress: 98.02%  Words/thread/sec: 276.26k  "
     ]
    }
   ],
   "source": [
    "import word2vec\n",
    "# jieba分詞轉word2vec向量\n",
    "word2vec.word2vec('corpusSegDone.txt', 'corpusWord2Vec.bin', size=300,verbose=True)"
   ]
  },
  {
   "cell_type": "code",
   "execution_count": 37,
   "metadata": {},
   "outputs": [],
   "source": [
    "model = word2vec.load('corpusWord2Vec.bin')\n",
    "# print(model.vectors)"
   ]
  },
  {
   "cell_type": "code",
   "execution_count": 38,
   "metadata": {},
   "outputs": [
    {
     "name": "stdout",
     "output_type": "stream",
     "text": [
      "</s>\n",
      "我\n",
      "你\n",
      "/\n",
      "_\n",
      ".\n",
      "的\n",
      "是\n",
      "=\n",
      "-\n",
      "?\n",
      "神\n",
      "海\n",
      "定\n",
      "針\n",
      "？\n",
      "了\n",
      "嗎\n",
      "好\n",
      "啊\n",
      "ㄇ\n",
      "不\n",
      "↑\n",
      "←\n"
     ]
    }
   ],
   "source": [
    "for i in range(0,24):\n",
    "    print(model.vocab[i])"
   ]
  },
  {
   "cell_type": "code",
   "execution_count": 61,
   "metadata": {},
   "outputs": [
    {
     "name": "stdout",
     "output_type": "stream",
     "text": [
      "宇宙\n",
      "幸運\n",
      "真人\n",
      "高中\n",
      "大學生\n",
      "帥\n",
      "腫哥\n",
      "妳是\n",
      "問你\n",
      "高中生\n"
     ]
    }
   ],
   "source": [
    "model = word2vec.load('corpusWord2Vec.bin')\n",
    "indexes = model.cosine(u'學生') # 此字詞有出現在corpusWord2Vec.bin當中\n",
    "for index in indexes[0]:\n",
    "    print(model.vocab[index])"
   ]
  },
  {
   "cell_type": "code",
   "execution_count": 62,
   "metadata": {},
   "outputs": [
    {
     "name": "stdout",
     "output_type": "stream",
     "text": [
      "之前\n",
      "上\n",
      "工作\n",
      "想到\n",
      "只是\n",
      "時間\n",
      "他們\n",
      "po\n",
      "那麼\n",
      "其他人\n"
     ]
    }
   ],
   "source": [
    "model = word2vec.load('corpusWord2Vec.bin')\n",
    "indexes = model.cosine(u'錢') # 此字詞有出現在corpusWord2Vec.bin當中\n",
    "for index in indexes[0]:\n",
    "    print(model.vocab[index])"
   ]
  },
  {
   "cell_type": "code",
   "execution_count": 67,
   "metadata": {},
   "outputs": [
    {
     "name": "stdout",
     "output_type": "stream",
     "text": [
      "聊聊\n",
      "五分\n",
      "土城\n",
      "當\n",
      "还\n",
      "運動\n",
      "還能\n",
      "腦子\n",
      "單獨\n",
      "別想\n"
     ]
    }
   ],
   "source": [
    "model = word2vec.load('corpusWord2Vec.bin')\n",
    "indexes = model.cosine(u'交換') # 此字詞有出現在corpusWord2Vec.bin當中\n",
    "for index in indexes[0]:\n",
    "    print(model.vocab[index])"
   ]
  },
  {
   "cell_type": "code",
   "execution_count": 54,
   "metadata": {},
   "outputs": [],
   "source": [
    "index1,metrics1 = model.cosine(u'學生')\n",
    "index2,metrics2 = model.cosine(u'聊天')\n",
    "index3,metrics3 = model.cosine(u'社會')\n",
    "# index4,metrics4 = model.cosine(u'錢')\n",
    "# index5,metrics5 = model.cosine(u'可以')"
   ]
  },
  {
   "cell_type": "code",
   "execution_count": 55,
   "metadata": {},
   "outputs": [],
   "source": [
    "import numpy as np\n",
    "index01 = np.where(model.vocab == u'學生')\n",
    "index02 = np.where(model.vocab == u'聊天')\n",
    "index03 = np.where(model.vocab == u'社會')\n",
    "# index04 = np.where(model.vocab == u'錢')\n",
    "# index05 = np.where(model.vocab == u'可以')"
   ]
  },
  {
   "cell_type": "code",
   "execution_count": 56,
   "metadata": {},
   "outputs": [],
   "source": [
    "index1 = np.append(index1,index01)\n",
    "index2 = np.append(index2,index02)\n",
    "index3 = np.append(index3,index03)\n",
    "# index4 = np.append(index4,index04)\n",
    "# index5 = np.append(index5,index05)"
   ]
  },
  {
   "cell_type": "code",
   "execution_count": 57,
   "metadata": {},
   "outputs": [],
   "source": [
    "import numpy as np\n",
    "# 視覺化套件\n",
    "import matplotlib\n",
    "import matplotlib.pyplot as plt\n",
    "# 主成分因子\n",
    "from sklearn.decomposition import PCA"
   ]
  },
  {
   "cell_type": "code",
   "execution_count": 58,
   "metadata": {},
   "outputs": [],
   "source": [
    "rawWordVec = model.vectors\n",
    "# 將原本300維向量空間降為2維\n",
    "X_reduced = PCA(n_components=2).fit_transform(rawWordVec)"
   ]
  },
  {
   "cell_type": "code",
   "execution_count": 60,
   "metadata": {},
   "outputs": [
    {
     "data": {
      "image/png": "[encoded data removed]",
      "text/plain": [
       "<matplotlib.figure.Figure at 0x7f6908cc90b8>"
      ]
     },
     "metadata": {},
     "output_type": "display_data"
    },
    {
     "data": {
      "text/plain": [
       "<matplotlib.figure.Figure at 0x7f6908c48470>"
      ]
     },
     "metadata": {},
     "output_type": "display_data"
    }
   ],
   "source": [
    "zhfont = matplotlib.font_manager.FontProperties(fname='wqy-microhei.ttc')\n",
    "# 畫圖\n",
    "fig = plt.figure()\n",
    "ax = fig.add_subplot(111)\n",
    " \n",
    "for i in index1:\n",
    "    ax.text(X_reduced[i][0],X_reduced[i][1],model.vocab[i], fontproperties=zhfont,color='C3')\n",
    "for i in index2:\n",
    "    ax.text(X_reduced[i][0],X_reduced[i][1],model.vocab[i], fontproperties = zhfont,color= 'C1')\n",
    "for i in index3:\n",
    "    ax.text(X_reduced[i][0],X_reduced[i][1],model.vocab[i], fontproperties=zhfont,color='C7')\n",
    "# for i in index4:\n",
    "#     ax.text(X_reduced[i][0],X_reduced[i][1],model.vocab[i], fontproperties=zhfont,color='C0')\n",
    "# for i in index5:\n",
    "#     ax.text(X_reduced[i][0],X_reduced[i][1],model.vocab[i], fontproperties=zhfont,color='C4')\n",
    "ax.axis([0,0.5,-0.2,0.6])\n",
    "plt.figure(figsize=(100,100))\n",
    "plt.show()"
   ]
  },
  {
   "cell_type": "code",
   "execution_count": null,
   "metadata": {},
   "outputs": [],
   "source": []
  },
  {
   "cell_type": "code",
   "execution_count": 12,
   "metadata": {},
   "outputs": [],
   "source": [
    "def loadjieba():\n",
    "  # 使用繁體中文詞庫\n",
    "  jieba.set_dictionary('jieba_txt/dict.txt.big.txt')\n",
    "  # 將自定義詞庫加進來\n",
    "  jieba.load_userdict(\"jieba_txt/userdict.txt\") \n",
    "  # 停用詞\n",
    "  jieba.analyse.set_stop_words(\"jieba_txt/stop_words.txt\")\n",
    "  jieba.analyse.set_idf_path(\"jieba_txt/idf.txt.big.txt\")\n",
    "\n",
    "  # input_file = open(filename, 'r', encoding = utf8())\n",
    "\n",
    "# def cutandcount(filename):\n",
    "#   content = open(filename, 'rb').read()\n",
    "#   seglist = jieba.cut(content, cut_all=False)\n",
    "#   chars = set(' 0123456789()$,:.。，/􀆿\\r\\n')\n",
    "\n",
    "\n",
    "# # 原本在字典裡的 斷詞 ＆ 頻率\n",
    "# # 讀入 og_dict\n",
    "#   with open('newdict.txt','rt') as f:\n",
    "#     for line in f:\n",
    "#       k = line.split('\\t')[0]\n",
    "#       v = line.split('\\t')[1][:-1]\n",
    "      \n",
    "#       if k in og_dict.keys():\n",
    "#         og_dict[k] = v+1\n",
    "#       else:\n",
    "#         og_dict[k] = v\n",
    "\n",
    "\n",
    "# # 斷新的文字檔之後，把新的詞加入並把頻率設成 1\n",
    "# # 舊的詞在 value +1\n",
    "#   for word in seglist:\n",
    "#     if any((c in chars) for c in word):\n",
    "#       continue\n",
    "#     else:\n",
    "#       if not word in og_dict.keys():\n",
    "#         og_dict[word] = 1\n",
    "#       else:\n",
    "#         og_dict[word] = int(og_dict[word]) + 1\n",
    "\n",
    "#   print('it is NEW DATA !!!!!'+str(og_dict)+'!!!!')\n",
    "\n",
    "#   with open('newdict.txt','w') as f:\n",
    "#       for k,v in og_dict.items():\n",
    "#         f.write(k+'\\t'+str(v)+'\\n')\n",
    "\n"
   ]
  },
  {
   "cell_type": "code",
   "execution_count": 31,
   "metadata": {},
   "outputs": [],
   "source": [
    "\n",
    "df = df[df['text'].str.contains(\"https|Britain\")== False]"
   ]
  },
  {
   "cell_type": "code",
   "execution_count": 33,
   "metadata": {},
   "outputs": [
    {
     "data": {
      "text/plain": [
       "91340"
      ]
     },
     "execution_count": 33,
     "metadata": {},
     "output_type": "execute_result"
    }
   ],
   "source": [
    "df.head()\n",
    "len(df)"
   ]
  },
  {
   "cell_type": "markdown",
   "metadata": {},
   "source": [
    "## Groupby by 'from' column "
   ]
  },
  {
   "cell_type": "code",
   "execution_count": 34,
   "metadata": {},
   "outputs": [],
   "source": [
    "grouped_data = df.groupby('from')['text'].apply(lambda x: '/'.join(x)).reset_index()"
   ]
  },
  {
   "cell_type": "code",
   "execution_count": 35,
   "metadata": {},
   "outputs": [],
   "source": [
    "test= grouped_data.head(100)"
   ]
  },
  {
   "cell_type": "code",
   "execution_count": 36,
   "metadata": {},
   "outputs": [
    {
     "data": {
      "text/html": [
       "<div>\n",
       "<style scoped>\n",
       "    .dataframe tbody tr th:only-of-type {\n",
       "        vertical-align: middle;\n",
       "    }\n",
       "\n",
       "    .dataframe tbody tr th {\n",
       "        vertical-align: top;\n",
       "    }\n",
       "\n",
       "    .dataframe thead th {\n",
       "        text-align: right;\n",
       "    }\n",
       "</style>\n",
       "<table border=\"1\" class=\"dataframe\">\n",
       "  <thead>\n",
       "    <tr style=\"text-align: right;\">\n",
       "      <th></th>\n",
       "      <th>from</th>\n",
       "      <th>text</th>\n",
       "    </tr>\n",
       "  </thead>\n",
       "  <tbody>\n",
       "    <tr>\n",
       "      <th>0</th>\n",
       "      <td>1000970273334199</td>\n",
       "      <td>找不到阿/安安/你有打LOL嗎/好吧，可以帶我嗎/安安/凸/Sor/嗯/約哪/有啊/你先約的...</td>\n",
       "    </tr>\n",
       "    <tr>\n",
       "      <th>1</th>\n",
       "      <td>1001070263323689</td>\n",
       "      <td>!?/唐寶寶/你那麼愛慕他ㄇ/嗨/先問問您期望本人的性別是?/了解/我是男的/抱歉沒有/請問...</td>\n",
       "    </tr>\n",
       "    <tr>\n",
       "      <th>2</th>\n",
       "      <td>1001967239901904</td>\n",
       "      <td>早/在床上發懶/爆/斷/魂/你在暗諷綠藻嘛/壞/話說我好餓ㄛ/窩不要這個qq/ㄋ早餐吃什麼/...</td>\n",
       "    </tr>\n",
       "    <tr>\n",
       "      <th>3</th>\n",
       "      <td>1003172849781848</td>\n",
       "      <td>甲/你要做我的0？/人生勝利組是不會來玩這個的/你一定不是c銘/也不是業王/葉你妹/被盜/其...</td>\n",
       "    </tr>\n",
       "    <tr>\n",
       "      <th>4</th>\n",
       "      <td>1003929993039131</td>\n",
       "      <td>吃噓/肥宅早/我們不是場外人/場外ㄈㄓ/我沒用了/安安/是喔/場外ㄈㄓ嗎/豪/斷/欸/在打手...</td>\n",
       "    </tr>\n",
       "  </tbody>\n",
       "</table>\n",
       "</div>"
      ],
      "text/plain": [
       "               from                                               text\n",
       "0  1000970273334199  找不到阿/安安/你有打LOL嗎/好吧，可以帶我嗎/安安/凸/Sor/嗯/約哪/有啊/你先約的...\n",
       "1  1001070263323689  !?/唐寶寶/你那麼愛慕他ㄇ/嗨/先問問您期望本人的性別是?/了解/我是男的/抱歉沒有/請問...\n",
       "2  1001967239901904  早/在床上發懶/爆/斷/魂/你在暗諷綠藻嘛/壞/話說我好餓ㄛ/窩不要這個qq/ㄋ早餐吃什麼/...\n",
       "3  1003172849781848  甲/你要做我的0？/人生勝利組是不會來玩這個的/你一定不是c銘/也不是業王/葉你妹/被盜/其...\n",
       "4  1003929993039131  吃噓/肥宅早/我們不是場外人/場外ㄈㄓ/我沒用了/安安/是喔/場外ㄈㄓ嗎/豪/斷/欸/在打手..."
      ]
     },
     "execution_count": 36,
     "metadata": {},
     "output_type": "execute_result"
    }
   ],
   "source": [
    "test.head()"
   ]
  },
  {
   "cell_type": "code",
   "execution_count": 39,
   "metadata": {},
   "outputs": [
    {
     "data": {
      "text/html": [
       "<div>\n",
       "<style scoped>\n",
       "    .dataframe tbody tr th:only-of-type {\n",
       "        vertical-align: middle;\n",
       "    }\n",
       "\n",
       "    .dataframe tbody tr th {\n",
       "        vertical-align: top;\n",
       "    }\n",
       "\n",
       "    .dataframe thead th {\n",
       "        text-align: right;\n",
       "    }\n",
       "</style>\n",
       "<table border=\"1\" class=\"dataframe\">\n",
       "  <thead>\n",
       "    <tr style=\"text-align: right;\">\n",
       "      <th></th>\n",
       "      <th>from</th>\n",
       "      <th>text</th>\n",
       "    </tr>\n",
       "  </thead>\n",
       "  <tbody>\n",
       "    <tr>\n",
       "      <th>0</th>\n",
       "      <td>1000970273334199</td>\n",
       "      <td>[找不到阿, 安安, 你有打LOL嗎, 好吧，可以帶我嗎, 安安, 凸, Sor, 嗯, 約...</td>\n",
       "    </tr>\n",
       "    <tr>\n",
       "      <th>1</th>\n",
       "      <td>1001070263323689</td>\n",
       "      <td>[!?, 唐寶寶, 你那麼愛慕他ㄇ, 嗨, 先問問您期望本人的性別是?, 了解, 我是男的,...</td>\n",
       "    </tr>\n",
       "    <tr>\n",
       "      <th>2</th>\n",
       "      <td>1001967239901904</td>\n",
       "      <td>[早, 在床上發懶, 爆, 斷, 魂, 你在暗諷綠藻嘛, 壞, 話說我好餓ㄛ, 窩不要這個q...</td>\n",
       "    </tr>\n",
       "    <tr>\n",
       "      <th>3</th>\n",
       "      <td>1003172849781848</td>\n",
       "      <td>[甲, 你要做我的0？, 人生勝利組是不會來玩這個的, 你一定不是c銘, 也不是業王, 葉你...</td>\n",
       "    </tr>\n",
       "    <tr>\n",
       "      <th>4</th>\n",
       "      <td>1003929993039131</td>\n",
       "      <td>[吃噓, 肥宅早, 我們不是場外人, 場外ㄈㄓ, 我沒用了, 安安, 是喔, 場外ㄈㄓ嗎, ...</td>\n",
       "    </tr>\n",
       "    <tr>\n",
       "      <th>5</th>\n",
       "      <td>1006942526092443</td>\n",
       "      <td>[安, 是, 靠北哈哈, 是要說啥, 呃, 對呀, 好, 那我們來玩個遊戲, 1188-11...</td>\n",
       "    </tr>\n",
       "    <tr>\n",
       "      <th>6</th>\n",
       "      <td>1007352782715651</td>\n",
       "      <td>[嗨, ......., 看來是沒有, 我是有差點想打, 哈哈, 真的離開喔, 想說多打一句...</td>\n",
       "    </tr>\n",
       "    <tr>\n",
       "      <th>7</th>\n",
       "      <td>1018989321532115</td>\n",
       "      <td>[Hi, O.O, Ooo, 黃色那隻, 已知啊, Hi, 還沒睡啊, 不睡啊]</td>\n",
       "    </tr>\n",
       "    <tr>\n",
       "      <th>8</th>\n",
       "      <td>1020089304775462</td>\n",
       "      <td>[嗨, 嗨, 斷, 嗨, 哪裡人, 挖, 國外耶, 天龍國人啊, 感覺不同世界, 嗨, 安安...</td>\n",
       "    </tr>\n",
       "    <tr>\n",
       "      <th>9</th>\n",
       "      <td>1020229148084642</td>\n",
       "      <td>[安安]</td>\n",
       "    </tr>\n",
       "    <tr>\n",
       "      <th>10</th>\n",
       "      <td>1020244088095767</td>\n",
       "      <td>[闢咧?, 小編?, 囉, 配對成功，您與陌生人連線了，可以開始聊天囉！！]</td>\n",
       "    </tr>\n",
       "    <tr>\n",
       "      <th>11</th>\n",
       "      <td>1026226497490186</td>\n",
       "      <td>[嗨, ㄤㄤ, ㄩㄇ, ㄩㄇ, ？, ㄩㄇ, 幹真的滿地場外人, 氣死, 你是, 假小妹？？...</td>\n",
       "    </tr>\n",
       "    <tr>\n",
       "      <th>12</th>\n",
       "      <td>1026725947396093</td>\n",
       "      <td>[沒人理我, ？？？？, ㄩㄇ, 不要阿, Yo啥, 8+9, ？, ...., 你不是, ...</td>\n",
       "    </tr>\n",
       "    <tr>\n",
       "      <th>13</th>\n",
       "      <td>1027517360702603</td>\n",
       "      <td>[ㄩㄇ]</td>\n",
       "    </tr>\n",
       "    <tr>\n",
       "      <th>14</th>\n",
       "      <td>1032159903558547</td>\n",
       "      <td>[Hi,, English?, My name is Wunan, XD, Fuck, It...</td>\n",
       "    </tr>\n",
       "    <tr>\n",
       "      <th>15</th>\n",
       "      <td>1033724770074424</td>\n",
       "      <td>[Hi, 你怎麼會用這個, 那是什麼, 朋友臉書]</td>\n",
       "    </tr>\n",
       "    <tr>\n",
       "      <th>16</th>\n",
       "      <td>1033950489987576</td>\n",
       "      <td>[男要約, 87, 約啊, 就是約出來, 你是男的嗎, 那你也是Andy wang, 不然勒...</td>\n",
       "    </tr>\n",
       "    <tr>\n",
       "      <th>17</th>\n",
       "      <td>1036991086414609</td>\n",
       "      <td>[8主, 一堆場外]</td>\n",
       "    </tr>\n",
       "    <tr>\n",
       "      <th>18</th>\n",
       "      <td>1039020552872155</td>\n",
       "      <td>[三小, 要打圖戰？, 凶喔, 你是八家將對不對, 豪, 我回了, 然後, 你要來干我媽了沒...</td>\n",
       "    </tr>\n",
       "    <tr>\n",
       "      <th>19</th>\n",
       "      <td>1040646796050279</td>\n",
       "      <td>[.., 我場外最正常, 你好 我是他弟弟 王希芝, 約浪漫??, 所以要約嗎, 我臺南王c...</td>\n",
       "    </tr>\n",
       "    <tr>\n",
       "      <th>20</th>\n",
       "      <td>1042871162500813</td>\n",
       "      <td>[覺得酷, ?, 好吃]</td>\n",
       "    </tr>\n",
       "    <tr>\n",
       "      <th>21</th>\n",
       "      <td>1043919855725255</td>\n",
       "      <td>[安, 男孩女？, 嗨, ？, 嗨, 男還女？, 嗨, 請問你什麼星座, 雙魚, 你是女的還...</td>\n",
       "    </tr>\n",
       "    <tr>\n",
       "      <th>22</th>\n",
       "      <td>1043999068987679</td>\n",
       "      <td>[嗨, ㄩㄇ, 你劍華, 抓到了]</td>\n",
       "    </tr>\n",
       "    <tr>\n",
       "      <th>23</th>\n",
       "      <td>1044115742339726</td>\n",
       "      <td>[野, 斷, 到處都是場外, 幹, 安安, ㄩㄇ, ㄩㄇ, 幹, 笑死, ㄩㄇ, 當然, 安...</td>\n",
       "    </tr>\n",
       "    <tr>\n",
       "      <th>24</th>\n",
       "      <td>1044566478913976</td>\n",
       "      <td>[你好, 是不是應該隱藏個資, 哈哈, 哈, 不能問東問西, 的意思, ㄚㄏ, 你男森還女森...</td>\n",
       "    </tr>\n",
       "    <tr>\n",
       "      <th>25</th>\n",
       "      <td>1046707095376540</td>\n",
       "      <td>[女嗎正嗎, 我也還好 話說這是真人回覆嗎, 真假, 你幾歲呀, 好年輕=二, 22, fb...</td>\n",
       "    </tr>\n",
       "    <tr>\n",
       "      <th>26</th>\n",
       "      <td>1053282451454481</td>\n",
       "      <td>[安安, 約ㄇ, 加我fb, Andy wang, 讓你幸福的不要不要, 你哪裡人, 我中壢...</td>\n",
       "    </tr>\n",
       "    <tr>\n",
       "      <th>27</th>\n",
       "      <td>1053754178033684</td>\n",
       "      <td>[安安, 蹲, ?, 這個好有趣喔, 不知道怎麼做到的XD, 對阿 可是在FB的視窗, 搞到...</td>\n",
       "    </tr>\n",
       "    <tr>\n",
       "      <th>28</th>\n",
       "      <td>1056370194477514</td>\n",
       "      <td>[真棒, 嗨, 場外？, ==, ==\\n不早了, 私cp?, 約浪漫, 鬧哦, 雖然這是遊...</td>\n",
       "    </tr>\n",
       "    <tr>\n",
       "      <th>29</th>\n",
       "      <td>1058198460960884</td>\n",
       "      <td>[給約嗎😂, 沒, 被盜, 嗯嗯, 不要, 我是葉粉, 抱歉, 豪]</td>\n",
       "    </tr>\n",
       "    <tr>\n",
       "      <th>...</th>\n",
       "      <td>...</td>\n",
       "      <td>...</td>\n",
       "    </tr>\n",
       "    <tr>\n",
       "      <th>70</th>\n",
       "      <td>1086621688081497</td>\n",
       "      <td>[鉿, 你, 是, 我網路有點慢喔]</td>\n",
       "    </tr>\n",
       "    <tr>\n",
       "      <th>71</th>\n",
       "      <td>1086622481431705</td>\n",
       "      <td>[安安 我4小妹&gt;&lt;, 沒, 這不是窩, QQ 窩真小妹, 窩可以要你ㄉFBㄇ, 是不是叫A...</td>\n",
       "    </tr>\n",
       "    <tr>\n",
       "      <th>72</th>\n",
       "      <td>1087410478003239</td>\n",
       "      <td>[87, 我是王希銘, 啊打錯, 我是郭峻佑, 認識我嗎, 蒸蚌, 你好我是王希銘, ㄩㄇ,...</td>\n",
       "    </tr>\n",
       "    <tr>\n",
       "      <th>73</th>\n",
       "      <td>1087758854646232</td>\n",
       "      <td>[男]</td>\n",
       "    </tr>\n",
       "    <tr>\n",
       "      <th>74</th>\n",
       "      <td>1087766737967020</td>\n",
       "      <td>[ㄏ嚕, 咪嚕咪嚕, 原來是同好, 哪裡人r, 我昨天有去桃園, ...., 楓之谷讚, 我...</td>\n",
       "    </tr>\n",
       "    <tr>\n",
       "      <th>75</th>\n",
       "      <td>1088820244532337</td>\n",
       "      <td>[安, 場外？, 嘖嘖, 是有在line群的？, 怕, 不是, 好ㄅ, 還是乖乖好ㄅ, 你的...</td>\n",
       "    </tr>\n",
       "    <tr>\n",
       "      <th>76</th>\n",
       "      <td>1089423734484278</td>\n",
       "      <td>[安]</td>\n",
       "    </tr>\n",
       "    <tr>\n",
       "      <th>77</th>\n",
       "      <td>1089689354441993</td>\n",
       "      <td>[LINE版爆炸啦😨😨😨, 嗨, 台北, what?, 喔, 嗨, 安安 屁孩 天龍國 不浪...</td>\n",
       "    </tr>\n",
       "    <tr>\n",
       "      <th>78</th>\n",
       "      <td>1089914481078438</td>\n",
       "      <td>[Yee, 嗨, 甲爆, 噁甲, 我不給ㄩ\\n\\n別跟我說什麼霸主的我不認識管他算什麼咖\\n...</td>\n",
       "    </tr>\n",
       "    <tr>\n",
       "      <th>79</th>\n",
       "      <td>1090026881078373</td>\n",
       "      <td>[ㄢㄢ, 什麼是場外, ㄛㄛ, 腿照謝謝, 約ㄇ, 這是你？？, ㄢㄢ, 幾歲住哪, 約ㄇ,...</td>\n",
       "    </tr>\n",
       "    <tr>\n",
       "      <th>80</th>\n",
       "      <td>1090280167754151</td>\n",
       "      <td>[靠妖自己跟自己喔]</td>\n",
       "    </tr>\n",
       "    <tr>\n",
       "      <th>81</th>\n",
       "      <td>1090720271017434</td>\n",
       "      <td>[愛霸主, 地方的媽媽們需要做愛, 講話阿北七, 幹, 約浪漫？, 我是希銘, 31, 職業...</td>\n",
       "    </tr>\n",
       "    <tr>\n",
       "      <th>82</th>\n",
       "      <td>1091016024313037</td>\n",
       "      <td>[哦嘿, 咦不是跟自己聊了ㄎㄎ, 有些人耍腦哈哈, 跟別人打一樣的字, 跟自己聊天哈哈]</td>\n",
       "    </tr>\n",
       "    <tr>\n",
       "      <th>83</th>\n",
       "      <td>1091315050982458</td>\n",
       "      <td>[已離開聊天室\\n\\n請輸入 0011 或 我要配對 \\n重新啟動隨機配對\\n\\n輸入 00...</td>\n",
       "    </tr>\n",
       "    <tr>\n",
       "      <th>84</th>\n",
       "      <td>1091342787651428</td>\n",
       "      <td>[hi, 台北, coll, cool, 怎麼會知道這個, 喔喔喔, ㄜ, Yo, Wher...</td>\n",
       "    </tr>\n",
       "    <tr>\n",
       "      <th>85</th>\n",
       "      <td>1091915614211088</td>\n",
       "      <td>[1, 嘿, 黃金開口笑 ㄤㄤㄤㄤㄤㄤㄤㄤㄤ, 不甲, 1, 3, 5, 7, 19, 不約...</td>\n",
       "    </tr>\n",
       "    <tr>\n",
       "      <th>86</th>\n",
       "      <td>1092969700791156</td>\n",
       "      <td>[男, 女, 對方已離開聊天室\\n\\n請輸入 0011 或 我要配對 \\n重新啟動隨機配對\\...</td>\n",
       "    </tr>\n",
       "    <tr>\n",
       "      <th>87</th>\n",
       "      <td>1093414167416669</td>\n",
       "      <td>[Hi, 我現在很荒....., 剛剛我爸送icu.., 沒辦法進去看, C銘別鬧了 我認真...</td>\n",
       "    </tr>\n",
       "    <tr>\n",
       "      <th>88</th>\n",
       "      <td>1095372420554846</td>\n",
       "      <td>[？]</td>\n",
       "    </tr>\n",
       "    <tr>\n",
       "      <th>89</th>\n",
       "      <td>1095670610526954</td>\n",
       "      <td>[180, 75, 男, 沒, 180, 75, 180, 75]</td>\n",
       "    </tr>\n",
       "    <tr>\n",
       "      <th>90</th>\n",
       "      <td>1097039587049960</td>\n",
       "      <td>[安安 要跟我浪漫？, ㄅ4, 外面渣男很多 只有我不是, 你場外？, 對r, 我進來只是看...</td>\n",
       "    </tr>\n",
       "    <tr>\n",
       "      <th>91</th>\n",
       "      <td>1097142093712948</td>\n",
       "      <td>[Hi, ㄩㄇ]</td>\n",
       "    </tr>\n",
       "    <tr>\n",
       "      <th>92</th>\n",
       "      <td>1098086130277625</td>\n",
       "      <td>[安安, 請問這垃圾聊天有人ㄇ, 開話題阿, 這個訊息也太慢了ㄅ, 女子口屋, 窩是男的, ...</td>\n",
       "    </tr>\n",
       "    <tr>\n",
       "      <th>93</th>\n",
       "      <td>1098091440270146</td>\n",
       "      <td>[閉嘴魯蛇, 我勝利組]</td>\n",
       "    </tr>\n",
       "    <tr>\n",
       "      <th>94</th>\n",
       "      <td>1099328176830524</td>\n",
       "      <td>[?, ?]</td>\n",
       "    </tr>\n",
       "    <tr>\n",
       "      <th>95</th>\n",
       "      <td>1099933000055759</td>\n",
       "      <td>[是腫哥嗎, 安安, 腫哥嗎, 你不是場外人嗎, 你是從哪裡得知這個地方的, 這地方基本上都...</td>\n",
       "    </tr>\n",
       "    <tr>\n",
       "      <th>96</th>\n",
       "      <td>1102061886543542</td>\n",
       "      <td>[嗨你好]</td>\n",
       "    </tr>\n",
       "    <tr>\n",
       "      <th>97</th>\n",
       "      <td>1102837906465089</td>\n",
       "      <td>[約浪漫]</td>\n",
       "    </tr>\n",
       "    <tr>\n",
       "      <th>98</th>\n",
       "      <td>1102946709758451</td>\n",
       "      <td>[ㄢㄢ, 你是誰, 認親, 不是, ?, 不懂, ..., 安安, 😁😁😁, .., 嗨, ...</td>\n",
       "    </tr>\n",
       "    <tr>\n",
       "      <th>99</th>\n",
       "      <td>1102969429740410</td>\n",
       "      <td>[講話啊幹, ㄅ歉 &gt;&lt;, 女see, der, 我以為這裡都場外肥宅, ..., 真der...</td>\n",
       "    </tr>\n",
       "  </tbody>\n",
       "</table>\n",
       "<p>100 rows × 2 columns</p>\n",
       "</div>"
      ],
      "text/plain": [
       "                from                                               text\n",
       "0   1000970273334199  [找不到阿, 安安, 你有打LOL嗎, 好吧，可以帶我嗎, 安安, 凸, Sor, 嗯, 約...\n",
       "1   1001070263323689  [!?, 唐寶寶, 你那麼愛慕他ㄇ, 嗨, 先問問您期望本人的性別是?, 了解, 我是男的,...\n",
       "2   1001967239901904  [早, 在床上發懶, 爆, 斷, 魂, 你在暗諷綠藻嘛, 壞, 話說我好餓ㄛ, 窩不要這個q...\n",
       "3   1003172849781848  [甲, 你要做我的0？, 人生勝利組是不會來玩這個的, 你一定不是c銘, 也不是業王, 葉你...\n",
       "4   1003929993039131  [吃噓, 肥宅早, 我們不是場外人, 場外ㄈㄓ, 我沒用了, 安安, 是喔, 場外ㄈㄓ嗎, ...\n",
       "5   1006942526092443  [安, 是, 靠北哈哈, 是要說啥, 呃, 對呀, 好, 那我們來玩個遊戲, 1188-11...\n",
       "6   1007352782715651  [嗨, ......., 看來是沒有, 我是有差點想打, 哈哈, 真的離開喔, 想說多打一句...\n",
       "7   1018989321532115           [Hi, O.O, Ooo, 黃色那隻, 已知啊, Hi, 還沒睡啊, 不睡啊]\n",
       "8   1020089304775462  [嗨, 嗨, 斷, 嗨, 哪裡人, 挖, 國外耶, 天龍國人啊, 感覺不同世界, 嗨, 安安...\n",
       "9   1020229148084642                                               [安安]\n",
       "10  1020244088095767             [闢咧?, 小編?, 囉, 配對成功，您與陌生人連線了，可以開始聊天囉！！]\n",
       "11  1026226497490186  [嗨, ㄤㄤ, ㄩㄇ, ㄩㄇ, ？, ㄩㄇ, 幹真的滿地場外人, 氣死, 你是, 假小妹？？...\n",
       "12  1026725947396093  [沒人理我, ？？？？, ㄩㄇ, 不要阿, Yo啥, 8+9, ？, ...., 你不是, ...\n",
       "13  1027517360702603                                               [ㄩㄇ]\n",
       "14  1032159903558547  [Hi,, English?, My name is Wunan, XD, Fuck, It...\n",
       "15  1033724770074424                          [Hi, 你怎麼會用這個, 那是什麼, 朋友臉書]\n",
       "16  1033950489987576  [男要約, 87, 約啊, 就是約出來, 你是男的嗎, 那你也是Andy wang, 不然勒...\n",
       "17  1036991086414609                                         [8主, 一堆場外]\n",
       "18  1039020552872155  [三小, 要打圖戰？, 凶喔, 你是八家將對不對, 豪, 我回了, 然後, 你要來干我媽了沒...\n",
       "19  1040646796050279  [.., 我場外最正常, 你好 我是他弟弟 王希芝, 約浪漫??, 所以要約嗎, 我臺南王c...\n",
       "20  1042871162500813                                       [覺得酷, ?, 好吃]\n",
       "21  1043919855725255  [安, 男孩女？, 嗨, ？, 嗨, 男還女？, 嗨, 請問你什麼星座, 雙魚, 你是女的還...\n",
       "22  1043999068987679                                  [嗨, ㄩㄇ, 你劍華, 抓到了]\n",
       "23  1044115742339726  [野, 斷, 到處都是場外, 幹, 安安, ㄩㄇ, ㄩㄇ, 幹, 笑死, ㄩㄇ, 當然, 安...\n",
       "24  1044566478913976  [你好, 是不是應該隱藏個資, 哈哈, 哈, 不能問東問西, 的意思, ㄚㄏ, 你男森還女森...\n",
       "25  1046707095376540  [女嗎正嗎, 我也還好 話說這是真人回覆嗎, 真假, 你幾歲呀, 好年輕=二, 22, fb...\n",
       "26  1053282451454481  [安安, 約ㄇ, 加我fb, Andy wang, 讓你幸福的不要不要, 你哪裡人, 我中壢...\n",
       "27  1053754178033684  [安安, 蹲, ?, 這個好有趣喔, 不知道怎麼做到的XD, 對阿 可是在FB的視窗, 搞到...\n",
       "28  1056370194477514  [真棒, 嗨, 場外？, ==, ==\\n不早了, 私cp?, 約浪漫, 鬧哦, 雖然這是遊...\n",
       "29  1058198460960884                 [給約嗎😂, 沒, 被盜, 嗯嗯, 不要, 我是葉粉, 抱歉, 豪]\n",
       "..               ...                                                ...\n",
       "70  1086621688081497                                 [鉿, 你, 是, 我網路有點慢喔]\n",
       "71  1086622481431705  [安安 我4小妹><, 沒, 這不是窩, QQ 窩真小妹, 窩可以要你ㄉFBㄇ, 是不是叫A...\n",
       "72  1087410478003239  [87, 我是王希銘, 啊打錯, 我是郭峻佑, 認識我嗎, 蒸蚌, 你好我是王希銘, ㄩㄇ,...\n",
       "73  1087758854646232                                                [男]\n",
       "74  1087766737967020  [ㄏ嚕, 咪嚕咪嚕, 原來是同好, 哪裡人r, 我昨天有去桃園, ...., 楓之谷讚, 我...\n",
       "75  1088820244532337  [安, 場外？, 嘖嘖, 是有在line群的？, 怕, 不是, 好ㄅ, 還是乖乖好ㄅ, 你的...\n",
       "76  1089423734484278                                                [安]\n",
       "77  1089689354441993  [LINE版爆炸啦😨😨😨, 嗨, 台北, what?, 喔, 嗨, 安安 屁孩 天龍國 不浪...\n",
       "78  1089914481078438  [Yee, 嗨, 甲爆, 噁甲, 我不給ㄩ\\n\\n別跟我說什麼霸主的我不認識管他算什麼咖\\n...\n",
       "79  1090026881078373  [ㄢㄢ, 什麼是場外, ㄛㄛ, 腿照謝謝, 約ㄇ, 這是你？？, ㄢㄢ, 幾歲住哪, 約ㄇ,...\n",
       "80  1090280167754151                                         [靠妖自己跟自己喔]\n",
       "81  1090720271017434  [愛霸主, 地方的媽媽們需要做愛, 講話阿北七, 幹, 約浪漫？, 我是希銘, 31, 職業...\n",
       "82  1091016024313037       [哦嘿, 咦不是跟自己聊了ㄎㄎ, 有些人耍腦哈哈, 跟別人打一樣的字, 跟自己聊天哈哈]\n",
       "83  1091315050982458  [已離開聊天室\\n\\n請輸入 0011 或 我要配對 \\n重新啟動隨機配對\\n\\n輸入 00...\n",
       "84  1091342787651428  [hi, 台北, coll, cool, 怎麼會知道這個, 喔喔喔, ㄜ, Yo, Wher...\n",
       "85  1091915614211088  [1, 嘿, 黃金開口笑 ㄤㄤㄤㄤㄤㄤㄤㄤㄤ, 不甲, 1, 3, 5, 7, 19, 不約...\n",
       "86  1092969700791156  [男, 女, 對方已離開聊天室\\n\\n請輸入 0011 或 我要配對 \\n重新啟動隨機配對\\...\n",
       "87  1093414167416669  [Hi, 我現在很荒....., 剛剛我爸送icu.., 沒辦法進去看, C銘別鬧了 我認真...\n",
       "88  1095372420554846                                                [？]\n",
       "89  1095670610526954                  [180, 75, 男, 沒, 180, 75, 180, 75]\n",
       "90  1097039587049960  [安安 要跟我浪漫？, ㄅ4, 外面渣男很多 只有我不是, 你場外？, 對r, 我進來只是看...\n",
       "91  1097142093712948                                           [Hi, ㄩㄇ]\n",
       "92  1098086130277625  [安安, 請問這垃圾聊天有人ㄇ, 開話題阿, 這個訊息也太慢了ㄅ, 女子口屋, 窩是男的, ...\n",
       "93  1098091440270146                                       [閉嘴魯蛇, 我勝利組]\n",
       "94  1099328176830524                                             [?, ?]\n",
       "95  1099933000055759  [是腫哥嗎, 安安, 腫哥嗎, 你不是場外人嗎, 你是從哪裡得知這個地方的, 這地方基本上都...\n",
       "96  1102061886543542                                              [嗨你好]\n",
       "97  1102837906465089                                              [約浪漫]\n",
       "98  1102946709758451  [ㄢㄢ, 你是誰, 認親, 不是, ?, 不懂, ..., 安安, 😁😁😁, .., 嗨, ...\n",
       "99  1102969429740410  [講話啊幹, ㄅ歉 ><, 女see, der, 我以為這裡都場外肥宅, ..., 真der...\n",
       "\n",
       "[100 rows x 2 columns]"
      ]
     },
     "execution_count": 39,
     "metadata": {},
     "output_type": "execute_result"
    }
   ],
   "source": [
    "test"
   ]
  },
  {
   "cell_type": "markdown",
   "metadata": {},
   "source": [
    "## split item"
   ]
  },
  {
   "cell_type": "code",
   "execution_count": 37,
   "metadata": {},
   "outputs": [],
   "source": [
    "for i in range(len(test)):\n",
    "    test.iloc[i][1] = test.iloc[i][1].split('/')"
   ]
  },
  {
   "cell_type": "code",
   "execution_count": 38,
   "metadata": {},
   "outputs": [
    {
     "data": {
      "text/plain": [
       "['找不到阿',\n",
       " '安安',\n",
       " '你有打LOL嗎',\n",
       " '好吧，可以帶我嗎',\n",
       " '安安',\n",
       " '凸',\n",
       " 'Sor',\n",
       " '嗯',\n",
       " '約哪',\n",
       " '有啊',\n",
       " '你先約的啊',\n",
       " '喔',\n",
       " '輸入0088',\n",
       " '我懶的打了',\n",
       " '皮米屌',\n",
       " '這你嗎？',\n",
       " '魏癢癢',\n",
       " '哪裡人?',\n",
       " '住哪裡啦？',\n",
       " '超癢',\n",
       " '哪裡人?',\n",
       " '好遠',\n",
       " '其實還好',\n",
       " '新竹',\n",
       " '龍潭?',\n",
       " 'ㄏㄅㄨㄐㄅㄌㄗㄋ',\n",
       " '三小',\n",
       " '幹又ㄋ',\n",
       " '掰掰',\n",
       " '凹?',\n",
       " '凸sor']"
      ]
     },
     "execution_count": 38,
     "metadata": {},
     "output_type": "execute_result"
    }
   ],
   "source": [
    "(test.iloc[0][1])"
   ]
  },
  {
   "cell_type": "code",
   "execution_count": 45,
   "metadata": {},
   "outputs": [
    {
     "name": "stdout",
     "output_type": "stream",
     "text": [
      "['找/不到/阿', '安安', '你/有/打/LOL/嗎', '好/吧/，/可以/帶/我/嗎', '安安', '凸', 'Sor', '嗯', '約/哪', '有/啊', '你/先約/的/啊', '喔', '輸入/0088', '我/懶/的/打/了', '皮米/屌', '這你/嗎/？', '魏癢/癢', '哪裡/人/?', '住/哪裡/啦/？', '超癢', '哪裡/人/?', '好遠', '其實/還好', '新竹', '龍潭/?', 'ㄏ/ㄅ/ㄨ/ㄐ/ㄅ/ㄌ/ㄗ/ㄋ', '三小', '幹/又/ㄋ', '掰掰', '凹/?', '凸/sor']\n",
      "['!/?', '唐寶寶', '你/那麼/愛慕/他/ㄇ', '嗨', '先/問問/您/期望/本人/的/性別/是/?', '了解', '我/是/男/的', '抱歉/沒有', '請問/您/有/玩龍族/拼圖/嗎/？', '我輸/掉/可以/安慰/我/一下/嗎', '如果/你/安慰/我/我/會/很/開心/的', '我/好/想/尿/尿', '有/點/髒', '而且/要/清/很/麻煩/欸', '乾/你/怎麼/知道/我/是/男/的', 'What', 'Are/ /you/ /kidding/ /me', '真的/嗎', '下次/試試/看', '我/好/想/尿/尿', '這是/舒服/的/事/ /不用/怕', 'ㄋ/會/舒服/啊/ㄅ/4/我', '不是/啊/誰/跟/你/說/我/要/用/舔/ㄉ/ㄌ', '用/毛毛/的/棒子/刷/一刷/R', '好/啦/我/要/去/洗澡/ㄌ/我/女友/在/找/我/\\n/妹妹/ㄅ/ㄅ', '我剛/洗完/澡/ /嗨', '真的假/的/啊', '有緣', '啊/ /可惜/ /我還/沒/開始/吹', '好/的', '你/真/貼心', '好/那/我/先/吹/你/等/我/一下/XDD', '回來/ㄌ', '紅豆餅/是/怎樣/XDD', '會/嗎/哈哈哈', '哈哈哈哈/別理/他/他/怪人', '(/拍拍', '超可愛的/哈哈哈/XDD', '但/看到/桐人/我/必須/噓/!', '好/啦/別/難過', '你/難過/我/心痛', '幹嘛/這樣/ /我/很/真心/欸', '你/心痛/我/心痛/我/更/心痛', '你/也/很/讓/我/感到/很窩心', 'ˊ/ㄇ/ˋ', '你/說/ㄇ/嗎', '注音/ㄇ/啊', '喔/喔/ /那/是/注音/的/二聲/跟/四聲/啊', '我為/什麼/突然/覺得/有點/可愛啊/XDD', '哈哈哈/很/可愛啊', '不是/會/死/很多/腦細胞/那/還再/打/一次/XDD', '沒/欸', '喔/喔/對/齁/可以/用/複/製/的', '我/剛剛/腦子/當機/哈哈哈', '還在/!/!', '別難過/我會/心痛/QuQ', 'QAQ', '話/說/你/剛剛/說/重開機/那句/我還/真的/沒/注意/到/欸', '我/的/錯/你/懲罰/我/吧/！/！', '沒有/啦/QAQ', '可是/我/讓/你/難過/了', '罪該/萬死/QAQ', '噢/不/懲罰/我/吧/!', '我會/被/罪惡/感淹/沒/的', 'Oh', 'So/ /sweet', '你/會/早睡/嗎', '記得/不要/為/了/我/睡/不/飽', '我會/難過', '算晚/吧', '我/習慣/了', '早睡/不了', '你/習慣/早睡/嗎', '沒辦法/都/玩手/機玩到/忘記/時間/哈哈', '所以/我/都/長/不/高/QQ', '可是/我/比/差不多/還矮/很多/QQ', '你/會/笑/我/嗎', '168QQ', '對/了/我/是/男/的/ /我們/好像/都/不/知道/對方/是/男/是/女/齁', '哈哈哈哈', '../你/認真/嗎', '真的假/的/啊/!/?', '靠/腰嚇/我/一/跳', '哈哈哈/我們/剛剛/還講/了/這麼/多/肉麻/的/話', '對/啊', '我/身高/不像/嗎/QQ', '偷/你/的/圖/哈哈哈', '女生/這樣/也/算/超高/吧', '嗚/嗚/嗚/嗚/嗚/嗚', '我/附近/女生/都/160/上下/而已/欸', '矮矮的/可愛', '165/快/逼近/我/了', '對/我/來/說/壓力/大', '那/是/你/那麼/高/才能/165/剛剛/好/啊/QQ', '我/快要/沒機會/了', '嗚/嗚/嗚/嗚/嗚/嗚', '欸/靠/你/怎麼/猜/這麼準', '你/這樣講/我/越來/越/擔心/了', '我/希望/我能/170/就/好', '霸/託', '我/不會/打球/QAQQQQQQQQ', 'NOOOOOOOOOOOO', '我覺/得/最/重要/要/早睡/吧', '可是', 'You/ /know', 'QAQQQ', '嗯/嗯/掰掰/XD', '啊/靠/還沒離/開/XD', '嗨', '安安', '!/!', '你/也/是/我/的/仰慕者/嗎', '你/往/窗外/看', '有/看到/夜空/中有顆/特別/閃亮/的/星/嗎', '配合/一下/嘛/你', '靠/唐寶寶', '約/浪漫', '靠', '誰/啊', 'Wow', '猛/i', '嗨/囉', '勝利組', '怕/./jpg', '好', '乾', '來/真的', '來/真的/喔', '抱歉/我/比/較/菜', '見/笑/了', '安安', '我/不/離開', '我/也/愛/你', '你/也/太慘', '邊緣/幫/你/QQ', '可是/男/的/你/也/愛嗎', '乾/我/才/不是/臭甲', 'ㄋ/才/臭/甲', '你/真/ㄉ/想/++/嗎', 'Line/可以/ㄇ', 'ㄋ/有/這麼/邊緣/ㄇ', '別/這樣', '林小姐/嗎', '你/搭/訕過/他/ㄇ', '約/浪漫', '好/啦', '可以/ㄋ/給我賴/我/+/你/ㄇ', '給別/人/唉/低/窩/怕', '馬/上/+', '敢/問閣/下/可是/奇/蹟/美顏', '失敬/失敬', '不敢/說', '只是/個過/客罷/了', '我/ㄎ/以/叫/你/堯/寶貝/嗎', '好', 'ㄩ/ㄇ', '高高/?/?', '這邊/怎麼/都場/外人/啦/XDD', '給你看/我/可愛的/小內/內', '綠藻/屎/面/哈哈哈', '嗨', 'ㄩ/ㄇ', '乾/ /還/真的', '怕/./jpg', '幹', '來/啊', '我/想要/背後式/ /可以/嗎', '乾', '臭甲', '女生/你/接受/嗎', 'QAQ', '好/吧/不過/我/是/男/的', '可/4/我/不/4/甲', '哈/囉', '我/也/4/第一次', 'Why', '我現/在/就是/用/fb', '原來/fb/跟/line/可以/通', '對/啊/哈哈', '你/4/男生/ㄇ', '我/也/4', '我/也/不/知道', '我想問/你', '一件/事', '給問/嗎', '你/有/玩/甚麼/手機/遊戲/嗎', '好/吧/嗚/嗚/嗚/嗚/嗚/嗚', 'Herro', '賀', '爆', '斷', '斷', 'Yo', '你/說/跟/我/聊天/好無聊/還是/你現/在/很/無聊', '嚇死/我', 'ㄋ/有/玩/ㄇ', 'QQ', '那/ㄍ/我/也/沒/有/玩/QQ', '我/也/沒/有/玩/神奇/寶貝/哈哈哈哈', 'ㄕ/ㄇ/是/什麼', '噢/噢', '了解', '可是/你/在/問甚麼', '甚麼/別人/都/會/聊/甚麼', '哈哈哈哈', '我/有/在/逛場/外/但/我/ㄅ/4/肥宅', '我/有/時候/也/會/這樣', '我問/你/喔', '你/有/再/看/實況/嗎', '是/看/twitch/的/還是/youtube', '都/看些/甚麼/啊', '我現/在/正在/看鳥/屎/台', 'Overwatch/?', '我/也好/想/玩', '電腦爛/QQ', '不是/欸', '怎麼/這樣問/哈哈哈', '哈哈哈哈/那/你/是/嗎', '😂/😂', '欸/靠北/第一/張是/不/小心/按到/的', 'NOOOOOO', '真的/啦/哈哈', '17', '那/是/正常/的/漫畫/啦/哈哈哈', '歹勢/我/有點/沒/慧根/看不懂']\n",
      "['早', '在/床上/發懶', '爆', '斷', '魂', '你/在/暗諷/綠藻/嘛', '壞', '話/說/我/好/餓/ㄛ', '窩/不要/這個/qq', 'ㄋ/早餐/吃/什麼', '那/你/午餐/要/吃/什麼', '../我/是問/ / /你/有/想/好/要/吃/什麼/嗎/ˊ/u/ˋ', '我/上次/去/看/電影/也/有/吃', '差評', '斷', '野', '炸', '汁', '不要/傻傻的', '剛剛/的/ /很新鮮', '沒/有人/要/強奸/姿萱/ /想太多', '好像/是/吧/ /摩/ㄙ', '1/萬多人/ / /ㄋ/覺得/呢', '不過/我/都/是/看/遇到/什麼樣/的/人/就/怎麼/回/ / /可/正常/也/可鬧', '耍/唐/w', '你/陪/她/?', '還行', '正/嗎', '痴女樣/是/什麼/阿/www', '跟/朋友/la', '那/你/快/去/吃/ㄅ', 'Fk/..', '怕', '沒有/欸', '不/怎麼/玩遊戲/的', '雖然/是/ㄈ/ㄓ/ / /不過/我/很/懶', '耍/廢/ /是/我/每天/的/日常', '早', '怎麼/了', '感人', '為/愛犧牲', '加油/!', 'QAQ', '辛苦/了', '會/嗎/ / /誰/說/ㄈ/ㄓ/一定/要/玩遊戲/QQ', '你/可以/幫/你/女朋友/ / /至少/她/還能/解放/一下', '3/天/太久/啦', '夏天/很/可怕/ /不能不/洗/qq', '吸毒', 'Wwwww', '你/是/下午/要/開刀/嘛', '祝福/ㄋ/!', '..../16', '因為/我/不/知道/要/怎麼/回/這種/話題', '感覺/嚴肅/又/正經', '家裡', '耍/廢', '還沒/開學/呀', '你/呢', '多大/呀', '大一嘛/ /還是/在/工作/了', '大概/會/多久', 'Qq', '好/ㄅ', '我覺/得/我們/可以/有緣/再/相遇/>/<', '記得/說/你/是/動/手術/ㄉ/哥哥']\n",
      "['甲', '你/要/做/我/的/0/？', '人生/勝利組/是/不會來/玩/這個/的', '你/一定/不是/c/銘', '也/不是/業王', '葉/你/妹', '被/盜', '其實/我/是/被/大家/唾棄/的國/軍', '加入/國家/ /黑白/人生', '讚/讚', '阿/ /默劇/都/比/這個/好/😒', '這叫/雪花/了', '😤']\n",
      "['吃/噓', '肥宅/早', '我們/不是/場/外人', '場外/ㄈ/ㄓ', '我/沒用/了', '安安', '是/喔', '場外/ㄈ/ㄓ/嗎', '豪', '斷', '欸', '在/打手/槍/喔', '這麼/就/才/回', '小妹/的/時間/很/寶貴', '有/阿', '講話', '講話/啊', '有空/嗎', '安', '小妹', '場外', 'ㄩ/ㄇ', '我/的/寶寶', '哈哈哈', '你/值得/更好/的/男人', '別/傻傻的', '有空/再/約/啊', '約/出來/啊', 'ㄅ/ㄑ', '我車/錢/不夠', '可以/先借/我/ㄇ', '欸', '可以/借/小妹/錢/ㄇ', '講話/ㄚ', 'ㄩ/ㄇ', '豪', '你/媽媽/的/聯絡/方式/留下', '你媽/的/手機/號碼', '我/在/中壢/火車/站/等/你', '低/B2', '安', '小妹', '約/嗎', '假場', '好/啦', '其實/小妹', '最近/手頭/有點/緊', '想/借點/錢', '想/吃/貴族', '你/願意/請/我/ㄇ/>/<', '我/沒車/錢', '可以/先借/我車/錢/嗎', '人家/是/小妹', '嗚/嗚', '48763', '這是/我/鴿子/ㄉ/代號', '麻煩/你/了', '+/ㄌ', '記得/叫/她/匯款', '保證/讓/你/爽/的/不要/不要', '男還/是/女', '保證/讓/你/爽/的/不要/不要', '約/浪漫', 'ㄩ/ㄇ', '沒禮貌', '安安', '我住/中壢', '都/有空', '這麼/巧', '這才/是/我/想問/的', '約/浪漫/嗎', '安', '中壢佳', '好', '抱歉', '好', '台/中', '豪', '爽/的/不要/不要', '安安', '豪', '咖喱/飯', '草莓', '自己/加果/醬', '沒吃過/怎麼/能/說/噁/呢', '約/浪漫', '中壢佳', '中壢車/站/等/你', '安安', '約/嗎']\n",
      "['安', '是', '靠北/哈哈', '是/要/說/啥', '呃', '對/呀', '好', '那/我們/來/玩個/遊戲', '1188/-/1100', '扣掉/的/要/補/零', '哈哈', '其實/我/在/吃/飯/ /回比/較慢', '等等/還要/開會', '哭/出來', '這麼/早/哦', '我/也/是/呀/哈哈', '大學', '社團/的/呢', '！/！', '高中/？', '滿/18/了/嗎/？', '酷耶', '我覺/得/有點/犯罪/的/味道', '男/還女/？', '男/？', '你/講話/感覺/有點/女生/感/哈哈', '有/一點', '因為/你/不會/罵/髒/話', '還是/其實/只是/我/朋友/太/髒/啊', '哈哈', '那/怎麼/會/想/玩/這個', '比較/沒/壓力/嗎/哈哈', '跟/你/說', '如果/你/想要/找到/自己/的/the/ /one', '匿名/軟體/不是/好/選擇/哈哈', '最好/還是/見過/比/較/好', '那/就/多多/充實/自己/呀/哈哈', '我/高中/也/很/內/向', '我/懂/哈哈', '我/之前/也/是', '腦袋/空白/掉', '會/做/很多/白痴/舉動', '已經/被/討厭/了/哦/@/@', '例如/那種/舉動/呀', '…/…/ / /你們/班/是不是/女生/比較/多/？', '那/問個', '你/平常/有/沒/有/其他/嗜好', '就是/大部分/的/時間/都/在/做/什麼', '恩/呀', '放學/的/時候/勒', '啊/對/了/ /有些/女生/會/莫名/看胖/的/男生/ /跟宅宅/的/男生/不爽/哦', '那宅/呢', '不然/就是/他們/討厭/你/旁邊/的/人/你/就/被/牽進/去/了/哈哈', '女生/很會裝/哦', '有些/看不出/來', '是/哦/ / /哇累', '哈哈', '哇累', '這算/霸凌/ㄅ', '那/最好/的/辦法/就是/ /趕快/畢業/了/吧', '原來', '那/大概/就是/真的/腦袋/空掉/的/時候/很/白痴/吧/哈哈', '啊災/我/又/不/在/你/們/班', '你/要/加賴/嗎', '我/等等/要/開會/了/呢', '好加/了', '晚點/在/說/囉', '安安', 'ㄩ/ㄇ', '同伴/？', '我/ㄅ/是/肥宅', '我/只是/ㄍ/潛水/ㄉ', 'QQ', '沒/朋友/才/潛水/ㄉ', '乃', '先換/line/?', 'ㄎ/ㄅ', '太快/了/ㄅ', '乃/ /你/先給', 'ㄏ/ㄏ/ㄏ', '可是/你/8/是/小妹', 'QQ', '先開會/了']\n",
      "['嗨', '.......', '看來/是/沒/有', '我/是/有/差點/想/打', '哈哈', '真的/離開/喔', '想/說/多/打/一句/好/了', '哈哈', '下次/騙/其他人', '可能/我太衝明/了', '聰明', '嗨', '還沒睡', '怎/了', '不要/森/77', '勝利/組布森/77der', '怎麼/消/7', '你/在/這麼/任性/ /我/就/剪/腕力/頭', '這麼/狂', '沒吃過/綠藻/4/不/4', '我/還以/為/來/了/4/個/男生/而已', '真的', '我/的/腫哥/還在/做/pizza', '黑', '對/r', '不是/畫的/嗎', '哪張/圖/沒/道理', '嘖嘖/ /水/餃店/(/?', '我/不/知道', '猜/的', '所以', '你/是/kaka/粉/?', '反感', '我/也/想紅', '哈哈/ /那/你/在/社團裡/是/邊緣/人/?/ /還是/有/在/互動', '像/我/就/4/邊緣/人', '我/是/這一個/禮拜剛/加入/der', '小鮮肉/4/我', '不/了解/以前/的/樣子', '也/是/今年/才/式/的', '但/通常/都/看安駕/不然/就/隨便/私/一下', '所以/也/不/了解/歷史', '玩什麼/r', '部會/吧', '還在/玩/嗎', '真狂', '我/整天/只能/吸毒', '少吃點/午餐', '嘖嘖/你/多/大/阿', '高三', '哈哈', 'yap', '中', '放/推', 'let/ /it/ /go', '想讀/大業', '嘖嘖', '邊掃邊/看妹', '你/知道/SNH48/嗎', '雖然/4/對岸/的/ / /但/身材/好好/喔/ / /又/正', '害/我/想/跳/起來', '泳衣/版', '我/有/2/個/抱/枕', '1/個午/安枕', '10/之景品', '2/之/pvc', '這樣夠/由/嗎', '今年/剛接觸', '我/也/不/知道', '所以/每次/看/都/有/新/鮮感', '這是種/商業/手法/ /(/?', '我們/永遠/都/不/知道/經紀/公司/在/想/什麼', '梅耶', '剛/鴟/鴞/ya', '消', '吃', '世說', '我/今天/跟/朋友/去', '買/了/一個/水海報', '跟/正常/的/海報', '在/一本/本本', '店員/都/不會問/我/幾歲/耶', '幸福', '他/外面/標示/18/歲/以上/才能/進去', '下面/都/是/a/慢/跟/a/片', '海報/另外/一加/買/的', '當/男生/真幸福', '女生/也好', '男生/87%/好', '自己/裝/r', '見人見/智拉', '我/是/感受/不到/拉/ /但/我/能/幫/的/我/還是/會/幫', '因為/看來/真的/不/舒服', '嘖嘖', '我們/班/都/男生', '已經/不算/是/了/吧', '沒耶', '反而/對/女生/更/有/興趣', '你/是/腐女/嗎', '這樣/會/太直/嗎', '哈哈', '我/上次/看/社團', '有人/打銀之華', '我/就/去/看/完/了', '...', '嘖嘖/ / /我/是/不/太/了解/這/想法/拉', '每個/人/有/每個/人/的/想法', '不是/這社團/的/女生/都/被/c/名/問過/了/嗎/ /你/有過/嗎', '也/沒/那麼/慘拉', '你/這樣/說/ /我/可能/人格/崩潰/了/吧', '約/浪漫/ /就是/約/嗎/的/意思', '嗎', 'ㄩ/ㄇ/也/是', '我/對/葉王/不適/很/熟', '只/聽/說/她/很/嘴/砲/\\\\', '放/誰', '高校/我/還蠻/想/看葳葳/的', '哈哈', '還有/古智', '不/懂/為/什麼/那麼/多/女生/哈/他們', '哪個', '誰/r', '我/還以/為/北一女/的/會/來', 'ㄚ/ㄚ', '嗨', '這麼/早起/來', '怎麼/這樣問', '是/你', '也/不算/粉絲拉', '我/也/只/聽/那首歌', '這個/咩/咩/頭/喔', '網/路上/有些/人學/很/好笑', '你/剛剛/沒/遇到/其他人/喔', '看來/聊/不/多/(/?', '他/的/黎明/來/了', '那/你/等等/要/幹/嘛', '吃/完/早餐/在/睡/嗎', '不吃/早餐/就/睡', '嘖嘖/ /那/你/要/留賴給/我/嗎', '來/吧/我/準備/好/了', '+/惹', '喜歡/嗎', 'doge', '這', '我/笑/了', '哈哈', '感覺/他/高潮/了', '我存/下來/ /哈哈', '我/好養', '腳', '好像/被/叮/了', '那/是/什麼', '原來/還有/這種/東西', '還沒/吧', '你/也/是/阿', '去/去/去/ /起床/再/找', '早安', '早上/了/孩子', '不然/這是/生氣/的/圖案/ /(/?', '怎麼/看/不太出/來', '搞/得/我頭/暈暈', '感謝/你', '怎/了', '888', '嗨', '丸', '4', '4', '男/的', '看/你/多/浪漫', '你家/嗎', '蒸/蚌', '約/哪', '男/的/也好', '來/吧', '我/有/靈頓/好友', '哭', '我/沒/有/ /4/你', '被/約/了/怎麼/辦', '4/男', '那/我/不/拒絕/你/了', '我/也/是', '失敗組', '吸毒/去']\n",
      "['Hi', 'O/./O', 'Ooo', '黃/色/那/隻', '已知/啊', 'Hi', '還沒/睡/啊', '不/睡/啊']\n",
      "['嗨', '嗨', '斷', '嗨', '哪裡/人', '挖', '國外/耶', '天龍國/人/啊', '感覺/不同/世界', '嗨', '安安/ / /幾歲/ / /住/那/ / /浪漫/嗎', '好/吧', '哭', '感謝/你/誠意/回答', '…', 'Fb/的/也/太/難用', '想/找/張圖/靠背/人/也/要/半天', '很/難用', '還是/喜歡/line', '嗨', '人妖', '可是/我/不/喜歡/ㄈ/ㄓ', '88', '嗨', '起/手/ /嗨', '高手', '不是/場歪', '就是/社團', '油膩', '真的', '而且/都/是/那/一套', '膩', 'ㄩ/ㄇ', '浪漫/嗎', '看到/膩', '閉嘴/ / /魯蛇/ / /我勝利組', '感覺/開學/就/好/了', '一堆/屁', '沒', '嗨', '斷', '哥約/浪漫/的/時候/你/還不/知道/在/哪裡', '不/可能/我/都/射牆/上', '你/是/壁癌/唷', '我/也/沒/ㄩ/你/啊', '那/是/什麼', '晚上/一直/聽到', '感覺/一堆/不/正常/的/人', '打/ㄩ/ㄇ', '浪漫/嗎', '神煩', '那張', '…', '我/好像/看過', '但是/不同/張', '我/是/一直/看到/這張', '煩', '…', 'Fb/的/會/自己/跑/到手/機/？', '怕', '好煩', '感覺/line/的/好/用', '可是/會/一直/當', '對/啊', 'ㄅ/ㄨ/ㄕ/ㄉ', '不是', '另外/一個/m/什麼/的', '可是/難用', '好像/是', '可是/習慣/line/ㄉ', '所以/....', '剛剛/那些/照片', '會/自己/存/？', '鬧/爆', '好像/沒/自己/存耶', '你/是不是/打開/什麼/鬼/東西', '我/這兩個/是關/的', '你/看看', '嗯/嗯', '想/說/我/好像/沒有', '下載仁/王測/試版', '感覺還/可以', '不/知道', '沒下載/完', 'Ps4', '感覺/比電腦/便宜', '只是/遊戲貴', '真的', '以前/想/跟/朋友/一起/玩買/得', '買/了/以後發現/自己/原來/沒/朋友', '哭', '還好/啦', '只是/來/台北/工作/真的/沒/朋友', '…', '…', '…', '高雄人', '會/啊', '他們/每次/聚', '都/會/幫/我/上/香', '傳/照片/給我', '幹', '高雄/哪裡/人', '蠻想/回高雄/的/說', '唉', '燕巢/隔壁/？', '翻過/觀音山/就/到/了', '我/想到/大樹/在/那/了', '大社/在/過去', '義大', '在/大社/上去', '…', '豪棒', '高中/？', '喔/喔', '我/高中/也/只/認識/楠梓/大社/三民/高雄', '有', '可是/我/不/知道/佛光山/在/那', '30', '…', '我/以/為/你/跳級', '原來/是/算數/不好', '是/哦', '考試/也/不行/？', '社會/脫節/了/我', '那大/樹/超大/耶', '原來/從義守/翻過/去/到/佛光山/都/大樹/？', '我媽/說/我/很小/就/會/買/乖乖/了', '沒/印象', '感覺/有點/偏', '過去/是/旗山/嗎', '其實/不/知道/在/那', '哈', '通車/不/方便/吧', '嗯/嗯', '先去/忙', '掰', '嗨', '男/ / /30/ / /當/你家/隔壁/老王/幫/你/戴帽子', '你七辣/就/愛醜/的', '爽', '你七辣/好會搖/唷', '嗨', '我/幼稚/園', '我們/老師/女/的', '只有/洞洞', '嗨', '嗨', '…', '這樣/有/靠北', '貼/不了/字', 'Me/的/真爛', '不然/送/你/一根/定/海神/針']\n",
      "['安安']\n"
     ]
    }
   ],
   "source": [
    "for i in range(10):\n",
    "    temp = list()\n",
    "    for j in range(len(test.iloc[i][1])):\n",
    "        seglist = jieba.cut((test.iloc[i][1])[j])\n",
    "        a = \"/\".join(seglist)\n",
    "        temp.append(a)\n",
    "    print(temp)\n",
    "#     df['cut_list'][i] = temp\n",
    "#         print(\"/ \".join(seglist))"
   ]
  },
  {
   "cell_type": "code",
   "execution_count": null,
   "metadata": {},
   "outputs": [],
   "source": [
    "for i in range(len(df)):\n",
    "    seg_list = jieba.cut(df['text'][i])  # 默认是精确模式\n",
    "#     print(\"/\".join(seg_list))\n",
    "    fileTrainSeg.append([' '.join(list(jieba.cut(str(df['text'][i]),cut_all=False)))])\n",
    "    if i % 50000 == 0 :\n",
    "        print(i)"
   ]
  },
  {
   "cell_type": "code",
   "execution_count": null,
   "metadata": {},
   "outputs": [],
   "source": []
  }
 ],
 "metadata": {
  "kernelspec": {
   "display_name": "Python 3",
   "language": "python",
   "name": "python3"
  },
  "language_info": {
   "codemirror_mode": {
    "name": "ipython",
    "version": 3
   },
   "file_extension": ".py",
   "mimetype": "text/x-python",
   "name": "python",
   "nbconvert_exporter": "python",
   "pygments_lexer": "ipython3",
   "version": "3.5.2"
  }
 },
 "nbformat": 4,
 "nbformat_minor": 2
}
